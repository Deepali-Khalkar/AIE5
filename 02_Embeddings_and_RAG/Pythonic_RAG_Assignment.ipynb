{
  "cells": [
    {
      "cell_type": "markdown",
      "metadata": {
        "id": "lElF3o5PR6ys"
      },
      "source": [
        "# Your First RAG Application\n",
        "\n",
        "In this notebook, we'll walk you through each of the components that are involved in a simple RAG application.\n",
        "\n",
        "We won't be leveraging any fancy tools, just the OpenAI Python SDK, Numpy, and some classic Python.\n",
        "\n",
        "> NOTE: This was done with Python 3.11.4.\n",
        "\n",
        "> NOTE: There might be [compatibility issues](https://github.com/wandb/wandb/issues/7683) if you're on NVIDIA driver >552.44 As an interim solution - you can rollback your drivers to the 552.44."
      ]
    },
    {
      "cell_type": "markdown",
      "metadata": {
        "id": "5CtcL8P8R6yt"
      },
      "source": [
        "## Table of Contents:\n",
        "\n",
        "- Task 1: Imports and Utilities\n",
        "- Task 2: Documents\n",
        "- Task 3: Embeddings and Vectors\n",
        "- Task 4: Prompts\n",
        "- Task 5: Retrieval Augmented Generation\n",
        "  - 🚧 Activity #1: Augment RAG"
      ]
    },
    {
      "cell_type": "markdown",
      "metadata": {
        "id": "1Dz6GYilR6yt"
      },
      "source": [
        "Let's look at a rather complicated looking visual representation of a basic RAG application.\n",
        "\n",
        "<img src=\"https://i.imgur.com/vD8b016.png\" />"
      ]
    },
    {
      "cell_type": "markdown",
      "metadata": {
        "id": "PjmC0KFtR6yt"
      },
      "source": [
        "## Task 1: Imports and Utility\n",
        "\n",
        "We're just doing some imports and enabling `async` to work within the Jupyter environment here, nothing too crazy!"
      ]
    },
    {
      "cell_type": "code",
      "execution_count": 1,
      "metadata": {
        "id": "Z1dyrG4hR6yt"
      },
      "outputs": [],
      "source": [
        "from aimakerspace.text_utils import TextFileLoader, CharacterTextSplitter\n",
        "from aimakerspace.pdf_utils import PdfFileLoader, CharacterTextSplitter\n",
        "from aimakerspace.vectordatabase import VectorDatabase\n",
        "import asyncio, os"
      ]
    },
    {
      "cell_type": "code",
      "execution_count": 2,
      "metadata": {
        "id": "9OrFZRnER6yt"
      },
      "outputs": [],
      "source": [
        "import nest_asyncio\n",
        "nest_asyncio.apply()"
      ]
    },
    {
      "cell_type": "markdown",
      "metadata": {
        "id": "M0jGnpQsR6yu"
      },
      "source": [
        "## Task 2: Documents\n",
        "\n",
        "We'll be concerning ourselves with this part of the flow in the following section:\n",
        "\n",
        "<img src=\"https://i.imgur.com/jTm9gjk.png\" />"
      ]
    },
    {
      "cell_type": "markdown",
      "metadata": {
        "id": "-SFPWvRUR6yu"
      },
      "source": [
        "### Loading Source Documents\n",
        "\n",
        "So, first things first, we need some documents to work with.\n",
        "\n",
        "While we could work directly with the `.txt` files (or whatever file-types you wanted to extend this to) we can instead do some batch processing of those documents at the beginning in order to store them in a more machine compatible format.\n",
        "\n",
        "In this case, we're going to parse our text file into a single document in memory.\n",
        "\n",
        "Let's look at the relevant bits of the `TextFileLoader` class:\n",
        "\n",
        "```python\n",
        "def load_file(self):\n",
        "        with open(self.path, \"r\", encoding=self.encoding) as f:\n",
        "            self.documents.append(f.read())\n",
        "```\n",
        "\n",
        "We're simply loading the document using the built in `open` method, and storing that output in our `self.documents` list.\n"
      ]
    },
    {
      "cell_type": "code",
      "execution_count": 3,
      "metadata": {
        "colab": {
          "base_uri": "https://localhost:8080/"
        },
        "id": "Ia2sUEuGR6yu",
        "outputId": "84937ecc-c35f-4c4a-a4ab-9da72625954c"
      },
      "outputs": [
        {
          "name": "stdout",
          "output_type": "stream",
          "text": [
            "inside load_file\n",
            "PDF document length: 1 \n",
            "Text document length: 1 \n"
          ]
        }
      ],
      "source": [
        "def load_file(file_path):\n",
        "    extension = os.path.splitext(file_path)[1]\n",
        "    match extension:\n",
        "        case '.txt':\n",
        "            documents = TextFileLoader(file_path).load_documents()\n",
        "            print(f\"Text document length: {len(documents)} \")\n",
        "            return documents\n",
        "                \n",
        "        case '.pdf':\n",
        "            documents = PdfFileLoader(file_path).load_documents()\n",
        "            print(f\"PDF document length: {len(documents)} \")\n",
        "            return documents\n",
        "            \n",
        "def load_all_documents(file_paths):\n",
        "    all_documents = []\n",
        "    for file_path in file_paths:\n",
        "        documents = load_file(file_path)\n",
        "        all_documents.extend(documents)\n",
        "    return all_documents\n",
        "           \n",
        "file_paths = [ \"data/Leave-Policy.pdf\",\n",
        "\"data/PMarcaBlogs.txt\"]\n",
        "\n",
        "all_documents = load_all_documents(file_paths)\n"
      ]
    },
    {
      "cell_type": "code",
      "execution_count": 4,
      "metadata": {
        "colab": {
          "base_uri": "https://localhost:8080/"
        },
        "id": "bV-tj5WFR6yu",
        "outputId": "674eb315-1ff3-4597-bcf5-38ece0a812ac"
      },
      "outputs": [
        {
          "name": "stdout",
          "output_type": "stream",
          "text": [
            "document :   \n",
            " \n",
            " \n",
            "Leave Policy - INDIA \n",
            "  \n",
            " \n",
            "                                                                  \n",
            "document : ﻿\n",
            "The Pmarca Blog Archives\n",
            "(select posts from 2007-2009)\n",
            "Marc Andreessen\n",
            "copyright: Andreessen Horow\n"
          ]
        }
      ],
      "source": [
        "#output part of the documents in all_documents array\n",
        "for docs in all_documents:\n",
        "    print(f\"document : {docs[:100]}\" )"
      ]
    },
    {
      "cell_type": "markdown",
      "metadata": {
        "id": "nHlTvCzYR6yu"
      },
      "source": [
        "### Splitting Text Into Chunks\n",
        "\n",
        "As we can see, there is one massive document.\n",
        "\n",
        "We'll want to chunk the document into smaller parts so it's easier to pass the most relevant snippets to the LLM.\n",
        "\n",
        "There is no fixed way to split/chunk documents - and you'll need to rely on some intuition as well as knowing your data *very* well in order to build the most robust system.\n",
        "\n",
        "For this toy example, we'll just split blindly on length.\n",
        "\n",
        ">There's an opportunity to clear up some terminology here, for this course we will be stick to the following:\n",
        ">\n",
        ">- \"source documents\" : The `.txt`, `.pdf`, `.html`, ..., files that make up the files and information we start with in its raw format\n",
        ">- \"document(s)\" : single (or more) text object(s)\n",
        ">- \"corpus\" : the combination of all of our documents"
      ]
    },
    {
      "cell_type": "markdown",
      "metadata": {
        "id": "2G6Voc0jR6yv"
      },
      "source": [
        "As you can imagine (though it's not specifically true in this toy example) the idea of splitting documents is to break them into managable sized chunks that retain the most relevant local context."
      ]
    },
    {
      "cell_type": "code",
      "execution_count": 18,
      "metadata": {
        "colab": {
          "base_uri": "https://localhost:8080/"
        },
        "id": "UMC4tsEmR6yv",
        "outputId": "08689c0b-57cd-4040-942a-8193e997f5cb"
      },
      "outputs": [
        {
          "name": "stdout",
          "output_type": "stream",
          "text": [
            "Length of split documents : 388\n"
          ]
        }
      ],
      "source": [
        "#Split the documents and output the number of chunks\n",
        "text_splitter = CharacterTextSplitter()\n",
        "split_documents = text_splitter.split_texts(all_documents)\n",
        "print(f\"Number of chunks : {len(split_documents)}\")\n",
        "                      "
      ]
    },
    {
      "cell_type": "markdown",
      "metadata": {
        "id": "W2wKT0WLR6yv"
      },
      "source": [
        "Let's take a look at some of the documents we've managed to split."
      ]
    },
    {
      "cell_type": "code",
      "execution_count": 20,
      "metadata": {
        "colab": {
          "base_uri": "https://localhost:8080/"
        },
        "id": "vcYMwWJoR6yv",
        "outputId": "20d69876-feca-4826-b4be-32915276987a"
      },
      "outputs": [
        {
          "data": {
            "text/plain": [
              "['  \\n \\n \\nLeave Policy - INDIA \\n  \\n \\n                                                                         \\n \\n \\n \\n \\n \\n \\n \\n \\n \\n \\n \\n \\n \\n \\n    \\n3 \\n  \\n \\n                                                                                         \\n    \\n Policy fact sheet \\n \\nPolicy owner: Global Head of Total Rewards \\nPolicy approver: Global CHRO / ELT \\nVersion: 1.0 \\nDate: 1st October 2020 \\nScope This policy applies to all fulltime employees 0f UPL & its subsidiaries based in India. \\nConfidential: No, for internal use only \\n \\n \\n         \\n \\n \\n \\n \\n \\n \\n \\n \\n \\n \\n \\n \\n \\n \\n \\n \\n \\n4 \\n  \\n \\nContents \\n \\n \\n1. Purpose  4 \\n2. Scope 4 \\n3. Process Description 4 \\n4. Types of Leaves 4 \\n5. General Rules governing leave 4 \\n6. Exception Requests 8   \\n \\n1. Purpose  \\nThe objective is to provide information to all the employees about the leaves and \\nholidays followed in UPL India. Employees need adequate time to celebrate festival \\nholidays, rest and recuperate and spend quality time with family and friends. This policy ',\n",
              " 'ees about the leaves and \\nholidays followed in UPL India. Employees need adequate time to celebrate festival \\nholidays, rest and recuperate and spend quality time with family and friends. This policy \\nis effective from 1st October 2020. \\n \\n2. Scope \\nAll permanent employees, trainees, will be covered by this leave policy except the \\nmanufacturing employees in “worker” category with specific employment conditions.  \\nAll new joiners will be covered from the date of joining.  \\n \\n3. Process Description  \\n \\nFor all leave calculations, calendar year will be from 1 January to 31 December.  \\nNew joiners leave eligibilities will be prorated till December 31st, from the date of \\njoining. \\nLeaves will be calculated on working days only and will not include intervening weekly \\noffs and holidays. \\n \\n4. Types of Holidays & Leaves: \\n \\n1. National & Festival Holidays  \\n2. Privilege Leave  \\n3. Casual Leave  \\n4. Sick Leave \\n5. Maternity Leave \\n6. Paternity Leave \\n4.1 National and Festival Holidays: \\n \\n\\uf0b7 ',\n",
              " 'Types of Holidays & Leaves: \\n \\n1. National & Festival Holidays  \\n2. Privilege Leave  \\n3. Casual Leave  \\n4. Sick Leave \\n5. Maternity Leave \\n6. Paternity Leave \\n4.1 National and Festival Holidays: \\n \\n\\uf0b7 All offices / plants / labs / field stations etc., will observe 3 national holidays viz:  \\n26th January, 15th August & 2nd October.  \\n \\n\\uf0b7 UPL will follow the statutory holidays including the above three national holidays per \\ncalendar year. The list of festival holidays will be in line with the local festivals of the \\nrespective state / location and may vary from state to state depending on the culture and \\nother social sentiments.  \\n \\n\\uf0b7 The actual holiday list for the following year will be published annually by December 15th \\nof the previous calendar year.  \\n \\n   \\n \\n4.2 Privilege Leave: \\n \\nEligibility:   21 working days in a year.  \\nAccumulation:  Maximum 60 days for new hires joining on or after 1st Oct 2020. \\n \\nEmployees who have joined on or before 30th September 2020, can \\naccumulate',\n",
              " 'ligibility:   21 working days in a year.  \\nAccumulation:  Maximum 60 days for new hires joining on or after 1st Oct 2020. \\n \\nEmployees who have joined on or before 30th September 2020, can \\naccumulate the leaves upto 120 Days if aged below 50 years and can \\naccumulate the leaves upto 240 Days if aged above 50 years.  \\n \\nPL will be credited to the employees leave account on 31st December \\nevery year. \\n     \\nIn order to rest and recuperate, all employees will have 21 working days of privilege leave \\nin a calendar year. It is expected that employees take their privilege leave and spend some \\nquality time with family and friends or to develop a hobby or just to rest and relax.  \\n \\nThere is no leave encashment available for unutilized or lapsed leave except when employee \\nseparates due to resignation, termination of employment, superannuation, or demise of an \\nemployee. \\n \\nThe employee has to avail a minimum of four (4) days of Privilege Leave in the year, for \\nwhich L.T.A. is claimed. The ',\n",
              " 'nation, termination of employment, superannuation, or demise of an \\nemployee. \\n \\nThe employee has to avail a minimum of four (4) days of Privilege Leave in the year, for \\nwhich L.T.A. is claimed. The employee must be on approved privilege leave of a minimum of \\nfour days or longer. Sundays & Holidays falling within this period of four days shall not be \\nincluded as privileged leave. \\n \\nGuidelines:  \\n1. An employee will be entitled to take PL after the line manager approval. \\n2. An employee can avail PL not more than thrice in a year, any deviation to this can be \\napproved by the HRBP Head subject to manager approval. \\n3. For long leave, which is 7 days and more, the employee must inform at least one month in \\nadvance. Where an employee plans PL up to 7 days, he/she will be required to take approval \\nat least 15 days in advance.  \\n4. Extensions will not be granted, except in cases of emergencies. If an employee after \\nproceeding on leave desires an extension thereof, he/she shall make a',\n",
              " ' approval \\nat least 15 days in advance.  \\n4. Extensions will not be granted, except in cases of emergencies. If an employee after \\nproceeding on leave desires an extension thereof, he/she shall make an application in writing \\nto the company for this purpose. \\n5. The Management reserves the right to reject or extend the leave at its discretion and without \\nassigning any reason whatsoever. \\n6. When an employee takes a PL, weekend and other holidays will not be included while \\ncalculating leave. \\n7. In the event of the an employee resigning, retrenchment or termination of services by the \\ncompany, unutilized privileged leave not exceeding 60 / 120 / 240 days as per his / her \\neligibility standing to his/her credit at the time of retirement, resignation, retrenchment or \\ntermination by the company, shall be allowed to be encashed, wherein encashment will be \\non monthly Gross Salary for all employees.     \\n \\n8. Trainees will not be entitled to avail PL during the training/probation period a',\n",
              " 'pany, shall be allowed to be encashed, wherein encashment will be \\non monthly Gross Salary for all employees.     \\n \\n8. Trainees will not be entitled to avail PL during the training/probation period as the case \\nmaybe.  \\nAn Employee can avail PL upto a maximum of 30 days at a time. (I.e. the period from the date of \\ntaking leave to the end of leave should not exceed 30 days subject to leave balance availability and \\nmangers approval. \\n \\n \\n4.3 Casual Leave  \\n \\nEligibility:   7 casual leaves in a year. \\nAccumulation:  Cannot be accumulated or encashed \\nCasual Leave can be utilized for a maximum of 3 days at a stretch. \\n \\nGuidelines: \\n \\nCasual leave cannot be combined with sick leave or privilege leave.  \\n \\nCasual leave can be used up to a maximum of 3 days, above which it shall be treated as PL or leave \\nwithout pay, as the case may be.  \\n \\nApplication for casual leave should be made at least 24 hours in advance. In cases of emergency \\nwhere an employee is not aware in advance of his/her',\n",
              " ' PL or leave \\nwithout pay, as the case may be.  \\n \\nApplication for casual leave should be made at least 24 hours in advance. In cases of emergency \\nwhere an employee is not aware in advance of his/her casual leave requirement, he/she must \\ninform the line manager, on the first day of his absence, either by email or phone message, \\ntelegram or other appropriate means of his inability to attend work. In such cases the employee \\nmust apply the casual leave in the prescribed online platform immediately on return to work.  \\n \\n4.4 Sick Leave: \\n \\nQuantum:   9 days per annum \\nAccumulation:  Effective 1st Jan 2021 sick leave will not be accumulated, and neither  \\n    be encashed for all existing and new employees.    \\n    \\nGuidelines: \\n \\n Nine days of sick leave is available to employees. If the medical condition needs an \\nextended leave beyond nine days, the employee can request for the same to the immediate \\nmanager / functional head. The functional head in consultation with the Head HRBP wil',\n",
              " 'dical condition needs an \\nextended leave beyond nine days, the employee can request for the same to the immediate \\nmanager / functional head. The functional head in consultation with the Head HRBP will evaluate \\nthe request and may either approve or disapprove it. In case of sick leave for more than 3 days, \\nemployees have to submit a medical certificate from a certified medical practitioner. However, \\nyour line manager or HR business partner can ask for a leave certificate from the employee in cases \\nwith less than 3 days of sick leave as well. When an employee takes leave on medical grounds, \\nhe/she must inform the line manager, on the first day of his / her absence, either by email or phone \\nmessage, telegram or other appropriate means of inability to attend work. In such cases the   \\n \\nemployee must apply the sick leave in the prescribed online platform immediately on return to \\nwork. \\n \\nAny misuse of the sick leave provision will attract disciplinary action and may lead to termina',\n",
              " '\\nemployee must apply the sick leave in the prescribed online platform immediately on return to \\nwork. \\n \\nAny misuse of the sick leave provision will attract disciplinary action and may lead to termination \\nof an employee. \\n \\n4.5 Maternity Leave  \\n \\nEligibility - Total of 26 weeks twice in the service tenure as governed by ‘The Maternity \\nBenefit Act” & Maternity Benefit (amendment) Bill 2017.  \\nApart from the standard Maternity leaves mentioned above, women will be \\nentitled for additional 6 weeks of Maternity leaves. \\nAccumulation -   Not applicable. \\nGuidelines: \\n \\n\\uf0b7 Existing provisions as per Maternity Benefit Act, 1961 & Maternity Benefit (amendment) \\nBill 2017 and ESI Act, 1948 will be continued.  \\n\\uf0b7 All women employees are eligible for a total of 32 weeks of maternity leave for 2 surviving \\nchildren. The woman employee can proceed on maternity leave up to a maximum of 26 \\nweeks but not more than 8 weeks before the expected delivery date. \\n\\uf0b7 Maternity leave of 12 weeks will be ava',\n",
              " 'viving \\nchildren. The woman employee can proceed on maternity leave up to a maximum of 26 \\nweeks but not more than 8 weeks before the expected delivery date. \\n\\uf0b7 Maternity leave of 12 weeks will be available to mothers giving birth to 3rd surviving child. \\n\\uf0b7 Maternity leave of 12 weeks will be available to mothers adopting a child below the age of \\nthree months as well as to the “commissioning mothers. The commissioning mother has \\nbeen defined as biological mother who uses her egg to create an embryo planted in any \\nother woman.  \\n\\uf0b7 In case of illness arising out of pregnancy, leave balance against PL, if any, can be combined \\nwith Maternity leave. \\n\\uf0b7 In case of miscarriage or medical termination of pregnancy for any reason, the number of \\ndays of paid leave will be limited to 45 continuous days from the date of such occurrence.  \\n\\uf0b7 For the purposes of Maternity/miscarriage/medical termination of pregnancy intervening \\nweekends/holidays will be calculated as leave days. \\n\\uf0b7 In case an e',\n",
              " 's days from the date of such occurrence.  \\n\\uf0b7 For the purposes of Maternity/miscarriage/medical termination of pregnancy intervening \\nweekends/holidays will be calculated as leave days. \\n\\uf0b7 In case an employee needs to avail Maternity leave / or leave for Medical termination of \\npregnancy/ or leave for miscarriage, the request for such leave needs to be forwarded to \\nimmediate supervisor along with supporting medical documents. \\n\\uf0b7 On approval of the leave, the leave details are to be updated along with necessary \\ndocuments in the leave management system.   \\n \\n\\uf0b7 If such an employee who has been granted Maternity leave is found working in any other \\nestablishment during ones leave period, she shall forfeit her claim for Maternity leave and \\nwarrant disciplinary action. \\n\\uf0b7 If an employee resigns from employment during Maternity leave without resuming duty, \\nthe benefit shall be extended only up to the last day of employment with the Company. \\n\\uf0b7 Any additional leaves used beyond 225 days & t',\n",
              " 's from employment during Maternity leave without resuming duty, \\nthe benefit shall be extended only up to the last day of employment with the Company. \\n\\uf0b7 Any additional leaves used beyond 225 days & the accumulated PL balance will be treated \\nas Loss of pay. \\n\\uf0b7 During the maternity leave, women employees will be considered as active employees for \\nperformance management process and variable pay outs if any. \\n \\n4.6 Paternity Leave  \\n \\nEligibility - 7 working days (excluding holidays & intervening weekends). \\nAccumulation - Cannot be accumulated or encashed. \\nMale employees whose spouse has given birth to a baby or is under medical supervision due to \\na maternity related emergency or situation can avail paternity leave for 7 working days. Paternity \\nleave can be availed for upto 2 children only. If an employee already has two children at the time \\nof joining UPL, he is not entitled to this leave.  \\n \\n5. General rules governing leave \\n \\n a)  Employees should get all their planned leaves a',\n",
              " 'nly. If an employee already has two children at the time \\nof joining UPL, he is not entitled to this leave.  \\n \\n5. General rules governing leave \\n \\n a)  Employees should get all their planned leaves approved in advance and notify it to HR  \\n  Services through MYUPL leave management application. If it is found that an employee has \\n  not sent the leave application, it tantamount to misconduct and may lead to disciplinary \\n  action.  \\nb)  Leave period for all leave type is calendar year, i.e, 1st January to 31st December.  \\n c)  New hires will have their leave entitlements pro-rated from the date of hire till 31st  \\n  December  \\nd)  Any unauthorized leave will result in loss of pay.  \\ne)        Note that UPL is currently in the process of launching a digital leave management tool  \\n  and hence the above process related to applying leaves may undergo a change.   \\nThe same will be communicated along with the launch of the new  digital platform. \\n \\n6. Exception Requests \\nException requests ',\n",
              " 'ce the above process related to applying leaves may undergo a change.   \\nThe same will be communicated along with the launch of the new  digital platform. \\n \\n6. Exception Requests \\nException requests to this policy need to be approved by the Global CHRO. ',\n",
              " '\\ufeff\\nThe Pmarca Blog Archives\\n(select posts from 2007-2009)\\nMarc Andreessen\\ncopyright: Andreessen Horowitz\\ncover design: Jessica Hagy\\nproduced using: Pressbooks\\nContents\\nTHE PMARCA GUIDE TO STARTUPS\\nPart 1: Why not to do a startup 2\\nPart 2: When the VCs say \"no\" 10\\nPart 3: \"But I don\\'t know any VCs!\" 18\\nPart 4: The only thing that matters 25\\nPart 5: The Moby Dick theory of big companies 33\\nPart 6: How much funding is too little? Too much? 41\\nPart 7: Why a startup\\'s initial business plan doesn\\'t\\nmatter that much\\n49\\nTHE PMARCA GUIDE TO HIRING\\nPart 8: Hiring, managing, promoting, and Dring\\nexecutives\\n54\\nPart 9: How to hire a professional CEO 68\\nHow to hire the best people you\\'ve ever worked\\nwith\\n69\\nTHE PMARCA GUIDE TO BIG COMPANIES\\nPart 1: Turnaround! 82\\nPart 2: Retaining great people 86\\nTHE PMARCA GUIDE TO CAREER, PRODUCTIVITY,\\nAND SOME OTHER THINGS\\nIntroduction 97\\nPart 1: Opportunity 99\\nPart 2: Skills and education 107\\nPart 3: Where to go and why 120\\nThe Pmarca Guide to Personal Productivi',\n",
              " \"RCA GUIDE TO CAREER, PRODUCTIVITY,\\nAND SOME OTHER THINGS\\nIntroduction 97\\nPart 1: Opportunity 99\\nPart 2: Skills and education 107\\nPart 3: Where to go and why 120\\nThe Pmarca Guide to Personal Productivity 127\\nPSYCHOLOGY AND ENTREPRENEURSHIP\\nThe Psychology of Entrepreneurial Misjudgment:\\nBiases 1-6\\n142\\nAge and the Entrepreneur: Some data 154\\nLuck and the entrepreneur: The four kinds of luck 162\\nSerial Entrepreneurs 168\\nTHE BACK PAGES\\nTop 10 science Dction novelists of the '00s ... so far\\n(June 2007)\\n173\\nBubbles on the brain (October 2009) 180\\nOK, you're right, it IS a bubble (October 2009) 186\\nThe Pmarca Guide to\\nStartups\\nPart 1: Why not to do a startup\\nIn this series of posts I will walk through some of my accumulated knowledge and experience in building high-tech startups.\\nMy speciXc experience is from three companies I have cofounded: Netscape, sold to America Online in 1998 for $4.2\\nbillion; Opsware (formerly Loudcloud), a public soaware company with an approximately $1 billion market\",\n",
              " 'ence is from three companies I have cofounded: Netscape, sold to America Online in 1998 for $4.2\\nbillion; Opsware (formerly Loudcloud), a public soaware company with an approximately $1 billion market cap; and now\\nNing, a new, private consumer Internet company.\\nBut more generally, I’ve been fortunate enough to be involved\\nin and exposed to a broad range of other startups — maybe 40\\nor 50 in enough detail to know what I’m talking about — since\\narriving in Silicon Valley in 1994: as a board member, as an angel\\ninvestor, as an advisor, as a friend of various founders, and as a\\nparticipant in various venture capital funds.\\nThis series will focus on lessons learned from this entire crosssection of Silicon Valley startups — so don’t think that anything\\nI am talking about is referring to one of my own companies:\\nmost likely when I talk about a scenario I have seen or something I have experienced, it is from some other startup that I\\nam not naming but was involved with some other way than as a',\n",
              " 'y own companies:\\nmost likely when I talk about a scenario I have seen or something I have experienced, it is from some other startup that I\\nam not naming but was involved with some other way than as a\\nfounder.\\nFinally, much of my perspective is based on Silicon Valley and\\nthe environment that we have here — the culture, the people,\\nthe venture capital base, and so on. Some of it will travel well\\nto other regions and countries, some probably will not. Caveat\\nemptor.\\nWith all that out of the way, let’s start at the beginning: why not\\nto do a startup.\\nStartups, even in the wake of the crash of 2000, have become\\nimbued with a real mystique — you read a lot about how great\\nit is to do a startup, how much fun it is, what with the getting to\\ninvent the future, all the free meals, foosball tables, and all the\\nrest.\\nNow, it is true that there are a lot of great things about doing a\\nstartup. They include, in my experience:\\nMost fundamentally, the opportunity to be in control of your own\\ndestiny ',\n",
              " ' and all the\\nrest.\\nNow, it is true that there are a lot of great things about doing a\\nstartup. They include, in my experience:\\nMost fundamentally, the opportunity to be in control of your own\\ndestiny — you get to succeed or fail on your own, and you don’t\\nhave some bozo telling you what to do. For a certain kind of personality, this alone is reason enough to do a startup.\\nThe opportunity to create something new — the proverbial blank\\nsheet of paper. You have the ability — actually, the obligation\\n— to imagine a product that does not yet exist and bring it\\ninto existence, without any of the constraints normally faced by\\nlarger companies.\\nThe opportunity to have an impact on the world — to give people\\na new way to communicate, a new way to share information, a\\nnew way to work together, or anything else you can think of that\\nwould make the world a better place. Think it should be easier\\nfor low-income people to borrow money? Start Prosper. Think\\ntelevision should be opened up to an inXnit',\n",
              " 'ything else you can think of that\\nwould make the world a better place. Think it should be easier\\nfor low-income people to borrow money? Start Prosper. Think\\ntelevision should be opened up to an inXnite number of channels? Start Joost. Think that computers should be based on Unix\\nand open standards and not proprietary technology? Start Sun.\\nThe ability to create your ideal culture and work with a dream team\\nof people you get to assemble yourself. Want your culture to be\\nbased on people who have fun every day and enjoy working\\ntogether? Or, are hyper-competitive both in work and play? Or,\\nare super-focused on creating innovative new rocket science\\nPart 1: Why not to do a startup 3\\ntechnologies? Or, are global in perspective from day one? You\\nget to choose, and to build your culture and team to suit.\\nAnd Xnally, money — startups done right can of course be highly\\nlucrative. This is not just an issue of personal greed — when\\nthings go right, your team and employees will themselves do\\nvery ',\n",
              " 'to suit.\\nAnd Xnally, money — startups done right can of course be highly\\nlucrative. This is not just an issue of personal greed — when\\nthings go right, your team and employees will themselves do\\nvery well and will be able to support their families, send their\\nkids to college, and realize their dreams, and that’s really cool.\\nAnd if you’re really lucky, you as the entrepreneur can ultimately make profound philanthropic gias that change society\\nfor the better.\\nHowever, there are many more reasons to not do a startup.\\nFirst, and most importantly, realize that a startup puts you on\\nan emotional rollercoaster unlike anything you have ever experienced.\\nYou will Yip rapidly from a day in which you are euphorically\\nconvinced you are going to own the world, to a day in which\\ndoom seems only weeks away and you feel completely ruined,\\nand back again.\\nOver and over and over.\\nAnd I’m talking about what happens to stable entrepreneurs.\\nThere is so much uncertainty and so much risk around practically',\n",
              " 'way and you feel completely ruined,\\nand back again.\\nOver and over and over.\\nAnd I’m talking about what happens to stable entrepreneurs.\\nThere is so much uncertainty and so much risk around practically everything you are doing. Will the product ship on time?\\nWill it be fast enough? Will it have too many bugs? Will it be\\neasy to use? Will anyone use it? Will your competitor beat you\\nto market? Will you get any press coverage? Will anyone invest\\nin the company? Will that key new engineer join? Will your key\\nuser interface designer quit and go to Google? And on and on\\nand on…\\nSome days things will go really well and some things will go\\nreally poorly. And the level of stress that you’re under generally\\nwill magnify those transient data points into incredible highs\\nand unbelievable lows at whiplash speed and huge magnitude.\\nSound like fun?\\n4 The Pmarca Blog Archives\\nSecond, in a startup, absolutely nothing happens unless you make it\\nhappen.\\nThis one throws both founders and employees new to ',\n",
              " 'ash speed and huge magnitude.\\nSound like fun?\\n4 The Pmarca Blog Archives\\nSecond, in a startup, absolutely nothing happens unless you make it\\nhappen.\\nThis one throws both founders and employees new to startups.\\nIn an established company — no matter how poorly run or\\ndemoralized — things happen. They just happen. People come\\nin to work. Code gets written. User interfaces get designed.\\nServers get provisioned. Markets get analyzed. Pricing gets studied and determined. Sales calls get made. The wastebaskets get\\nemptied. And so on.\\nA startup has none of the established systems, rhythms, infrastructure that any established company has.\\nIn a startup it is very easy for the code to not get written, for the\\nuser interfaces to not get designed… for people to not come into\\nwork… and for the wastebaskets to not get emptied.\\nYou as the founder have to put all of these systems and routines\\nand habits in place and get everyone actually rowing — forget\\neven about rowing in the right direction: just ro',\n",
              " 'ets to not get emptied.\\nYou as the founder have to put all of these systems and routines\\nand habits in place and get everyone actually rowing — forget\\neven about rowing in the right direction: just rowing at all is\\nhard enough at the start.\\nAnd until you do, absolutely nothing happens.\\nUnless, of course, you do it yourself.\\nHave fun emptying those wastebaskets.\\nThird, you get told no — a lot.\\nUnless you’ve spent time in sales, you are probably not familiar\\nwith being told no a lot.\\nIt’s not so much fun.\\nGo watch Death of a Salesman and then Glengarry Glen Ross.\\nThat’s roughly what it’s like.\\nYou’re going to get told no by potential employees, potential\\ninvestors, potential customers, potential partners, reporters,\\nanalysts…\\nPart 1: Why not to do a startup 5\\nOver and over and over.\\nAnd when you do get a “yes”, half the time you’ll get a call two\\ndays later and it’ll turn out the answer has morphed into “no”.\\nBetter start working on your fake smile.\\nFourth, hiring is a huge pain in the a',\n",
              " ' you do get a “yes”, half the time you’ll get a call two\\ndays later and it’ll turn out the answer has morphed into “no”.\\nBetter start working on your fake smile.\\nFourth, hiring is a huge pain in the ass.\\nYou will be amazed how many windowshoppers you’ll deal with.\\nA lot of people think they want to be part of a startup, but when\\nthe time comes to leave their cushy job at HP or Apple, they\\nYinch — and stay.\\nGoing through the recruiting process and being seduced by a\\nstartup is heady stuW for your typical engineer or midlevel manager at a big company — you get to participate vicariously in the\\nthrill of a startup without actually having to join or do any of the\\nhard work.\\nAs a founder of a startup trying to hire your team, you’ll run into\\nthis again and again.\\nWhen Jim Clark decided to start a new company in 1994, I was\\none of about a dozen people at various Silicon Valley companies\\nhe was talking to about joining him in what became Netscape.\\nI was the only one who went all the way to sa',\n",
              " ' a new company in 1994, I was\\none of about a dozen people at various Silicon Valley companies\\nhe was talking to about joining him in what became Netscape.\\nI was the only one who went all the way to saying “yes” (largely\\nbecause I was 22 and had no reason not to do it).\\nThe rest Yinched and didn’t do it.\\nAnd this was Jim Clark, a legend in the industry who was coming\\noW of the most successful company in Silicon Valley in 1994 —\\nSilicon Graphics Inc.\\nHow easy do you think it’s going to be for you?\\nThen, once you do get through the windowshoppers and actually hire some people, your success rate on hiring is probably\\nnot going to be higher than 50%, and that’s if you’re good at it.\\nBy that I mean that half or more of the people you hire aren’t\\n6 The Pmarca Blog Archives\\ngoing to work out. They’re going to be too lazy, too slow, easily\\nrattled, political, bipolar, or psychotic.\\nAnd then you have to either live with them, or Xre them.\\nWhich ones of those sounds like fun?\\nFiah, God help you, ',\n",
              " '’re going to be too lazy, too slow, easily\\nrattled, political, bipolar, or psychotic.\\nAnd then you have to either live with them, or Xre them.\\nWhich ones of those sounds like fun?\\nFiah, God help you, at some point you’re going to have to hire executives.\\nYou think hiring employees is hard and risky — wait until you\\nstart hiring for VP Engineering, VP Marketing, VP Sales, VP HR,\\nGeneral Counsel, and CFO.\\nSixth, the hours.\\nThere’s been a lot of talk in Silicon Valley lately about work/life\\nbalance — about how you should be able to do a startup and\\nsimultaneously live a full and fulXlling outside life.\\nNow, personally, I have a lot of sympathy for that point of view.\\nAnd I try hard in my companies (well, at least my last two companies) to do whatever I can to help make sure that people aren’t\\nground down to little tiny spots on the Yoor by the workload\\nand the hours.\\nBut, it’s really diZcult.\\nThe fact is that startups are incredibly intense experiences and\\ntake a lot out of people in the ',\n",
              " '\\nground down to little tiny spots on the Yoor by the workload\\nand the hours.\\nBut, it’s really diZcult.\\nThe fact is that startups are incredibly intense experiences and\\ntake a lot out of people in the best of circumstances.\\nAnd just because you want people to have work/life balance, it’s\\nnot so easy when you’re close to running out of cash, your product hasn’t shipped yet, your VC is mad at you, and your Kleiner\\nPerkins-backed competitor in Menlo Park — you know, the one\\nwhose employees’ average age seems to be about 19 — is kicking\\nyour butt.\\nWhich is what it’s going to be like most of the time.\\nAnd even if you can help your employees have proper work/life\\nbalance, as a founder you certainly won’t.\\nPart 1: Why not to do a startup 7\\n(In case you were wondering, by the way, the hours do compound the stress.)\\nSeventh, it’s really easy for the culture of a startup to go sideways.\\nThis combines the Xrst and second items above.\\nThis is the emotional rollercoaster wreaking havoc on not just\\ny',\n",
              " 'ound the stress.)\\nSeventh, it’s really easy for the culture of a startup to go sideways.\\nThis combines the Xrst and second items above.\\nThis is the emotional rollercoaster wreaking havoc on not just\\nyou but your whole company.\\nIt takes time for the culture of any company to become “set” —\\nfor the team of people who have come together for the Xrst time\\nto decide collectively what they’re all about, what they value —\\nand how they look at challenge and adversity.\\nIn the best case, you get an amazing dynamic of people really\\npulling together, supporting one another, and working their collective tails oW in pursuit of a dream.\\nIn the worst case, you end up with widespread, self-reinforcing\\nbitterness, disillusionment, cynicism, bad morale, contempt for\\nmanagement, and depression.\\nAnd you as the founder have much less inYuence over this than\\nyou’ll think you do.\\nGuess which way it usually goes.\\nEighth, there are lots of X factors that can come along and whup\\nyou right upside the head, and th',\n",
              " ' founder have much less inYuence over this than\\nyou’ll think you do.\\nGuess which way it usually goes.\\nEighth, there are lots of X factors that can come along and whup\\nyou right upside the head, and there’s absolutely nothing you\\ncan do about them.\\nStock market crashes.\\nTerrorist attacks.\\nNatural disasters.\\nA better funded startup with a more experienced team that’s\\nbeen hard at work longer than you have, in stealth mode, that\\nunexpectedly releases a product that swialy comes to dominate\\nyour market, completely closing oW your opportunity, and you\\nhad no idea they were even working on it.\\n8 The Pmarca Blog Archives\\nAt best, any given X factor might slam shut the fundraising\\nwindow, cause customers to delay or cancel purchases — or, at\\nworst, shut down your whole company.\\nRussian mobsters laundering millions of dollars of dirty money\\nthrough your service, resulting in the credit card companies\\nclosing you down.\\nYou think I’m joking about that one?\\nOK, now here’s the best part:\\nI haven’t ',\n",
              " 'undering millions of dollars of dirty money\\nthrough your service, resulting in the credit card companies\\nclosing you down.\\nYou think I’m joking about that one?\\nOK, now here’s the best part:\\nI haven’t even talked about Xguring out what product to build,\\nbuilding it, taking it to market, and standing out from the crowd.\\nAll the risks in the core activities of what your company actually\\ndoes are yet to come, and to be discussed in future posts in this\\nseries.\\nPart 1: Why not to do a startup 9\\nPart 2: When the VCs say \"no\"\\nThis post is about what to do between when the VCs say “no” to\\nfunding your startup, and when you either change their minds\\nor Xnd some other path.\\nI’m going to assume that you’ve done all the basics: developed a\\nplan and a pitch, decided that venture Xnancing is right for you\\nand you are right for venture Xnancing, lined up meetings with\\nproperly qualiXed VCs, and made your pitch.\\nAnd the answer has come back and it’s “no”.\\nOne “no” doesn’t mean anything — the VC could ',\n",
              " 'ou\\nand you are right for venture Xnancing, lined up meetings with\\nproperly qualiXed VCs, and made your pitch.\\nAnd the answer has come back and it’s “no”.\\nOne “no” doesn’t mean anything — the VC could just be having\\na bad day, or she had a bad experience with another company in\\nyour category, or she had a bad experience with another company with a similar name, or she had a bad experience with\\nanother founder who kind of looks like you, or her Mercedes\\nSLR McLaren’s engine could have blown up on the freeway that\\nmorning — it could be anything. Go meet with more VCs.\\nIf you meet with three VCs and they all say “no”, it could just be\\na big coincidence. Go meet with more VCs.\\nIf you meet with Xve, or six, or eight VCs and they all say no, it’s\\nnot a coincidence.\\nThere is something wrong with your plan.\\nOr, even if there isn’t, there might as well be, because you’re still\\nnot getting funded.\\nMeeting with more VCs aaer a bunch have said no is probably\\na waste of time. Instead, retool your pl',\n",
              " 'our plan.\\nOr, even if there isn’t, there might as well be, because you’re still\\nnot getting funded.\\nMeeting with more VCs aaer a bunch have said no is probably\\na waste of time. Instead, retool your plan — which is what this\\npost is about.\\nBut Hrst, lay the groundwork to go back in later.\\nIt’s an old — and true — cliche that VCs rarely actually say “no”\\n— more oaen they say “maybe”, or “not right now”, or “my partners aren’t sure”, or “that’s interesting, let me think about it”.\\nThey do that because they don’t want to invest in your company\\ngiven the current facts, but they want to keep the door open in\\ncase the facts change.\\nAnd that’s exactly what you want — you want to be able to go\\nback to them with a new set of facts, and change their minds,\\nand get to “yes”.\\nSo be sure to take “no” gracefully — politely ask them for feedback (which they probably won’t give you, at least not completely honestly — nobody likes calling someone else’s baby\\nugly — believe me, I’ve done it), thank them ',\n",
              " 'acefully — politely ask them for feedback (which they probably won’t give you, at least not completely honestly — nobody likes calling someone else’s baby\\nugly — believe me, I’ve done it), thank them for their time, and\\nask if you can call them again if things change.\\nTrust me — they’d much rather be saying “yes” than “no” —\\nthey need all the good investments they can get.\\nSecond, consider the environment.\\nBeing told “no” by VCs in 1999 is a lot diWerent than being told\\n“no” in 2002.\\nIf you were told “no” in 1999, I’m sure you’re a wonderful person and you have huge potential and your mother loves you\\nvery much, but your plan really was seriously Yawed.\\nIf you were told “no” in 2002, you probably actually were the\\nnext Google, but most of the VCs were hiding under their desks\\nand they just missed it.\\nIn my opinion, we’re now in a much more rational environment\\nthan either of those extremes — a lot of good plans are being\\nfunded, along with some bad ones, but not all the bad ones.\\nPart ',\n",
              " ' missed it.\\nIn my opinion, we’re now in a much more rational environment\\nthan either of those extremes — a lot of good plans are being\\nfunded, along with some bad ones, but not all the bad ones.\\nPart 2: When the VCs say \"no\" 11\\nI’ll proceed under the assumption that we’re in normal times.\\nBut if things get truly euphoric or truly funereal again, the rest\\nof this post will probably not be very helpful — in either case.\\nThird, retool your plan.\\nThis is the hard part — changing the facts of your plan and what\\nyou are trying to do, to make your company more fundable.\\nTo describe the dimensions that you should consider as you\\ncontemplate retooling your plan, let me introduce the onion\\ntheory of risk.\\nIf you’re an investor, you look at the risk around an investment\\nas if it’s an onion. Just like you peel an onion and remove each\\nlayer in turn, risk in a startup investment comes in layers that\\nget peeled away — reduced — one by one.\\nYour challenge as an entrepreneur trying to raise venture ca',\n",
              " ' you peel an onion and remove each\\nlayer in turn, risk in a startup investment comes in layers that\\nget peeled away — reduced — one by one.\\nYour challenge as an entrepreneur trying to raise venture capital\\nis to keep peeling layers of risk oW of your particular onion until\\nthe VCs say “yes” — until the risk in your startup is reduced to\\nthe point where investing in your startup doesn’t look terrifying\\nand merely looks risky.\\nWhat are the layers of risk for a high-tech\\nstartup?\\nIt depends on the startup, but here are some of the common\\nones:\\nFounder risk — does the startup have the right founding team?\\nA common founding team might include a great technologist,\\nplus someone who can run the company, at least to start. Is the\\ntechnologist really all that? Is the business person capable of\\nrunning the company? Is the business person missing from the\\nteam altogether? Is it a business person or business people with\\nno technologist, and therefore virtually unfundable?\\nMarket risk — is there a ',\n",
              " 'ing the company? Is the business person missing from the\\nteam altogether? Is it a business person or business people with\\nno technologist, and therefore virtually unfundable?\\nMarket risk — is there a market for the product (using the term\\nproduct and service interchangeably)? Will anyone want it? Will\\nthey pay for it? How much will they pay? How do we know?\\n12 The Pmarca Blog Archives\\nCompetition risk — are there too many other startups already\\ndoing this? Is this startup suZciently diWerentiated from the\\nother startups, and also diWerentiated from any large incumbents?\\nTiming risk — is it too early? Is it too late?\\nFinancing risk — aaer we invest in this round, how many additional rounds of Xnancing will be required for the company to\\nbecome proXtable, and what will the dollar total be? How certain\\nare we about these estimates? How do we know?\\nMarketing risk — will this startup be able to cut through the\\nnoise? How much will marketing cost? Do the economics of customer acquisition — t',\n",
              " 'ow certain\\nare we about these estimates? How do we know?\\nMarketing risk — will this startup be able to cut through the\\nnoise? How much will marketing cost? Do the economics of customer acquisition — the cost to acquire a customer, and the revenue that customer will generate — work?\\nDistribution risk — does this startup need certain distribution\\npartners to succeed? Will it be able to get them? How? (For\\nexample, this is a common problem with mobile startups that\\nneed deals with major mobile carriers to succeed.)\\nTechnology risk — can the product be built? Does it involve rocket\\nscience — or an equivalent, like artiXcial intelligence or natural\\nlanguage processing? Are there fundamental breakthroughs that\\nneed to happen? If so, how certain are we that they will happen,\\nor that this team will be able to make them?\\nProduct risk — even assuming the product can in theory be built,\\ncan this team build it?\\nHiring risk — what positions does the startup need to hire for in\\norder to execute its ',\n",
              " 'l be able to make them?\\nProduct risk — even assuming the product can in theory be built,\\ncan this team build it?\\nHiring risk — what positions does the startup need to hire for in\\norder to execute its plan? E.g. a startup planning to build a highscale web service will need a VP of Operations — will the founding team be able to hire a good one?\\nLocation risk — where is the startup located? Can it hire the right\\ntalent in that location? And will I as the VC need to drive more\\nthan 20 minutes in my Mercedes SLR McLaren to get there?\\nYou know, when you stack up all these layers and look at the\\nPart 2: When the VCs say \"no\" 13\\nfull onion, you realize it’s amazing that any venture investments\\never get made.\\nWhat you need to do is take a hard-headed look at each of these\\nrisks — and any others that are speciXc to your startup and its\\ncategory — and put yourself in the VC’s shoes: what could this\\nstartup do to minimize or eliminate enough of these risks to\\nmake the company fundable?\\nThen do tho',\n",
              " 't are speciXc to your startup and its\\ncategory — and put yourself in the VC’s shoes: what could this\\nstartup do to minimize or eliminate enough of these risks to\\nmake the company fundable?\\nThen do those things.\\nThis isn’t very much fun, since it will probably involve making\\nsigniXcant changes to your plan, but look on the bright side: it’s\\nexcellent practice for when your company ultimately goes public and has to Xle an S1 registration statement with the SEC, in\\nwhich you have to itemize in huge detail every conceivable risk\\nand bad thing that could ever possibly happen to you, up to and\\nincluding global warming.\\nSome ideas on reducing risk\\nFounder risk — the tough one. If you’re the technologist on a\\nfounding team with a business person, you have to consider the\\npossibility that the VCs don’t think the business person is strong\\nenough to be the founding CEO. Or vice versa, maybe they\\nthink the technologist isn’t strong enough to build the product.\\nYou may have to swap out one or more ',\n",
              " 'on’t think the business person is strong\\nenough to be the founding CEO. Or vice versa, maybe they\\nthink the technologist isn’t strong enough to build the product.\\nYou may have to swap out one or more founders, and/or add\\none or more founders.\\nI put this one right up front because it can be a huge issue and\\nthe odds of someone being honest with you about it in the speciXc are not that high.\\nMarket risk — you probably need to validate the market, at a\\npractical level. Sometimes more detailed and analytical market\\nresearch will solve the problem, but more oaen you actually\\nneed to go get some customers to demonstrate that the market\\nexists. Preferably, paying customers. Or at least credible\\nprospects who will talk to VCs to validate the market hypothesis.\\nCompetition risk — is your diWerentiation really sharp enough?\\n14 The Pmarca Blog Archives\\nRethink this one from the ground up. Lots of startups do not\\nhave strong enough diWerentiation out of the gate, even aaer\\nthey get funded. If you ',\n",
              " 'tion really sharp enough?\\n14 The Pmarca Blog Archives\\nRethink this one from the ground up. Lots of startups do not\\nhave strong enough diWerentiation out of the gate, even aaer\\nthey get funded. If you don’t have a really solid idea as to how\\nyou’re dramatically diWerent from or advantaged over known\\nand unknown competitors, you might not want to start a company in the Xrst place.\\nTwo additional points on competition risk that founders routinely screw up in VC pitches:\\nNever, ever say that you have no competitors. That signals\\nnaivete. Great markets draw competitors, and so if you really\\nhave no competition, you must not be in a great market. Even\\nif you really believe you have no competitors, create a competitive landscape slide with adjacent companies in related market\\nsegments and be ready to talk crisply about how you are like and\\nunlike those adjacent companies.\\nAnd never, ever say your market projections indicate you’re\\ngoing to be hugely successful if you get only 2% of your\\n(extr',\n",
              " 'y to talk crisply about how you are like and\\nunlike those adjacent companies.\\nAnd never, ever say your market projections indicate you’re\\ngoing to be hugely successful if you get only 2% of your\\n(extremely large) market. That also signals naivete. If you’re\\ngoing aaer 2% of a large market, that means the presumably\\nlarger companies that are going to take the other 98% are going\\nto kill you. You have to have a theory for how you’re going to get\\na signiXcantly higher market share than 2%. (I pick 2% because\\nthat’s the cliche, but if you’re a VC, you’ve probably heard someone use it.)\\nTiming risk — the only thing to do here is to make more\\nprogress, and demonstrate that you’re not too early or too late.\\nGetting customers in the bag is the most valuable thing you can\\ndo on this one.\\nFinancing risk — rethink very carefully how much money you\\nwill need to raise aaer this round of Xnancing, and try to change\\nthe plan in plausible ways to require less money. For example,\\nonly serve Cristal at ',\n",
              " 'risk — rethink very carefully how much money you\\nwill need to raise aaer this round of Xnancing, and try to change\\nthe plan in plausible ways to require less money. For example,\\nonly serve Cristal at your launch party, and not Remy Martin\\n“Black Pearl” Louis XIII cognac.\\nMarketing risk — Xrst, make sure your diWerentiation is superPart 2: When the VCs say \"no\" 15\\nsharp, because without that, you probably won’t be able to stand\\nout from the noise.\\nThen, model out your customer acquisition economics in detail\\nand make sure that you can show how you’ll get more revenue\\nfrom a customer than it will cost in sales and marketing expense\\nto acquire that customer. This is a common problem for startups pursuing the small business market, for example.\\nIf it turns out you need a lot of money in absolute terms for\\nmarketing, look for alternate approaches — perhaps guerilla\\nmarketing, or some form of virality.\\nDistribution risk — this is a very tough one — if your plan has\\ndistribution risk, which i',\n",
              " 'te terms for\\nmarketing, look for alternate approaches — perhaps guerilla\\nmarketing, or some form of virality.\\nDistribution risk — this is a very tough one — if your plan has\\ndistribution risk, which is to say you need a key distribution\\npartner to make it work, personally I’d recommend shelving the\\nplan and doing something else. Otherwise, you may need to go\\nget the distribution deal before you can raise money, which is\\nalmost impossible.\\nTechnology risk — there’s only one way around this, which is to\\nbuild the product, or at least get it to beta, and then raise money.\\nProduct risk — same answer — build it.\\nHiring risk — the best way to address this is to Xgure out which\\nposition/positions the VCs are worried about, and add it/them\\nto the founding team. This will mean additional dilution for\\nyou, but it’s probably the only way to solve the problem.\\nLocation risk — this is the one you’re really not going to like. If\\nyou’re not in a major center of entrepreneurialism and you’re\\nhaving tr',\n",
              " 'or\\nyou, but it’s probably the only way to solve the problem.\\nLocation risk — this is the one you’re really not going to like. If\\nyou’re not in a major center of entrepreneurialism and you’re\\nhaving trouble raising money, you probably need to move.\\nThere’s a reason why most Xlms get made in Los Angeles, and\\nthere’s a reason most venture-backed US tech startups happen\\nin Silicon Valley and handful of other places — that’s where the\\nmoney is. You can start a company wherever you want, but you\\nmay not be able to get it funded there.\\nYou’ll notice that a lot of what you may need to do is kick the ball\\nfurther down the road — make more progress against your plan\\nbefore you raise venture capital.\\n16 The Pmarca Blog Archives\\nThis obviously raises the issue of how you’re supposed to do\\nthat before you’ve raised money.\\nTry to raise angel money, or bootstrap oW of initial customers\\nor consulting contracts, or work on it aaer hours while keeping\\nyour current job, or quit your job and live oW of cr',\n",
              " 'you’ve raised money.\\nTry to raise angel money, or bootstrap oW of initial customers\\nor consulting contracts, or work on it aaer hours while keeping\\nyour current job, or quit your job and live oW of credit cards for\\na while.\\nLots of entrepreneurs have done these things and succeeded —\\nand of course, many have failed.\\nNobody said this would be easy.\\nThe most valuable thing you can do is actually build your product. When in doubt, focus on that.\\nThe next most valuable thing you can do is get customers — or,\\nfor a consumer Internet service, establish a pattern of page view\\ngrowth.\\nThe whole theory of venture capital is that VCs are investing\\nin risk — another term for venture capital is “risk capital” —\\nbut the reality is that VCs will only take on so much risk, and\\nthe best thing you can do to optimize your chances of raising\\nmoney is to take out risk.\\nPeel away at the onion.\\nThen, once you’ve done that, recraa the pitch around the new\\nfacts. Go do the pitches again. And repeat as necessa',\n",
              " 'o optimize your chances of raising\\nmoney is to take out risk.\\nPeel away at the onion.\\nThen, once you’ve done that, recraa the pitch around the new\\nfacts. Go do the pitches again. And repeat as necessary.\\nAnd to end on a happy note, remember that “yes” can turn into\\n“no” at any point up until the cash hits your company’s bank\\naccount.\\nSo keep your options open all the way to the end.\\nPart 2: When the VCs say \"no\" 17\\nPart 3: \"But I don\\'t know any VCs!\"\\nIn my last post in this series, When the VCs say “no”, I discussed\\nwhat to do once you have been turned down for venture funding for the Xrst time.\\nHowever, this presupposes you’ve been able to pitch VCs in the\\nXrst place. What if you have a startup for which you’d like to\\nraise venture funding, but you don’t know any VCs?\\nI can certainly sympathize with this problem — when I was in\\ncollege working on Mosaic at the University of Illinois, the term\\n“venture capital” might as well have been “klaatu barada nikto”\\nfor all I knew. I had never m',\n",
              " 'athize with this problem — when I was in\\ncollege working on Mosaic at the University of Illinois, the term\\n“venture capital” might as well have been “klaatu barada nikto”\\nfor all I knew. I had never met a venture capitalist, no venture\\ncapitalist had ever talked to me, and I wouldn’t have recognized\\none if I’d stumbled over his checkbook on the sidewalk. Without\\nJim Clark, I’m not at all certain I would have been able to raise\\nmoney to start a company like Netscape, had it even occured to\\nme to start a company in the Xrst place.\\nThe starting point for raising money from VCs when you don’t\\nknow any VCs is to realize that VCs work mostly through referrals — they hear about a promising startup or entrepreneur\\nfrom someone they have worked with before, like another\\nentrepreneur, an executive or engineer at one of the startups\\nthey have funded, or an angel investor with whom they have\\npreviously co-invested.\\nThe reason for this is simply the math: any individual VC can\\nonly fund a few compa',\n",
              " 'r engineer at one of the startups\\nthey have funded, or an angel investor with whom they have\\npreviously co-invested.\\nThe reason for this is simply the math: any individual VC can\\nonly fund a few companies per year, and for every one she\\nfunds, she probably meets with 15 or 20, and there are hundreds\\nmore that would like to meet with her that she doesn’t possibly\\nhave time to meet with. She has to rely on her network to help\\nher screen the hundreds down to 15 or 20, so she can spend her\\ntime Xnding the right one out of the 15 or 20.\\nTherefore, submitting a business plan “over the transom”, or\\nunsolicited, to a venture Xrm is likely to amount to just as much\\nas submitting a screenplay “over the transom” to a Hollywood\\ntalent agency — that is, precisely nothing.\\nSo the primary trick becomes getting yourself into a position\\nwhere you’re one of the 15 or 20 a particular venture capitalist\\nis meeting with based on referrals from her network, not one of\\nthe hundreds of people who don’t come r',\n",
              " 'etting yourself into a position\\nwhere you’re one of the 15 or 20 a particular venture capitalist\\nis meeting with based on referrals from her network, not one of\\nthe hundreds of people who don’t come recommended by anyone and whom she has no intention of meeting.\\nBut before you think about doing that, the Xrst order of business\\nis to (paraphrasing for a family audience) “have your stuG\\ntogether” — create and develop your plan, your presentation,\\nand your supporting materials so that when you do meet with a\\nVC, you impress her right out of the gate as bringing her a fundable startup founded by someone who knows what he — that’s\\nyou — is doing.\\nMy recommendation is to read up on all the things you should\\ndo to put together a really eWective business plan and presentation, and then pretend you have already been turned down once\\n— then go back to my last post and go through all the diWerent\\nthings you should anticipate and Xx before you actually do walk\\nthrough the door.\\nOne of the reason V',\n",
              " ' have already been turned down once\\n— then go back to my last post and go through all the diWerent\\nthings you should anticipate and Xx before you actually do walk\\nthrough the door.\\nOne of the reason VCs only meet with startups through their\\nnetworks is because too many of the hundreds of other startups\\nthat they could meet with come across as amateurish and uninformed, and therefore not fundable, when they do take meetings with them. So you have a big opportunity to cut through\\nthe noise by making a great Hrst impression — which requires\\nreally thinking things through ahead of time and doing all the\\nhard work up front to really make your pitch and plan a masterpiece.\\nPart 3: \"But I don\\'t know any VCs!\" 19\\nWorking backwards from that, the best thing you can walk in\\nwith is a working product. Or, if you can’t get to a working\\nproduct without raising venture funding, then at least a beta\\nor prototype of some form — a web site that works but hasn’t\\nlaunched, or a soaware mockup with partia',\n",
              " '. Or, if you can’t get to a working\\nproduct without raising venture funding, then at least a beta\\nor prototype of some form — a web site that works but hasn’t\\nlaunched, or a soaware mockup with partial functionality,\\nor something. And of course it’s even better if you walk in with\\nexisting “traction” of some form — customers, beta customers,\\nsome evidence of adoption by Internet users, whatever is appropriate for your particular startup.\\nWith a working product that could be the foundation of a fundable startup, you have a much better chance of getting funded\\nonce you do get in the door. Back to my rule of thumb from\\nthe last post: when in doubt, work on the product.\\nFailing a working product and ideally customers or users, be\\nsure to have as Ieshed out a presentation as you possibly can\\n— including mockups, screenshots, market analyses, customer\\nresearch such as interviews with real prospects, and the like.\\nDon’t bother with a long detailed written business plan. Most\\nVCs will either f',\n",
              " 'including mockups, screenshots, market analyses, customer\\nresearch such as interviews with real prospects, and the like.\\nDon’t bother with a long detailed written business plan. Most\\nVCs will either fund a startup based on a Yeshed out Powerpoint\\npresentation of about 20 slides, or they won’t fund it at all.\\nCorollary: any VC who requires a long detailed written business\\nplan is probably not the right VC to be working with.\\nNext: qualify, qualify, qualify. Do extensive research on venture capitalists and Xnd the ones who focus on the sector relevant to your startup. It is completely counterproductive to\\neveryone involved for you to pitch a health care VC on a consumer Internet startup, or vice versa. Individual VCs are usually\\nquite focused in the kinds of companies they are looking for,\\nand identifying those VCs and screening out all the others is\\nabsolutely key.\\nNow, on to developing contacts\\nThe best way to develop contacts with VCs, in my opinion, is to\\nwork at a venture-backed sta',\n",
              " 'nd identifying those VCs and screening out all the others is\\nabsolutely key.\\nNow, on to developing contacts\\nThe best way to develop contacts with VCs, in my opinion, is to\\nwork at a venture-backed startup, kick butt, get promoted, and\\nnetwork the whole way.\\n20 The Pmarca Blog Archives\\nIf you can’t get hired by a venture-backed startup right now,\\nwork at a well-regarded large tech company that employs a lot\\nof people like Google or Apple, gain experience, and then go to\\nwork at a venture-backed startup, kick butt, get promoted, and\\nnetwork the whole way.\\nAnd if you can’t get hired by a well-regarded large tech company, go get a bachelor’s or master’s degree at a major research\\nuniversity from which well-regarded large tech companies regularly recruit, then work at a well-regarded large tech company\\nthat employs a lot of people like Google or Apple, gain experience, and then go to work at a venture-backed startup, kick butt,\\nget promoted, and network the whole way.\\nI sound like I’m jokin',\n",
              " ' company\\nthat employs a lot of people like Google or Apple, gain experience, and then go to work at a venture-backed startup, kick butt,\\nget promoted, and network the whole way.\\nI sound like I’m joking, but I’m completely serious — this is the\\npath taken by many venture-backed entrepreneurs I know.\\nSome alternate techniques that don’t take\\nquite as long\\nIf you’re still in school, immediately transfer to, or plan on\\ngoing to graduate school at, a large research university with\\nwell-known connections to the venture capital community, like\\nStanford or MIT.\\nGraduate students at Stanford are directly responsible for such\\ncompanies as Sun, Cisco, Yahoo, and Google, so needless to say,\\nSilicon Valley VCs are continually on the prowl on the Stanford\\nengineering campus for the next Jerry Yang or Larry Page.\\n(In contrast, the University of Illinois, where I went to school, is\\nmostly prowled by mutant cold-weather cows.)\\nAlternately, jump all over Y Combinator. This program, created by entreprene',\n",
              " 'rry Page.\\n(In contrast, the University of Illinois, where I went to school, is\\nmostly prowled by mutant cold-weather cows.)\\nAlternately, jump all over Y Combinator. This program, created by entrepreneur Paul Graham and his partners, funds\\nearly-stage startups in an organized program in Silicon Valley\\nand Boston and then makes sure the good ones get in front of\\nventure capitalists for follow-on funding. It’s a great idea and a\\nhuge opportunity for the people who participate in it.\\nPart 3: \"But I don\\'t know any VCs!\" 21\\nRead VC blogs — read them all, and read them very very carefully. VCs who blog are doing entrepreneurs a huge service both\\nin conveying highly useful information as well as frequently\\nputting themselves out there to be contacted by entrepreneurs\\nin various ways including email, comments, and even uploaded\\npodcasts. Each VC is diWerent in terms of how she wants to\\nengage with people online, but by all means read as many VC\\nblogs as you can and interact with as many of them',\n",
              " 'l, comments, and even uploaded\\npodcasts. Each VC is diWerent in terms of how she wants to\\nengage with people online, but by all means read as many VC\\nblogs as you can and interact with as many of them as you can\\nin appropriate ways.\\nAt the very least you will start to get a really good sense of which\\nVCs who blog are interested in which kinds of companies.\\nAt best, a VC blogger may encourage her readers to communicate with her in various ways, including soliciting email pitches\\nin certain startup categories of interest to her.\\nFred Wilson of Union Square Ventures has even gone so far as\\nto encourage entrepreneurs to record and upload audio pitches\\nfor new ventures so he can listen to them on his IPod. I don’t\\nknow if he’s still doing that, but it’s worth reading his blog and\\nXnding out.\\nAlong those lines, some VCs are aggressive early adopters of\\nnew forms of communication and interaction — current examples being Facebook and Twitter. Observationally, when a VC is\\nexploring a new commu',\n",
              " 'ong those lines, some VCs are aggressive early adopters of\\nnew forms of communication and interaction — current examples being Facebook and Twitter. Observationally, when a VC is\\nexploring a new communiation medium like Facebook or Twitter, she can be more interested in interacting with various people over that new medium than she might otherwise be. So,\\nwhen such a new thing comes out — like, hint hint, Facebook or\\nTwitter — jump all over it, see which VCs are using it, and interact with them that way — sensibly, of course.\\nMore generally, it’s a good idea for entrepreneurs who are\\nlooking for funding to blog — about their startup, about interesting things going on, about their point of view. This puts an\\nentrepreneur in the Yow of conversation, which can lead to\\ninteraction with VCs through the normal medium of blogging.\\nAnd, when a VC does decide to take a look at you and your company, she can read your blog to get a sense of who you are and\\n22 The Pmarca Blog Archives\\nhow you think',\n",
              " 'ugh the normal medium of blogging.\\nAnd, when a VC does decide to take a look at you and your company, she can read your blog to get a sense of who you are and\\n22 The Pmarca Blog Archives\\nhow you think. It’s another great opportunity to put forward a\\nfantastic Xrst impression.\\nFinally, if you are a programmer, I highly encourage you, if you\\nhave time, to create or contribute to a meaningful open source\\nproject. The open source movement is an amazing opportunity\\nfor programmers all over the world to not only build useful\\nsoaware that lots of people can use, but also build their own reputations completely apart from whatever day jobs they happen\\nto have. Being able to email a VC and say, “I’m the creator of\\nopen source program X which has 50,000 users worldwide, and\\nI want to tell you about my new startup” is a lot more eWective\\nthan your normal pitch.\\nIf you engage in a set of these techniques over time,\\nyou should be able to interact with at least a few VCs in ways that\\nthey Xnd useful ',\n",
              " 'y new startup” is a lot more eWective\\nthan your normal pitch.\\nIf you engage in a set of these techniques over time,\\nyou should be able to interact with at least a few VCs in ways that\\nthey Xnd useful and that might lead to further conversations\\nabout funding, or even introductions to other VCs.\\nI’m personally hoping that the next Google comes out of a VC\\nbeing sent an email pitch aaer the entrepreneur read that VC’s\\nblog. Then every VC on the planet will suddenly start blogging,\\novernight.\\nIf none of those ideas work for you\\nYour alternatives in reverse (declining) order of preference for\\nfunding are, in my view: angel funding, bootstrapping via consulting contracts or early customers, keeping your day job and\\nworking on your startup in your spare time, and credit card\\ndebt.\\nAngel funding — funding from individuals who like to invest\\nsmall amounts of money in early-stage startups, oaen before\\nVCs come in — can be a great way to go since good angels know\\ngood VCs and will be eager to in',\n",
              " '— funding from individuals who like to invest\\nsmall amounts of money in early-stage startups, oaen before\\nVCs come in — can be a great way to go since good angels know\\ngood VCs and will be eager to introduce you to them so that\\nyour company goes on to be successful for the angel as well as\\nfor you.\\nPart 3: \"But I don\\'t know any VCs!\" 23\\nThis of course begs the question of how to raise angel money,\\nwhich is another topic altogether!\\nI am not encouraging the other three alternatives — bootstrapping, working on it part time, or credit card debt. Each has\\nserious problems. But, it is easy to name highly successful entrepreneurs who have followed each of those paths, so they are\\nworth noting.\\n24 The Pmarca Blog Archives\\nPart 4: The only thing that matters\\nThis post is all about the only thing that matters for a new\\nstartup.\\nBut Xrst, some theory:\\nIf you look at a broad cross-section of startups — say, 30 or 40\\nor more; enough to screen out the pure Yukes and look for patterns — two obvious ',\n",
              " 'hat matters for a new\\nstartup.\\nBut Xrst, some theory:\\nIf you look at a broad cross-section of startups — say, 30 or 40\\nor more; enough to screen out the pure Yukes and look for patterns — two obvious facts will jump out at you.\\nFirst obvious fact: there is an incredibly wide divergence of success — some of those startups are insanely successful, some\\nhighly successful, many somewhat successful, and quite a few of\\ncourse outright fail.\\nSecond obvious fact: there is an incredibly wide divergence of\\ncaliber and quality for the three core elements of each startup\\n— team, product, and market.\\nAt any given startup, the team will range from outstanding to\\nremarkably Yawed; the product will range from a masterpiece\\nof engineering to barely functional; and the market will range\\nfrom booming to comatose.\\nAnd so you start to wonder — what correlates the most to success — team, product, or market? Or, more bluntly, what causes\\nsuccess? And, for those of us who are students of startup failure\\n— wha',\n",
              " 'tose.\\nAnd so you start to wonder — what correlates the most to success — team, product, or market? Or, more bluntly, what causes\\nsuccess? And, for those of us who are students of startup failure\\n— what’s most dangerous: a bad team, a weak product, or a\\npoor market?\\nLet’s start by deXning terms.\\nThe caliber of a startup team can be deXned as the suitability of\\nthe CEO, senior staW, engineers, and other key staW relative to\\nthe opportunity in front of them.\\nYou look at a startup and ask, will this team be able to optimally\\nexecute against their opportunity? I focus on eWectiveness as\\nopposed to experience, since the history of the tech industry is\\nfull of highly successful startups that were staWed primarily by\\npeople who had never “done it before”.\\nThe quality of a startup’s product can be deXned as how impressive the product is to one customer or user who actually uses\\nit: How easy is the product to use? How feature rich is it? How\\nfast is it? How extensible is it? How polished is it? ',\n",
              " 'deXned as how impressive the product is to one customer or user who actually uses\\nit: How easy is the product to use? How feature rich is it? How\\nfast is it? How extensible is it? How polished is it? How many (or\\nrather, how few) bugs does it have?\\nThe size of a startup’s market is the the number, and growth\\nrate, of those customers or users for that product.\\n(Let’s assume for this discussion that you can make money at\\nscale — that the cost of acquiring a customer isn’t higher than\\nthe revenue that customer will generate.)\\nSome people have been objecting to my classiXcation as follows:\\n“How great can a product be if nobody wants it?” In other words,\\nisn’t the quality of a product deXned by how appealing it is to\\nlots of customers?\\nNo. Product quality and market size are completely diWerent.\\nHere’s the classic scenario: the world’s best soaware application\\nfor an operating system nobody runs. Just ask any soaware\\ndeveloper targeting the market for BeOS, Amiga, OS/2, or\\nNeXT applications',\n",
              " '.\\nHere’s the classic scenario: the world’s best soaware application\\nfor an operating system nobody runs. Just ask any soaware\\ndeveloper targeting the market for BeOS, Amiga, OS/2, or\\nNeXT applications what the diWerence is between great product\\nand big market.\\nSo:\\nIf you ask entrepreneurs or VCs which of team, product, or market is most important, many will say team. This is the obvious\\n26 The Pmarca Blog Archives\\nanswer, in part because in the beginning of a startup, you know\\na lot more about the team than you do the product, which hasn’t\\nbeen built yet, or the market, which hasn’t been explored yet.\\nPlus, we’ve all been raised on slogans like “people are our most\\nimportant asset” — at least in the US, pro-people sentiments\\npermeate our culture, ranging from high school self-esteem\\nprograms to the Declaration of Independence’s inalienable\\nrights to life, liberty, and the pursuit of happiness — so the\\nanswer that team is the most important feels right.\\nAnd who wants to take the positio',\n",
              " 'ms to the Declaration of Independence’s inalienable\\nrights to life, liberty, and the pursuit of happiness — so the\\nanswer that team is the most important feels right.\\nAnd who wants to take the position that people don’t matter?\\nOn the other hand, if you ask engineers, many will say product.\\nThis is a product business, startups invent products, customers\\nbuy and use the products. Apple and Google are the best companies in the industry today because they build the best products. Without the product there is no company. Just try having\\na great team and no product, or a great market and no product.\\nWhat’s wrong with you? Now let me get back to work on the\\nproduct.\\nPersonally, I’ll take the third position — I’ll assert that market is\\nthe most important factor in a startup’s success or failure.\\nWhy?\\nIn a great market — a market with lots of real potential customers — the market pulls product out of the startup.\\nThe market needs to be fulXlled and the market will be fulXlled,\\nby the Xrst viab',\n",
              " 'Why?\\nIn a great market — a market with lots of real potential customers — the market pulls product out of the startup.\\nThe market needs to be fulXlled and the market will be fulXlled,\\nby the Xrst viable product that comes along.\\nThe product doesn’t need to be great; it just has to basically\\nwork. And, the market doesn’t care how good the team is, as\\nlong as the team can produce that viable product.\\nIn short, customers are knocking down your door to get the\\nproduct; the main goal is to actually answer the phone and\\nrespond to all the emails from people who want to buy.\\nPart 4: The only thing that matters 27\\nAnd when you have a great market, the team is remarkably easy\\nto upgrade on the Yy.\\nThis is the story of search keyword advertising, and Internet\\nauctions, and TCP/IP routers.\\nConversely, in a terrible market, you can have the best product\\nin the world and an absolutely killer team, and it doesn’t matter — you’re going to fail.\\nYou’ll break your pick for years trying to Xnd customers',\n",
              " ', in a terrible market, you can have the best product\\nin the world and an absolutely killer team, and it doesn’t matter — you’re going to fail.\\nYou’ll break your pick for years trying to Xnd customers who\\ndon’t exist for your marvelous product, and your wonderful\\nteam will eventually get demoralized and quit, and your startup\\nwill die.\\nThis is the story of videoconferencing, and workYow soaware,\\nand micropayments.\\nIn honor of Andy RachleW, formerly of Benchmark Capital, who\\ncrystallized this formulation for me, let me present RachleE’s\\nLaw of Startup Success:\\nThe #1 company-killer is lack of market.\\nAndy puts it this way:\\n• When a great team meets a lousy market, market wins.\\n• When a lousy team meets a great market, market wins.\\n• When a great team meets a great market, something special\\nhappens.\\nYou can obviously screw up a great market — and that has been\\ndone, and not infrequently — but assuming the team is baseline\\ncompetent and the product is fundamentally acceptable, a great\\nmar',\n",
              " 'happens.\\nYou can obviously screw up a great market — and that has been\\ndone, and not infrequently — but assuming the team is baseline\\ncompetent and the product is fundamentally acceptable, a great\\nmarket will tend to equal success and a poor market will tend to\\nequal failure. Market matters most.\\nAnd neither a stellar team nor a fantastic product will redeem a\\nbad market.\\nOK, so what?\\n28 The Pmarca Blog Archives\\nWell, Hrst question: Since team is the thing you have the most\\ncontrol over at the start, and everyone wants to have a great\\nteam, what does a great team actually get you?\\nHopefully a great team gets you at least an OK product, and ideally a great product.\\nHowever, I can name you a bunch of examples of great teams\\nthat totally screwed up their products. Great products are really,\\nreally hard to build.\\nHopefully a great team also gets you a great market — but I can\\nalso name you lots of examples of great teams that executed\\nbrilliantly against terrible markets and failed. Market',\n",
              " 'eally hard to build.\\nHopefully a great team also gets you a great market — but I can\\nalso name you lots of examples of great teams that executed\\nbrilliantly against terrible markets and failed. Markets that don’t\\nexist don’t care how smart you are.\\nIn my experience, the most frequent case of great team paired\\nwith bad product and/or terrible market is the second- or thirdtime entrepreneur whose Xrst company was a huge success.\\nPeople get cocky, and slip up. One highly successful soaware\\nentrepreneur is burning through something like $80 million in\\nventure funding in his latest startup and has practically nothing\\nto show for it except for some great press clippings and a couple of beta customers — because there is virtually no market for\\nwhat he is building.\\nConversely, I can name you any number of weak teams whose\\nstartups were highly successful due to explosively large markets\\nfor what they were doing.\\nFinally, to quote Tim Shephard: “A great team is a team that will\\nalways beat a med',\n",
              " 'umber of weak teams whose\\nstartups were highly successful due to explosively large markets\\nfor what they were doing.\\nFinally, to quote Tim Shephard: “A great team is a team that will\\nalways beat a mediocre team, given the same market and product.”\\nSecond question: Can’t great products sometimes create huge\\nnew markets?\\nAbsolutely.\\nThis is a best case scenario, though.\\nVMWare is the most recent company to have done it —\\nPart 4: The only thing that matters 29\\nVMWare’s product was so profoundly transformative out of the\\ngate that it catalyzed a whole new movement toward operating\\nsystem virtualization, which turns out to be a monster market.\\nAnd of course, in this scenario, it also doesn’t really matter\\nhow good your team is, as long as the team is good enough to\\ndevelop the product to the baseline level of quality the market\\nrequires and get it fundamentally to market.\\nUnderstand I’m not saying that you should shoot low in terms of quality\\nof team, or that VMWare’s team was not incredibl',\n",
              " 'seline level of quality the market\\nrequires and get it fundamentally to market.\\nUnderstand I’m not saying that you should shoot low in terms of quality\\nof team, or that VMWare’s team was not incredibly strong —\\nit was, and is. I’m saying, bring a product as transformative as\\nVMWare’s to market and you’re going to succeed, full stop.\\nShort of that, I wouldn’t count on your product creating a new\\nmarket from scratch.\\nThird question: as a startup founder, what should I do about\\nall this?\\nLet’s introduce RachleE’s Corollary of Startup Success:\\nThe only thing that matters is getting to product/market Ft.\\nProduct/market Xt means being in a good market with a product\\nthat can satisfy that market.\\nYou can always feel when product/market Ft isn’t happening. The\\ncustomers aren’t quite getting value out of the product, word\\nof mouth isn’t spreading, usage isn’t growing that fast, press\\nreviews are kind of “blah”, the sales cycle takes too long, and lots\\nof deals never close.\\nAnd you can always fe',\n",
              " 'out of the product, word\\nof mouth isn’t spreading, usage isn’t growing that fast, press\\nreviews are kind of “blah”, the sales cycle takes too long, and lots\\nof deals never close.\\nAnd you can always feel product/market Ft when it’s happening. The\\ncustomers are buying the product just as fast as you can make it\\n— or usage is growing just as fast as you can add more servers.\\nMoney from customers is piling up in your company checking\\naccount. You’re hiring sales and customer support staW as fast as\\nyou can. Reporters are calling because they’ve heard about your\\nhot new thing and they want to talk to you about it. You start\\ngetting entrepreneur of the year awards from Harvard Busi30 The Pmarca Blog Archives\\nness School. Investment bankers are staking out your house. You\\ncould eat free for a year at Buck’s.\\nLots of startups fail before product/market Ht ever happens.\\nMy contention, in fact, is that they fail because they never get to\\nproduct/market Xt.\\nCarried a step further, I believe that ',\n",
              " 'r at Buck’s.\\nLots of startups fail before product/market Ht ever happens.\\nMy contention, in fact, is that they fail because they never get to\\nproduct/market Xt.\\nCarried a step further, I believe that the life of any startup can be\\ndivided into two parts: before product/market Ft (call this “BPMF”)\\nand aMer product/market Ft (“APMF”).\\nWhen you are BPMF, focus obsessively on getting to product/\\nmarket Ht.\\nDo whatever is required to get to product/market Ht. Including\\nchanging out people, rewriting your product, moving into a different market, telling customers no when you don’t want to,\\ntelling customers yes when you don’t want to, raising that fourth\\nround of highly dilutive venture capital — whatever is required.\\nWhen you get right down to it, you can ignore almost everything else.\\nI’m not suggesting that you do ignore everything else — just that\\njudging from what I’ve seen in successful startups, you can.\\nWhenever you see a successful startup, you see one that has\\nreached product/mark',\n",
              " ' suggesting that you do ignore everything else — just that\\njudging from what I’ve seen in successful startups, you can.\\nWhenever you see a successful startup, you see one that has\\nreached product/market Ht — and usually along the way\\nscrewed up all kinds of other things, from channel model to\\npipeline development strategy to marketing plan to press relations to compensation policies to the CEO sleeping with the\\nventure capitalist. And the startup is still successful.\\nConversely, you see a surprising number of really well-run\\nstartups that have all aspects of operations completely buttoned\\ndown, HR policies in place, great sales model, thoroughly\\nthought-through marketing plan, great interview processes,\\noutstanding catered food, 30″ monitors for all the programmers, top tier VCs on the board — heading straight oG a cliG\\ndue to not ever Hnding product/market Ht.\\nPart 4: The only thing that matters 31\\nIronically, once a startup is successful, and you ask the founders\\nwhat made it success',\n",
              " 'rd — heading straight oG a cliG\\ndue to not ever Hnding product/market Ht.\\nPart 4: The only thing that matters 31\\nIronically, once a startup is successful, and you ask the founders\\nwhat made it successful, they will usually cite all kinds of things\\nthat had nothing to do with it. People are terrible at understanding causation. But in almost every case, the cause was actually\\nproduct/market Xt.\\nBecause, really, what else could it possibly be?\\n[Editorial note: this post obviously raises way more questions than it\\nanswers. How exactly do you go about getting to product/market Ft if\\nyou don’t hit it right out of the gate? How do you evaluate markets for\\nsize and quality, especially before they’re fully formed? What actually\\nmakes a product “Ft” a market? What role does timing play? How do\\nyou know when to change strategy and go aMer a diEerent market or\\nbuild a diEerent product? When do you need to change out some or all\\nof your team? And why can’t you count on on a great team to build the\\n',\n",
              " 'now when to change strategy and go aMer a diEerent market or\\nbuild a diEerent product? When do you need to change out some or all\\nof your team? And why can’t you count on on a great team to build the\\nright product and Fnd the right market? All these topics will be discussed in future posts in this series.]\\n32 The Pmarca Blog Archives\\nPart 5: The Moby Dick theory of big\\ncompanies\\n“There she blows,” was sung out from the mast-head.\\n“Where away?” demanded the captain.\\n“Three points oE the lee bow, sir.”\\n“Raise up your wheel. Steady!” “Steady, sir.”\\n“Mast-head ahoy! Do you see that whale now?”\\n“Ay ay, sir! A shoal of Sperm Whales! There she blows! There she breaches!”\\n“Sing out! sing out every time!”\\n“Ay Ay, sir! There she blows! there — there — THAR she blows — bowes\\n— bo-o-os!”\\n“How far oE?”\\n“Two miles and a half.”\\n“Thunder and lightning! so near! Call all hands.”\\n– J. Ross Browne’s Etchings of a Whaling Cruize, 1846\\nThere are times in the life of a startup when you have to deal\\nwith big',\n",
              " '\\n“Two miles and a half.”\\n“Thunder and lightning! so near! Call all hands.”\\n– J. Ross Browne’s Etchings of a Whaling Cruize, 1846\\nThere are times in the life of a startup when you have to deal\\nwith big companies.\\nMaybe you’re looking for a partnership or distribution deal.\\nPerhaps you want an investment. Sometimes you want a marketing or sales alliance. From time to time you need a big com-\\npany’s permission to do something. Or maybe a big company\\nhas approached you and says it wants to buy your startup.\\nThe most important thing you need to know going into any discussion or interaction with a big company is that you’re Captain\\nAhab, and the big company is Moby Dick.\\n“Scarcely had we proceeded two days on the sea, when about sunrise a great many Whales and other monsters of the sea, appeared.\\nAmong the former, one was of a most monstrous size. … This came\\ntowards us, open-mouthed, raising the waves on all sides, and beating the sea before him into a foam.”\\n— Tooke’s Lucian, “The True His',\n",
              " '.\\nAmong the former, one was of a most monstrous size. … This came\\ntowards us, open-mouthed, raising the waves on all sides, and beating the sea before him into a foam.”\\n— Tooke’s Lucian, “The True History”\\nWhen Captain Ahab went in search of the great white whale\\nMoby Dick, he had absolutely no idea whether he would Xnd\\nMoby Dick, whether Moby Dick would allow himself to be\\nfound, whether Moby Dick would try to immediately capsize\\nthe ship or instead play cat and mouse, or whether Moby Dick\\nwas oW mating with his giant whale girlfriend.\\nWhat happened was entirely up to Moby Dick.\\nAnd Captain Ahab would never be able explain to himself or\\nanyone else why Moby Dick would do whatever it was he’d do.\\nYou’re Captain Ahab, and the big company is Moby Dick.\\n“Clap eye on Captain Ahab, young man, and thou wilt Xnd that he\\nhas only one leg.”\\n“What do you mean, sir? Was the other one lost by a whale?”\\n“Lost by a whale! Young man, come nearer to me: it was devoured,\\nchewed up, crunched by the mons',\n",
              " 'nd thou wilt Xnd that he\\nhas only one leg.”\\n“What do you mean, sir? Was the other one lost by a whale?”\\n“Lost by a whale! Young man, come nearer to me: it was devoured,\\nchewed up, crunched by the monstrousest parmacetty that ever\\nchipped a boat! — ah, ah!”\\n— Moby Dick\\nHere’s why:\\nThe behavior of any big company is largely inexplicable when\\nviewed from the outside.\\n34 The Pmarca Blog Archives\\nI always laugh when someone says, “Microsoa is going to do X”,\\nor “Google is going to do Y”, or “Yahoo is going to do Z”.\\nOdds are, nobody inside Microsoa, Google, or Yahoo knows\\nwhat Microsoa, Google, or Yahoo is going to do in any given circumstance on any given issue.\\nSure, maybe the CEO knows, if the issue is really big, but you’re\\nprobably not dealing at the CEO level, and so that doesn’t matter.\\nThe inside of any big company is a very, very complex system\\nconsisting of many thousands of people, of whom at least hundreds and probably thousands are executives who think they\\nhave some level of d',\n",
              " 'The inside of any big company is a very, very complex system\\nconsisting of many thousands of people, of whom at least hundreds and probably thousands are executives who think they\\nhave some level of decision-making authority.\\nOn any given issue, many people inside the company are going\\nto get some kind of vote on what happens — maybe 8 people,\\nmaybe 10, 15, 20, sometimes many more.\\nWhen I was at IBM in the early 90’s, they had a formal decision\\nmaking process called “concurrence” — on any given issue, a\\nwritten list of the 50 or so executives from all over the company\\nwho would be aWected by the decision in any way, no matter\\nhow minor, would be assembled, and any one of those executives could “nonconcur” and veto the decision. That’s an\\nextreme case, but even a non-extreme version of this process —\\nand all big companies have one; they have to — is mind-bendingly complex to try to understand, even from the inside, let\\nalone the outside.\\n“… and the breath of the whale is frequently atte',\n",
              " ' process —\\nand all big companies have one; they have to — is mind-bendingly complex to try to understand, even from the inside, let\\nalone the outside.\\n“… and the breath of the whale is frequently attended with such an\\ninsupportable smell, as to bring on a disorder of the brain.”\\n— Ulloa’s South America\\nYou can count on there being a whole host of impinging forces\\nthat will aWect the dynamic of decision-making on any issue at\\na big company.\\nThe consensus building process, trade-oWs, quids pro quo, politics, rivalries, arguments, mentorships, revenge for past wrongs,\\nPart 5: The Moby Dick theory of big companies 35\\nturf-building, engineering groups, product managers, product\\nmarketers, sales, corporate marketing, Xnance, HR, legal, channels, business development, the strategy team, the international\\ndivisions, investors, Wall Street analysts, industry analysts, good\\npress, bad press, press articles being written that you don’t know\\nabout, customers, prospects, lost sales, prospects on th',\n",
              " 'national\\ndivisions, investors, Wall Street analysts, industry analysts, good\\npress, bad press, press articles being written that you don’t know\\nabout, customers, prospects, lost sales, prospects on the fence,\\npartners, this quarter’s sales numbers, this quarter’s margins, the\\nbond rating, the planning meeting that happened last week, the\\nplanning meeting that got cancelled this week, bonus programs,\\npeople joining the company, people leaving the company, people getting Xred by the company, people getting promoted, people getting sidelined, people getting demoted, who’s sleeping\\nwith whom, which dinner party the CEO went to last night,\\nthe guy who prepares the Powerpoint presentation for the staW\\nmeeting accidentally putting your startup’s name in too small a\\nfont to be read from the back of the conference room…\\nYou can’t possibly even identify all the factors that will come to\\nbear on a big company’s decision, much less try to understand\\nthem, much less try to inYuence them very much a',\n",
              " 'f the conference room…\\nYou can’t possibly even identify all the factors that will come to\\nbear on a big company’s decision, much less try to understand\\nthem, much less try to inYuence them very much at all.\\n“The larger whales, whalers seldom venture to attack. They stand in\\nso great dread of some of them, that when out at sea they are afraid\\nto mention even their names, and carry dung, lime-stone, juniperwood, and some other articles of the same nature in their boats, in\\norder to terrify and prevent their too near approach.”\\n— Uno Von Troil’s Letters on Banks’s and Solander’s Voyage to Iceland In 1772\\nBack to Moby Dick.\\nMoby Dick might stalk you for three months, then jump out of\\nthe water and raise a huge ruckus, then vanish for six months,\\nthen come back and beach your whole boat, or alternately give\\nyou the clear shot you need to harpoon his giant butt.\\nAnd you’re never going to know why.\\nA big company might study you for three months, then\\napproach you and tell you they want to inv',\n",
              " 'ernately give\\nyou the clear shot you need to harpoon his giant butt.\\nAnd you’re never going to know why.\\nA big company might study you for three months, then\\napproach you and tell you they want to invest in you or partner\\nwith you or buy you, then vanish for six months, then come out\\n36 The Pmarca Blog Archives\\nwith a directly competitive product that kills you, or alternately\\nacquire you and make you and your whole team rich.\\nAnd you’re never going to know why.\\nThe upside of dealing with a big company is that there’s potentially a ton of whale meat in it for you.\\nSorry, mixing my metaphors. The right deal with the right big\\ncompany can have a huge impact on a startup’s success.\\n“And what thing soever besides cometh within the chaos of this\\nmonster’s mouth, be it beast, boat, or stone, down it goes all incontinently that foul great swallow of his, and perisheth in the bottomless gulf of his paunch.”\\n— Holland’s Plutarch’s Morals\\nThe downside of dealing with a big company is that he can',\n",
              " \"n it goes all incontinently that foul great swallow of his, and perisheth in the bottomless gulf of his paunch.”\\n— Holland’s Plutarch’s Morals\\nThe downside of dealing with a big company is that he can capsize you — maybe by stepping on you in one way or another\\nand killing you, but more likely by wrapping you up in a bad\\npartnership that ends up holding you back, or just making you\\nwaste a huge amount of time in meetings and get distracted\\nfrom your core mission.\\nSo what to do?\\nFirst, don’t do startups that require deals with big companies to\\nmake them successful.\\nThe risk of never getting those deals is way too high, no matter\\nhow hard you are willing to work at it.\\nAnd even if you get the deals, they probably won’t work out the\\nway you hoped.\\n“‘Stern all!’ exclaimed the mate, as upon turning his head, he saw\\nthe distended jaws of a large Sperm Whale close to the head of the\\nboat, threatening it with instant destruction; — ‘Stern all, for your\\nlives!'”\\n— Wharton the Whale Killer\\nSecon\",\n",
              " \"ning his head, he saw\\nthe distended jaws of a large Sperm Whale close to the head of the\\nboat, threatening it with instant destruction; — ‘Stern all, for your\\nlives!'”\\n— Wharton the Whale Killer\\nSecond, never assume that a deal with a big company is closed\\nPart 5: The Moby Dick theory of big companies 37\\nuntil the ink hits the paper and/or the cash hits the company\\nbank account.\\nThere is always something that can cause a deal that looks like\\nit’s closed, to suddenly get blown to smithereens — or vanish\\nwithout a trace.\\nAt day-break, the three mast-heads were punctually manned\\nafresh.\\n“D’ye see him?” cried Ahab aaer allowing a little space for the light\\nto spread.\\n“See nothing, sir.”\\n— Moby Dick\\nThird, be extremely patient.\\nBig companies play “hurry up and wait” all the time. In the last\\nfew years I’ve dealt with one big East Coast technology company in particular that has played “hurry up and wait” with me\\nat least four separate times — including a mandatory immediate cross-country Yig\",\n",
              " 'w years I’ve dealt with one big East Coast technology company in particular that has played “hurry up and wait” with me\\nat least four separate times — including a mandatory immediate cross-country Yight just to have dinner with the #2 executive\\n— and has never followed through on anything.\\nIf you want a deal with a big company, it is probably going to\\ntake a lot longer to put together than you think.\\n“My God! Mr. Chace, what is the matter?” I answered, “we have\\nbeen stove by a whale.”\\n— “Narrative of the Shipwreck of the Whale Ship Essex of Nantucket, Which Was Attacked and Finally Destroyed by a Large\\nSperm Whale in the PaciXc Ocean” by Owen Chace of Nantucket,\\nFirst Mate of Said Vessel, New York, 1821\\nFourth, beware bad deals.\\nI am thinking of one startup right now that is extremely promising, has great technology and a unique oWering, that did two\\nbig deals early with high-proXle big company partners, and has\\nbecome completely hamstrung in its ability to execute on its\\ncore business',\n",
              " 'ising, has great technology and a unique oWering, that did two\\nbig deals early with high-proXle big company partners, and has\\nbecome completely hamstrung in its ability to execute on its\\ncore business as a result.\\n38 The Pmarca Blog Archives\\nFiLh, never, ever assume a big company will do the obvious\\nthing.\\nWhat is obvious to you — or any outsider — is probably not\\nobvious on the inside, once all the other factors that are\\ninvolved are taken into account.\\nSixth, be aware that big companies care a lot more about what\\nother big companies are doing than what any startup is doing.\\nHell, big companies oaen care a lot more about what other big\\ncompanies are doing than they care about what their customers\\nare doing.\\nMoby Dick cared a lot more about what the other giant white\\nwhales were doing than those annoying little people in that\\nYimsy boat.\\n“The Whale is harpooned to be sure; but bethink you, how you\\nwould manage a powerful unbroken colt, with the mere appliance\\nof a rope tied to the root',\n",
              " ' those annoying little people in that\\nYimsy boat.\\n“The Whale is harpooned to be sure; but bethink you, how you\\nwould manage a powerful unbroken colt, with the mere appliance\\nof a rope tied to the root of his tail.”\\n— A Chapter on Whaling in Ribs and Trucks\\nSeventh, if doing deals with big companies is going to be a key\\npart of your strategy, be sure to hire a real pro who has done it\\nbefore.\\nOnly the best and most experienced whalers had a chance at\\ntaking down Moby Dick.\\nThis is why senior sales and business development people get\\npaid a lot of money. They’re worth it.\\n“Oh! Ahab,” cried Starbuck, “not too late is it, even now, the third\\nday, to desist. See! Moby Dick seeks thee not. It is thou, thou, that\\nmadly seekest him!”\\n— Moby Dick\\nEighth, don’t get obsessed.\\nDon’t turn into Captain Ahab.\\nBy all means, talk to big companies about all kinds of things, but\\nPart 5: The Moby Dick theory of big companies 39\\nalways be ready to have the conversation just drop and to return\\nto your core ',\n",
              " 'Ahab.\\nBy all means, talk to big companies about all kinds of things, but\\nPart 5: The Moby Dick theory of big companies 39\\nalways be ready to have the conversation just drop and to return\\nto your core business.\\nRare is the startup where a deal with a big company leads to success, or lack thereof leads to huge failure.\\n(However, see also Microsoa and Digital Research circa 1981.\\nTalk about a huge whale.)\\nClosing thought:\\nDiving beneath the settling ship, the whale ran quivering along\\nits keel; but turning under water, swialy shot to the surface\\nagain, far oW the other bow, but within a few yards of Ahab’s\\nboat, where, for a time, the whale lay quiescent.\\n“…Towards thee I roll, thou all-destroying but unconquering whale;\\nto the last I grapple with thee; from hell’s heart I stab at thee; for\\nhate’s sake I spit my last breath at thee. Sink all coZns and all\\nhearses to one common pool! and since neither can be mine, let\\nme then tow to pieces, while still chasing thee, though tied to thee,\\nth',\n",
              " 'ate’s sake I spit my last breath at thee. Sink all coZns and all\\nhearses to one common pool! and since neither can be mine, let\\nme then tow to pieces, while still chasing thee, though tied to thee,\\nthou damned whale! THUS, I give up the spear!”\\nThe harpoon was darted; the stricken whale Yew forward; with\\nigniting velocity the line ran through the grooves; — ran foul. Ahab\\nstooped to clear it; he did clear it; but the Yying turn caught him\\nround the neck, and voicelessly as Turkish mutes bowstring their\\nvictim, he was shot out of the boat, ere the crew knew he was gone.\\n–Moby Dick\\n40 The Pmarca Blog Archives\\nPart 6: How much funding is too\\nlittle? Too much?\\nIn this post, I answer these questions:\\nHow much funding for a startup is too little?\\nHow much funding for a startup is too much?\\nAnd how can you know, and what can you do about it?\\nThe Xrst question to ask is, what is the correct, or appropriate,\\namount of funding for a startup?\\nThe answer to that question, in my view, is based my t',\n",
              " 'ow can you know, and what can you do about it?\\nThe Xrst question to ask is, what is the correct, or appropriate,\\namount of funding for a startup?\\nThe answer to that question, in my view, is based my theory that\\na startup’s life can be divided into two parts — Before Product/\\nMarket Fit, and AMer Product/Market Fit.\\nBefore Product/Market Fit, a startup should ideally raise at\\nleast enough money to get to Product/Market Fit.\\nALer Product/Market Fit, a startup should ideally raise at least\\nenough money to fully exploit the opportunity in front of it,\\nand then to get to proXtability while still fully exploiting that\\nopportunity.\\nI will further argue that the deXnition of “at least enough\\nmoney” in each case should include a substantial amount of\\nextra money beyond your default plan, so that you can withstand bad surprises. In other words, insurance. This is partic-\\nularly true for startups that have not yet achieved Product/\\nMarket Fit, since you have no real idea how long that will take.\\n',\n",
              " 'u can withstand bad surprises. In other words, insurance. This is partic-\\nularly true for startups that have not yet achieved Product/\\nMarket Fit, since you have no real idea how long that will take.\\nThese answers all sound obvious, but in my experience, a surprising number of startups go out to raise funding and do not\\nhave an underlying theory of how much money they are raising\\nand for precisely what purpose they are raising it.\\nWhat if you can’t raise that much money at\\nonce?\\nObviously, many startups Xnd that they cannot raise enough\\nmoney at one time to accomplish these objectives — but I\\nbelieve this is still the correct underlying theory for how much\\nmoney a startup should raise and around which you should orient your thinking.\\nIf you are Before Product/Market Fit and you can’t raise\\nenough money in one shot to get to Product/Market Fit, then\\nyou will need get as far as you can on each round and demonstrate progress towards Product/Market Fit when you raise each\\nnew round.\\nIf you',\n",
              " '\\nenough money in one shot to get to Product/Market Fit, then\\nyou will need get as far as you can on each round and demonstrate progress towards Product/Market Fit when you raise each\\nnew round.\\nIf you are ALer Product/Market Fit and you can’t raise enough\\nmoney in one shot to fully exploit your opportunity, you have\\na high-class problem and will probably — but not deXnitely —\\nXnd that it gets continually easier to raise new money as you\\nneed it.\\nWhat if you don’t want to raise that much\\nmoney at once?\\nYou can argue you should raise a smaller amount of money at\\na time, because if you are making progress — either BPMF or\\nAPMF — you can raise the rest of the money you need later, at\\na higher valuation, and give away less of the company.\\nThis is the reason some entrepreneurs who can raise a lot of\\nmoney choose to hold back.\\n42 The Pmarca Blog Archives\\nHere’s why you shouldn’t do that:\\nWhat are the consequences of not raising enough money?\\nNot raising enough money risks the survival of your',\n",
              " 't of\\nmoney choose to hold back.\\n42 The Pmarca Blog Archives\\nHere’s why you shouldn’t do that:\\nWhat are the consequences of not raising enough money?\\nNot raising enough money risks the survival of your company,\\nfor the following reasons:\\nFirst, you may have — and probably will have — unanticipated\\nsetbacks within your business.\\nMaybe a new product release slips, or you have unexpected\\nquality issues, or one of your major customers goes bankrupt, or\\na challenging new competitor emerges, or you get sued by a big\\ncompany for patent infringement, or you lose a key engineer.\\nSecond, the funding window may not be open when you need\\nmore money.\\nSometimes investors are highly enthusiastic about funding new\\nbusinesses, and sometimes they’re just not.\\nWhen they’re not — when the “window is shut”, as the saying\\ngoes — it is very hard to convince them otherwise, even though\\nthose are many of the best times to invest in startups because\\nof the prevailing atmosphere of fear and dread that is holding\\n',\n",
              " 'the saying\\ngoes — it is very hard to convince them otherwise, even though\\nthose are many of the best times to invest in startups because\\nof the prevailing atmosphere of fear and dread that is holding\\neveryone else back.\\nThose of us who were in startups that lived through 2001-2003\\nknow exactly what this can be like.\\nThird, something completely unanticipated, and bad, might\\nhappen.\\nAnother major terrorist attack is the one that I frankly worry\\nabout the most. A superbug. All-out war in the Middle East.\\nNorth Korea demonstrating the ability to launch a true nucleartipped ICBM. Giant Yaming meteorites. Such worst-case scenarios will not only close the funding window, they might keep\\nit closed for a long time.\\nFunny story: it turns out that a lot of Internet business models\\nfrom the late 90’s that looked silly at the time actually work\\nPart 6: How much funding is too little? Too much? 43\\nreally well — either in their original form or with some tweaking.\\nAnd there are quite a few startups f',\n",
              " 'that looked silly at the time actually work\\nPart 6: How much funding is too little? Too much? 43\\nreally well — either in their original form or with some tweaking.\\nAnd there are quite a few startups from the late 90’s that are\\ndoing just great today — examples being OpenTable (which is\\nabout to go public) and TellMe (which recently sold itself to\\nMicrosoa for $800 million), and my own company Opsware\\n— which would be bankrupt today if we hadn’t raised a ton of\\nmoney when we could, and instead just did its Xrst $100 million\\nrevenue year and has a roughly $1 billion public market value.\\nI’ll go so far as to say that the big diWerence between the startups\\nfrom that era that are doing well today versus the ones that no\\nlonger exist, is that the former group raised a ton of money\\nwhen they could, and the latter did not.\\nSo how much money should I raise?\\nIn general, as much as you can. Without giving away control of\\nyour company, and without being insane.\\nEntrepreneurs who try to play it too']"
            ]
          },
          "execution_count": 20,
          "metadata": {},
          "output_type": "execute_result"
        }
      ],
      "source": [
        "split_documents[0:100]"
      ]
    },
    {
      "cell_type": "markdown",
      "metadata": {
        "id": "HOU-RFP_R6yv"
      },
      "source": [
        "## Task 3: Embeddings and Vectors\n",
        "\n",
        "Next, we have to convert our corpus into a \"machine readable\" format as we explored in the Embedding Primer notebook.\n",
        "\n",
        "Today, we're going to talk about the actual process of creating, and then storing, these embeddings, and how we can leverage that to intelligently add context to our queries."
      ]
    },
    {
      "cell_type": "markdown",
      "metadata": {},
      "source": [
        "### OpenAI API Key\n",
        "\n",
        "In order to access OpenAI's APIs, we'll need to provide our OpenAI API Key!\n",
        "\n",
        "You can work through the folder \"OpenAI API Key Setup\" for more information on this process if you don't already have an API Key!"
      ]
    },
    {
      "cell_type": "code",
      "execution_count": 7,
      "metadata": {},
      "outputs": [],
      "source": [
        "import os\n",
        "import openai\n",
        "from getpass import getpass\n",
        "\n",
        "openai.api_key = getpass(\"OpenAI API Key: \")\n",
        "os.environ[\"OPENAI_API_KEY\"] = openai.api_key"
      ]
    },
    {
      "cell_type": "markdown",
      "metadata": {},
      "source": [
        "### Vector Database\n",
        "\n",
        "Let's set up our vector database to hold all our documents and their embeddings!"
      ]
    },
    {
      "cell_type": "markdown",
      "metadata": {
        "id": "kDQrfAR1R6yv"
      },
      "source": [
        "While this is all baked into 1 call - we can look at some of the code that powers this process to get a better understanding:\n",
        "\n",
        "Let's look at our `VectorDatabase().__init__()`:\n",
        "\n",
        "```python\n",
        "def __init__(self, embedding_model: EmbeddingModel = None):\n",
        "        self.vectors = defaultdict(np.array)\n",
        "        self.embedding_model = embedding_model or EmbeddingModel()\n",
        "```\n",
        "\n",
        "As you can see - our vectors are merely stored as a dictionary of `np.array` objects.\n",
        "\n",
        "Secondly, our `VectorDatabase()` has a default `EmbeddingModel()` which is a wrapper for OpenAI's `text-embedding-3-small` model.\n",
        "\n",
        "> **Quick Info About `text-embedding-3-small`**:\n",
        "> - It has a context window of **8191** tokens\n",
        "> - It returns vectors with dimension **1536**"
      ]
    },
    {
      "cell_type": "markdown",
      "metadata": {
        "id": "L273pRdeR6yv"
      },
      "source": [
        "#### ❓Question #1:\n",
        "\n",
        "The default embedding dimension of `text-embedding-3-small` is 1536, as noted above. \n",
        "\n",
        "1. Is there any way to modify this dimension?\n",
        "2. What technique does OpenAI use to achieve this?\n",
        "\n",
        "> NOTE: Check out this [API documentation](https://platform.openai.com/docs/api-reference/embeddings/create) for the answer to question #1, and [this documentation](https://platform.openai.com/docs/guides/embeddings/use-cases) for an answer to question #2!"
      ]
    },
    {
      "cell_type": "markdown",
      "metadata": {
        "id": "w5FZY7K3R6yv"
      },
      "source": [
        "We can call the `async_get_embeddings` method of our `EmbeddingModel()` on a list of `str` and receive a list of `float` back!\n",
        "\n",
        "```python\n",
        "async def async_get_embeddings(self, list_of_text: List[str]) -> List[List[float]]:\n",
        "        return await aget_embeddings(\n",
        "            list_of_text=list_of_text, engine=self.embeddings_model_name\n",
        "        )\n",
        "```"
      ]
    },
    {
      "cell_type": "markdown",
      "metadata": {
        "id": "cSct6X0aR6yv"
      },
      "source": [
        "We cast those to `np.array` when we build our `VectorDatabase()`:\n",
        "\n",
        "```python\n",
        "async def abuild_from_list(self, list_of_text: List[str]) -> \"VectorDatabase\":\n",
        "        embeddings = await self.embedding_model.async_get_embeddings(list_of_text)\n",
        "        for text, embedding in zip(list_of_text, embeddings):\n",
        "            self.insert(text, np.array(embedding))\n",
        "        return self\n",
        "```\n",
        "\n",
        "And that's all we need to do!"
      ]
    },
    {
      "cell_type": "code",
      "execution_count": 8,
      "metadata": {
        "id": "O4KoLbVDR6yv"
      },
      "outputs": [],
      "source": [
        "vector_db = VectorDatabase()\n",
        "vector_db = asyncio.run(vector_db.abuild_from_list(split_documents))"
      ]
    },
    {
      "cell_type": "markdown",
      "metadata": {
        "id": "SSZwaGvpR6yv"
      },
      "source": [
        "#### ❓Question #2:\n",
        "\n",
        "What are the benefits of using an `async` approach to collecting our embeddings?\n",
        "\n",
        "> NOTE: Determining the core difference between `async` and `sync` will be useful! If you get stuck - ask ChatGPT!"
      ]
    },
    {
      "cell_type": "markdown",
      "metadata": {
        "id": "nRBdIt-xR6yw"
      },
      "source": [
        "So, to review what we've done so far in natural language:\n",
        "\n",
        "1. We load source documents\n",
        "2. We split those source documents into smaller chunks (documents)\n",
        "3. We send each of those documents to the `text-embedding-3-small` OpenAI API endpoint\n",
        "4. We store each of the text representations with the vector representations as keys/values in a dictionary"
      ]
    },
    {
      "cell_type": "markdown",
      "metadata": {
        "id": "4-vWANZyR6yw"
      },
      "source": [
        "### Semantic Similarity\n",
        "\n",
        "The next step is to be able to query our `VectorDatabase()` with a `str` and have it return to us vectors and text that is most relevant from our corpus.\n",
        "\n",
        "We're going to use the following process to achieve this in our toy example:\n",
        "\n",
        "1. We need to embed our query with the same `EmbeddingModel()` as we used to construct our `VectorDatabase()`\n",
        "2. We loop through every vector in our `VectorDatabase()` and use a distance measure to compare how related they are\n",
        "3. We return a list of the top `k` closest vectors, with their text representations\n",
        "\n",
        "There's some very heavy optimization that can be done at each of these steps - but let's just focus on the basic pattern in this notebook.\n",
        "\n",
        "> We are using [cosine similarity](https://www.engati.com/glossary/cosine-similarity) as a distance metric in this example - but there are many many distance metrics you could use - like [these](https://flavien-vidal.medium.com/similarity-distances-for-natural-language-processing-16f63cd5ba55)\n",
        "\n",
        "> We are using a rather inefficient way of calculating relative distance between the query vector and all other vectors - there are more advanced approaches that are much more efficient, like [ANN](https://towardsdatascience.com/comprehensive-guide-to-approximate-nearest-neighbors-algorithms-8b94f057d6b6)"
      ]
    },
    {
      "cell_type": "code",
      "execution_count": 9,
      "metadata": {
        "colab": {
          "base_uri": "https://localhost:8080/"
        },
        "id": "76d96uavR6yw",
        "outputId": "bbfccc31-20a2-41c7-c14d-46554a43ed2d"
      },
      "outputs": [
        {
          "data": {
            "text/plain": [
              "[('dical condition needs an \\nextended leave beyond nine days, the employee can request for the same to the immediate \\nmanager / functional head. The functional head in consultation with the Head HRBP will evaluate \\nthe request and may either approve or disapprove it. In case of sick leave for more than 3 days, \\nemployees have to submit a medical certificate from a certified medical practitioner. However, \\nyour line manager or HR business partner can ask for a leave certificate from the employee in cases \\nwith less than 3 days of sick leave as well. When an employee takes leave on medical grounds, \\nhe/she must inform the line manager, on the first day of his / her absence, either by email or phone \\nmessage, telegram or other appropriate means of inability to attend work. In such cases the   \\n \\nemployee must apply the sick leave in the prescribed online platform immediately on return to \\nwork. \\n \\nAny misuse of the sick leave provision will attract disciplinary action and may lead to termina',\n",
              "  0.5785118133531374),\n",
              " (' PL or leave \\nwithout pay, as the case may be.  \\n \\nApplication for casual leave should be made at least 24 hours in advance. In cases of emergency \\nwhere an employee is not aware in advance of his/her casual leave requirement, he/she must \\ninform the line manager, on the first day of his absence, either by email or phone message, \\ntelegram or other appropriate means of his inability to attend work. In such cases the employee \\nmust apply the casual leave in the prescribed online platform immediately on return to work.  \\n \\n4.4 Sick Leave: \\n \\nQuantum:   9 days per annum \\nAccumulation:  Effective 1st Jan 2021 sick leave will not be accumulated, and neither  \\n    be encashed for all existing and new employees.    \\n    \\nGuidelines: \\n \\n Nine days of sick leave is available to employees. If the medical condition needs an \\nextended leave beyond nine days, the employee can request for the same to the immediate \\nmanager / functional head. The functional head in consultation with the Head HRBP wil',\n",
              "  0.5504716314280939),\n",
              " ('Types of Holidays & Leaves: \\n \\n1. National & Festival Holidays  \\n2. Privilege Leave  \\n3. Casual Leave  \\n4. Sick Leave \\n5. Maternity Leave \\n6. Paternity Leave \\n4.1 National and Festival Holidays: \\n \\n\\uf0b7 All offices / plants / labs / field stations etc., will observe 3 national holidays viz:  \\n26th January, 15th August & 2nd October.  \\n \\n\\uf0b7 UPL will follow the statutory holidays including the above three national holidays per \\ncalendar year. The list of festival holidays will be in line with the local festivals of the \\nrespective state / location and may vary from state to state depending on the culture and \\nother social sentiments.  \\n \\n\\uf0b7 The actual holiday list for the following year will be published annually by December 15th \\nof the previous calendar year.  \\n \\n   \\n \\n4.2 Privilege Leave: \\n \\nEligibility:   21 working days in a year.  \\nAccumulation:  Maximum 60 days for new hires joining on or after 1st Oct 2020. \\n \\nEmployees who have joined on or before 30th September 2020, can \\naccumulate',\n",
              "  0.4878358656336059)]"
            ]
          },
          "execution_count": 9,
          "metadata": {},
          "output_type": "execute_result"
        }
      ],
      "source": [
        "vector_db.search_by_text(\"What is the Michael Eisner Memorial Weak Executive Problem?\", k=3)\n",
        "vector_db.search_by_text(\"What is the policy for sick leaves?\", k=3)"
      ]
    },
    {
      "cell_type": "markdown",
      "metadata": {
        "id": "TehsfIiKR6yw"
      },
      "source": [
        "## Task 4: Prompts\n",
        "\n",
        "In the following section, we'll be looking at the role of prompts - and how they help us to guide our application in the right direction.\n",
        "\n",
        "In this notebook, we're going to rely on the idea of \"zero-shot in-context learning\".\n",
        "\n",
        "This is a lot of words to say: \"We will ask it to perform our desired task in the prompt, and provide no examples.\""
      ]
    },
    {
      "cell_type": "markdown",
      "metadata": {
        "id": "yXpA0UveR6yw"
      },
      "source": [
        "### XYZRolePrompt\n",
        "\n",
        "Before we do that, let's stop and think a bit about how OpenAI's chat models work.\n",
        "\n",
        "We know they have roles - as is indicated in the following API [documentation](https://platform.openai.com/docs/api-reference/chat/create#chat/create-messages)\n",
        "\n",
        "There are three roles, and they function as follows (taken directly from [OpenAI](https://platform.openai.com/docs/guides/gpt/chat-completions-api)):\n",
        "\n",
        "- `{\"role\" : \"system\"}` : The system message helps set the behavior of the assistant. For example, you can modify the personality of the assistant or provide specific instructions about how it should behave throughout the conversation. However note that the system message is optional and the model’s behavior without a system message is likely to be similar to using a generic message such as \"You are a helpful assistant.\"\n",
        "- `{\"role\" : \"user\"}` : The user messages provide requests or comments for the assistant to respond to.\n",
        "- `{\"role\" : \"assistant\"}` : Assistant messages store previous assistant responses, but can also be written by you to give examples of desired behavior.\n",
        "\n",
        "The main idea is this:\n",
        "\n",
        "1. You start with a system message that outlines how the LLM should respond, what kind of behaviours you can expect from it, and more\n",
        "2. Then, you can provide a few examples in the form of \"assistant\"/\"user\" pairs\n",
        "3. Then, you prompt the model with the true \"user\" message.\n",
        "\n",
        "In this example, we'll be forgoing the 2nd step for simplicities sake."
      ]
    },
    {
      "cell_type": "markdown",
      "metadata": {
        "id": "gdZ2KWKSR6yw"
      },
      "source": [
        "#### Utility Functions\n",
        "\n",
        "You'll notice that we're using some utility functions from the `aimakerspace` module - let's take a peek at these and see what they're doing!"
      ]
    },
    {
      "cell_type": "markdown",
      "metadata": {
        "id": "GFbeJDDsR6yw"
      },
      "source": [
        "##### XYZRolePrompt"
      ]
    },
    {
      "cell_type": "markdown",
      "metadata": {
        "id": "5mojJSE3R6yw"
      },
      "source": [
        "Here we have our `system`, `user`, and `assistant` role prompts.\n",
        "\n",
        "Let's take a peek at what they look like:\n",
        "\n",
        "```python\n",
        "class BasePrompt:\n",
        "    def __init__(self, prompt):\n",
        "        \"\"\"\n",
        "        Initializes the BasePrompt object with a prompt template.\n",
        "\n",
        "        :param prompt: A string that can contain placeholders within curly braces\n",
        "        \"\"\"\n",
        "        self.prompt = prompt\n",
        "        self._pattern = re.compile(r\"\\{([^}]+)\\}\")\n",
        "\n",
        "    def format_prompt(self, **kwargs):\n",
        "        \"\"\"\n",
        "        Formats the prompt string using the keyword arguments provided.\n",
        "\n",
        "        :param kwargs: The values to substitute into the prompt string\n",
        "        :return: The formatted prompt string\n",
        "        \"\"\"\n",
        "        matches = self._pattern.findall(self.prompt)\n",
        "        return self.prompt.format(**{match: kwargs.get(match, \"\") for match in matches})\n",
        "\n",
        "    def get_input_variables(self):\n",
        "        \"\"\"\n",
        "        Gets the list of input variable names from the prompt string.\n",
        "\n",
        "        :return: List of input variable names\n",
        "        \"\"\"\n",
        "        return self._pattern.findall(self.prompt)\n",
        "```\n",
        "\n",
        "Then we have our `RolePrompt` which laser focuses us on the role pattern found in most API endpoints for LLMs.\n",
        "\n",
        "```python\n",
        "class RolePrompt(BasePrompt):\n",
        "    def __init__(self, prompt, role: str):\n",
        "        \"\"\"\n",
        "        Initializes the RolePrompt object with a prompt template and a role.\n",
        "\n",
        "        :param prompt: A string that can contain placeholders within curly braces\n",
        "        :param role: The role for the message ('system', 'user', or 'assistant')\n",
        "        \"\"\"\n",
        "        super().__init__(prompt)\n",
        "        self.role = role\n",
        "\n",
        "    def create_message(self, **kwargs):\n",
        "        \"\"\"\n",
        "        Creates a message dictionary with a role and a formatted message.\n",
        "\n",
        "        :param kwargs: The values to substitute into the prompt string\n",
        "        :return: Dictionary containing the role and the formatted message\n",
        "        \"\"\"\n",
        "        return {\"role\": self.role, \"content\": self.format_prompt(**kwargs)}\n",
        "```\n",
        "\n",
        "We'll look at how the `SystemRolePrompt` is constructed to get a better idea of how that extension works:\n",
        "\n",
        "```python\n",
        "class SystemRolePrompt(RolePrompt):\n",
        "    def __init__(self, prompt: str):\n",
        "        super().__init__(prompt, \"system\")\n",
        "```\n",
        "\n",
        "That pattern is repeated for our `UserRolePrompt` and our `AssistantRolePrompt` as well."
      ]
    },
    {
      "cell_type": "markdown",
      "metadata": {
        "id": "D361R6sMR6yw"
      },
      "source": [
        "##### ChatOpenAI"
      ]
    },
    {
      "cell_type": "markdown",
      "metadata": {
        "id": "HJVQ2Pm8R6yw"
      },
      "source": [
        "Next we have our model, which is converted to a format analagous to libraries like LangChain and LlamaIndex.\n",
        "\n",
        "Let's take a peek at how that is constructed:\n",
        "\n",
        "```python\n",
        "class ChatOpenAI:\n",
        "    def __init__(self, model_name: str = \"gpt-4o-mini\"):\n",
        "        self.model_name = model_name\n",
        "        self.openai_api_key = os.getenv(\"OPENAI_API_KEY\")\n",
        "        if self.openai_api_key is None:\n",
        "            raise ValueError(\"OPENAI_API_KEY is not set\")\n",
        "\n",
        "    def run(self, messages, text_only: bool = True):\n",
        "        if not isinstance(messages, list):\n",
        "            raise ValueError(\"messages must be a list\")\n",
        "\n",
        "        openai.api_key = self.openai_api_key\n",
        "        response = openai.ChatCompletion.create(\n",
        "            model=self.model_name, messages=messages\n",
        "        )\n",
        "\n",
        "        if text_only:\n",
        "            return response.choices[0].message.content\n",
        "\n",
        "        return response\n",
        "```"
      ]
    },
    {
      "cell_type": "markdown",
      "metadata": {
        "id": "qCU7FfhIR6yw"
      },
      "source": [
        "#### ❓ Question #3:\n",
        "\n",
        "When calling the OpenAI API - are there any ways we can achieve more reproducible outputs?\n",
        "\n",
        "> NOTE: Check out [this section](https://platform.openai.com/docs/guides/text-generation/) of the OpenAI documentation for the answer!"
      ]
    },
    {
      "cell_type": "markdown",
      "metadata": {
        "id": "c5wcjMLCR6yw"
      },
      "source": [
        "### Creating and Prompting OpenAI's `gpt-4o-mini`!\n",
        "\n",
        "Let's tie all these together and use it to prompt `gpt-4o-mini`!"
      ]
    },
    {
      "cell_type": "code",
      "execution_count": 13,
      "metadata": {
        "id": "WIfpIot7R6yw"
      },
      "outputs": [],
      "source": [
        "from aimakerspace.openai_utils.prompts import (\n",
        "    UserRolePrompt,\n",
        "    SystemRolePrompt,\n",
        "    AssistantRolePrompt,\n",
        ")\n",
        "\n",
        "from aimakerspace.openai_utils.chatmodel import ChatOpenAI\n",
        "\n",
        "chat_openai = ChatOpenAI()\n",
        "user_prompt_template = \"{content}\"\n",
        "user_role_prompt = UserRolePrompt(user_prompt_template)\n",
        "system_prompt_template = (\n",
        "    \"You are an expert in {expertise}, you always answer in a kind way.\"\n",
        ")\n",
        "system_role_prompt = SystemRolePrompt(system_prompt_template)\n",
        "\n",
        "messages = [\n",
        "    system_role_prompt.create_message(expertise=\"Python\"),\n",
        "    user_role_prompt.create_message(\n",
        "        content=\"What is the best way to write a loop?\"\n",
        "    ),\n",
        "]\n",
        "\n",
        "response = chat_openai.run(messages)"
      ]
    },
    {
      "cell_type": "code",
      "execution_count": null,
      "metadata": {
        "colab": {
          "base_uri": "https://localhost:8080/"
        },
        "id": "dHo7lssNR6yw",
        "outputId": "1d3823fa-bb6b-45f6-ddba-b41686388324"
      },
      "outputs": [],
      "source": [
        "print(response)"
      ]
    },
    {
      "cell_type": "markdown",
      "metadata": {
        "id": "r2nxxhB2R6yy"
      },
      "source": [
        "## Task 5: Retrieval Augmented Generation\n",
        "\n",
        "Now we can create a RAG prompt - which will help our system behave in a way that makes sense!\n",
        "\n",
        "There is much you could do here, many tweaks and improvements to be made!"
      ]
    },
    {
      "cell_type": "code",
      "execution_count": 14,
      "metadata": {
        "id": "D1hamzGaR6yy"
      },
      "outputs": [],
      "source": [
        "RAG_PROMPT_TEMPLATE = \"\"\" \\\n",
        "Use the provided context to answer the user's query.\n",
        "\n",
        "You may not answer the user's query unless there is specific context in the following text.\n",
        "\n",
        "If you do not know the answer, or cannot answer, please respond with \"I don't know\".\n",
        "\"\"\"\n",
        "\n",
        "rag_prompt = SystemRolePrompt(RAG_PROMPT_TEMPLATE)\n",
        "\n",
        "USER_PROMPT_TEMPLATE = \"\"\" \\\n",
        "Context:\n",
        "{context}\n",
        "\n",
        "User Query:\n",
        "{user_query}\n",
        "\"\"\"\n",
        "\n",
        "\n",
        "user_prompt = UserRolePrompt(USER_PROMPT_TEMPLATE)\n",
        "\n",
        "class RetrievalAugmentedQAPipeline:\n",
        "    def __init__(self, llm: ChatOpenAI(), vector_db_retriever: VectorDatabase) -> None:\n",
        "        self.llm = llm\n",
        "        self.vector_db_retriever = vector_db_retriever\n",
        "\n",
        "    def run_pipeline(self, user_query: str) -> str:\n",
        "        context_list = self.vector_db_retriever.search_by_text(user_query, k=4)\n",
        "\n",
        "        context_prompt = \"\"\n",
        "        for context in context_list:\n",
        "            context_prompt += context[0] + \"\\n\"\n",
        "\n",
        "        formatted_system_prompt = rag_prompt.create_message()\n",
        "\n",
        "        formatted_user_prompt = user_prompt.create_message(user_query=user_query, context=context_prompt)\n",
        "\n",
        "        return {\"response\" : self.llm.run([formatted_system_prompt, formatted_user_prompt]), \"context\" : context_list}"
      ]
    },
    {
      "cell_type": "markdown",
      "metadata": {
        "id": "zZIJI19uR6yz"
      },
      "source": [
        "#### ❓ Question #4:\n",
        "\n",
        "What prompting strategies could you use to make the LLM have a more thoughtful, detailed response?\n",
        "\n",
        "What is that strategy called?\n",
        "\n",
        "> NOTE: You can look through the Week 1 Day 1 \"Prompting OpenAI Like A Developer\" material for an answer to this question!"
      ]
    },
    {
      "cell_type": "code",
      "execution_count": 15,
      "metadata": {
        "id": "kqbE9fZ6R6yz"
      },
      "outputs": [],
      "source": [
        "retrieval_augmented_qa_pipeline = RetrievalAugmentedQAPipeline(\n",
        "    vector_db_retriever=vector_db,\n",
        "    llm=chat_openai\n",
        ")"
      ]
    },
    {
      "cell_type": "code",
      "execution_count": null,
      "metadata": {
        "colab": {
          "base_uri": "https://localhost:8080/"
        },
        "id": "jAGhaCGOR6yz",
        "outputId": "e4fb3a1b-d2bc-4e18-ec31-dc0adf767163"
      },
      "outputs": [
        {
          "data": {
            "text/plain": [
              "{'response': 'The policy for sick leaves is as follows:\\n\\n- Employees are entitled to **9 days of sick leave per annum**.\\n- If an employee needs extended leave beyond 9 days, they can request it from their immediate manager or functional head, who will consult with the Head HRBP to evaluate the request.\\n- For sick leave exceeding **3 days**, a medical certificate from a certified medical practitioner must be submitted.\\n- For sick leave of **less than 3 days**, a leave certificate may be requested by the line manager or HR business partner as well.\\n- Employees must inform their line manager on the **first day of absence** through appropriate means (email, phone, etc.) and then apply for sick leave on the prescribed online platform immediately upon their return to work.\\n- Misuse of the sick leave provision could lead to disciplinary action, including termination.\\n- Since **1st January 2021**, sick leave will not be accumulated or encashed.',\n",
              " 'context': [('dical condition needs an \\nextended leave beyond nine days, the employee can request for the same to the immediate \\nmanager / functional head. The functional head in consultation with the Head HRBP will evaluate \\nthe request and may either approve or disapprove it. In case of sick leave for more than 3 days, \\nemployees have to submit a medical certificate from a certified medical practitioner. However, \\nyour line manager or HR business partner can ask for a leave certificate from the employee in cases \\nwith less than 3 days of sick leave as well. When an employee takes leave on medical grounds, \\nhe/she must inform the line manager, on the first day of his / her absence, either by email or phone \\nmessage, telegram or other appropriate means of inability to attend work. In such cases the   \\n \\nemployee must apply the sick leave in the prescribed online platform immediately on return to \\nwork. \\n \\nAny misuse of the sick leave provision will attract disciplinary action and may lead to termina',\n",
              "   0.6621599013262129),\n",
              "  (' PL or leave \\nwithout pay, as the case may be.  \\n \\nApplication for casual leave should be made at least 24 hours in advance. In cases of emergency \\nwhere an employee is not aware in advance of his/her casual leave requirement, he/she must \\ninform the line manager, on the first day of his absence, either by email or phone message, \\ntelegram or other appropriate means of his inability to attend work. In such cases the employee \\nmust apply the casual leave in the prescribed online platform immediately on return to work.  \\n \\n4.4 Sick Leave: \\n \\nQuantum:   9 days per annum \\nAccumulation:  Effective 1st Jan 2021 sick leave will not be accumulated, and neither  \\n    be encashed for all existing and new employees.    \\n    \\nGuidelines: \\n \\n Nine days of sick leave is available to employees. If the medical condition needs an \\nextended leave beyond nine days, the employee can request for the same to the immediate \\nmanager / functional head. The functional head in consultation with the Head HRBP wil',\n",
              "   0.6519379146147093),\n",
              "  ('ees about the leaves and \\nholidays followed in UPL India. Employees need adequate time to celebrate festival \\nholidays, rest and recuperate and spend quality time with family and friends. This policy \\nis effective from 1st October 2020. \\n \\n2. Scope \\nAll permanent employees, trainees, will be covered by this leave policy except the \\nmanufacturing employees in “worker” category with specific employment conditions.  \\nAll new joiners will be covered from the date of joining.  \\n \\n3. Process Description  \\n \\nFor all leave calculations, calendar year will be from 1 January to 31 December.  \\nNew joiners leave eligibilities will be prorated till December 31st, from the date of \\njoining. \\nLeaves will be calculated on working days only and will not include intervening weekly \\noffs and holidays. \\n \\n4. Types of Holidays & Leaves: \\n \\n1. National & Festival Holidays  \\n2. Privilege Leave  \\n3. Casual Leave  \\n4. Sick Leave \\n5. Maternity Leave \\n6. Paternity Leave \\n4.1 National and Festival Holidays: \\n \\n\\uf0b7 ',\n",
              "   0.6050749938586633),\n",
              "  ('\\nemployee must apply the sick leave in the prescribed online platform immediately on return to \\nwork. \\n \\nAny misuse of the sick leave provision will attract disciplinary action and may lead to termination \\nof an employee. \\n \\n4.5 Maternity Leave  \\n \\nEligibility - Total of 26 weeks twice in the service tenure as governed by ‘The Maternity \\nBenefit Act” & Maternity Benefit (amendment) Bill 2017.  \\nApart from the standard Maternity leaves mentioned above, women will be \\nentitled for additional 6 weeks of Maternity leaves. \\nAccumulation -   Not applicable. \\nGuidelines: \\n \\n\\uf0b7 Existing provisions as per Maternity Benefit Act, 1961 & Maternity Benefit (amendment) \\nBill 2017 and ESI Act, 1948 will be continued.  \\n\\uf0b7 All women employees are eligible for a total of 32 weeks of maternity leave for 2 surviving \\nchildren. The woman employee can proceed on maternity leave up to a maximum of 26 \\nweeks but not more than 8 weeks before the expected delivery date. \\n\\uf0b7 Maternity leave of 12 weeks will be ava',\n",
              "   0.5928019788437459)]}"
            ]
          },
          "execution_count": 17,
          "metadata": {},
          "output_type": "execute_result"
        }
      ],
      "source": [
        "retrieval_augmented_qa_pipeline.run_pipeline(\"What is the policy for sick leaves?\")"
      ]
    },
    {
      "cell_type": "code",
      "execution_count": null,
      "metadata": {},
      "outputs": [],
      "source": [
        "retrieval_augmented_qa_pipeline.run_pipeline(\"What is the Michael Eisner Memorial Weak Executive Problem?\")"
      ]
    },
    {
      "cell_type": "markdown",
      "metadata": {},
      "source": [
        "### 🏗️ Activity #1:\n",
        "\n",
        "Enhance your RAG application in some way! \n",
        "\n",
        "Suggestions are: \n",
        "\n",
        "- Allow it to work with PDF files\n",
        "- Implement a new distance metric\n",
        "- Add metadata support to the vector database\n",
        "\n",
        "While these are suggestions, you should feel free to make whatever augmentations you desire! \n",
        "\n",
        "> NOTE: These additions might require you to work within the `aimakerspace` library - that's expected!"
      ]
    },
    {
      "cell_type": "code",
      "execution_count": 53,
      "metadata": {},
      "outputs": [],
      "source": [
        "### YOUR CODE HERE"
      ]
    },
    {
      "cell_type": "markdown",
      "metadata": {},
      "source": []
    }
  ],
  "metadata": {
    "colab": {
      "provenance": []
    },
    "kernelspec": {
      "display_name": "base",
      "language": "python",
      "name": "python3"
    },
    "language_info": {
      "codemirror_mode": {
        "name": "ipython",
        "version": 3
      },
      "file_extension": ".py",
      "mimetype": "text/x-python",
      "name": "python",
      "nbconvert_exporter": "python",
      "pygments_lexer": "ipython3",
      "version": "3.12.8"
    },
    "orig_nbformat": 4,
    "widgets": {
      "application/vnd.jupyter.widget-state+json": {
        "1ce393d9afcf427d9d352259c5d32678": {
          "model_module": "@jupyter-widgets/controls",
          "model_module_version": "1.5.0",
          "model_name": "FloatProgressModel",
          "state": {
            "_dom_classes": [],
            "_model_module": "@jupyter-widgets/controls",
            "_model_module_version": "1.5.0",
            "_model_name": "FloatProgressModel",
            "_view_count": null,
            "_view_module": "@jupyter-widgets/controls",
            "_view_module_version": "1.5.0",
            "_view_name": "ProgressView",
            "bar_style": "",
            "description": "",
            "description_tooltip": null,
            "layout": "IPY_MODEL_4e6efd99f7d346e485b002fb0fa85cc7",
            "max": 1,
            "min": 0,
            "orientation": "horizontal",
            "style": "IPY_MODEL_3dfb67c39958461da6071e4c19c3fa41",
            "value": 1
          }
        },
        "3a4ba348cb004f8ab7b2b1395539c81b": {
          "model_module": "@jupyter-widgets/controls",
          "model_module_version": "1.5.0",
          "model_name": "LabelModel",
          "state": {
            "_dom_classes": [],
            "_model_module": "@jupyter-widgets/controls",
            "_model_module_version": "1.5.0",
            "_model_name": "LabelModel",
            "_view_count": null,
            "_view_module": "@jupyter-widgets/controls",
            "_view_module_version": "1.5.0",
            "_view_name": "LabelView",
            "description": "",
            "description_tooltip": null,
            "layout": "IPY_MODEL_d2ea5009dd16442cb5d8a0ac468e50a8",
            "placeholder": "​",
            "style": "IPY_MODEL_5f00135fe1044051a50ee5e841cbb8e3",
            "value": "0.018 MB of 0.018 MB uploaded\r"
          }
        },
        "3dfb67c39958461da6071e4c19c3fa41": {
          "model_module": "@jupyter-widgets/controls",
          "model_module_version": "1.5.0",
          "model_name": "ProgressStyleModel",
          "state": {
            "_model_module": "@jupyter-widgets/controls",
            "_model_module_version": "1.5.0",
            "_model_name": "ProgressStyleModel",
            "_view_count": null,
            "_view_module": "@jupyter-widgets/base",
            "_view_module_version": "1.2.0",
            "_view_name": "StyleView",
            "bar_color": null,
            "description_width": ""
          }
        },
        "4e6efd99f7d346e485b002fb0fa85cc7": {
          "model_module": "@jupyter-widgets/base",
          "model_module_version": "1.2.0",
          "model_name": "LayoutModel",
          "state": {
            "_model_module": "@jupyter-widgets/base",
            "_model_module_version": "1.2.0",
            "_model_name": "LayoutModel",
            "_view_count": null,
            "_view_module": "@jupyter-widgets/base",
            "_view_module_version": "1.2.0",
            "_view_name": "LayoutView",
            "align_content": null,
            "align_items": null,
            "align_self": null,
            "border": null,
            "bottom": null,
            "display": null,
            "flex": null,
            "flex_flow": null,
            "grid_area": null,
            "grid_auto_columns": null,
            "grid_auto_flow": null,
            "grid_auto_rows": null,
            "grid_column": null,
            "grid_gap": null,
            "grid_row": null,
            "grid_template_areas": null,
            "grid_template_columns": null,
            "grid_template_rows": null,
            "height": null,
            "justify_content": null,
            "justify_items": null,
            "left": null,
            "margin": null,
            "max_height": null,
            "max_width": null,
            "min_height": null,
            "min_width": null,
            "object_fit": null,
            "object_position": null,
            "order": null,
            "overflow": null,
            "overflow_x": null,
            "overflow_y": null,
            "padding": null,
            "right": null,
            "top": null,
            "visibility": null,
            "width": null
          }
        },
        "56a8e24025594e5e9ff3b8581c344691": {
          "model_module": "@jupyter-widgets/base",
          "model_module_version": "1.2.0",
          "model_name": "LayoutModel",
          "state": {
            "_model_module": "@jupyter-widgets/base",
            "_model_module_version": "1.2.0",
            "_model_name": "LayoutModel",
            "_view_count": null,
            "_view_module": "@jupyter-widgets/base",
            "_view_module_version": "1.2.0",
            "_view_name": "LayoutView",
            "align_content": null,
            "align_items": null,
            "align_self": null,
            "border": null,
            "bottom": null,
            "display": null,
            "flex": null,
            "flex_flow": null,
            "grid_area": null,
            "grid_auto_columns": null,
            "grid_auto_flow": null,
            "grid_auto_rows": null,
            "grid_column": null,
            "grid_gap": null,
            "grid_row": null,
            "grid_template_areas": null,
            "grid_template_columns": null,
            "grid_template_rows": null,
            "height": null,
            "justify_content": null,
            "justify_items": null,
            "left": null,
            "margin": null,
            "max_height": null,
            "max_width": null,
            "min_height": null,
            "min_width": null,
            "object_fit": null,
            "object_position": null,
            "order": null,
            "overflow": null,
            "overflow_x": null,
            "overflow_y": null,
            "padding": null,
            "right": null,
            "top": null,
            "visibility": null,
            "width": null
          }
        },
        "5f00135fe1044051a50ee5e841cbb8e3": {
          "model_module": "@jupyter-widgets/controls",
          "model_module_version": "1.5.0",
          "model_name": "DescriptionStyleModel",
          "state": {
            "_model_module": "@jupyter-widgets/controls",
            "_model_module_version": "1.5.0",
            "_model_name": "DescriptionStyleModel",
            "_view_count": null,
            "_view_module": "@jupyter-widgets/base",
            "_view_module_version": "1.2.0",
            "_view_name": "StyleView",
            "description_width": ""
          }
        },
        "bb904e05ece143c79ecc4f20de482f45": {
          "model_module": "@jupyter-widgets/controls",
          "model_module_version": "1.5.0",
          "model_name": "VBoxModel",
          "state": {
            "_dom_classes": [],
            "_model_module": "@jupyter-widgets/controls",
            "_model_module_version": "1.5.0",
            "_model_name": "VBoxModel",
            "_view_count": null,
            "_view_module": "@jupyter-widgets/controls",
            "_view_module_version": "1.5.0",
            "_view_name": "VBoxView",
            "box_style": "",
            "children": [
              "IPY_MODEL_3a4ba348cb004f8ab7b2b1395539c81b",
              "IPY_MODEL_1ce393d9afcf427d9d352259c5d32678"
            ],
            "layout": "IPY_MODEL_56a8e24025594e5e9ff3b8581c344691"
          }
        },
        "d2ea5009dd16442cb5d8a0ac468e50a8": {
          "model_module": "@jupyter-widgets/base",
          "model_module_version": "1.2.0",
          "model_name": "LayoutModel",
          "state": {
            "_model_module": "@jupyter-widgets/base",
            "_model_module_version": "1.2.0",
            "_model_name": "LayoutModel",
            "_view_count": null,
            "_view_module": "@jupyter-widgets/base",
            "_view_module_version": "1.2.0",
            "_view_name": "LayoutView",
            "align_content": null,
            "align_items": null,
            "align_self": null,
            "border": null,
            "bottom": null,
            "display": null,
            "flex": null,
            "flex_flow": null,
            "grid_area": null,
            "grid_auto_columns": null,
            "grid_auto_flow": null,
            "grid_auto_rows": null,
            "grid_column": null,
            "grid_gap": null,
            "grid_row": null,
            "grid_template_areas": null,
            "grid_template_columns": null,
            "grid_template_rows": null,
            "height": null,
            "justify_content": null,
            "justify_items": null,
            "left": null,
            "margin": null,
            "max_height": null,
            "max_width": null,
            "min_height": null,
            "min_width": null,
            "object_fit": null,
            "object_position": null,
            "order": null,
            "overflow": null,
            "overflow_x": null,
            "overflow_y": null,
            "padding": null,
            "right": null,
            "top": null,
            "visibility": null,
            "width": null
          }
        }
      }
    }
  },
  "nbformat": 4,
  "nbformat_minor": 0
}

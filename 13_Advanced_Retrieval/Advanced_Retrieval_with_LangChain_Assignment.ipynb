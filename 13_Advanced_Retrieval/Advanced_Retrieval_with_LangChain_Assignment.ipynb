{
  "cells": [
    {
      "cell_type": "markdown",
      "metadata": {
        "id": "e-IqJAMkwnCF"
      },
      "source": [
        "# Advanced Retrieval with LangChain\n",
        "\n",
        "In the following notebook, we'll explore various methods of advanced retrieval using LangChain!\n",
        "\n",
        "We'll touch on:\n",
        "\n",
        "- Naive Retrieval\n",
        "- Best-Matching 25 (BM25)\n",
        "- Multi-Query Retrieval\n",
        "- Parent-Document Retrieval\n",
        "- Contextual Compression (a.k.a. Rerank)\n",
        "- Ensemble Retrieval\n",
        "- Semantic chunking\n",
        "\n",
        "We'll also discuss how these methods impact performance on our set of documents with a simple RAG chain.\n",
        "\n",
        "There will be two breakout rooms:\n",
        "\n",
        "- 🤝 Breakout Room Part #1\n",
        "  - Task 1: Getting Dependencies!\n",
        "  - Task 2: Data Collection and Preparation\n",
        "  - Task 3: Setting Up QDrant!\n",
        "  - Task 4-10: Retrieval Strategies\n",
        "- 🤝 Breakout Room Part #2\n",
        "  - Activity: Evaluate with Ragas"
      ]
    },
    {
      "cell_type": "markdown",
      "metadata": {
        "id": "4rKP3hgHivpe"
      },
      "source": [
        "# 🤝 Breakout Room Part #1"
      ]
    },
    {
      "cell_type": "markdown",
      "metadata": {
        "id": "3xes8oT-xHN7"
      },
      "source": [
        "## Task 1: Getting Dependencies!\n",
        "\n",
        "We're going to need a few specific LangChain community packages, like OpenAI (for our [LLM](https://platform.openai.com/docs/models) and [Embedding Model](https://platform.openai.com/docs/guides/embeddings)) and Cohere (for our [Reranker](https://cohere.com/rerank)).\n",
        "\n",
        "> You do not need to run the following cells if you are running this notebook locally."
      ]
    },
    {
      "cell_type": "code",
      "execution_count": 4,
      "metadata": {
        "id": "MkgFAXWVW3wm"
      },
      "outputs": [],
      "source": [
        "!pip install -qU langchain langchain-openai langchain-cohere rank_bm25"
      ]
    },
    {
      "cell_type": "code",
      "execution_count": 97,
      "metadata": {
        "colab": {
          "base_uri": "https://localhost:8080/"
        },
        "id": "HtPYiZu_MC_Z",
        "outputId": "79eed8b7-ecab-4758-cca0-107d6dbca59b"
      },
      "outputs": [
        {
          "name": "stdout",
          "output_type": "stream",
          "text": [
            "\u001b[?25l     \u001b[90m━━━━━━━━━━━━━━━━━━━━━━━━━━━━━━━━━━━━━━━━\u001b[0m \u001b[32m0.0/981.5 kB\u001b[0m \u001b[31m?\u001b[0m eta \u001b[36m-:--:--\u001b[0m\r\u001b[2K     \u001b[91m━━━━━━━━━━━━━━━━━━━\u001b[0m\u001b[90m╺\u001b[0m\u001b[90m━━━━━━━━━━━━━━━━━━━━\u001b[0m \u001b[32m471.0/981.5 kB\u001b[0m \u001b[31m13.9 MB/s\u001b[0m eta \u001b[36m0:00:01\u001b[0m\r\u001b[2K     \u001b[90m━━━━━━━━━━━━━━━━━━━━━━━━━━━━━━━━━━━━━━━━\u001b[0m \u001b[32m981.5/981.5 kB\u001b[0m \u001b[31m14.3 MB/s\u001b[0m eta \u001b[36m0:00:00\u001b[0m\n",
            "\u001b[?25h  Preparing metadata (setup.py) ... \u001b[?25l\u001b[?25hdone\n",
            "\u001b[2K   \u001b[90m━━━━━━━━━━━━━━━━━━━━━━━━━━━━━━━━━━━━━━━━\u001b[0m \u001b[32m2.5/2.5 MB\u001b[0m \u001b[31m45.0 MB/s\u001b[0m eta \u001b[36m0:00:00\u001b[0m\n",
            "\u001b[2K   \u001b[90m━━━━━━━━━━━━━━━━━━━━━━━━━━━━━━━━━━━━━━━━\u001b[0m \u001b[32m50.9/50.9 kB\u001b[0m \u001b[31m2.7 MB/s\u001b[0m eta \u001b[36m0:00:00\u001b[0m\n",
            "\u001b[2K   \u001b[90m━━━━━━━━━━━━━━━━━━━━━━━━━━━━━━━━━━━━━━━━\u001b[0m \u001b[32m1.7/1.7 MB\u001b[0m \u001b[31m35.6 MB/s\u001b[0m eta \u001b[36m0:00:00\u001b[0m\n",
            "\u001b[2K   \u001b[90m━━━━━━━━━━━━━━━━━━━━━━━━━━━━━━━━━━━━━━━━\u001b[0m \u001b[32m137.2/137.2 kB\u001b[0m \u001b[31m8.3 MB/s\u001b[0m eta \u001b[36m0:00:00\u001b[0m\n",
            "\u001b[2K   \u001b[90m━━━━━━━━━━━━━━━━━━━━━━━━━━━━━━━━━━━━━━━━\u001b[0m \u001b[32m45.4/45.4 kB\u001b[0m \u001b[31m2.4 MB/s\u001b[0m eta \u001b[36m0:00:00\u001b[0m\n",
            "\u001b[2K   \u001b[90m━━━━━━━━━━━━━━━━━━━━━━━━━━━━━━━━━━━━━━━━\u001b[0m \u001b[32m326.9/326.9 kB\u001b[0m \u001b[31m15.4 MB/s\u001b[0m eta \u001b[36m0:00:00\u001b[0m\n",
            "\u001b[2K   \u001b[90m━━━━━━━━━━━━━━━━━━━━━━━━━━━━━━━━━━━━━━━━\u001b[0m \u001b[32m590.6/590.6 kB\u001b[0m \u001b[31m21.7 MB/s\u001b[0m eta \u001b[36m0:00:00\u001b[0m\n",
            "\u001b[2K   \u001b[90m━━━━━━━━━━━━━━━━━━━━━━━━━━━━━━━━━━━━━━━━\u001b[0m \u001b[32m167.6/167.6 kB\u001b[0m \u001b[31m8.6 MB/s\u001b[0m eta \u001b[36m0:00:00\u001b[0m\n",
            "\u001b[2K   \u001b[90m━━━━━━━━━━━━━━━━━━━━━━━━━━━━━━━━━━━━━━━━\u001b[0m \u001b[32m166.5/166.5 kB\u001b[0m \u001b[31m8.8 MB/s\u001b[0m eta \u001b[36m0:00:00\u001b[0m\n",
            "\u001b[2K   \u001b[90m━━━━━━━━━━━━━━━━━━━━━━━━━━━━━━━━━━━━━━━━\u001b[0m \u001b[32m302.0/302.0 kB\u001b[0m \u001b[31m16.8 MB/s\u001b[0m eta \u001b[36m0:00:00\u001b[0m\n",
            "\u001b[2K   \u001b[90m━━━━━━━━━━━━━━━━━━━━━━━━━━━━━━━━━━━━━━━━\u001b[0m \u001b[32m114.6/114.6 kB\u001b[0m \u001b[31m7.5 MB/s\u001b[0m eta \u001b[36m0:00:00\u001b[0m\n",
            "\u001b[?25h  Building wheel for langdetect (setup.py) ... \u001b[?25l\u001b[?25hdone\n"
          ]
        }
      ],
      "source": [
        "!pip install -qU langchain-community==0.3.14 langchain-openai==0.2.14 unstructured==0.16.12 langgraph==0.2.61 langchain-qdrant==0.2.0\n"
      ]
    },
    {
      "cell_type": "markdown",
      "metadata": {
        "id": "dKqYM4Eoxcov"
      },
      "source": [
        "We're also going to be leveraging [Qdrant's](https://qdrant.tech/documentation/frameworks/langchain/) (pronounced \"Quadrant\") VectorDB in \"memory\" mode (so we can leverage it locally in our colab environment)."
      ]
    },
    {
      "cell_type": "code",
      "execution_count": 5,
      "metadata": {
        "id": "s6xav5CxYnML"
      },
      "outputs": [],
      "source": [
        "!pip install -qU qdrant-client"
      ]
    },
    {
      "cell_type": "markdown",
      "metadata": {
        "id": "Z7OHJXzfyJyA"
      },
      "source": [
        "We'll also provide our OpenAI key, as well as our Cohere API key."
      ]
    },
    {
      "cell_type": "code",
      "execution_count": 89,
      "metadata": {
        "colab": {
          "base_uri": "https://localhost:8080/"
        },
        "id": "7LttlDQUYgSI",
        "outputId": "2dc2a028-8283-4bae-8813-251e744228ad"
      },
      "outputs": [
        {
          "name": "stdout",
          "output_type": "stream",
          "text": [
            "Enter your OpenAI API Key:··········\n"
          ]
        }
      ],
      "source": [
        "import os\n",
        "import getpass\n",
        "\n",
        "os.environ[\"OPENAI_API_KEY\"] = getpass.getpass(\"Enter your OpenAI API Key:\")"
      ]
    },
    {
      "cell_type": "code",
      "execution_count": 90,
      "metadata": {
        "colab": {
          "base_uri": "https://localhost:8080/"
        },
        "id": "3iUahNiJyQbv",
        "outputId": "60e55260-7216-4b92-b2ba-c80f47fa1c84"
      },
      "outputs": [
        {
          "name": "stdout",
          "output_type": "stream",
          "text": [
            "Cohere API Key:··········\n"
          ]
        }
      ],
      "source": [
        "os.environ[\"COHERE_API_KEY\"] = getpass.getpass(\"Cohere API Key:\")"
      ]
    },
    {
      "cell_type": "code",
      "execution_count": 91,
      "metadata": {
        "colab": {
          "base_uri": "https://localhost:8080/"
        },
        "id": "VhTfpsbJhiT5",
        "outputId": "9ec8722d-06d4-47c8-80a3-af8807cf78a4"
      },
      "outputs": [
        {
          "name": "stdout",
          "output_type": "stream",
          "text": [
            "Please enter your Ragas API key!··········\n"
          ]
        }
      ],
      "source": [
        "os.environ[\"RAGAS_APP_TOKEN\"] = getpass.getpass(\"Please enter your Ragas API key!\")\n"
      ]
    },
    {
      "cell_type": "code",
      "execution_count": 92,
      "metadata": {
        "colab": {
          "base_uri": "https://localhost:8080/"
        },
        "id": "DIEhe-awFbNc",
        "outputId": "8cacd7f3-a565-4f5f-c4b2-78a050a69032"
      },
      "outputs": [
        {
          "name": "stdout",
          "output_type": "stream",
          "text": [
            "LangChain API Key:··········\n"
          ]
        }
      ],
      "source": [
        "\n",
        "os.environ[\"LANGCHAIN_TRACING_V2\"] = \"true\"\n",
        "os.environ[\"LANGCHAIN_API_KEY\"] = getpass.getpass(\"LangChain API Key:\")"
      ]
    },
    {
      "cell_type": "markdown",
      "metadata": {
        "id": "B0pDRFEWSXvh"
      },
      "source": []
    },
    {
      "cell_type": "markdown",
      "metadata": {
        "id": "mw304iAFyRtl"
      },
      "source": [
        "## Task 2: Data Collection and Preparation\n",
        "\n",
        "We'll be using some reviews from the 4 movies in the John Wick franchise today to explore the different retrieval strategies.\n",
        "\n",
        "These were obtained from IMDB, and are available in the [AIM Data Repository](https://github.com/AI-Maker-Space/DataRepository)."
      ]
    },
    {
      "cell_type": "markdown",
      "metadata": {
        "id": "xXKHcZmKzDwT"
      },
      "source": [
        "### Data Collection\n",
        "\n",
        "We can simply `wget` these from GitHub.\n",
        "\n",
        "You could use any review data you wanted in this step - just be careful to make sure your metadata is aligned with your choice."
      ]
    },
    {
      "cell_type": "code",
      "execution_count": 7,
      "metadata": {
        "colab": {
          "base_uri": "https://localhost:8080/"
        },
        "id": "vbbSIGtzX3dS",
        "outputId": "99247324-457b-4b27-9ae3-79e68af06d54"
      },
      "outputs": [
        {
          "name": "stdout",
          "output_type": "stream",
          "text": [
            "--2025-03-03 23:11:41--  https://raw.githubusercontent.com/AI-Maker-Space/DataRepository/main/jw1.csv\n",
            "Resolving raw.githubusercontent.com (raw.githubusercontent.com)... 185.199.108.133, 185.199.109.133, 185.199.110.133, ...\n",
            "Connecting to raw.githubusercontent.com (raw.githubusercontent.com)|185.199.108.133|:443... connected.\n",
            "HTTP request sent, awaiting response... 200 OK\n",
            "Length: 19628 (19K) [text/plain]\n",
            "Saving to: ‘john_wick_1.csv’\n",
            "\n",
            "\rjohn_wick_1.csv       0%[                    ]       0  --.-KB/s               \rjohn_wick_1.csv     100%[===================>]  19.17K  --.-KB/s    in 0.001s  \n",
            "\n",
            "2025-03-03 23:11:41 (23.2 MB/s) - ‘john_wick_1.csv’ saved [19628/19628]\n",
            "\n",
            "--2025-03-03 23:11:41--  https://raw.githubusercontent.com/AI-Maker-Space/DataRepository/main/jw2.csv\n",
            "Resolving raw.githubusercontent.com (raw.githubusercontent.com)... 185.199.111.133, 185.199.110.133, 185.199.108.133, ...\n",
            "Connecting to raw.githubusercontent.com (raw.githubusercontent.com)|185.199.111.133|:443... connected.\n",
            "HTTP request sent, awaiting response... 200 OK\n",
            "Length: 14747 (14K) [text/plain]\n",
            "Saving to: ‘john_wick_2.csv’\n",
            "\n",
            "john_wick_2.csv     100%[===================>]  14.40K  --.-KB/s    in 0.001s  \n",
            "\n",
            "2025-03-03 23:11:41 (18.8 MB/s) - ‘john_wick_2.csv’ saved [14747/14747]\n",
            "\n",
            "--2025-03-03 23:11:41--  https://raw.githubusercontent.com/AI-Maker-Space/DataRepository/main/jw3.csv\n",
            "Resolving raw.githubusercontent.com (raw.githubusercontent.com)... 185.199.108.133, 185.199.109.133, 185.199.110.133, ...\n",
            "Connecting to raw.githubusercontent.com (raw.githubusercontent.com)|185.199.108.133|:443... connected.\n",
            "HTTP request sent, awaiting response... 200 OK\n",
            "Length: 13888 (14K) [text/plain]\n",
            "Saving to: ‘john_wick_3.csv’\n",
            "\n",
            "john_wick_3.csv     100%[===================>]  13.56K  --.-KB/s    in 0.001s  \n",
            "\n",
            "2025-03-03 23:11:42 (19.4 MB/s) - ‘john_wick_3.csv’ saved [13888/13888]\n",
            "\n",
            "--2025-03-03 23:11:42--  https://raw.githubusercontent.com/AI-Maker-Space/DataRepository/main/jw4.csv\n",
            "Resolving raw.githubusercontent.com (raw.githubusercontent.com)... 185.199.108.133, 185.199.109.133, 185.199.110.133, ...\n",
            "Connecting to raw.githubusercontent.com (raw.githubusercontent.com)|185.199.108.133|:443... connected.\n",
            "HTTP request sent, awaiting response... 200 OK\n",
            "Length: 15109 (15K) [text/plain]\n",
            "Saving to: ‘john_wick_4.csv’\n",
            "\n",
            "john_wick_4.csv     100%[===================>]  14.75K  --.-KB/s    in 0.001s  \n",
            "\n",
            "2025-03-03 23:11:42 (24.1 MB/s) - ‘john_wick_4.csv’ saved [15109/15109]\n",
            "\n"
          ]
        }
      ],
      "source": [
        "!wget https://raw.githubusercontent.com/AI-Maker-Space/DataRepository/main/jw1.csv -O john_wick_1.csv\n",
        "!wget https://raw.githubusercontent.com/AI-Maker-Space/DataRepository/main/jw2.csv -O john_wick_2.csv\n",
        "!wget https://raw.githubusercontent.com/AI-Maker-Space/DataRepository/main/jw3.csv -O john_wick_3.csv\n",
        "!wget https://raw.githubusercontent.com/AI-Maker-Space/DataRepository/main/jw4.csv -O john_wick_4.csv"
      ]
    },
    {
      "cell_type": "markdown",
      "metadata": {
        "id": "A92NC2QZzCsi"
      },
      "source": [
        "### Data Preparation\n",
        "\n",
        "We want to make sure all our documents have the relevant metadata for the various retrieval strategies we're going to be applying today.\n",
        "\n",
        "- Self-Query: Wants as much metadata as we can provide\n",
        "- Time-weighted: Wants temporal data\n",
        "\n",
        "> NOTE: While we're creating a temporal relationship based on when these movies came out for illustrative purposes, it needs to be clear that the \"time-weighting\" in the Time-weighted Retriever is based on when the document was *accessed* last - not when it was created."
      ]
    },
    {
      "cell_type": "code",
      "execution_count": 8,
      "metadata": {
        "id": "GshBjVRJZ6p8"
      },
      "outputs": [],
      "source": [
        "from langchain_community.document_loaders.csv_loader import CSVLoader\n",
        "from datetime import datetime, timedelta\n",
        "\n",
        "documents = []\n",
        "\n",
        "for i in range(1, 5):\n",
        "  loader = CSVLoader(\n",
        "      file_path=f\"john_wick_{i}.csv\",\n",
        "      metadata_columns=[\"Review_Date\", \"Review_Title\", \"Review_Url\", \"Author\", \"Rating\"]\n",
        "  )\n",
        "\n",
        "  movie_docs = loader.load()\n",
        "  for doc in movie_docs:\n",
        "\n",
        "    # Add the \"Movie Title\" (John Wick 1, 2, ...)\n",
        "    doc.metadata[\"Movie_Title\"] = f\"John Wick {i}\"\n",
        "\n",
        "    # convert \"Rating\" to an `int`, if no rating is provided - assume 0 rating\n",
        "    doc.metadata[\"Rating\"] = int(doc.metadata[\"Rating\"]) if doc.metadata[\"Rating\"] else 0\n",
        "\n",
        "    # newer movies have a more recent \"last_accessed_at\"\n",
        "    doc.metadata[\"last_accessed_at\"] = datetime.now() - timedelta(days=4-i)\n",
        "\n",
        "  documents.extend(movie_docs)"
      ]
    },
    {
      "cell_type": "markdown",
      "metadata": {
        "id": "9gQphb6y0C0S"
      },
      "source": [
        "Let's look at an example document to see if everything worked as expected!"
      ]
    },
    {
      "cell_type": "code",
      "execution_count": 9,
      "metadata": {
        "colab": {
          "base_uri": "https://localhost:8080/"
        },
        "id": "PkUkCf7DaMiq",
        "outputId": "1852ff3e-740b-45e4-c538-b97e7ea19de0"
      },
      "outputs": [
        {
          "data": {
            "text/plain": [
              "Document(metadata={'source': 'john_wick_1.csv', 'row': 0, 'Review_Date': '6 May 2015', 'Review_Title': ' Kinetic, concise, and stylish; John Wick kicks ass.\\n', 'Review_Url': '/review/rw3233896/?ref_=tt_urv', 'Author': 'lnvicta', 'Rating': 8, 'Movie_Title': 'John Wick 1', 'last_accessed_at': datetime.datetime(2025, 2, 28, 23, 11, 47, 510719)}, page_content=\": 0\\nReview: The best way I can describe John Wick is to picture Taken but instead of Liam Neeson it's Keanu Reeves and instead of his daughter it's his dog. That's essentially the plot of the movie. John Wick (Reeves) is out to seek revenge on the people who took something he loved from him. It's a beautifully simple premise for an action movie - when action movies get convoluted, they get bad i.e. A Good Day to Die Hard. John Wick gives the viewers what they want: Awesome action, stylish stunts, kinetic chaos, and a relatable hero to tie it all together. John Wick succeeds in its simplicity.\")"
            ]
          },
          "execution_count": 9,
          "metadata": {},
          "output_type": "execute_result"
        }
      ],
      "source": [
        "documents[0]"
      ]
    },
    {
      "cell_type": "markdown",
      "metadata": {
        "id": "lWaQpdHl0Gzc"
      },
      "source": [
        "## Task 3: Setting up QDrant!\n",
        "\n",
        "Now that we have our documents, let's create a QDrant VectorStore with the collection name \"JohnWick\".\n",
        "\n",
        "We'll leverage OpenAI's [`text-embedding-3-small`](https://openai.com/blog/new-embedding-models-and-api-updates) because it's a very powerful (and low-cost) embedding model.\n",
        "\n",
        "> NOTE: We'll be creating additional vectorstores where necessary, but this pattern is still extremely useful."
      ]
    },
    {
      "cell_type": "code",
      "execution_count": 12,
      "metadata": {
        "id": "NT8ihRJbYmMT"
      },
      "outputs": [],
      "source": [
        "from langchain_community.vectorstores import Qdrant\n",
        "from langchain_openai import OpenAIEmbeddings\n",
        "\n",
        "embeddings = OpenAIEmbeddings(model=\"text-embedding-3-small\")\n",
        "\n",
        "vectorstore = Qdrant.from_documents(\n",
        "    documents,\n",
        "    embeddings,\n",
        "    location=\":memory:\",\n",
        "    collection_name=\"JohnWick\"\n",
        ")"
      ]
    },
    {
      "cell_type": "markdown",
      "metadata": {
        "id": "-x2SS4Rh0hiN"
      },
      "source": [
        "## Task 4: Naive RAG Chain\n",
        "\n",
        "Since we're focusing on the \"R\" in RAG today - we'll create our Retriever first."
      ]
    },
    {
      "cell_type": "markdown",
      "metadata": {
        "id": "NEH7X5Ai08FH"
      },
      "source": [
        "### R - Retrieval\n",
        "\n",
        "This naive retriever will simply look at each review as a document, and use cosine-similarity to fetch the 10 most relevant documents.\n",
        "\n",
        "> NOTE: We're choosing `10` as our `k` here to provide enough documents for our reranking process later"
      ]
    },
    {
      "cell_type": "code",
      "execution_count": 13,
      "metadata": {
        "id": "GFDPrNBtb72o"
      },
      "outputs": [],
      "source": [
        "naive_retriever = vectorstore.as_retriever(search_kwargs={\"k\" : 10})"
      ]
    },
    {
      "cell_type": "markdown",
      "metadata": {
        "id": "MbBhyQjz06dx"
      },
      "source": [
        "### A - Augmented\n",
        "\n",
        "We're going to go with a standard prompt for our simple RAG chain today! Nothing fancy here, we want this to mostly be about the Retrieval process."
      ]
    },
    {
      "cell_type": "code",
      "execution_count": 14,
      "metadata": {
        "id": "7uSz-Dbqcoki"
      },
      "outputs": [],
      "source": [
        "from langchain_core.prompts import ChatPromptTemplate\n",
        "\n",
        "RAG_TEMPLATE = \"\"\"\\\n",
        "You are a helpful and kind assistant. Use the context provided below to answer the question.\n",
        "\n",
        "If you do not know the answer, or are unsure, say you don't know.\n",
        "\n",
        "Query:\n",
        "{question}\n",
        "\n",
        "Context:\n",
        "{context}\n",
        "\"\"\"\n",
        "\n",
        "rag_prompt = ChatPromptTemplate.from_template(RAG_TEMPLATE)"
      ]
    },
    {
      "cell_type": "markdown",
      "metadata": {
        "id": "BlRzpb231GGJ"
      },
      "source": [
        "### G - Generation\n",
        "\n",
        "We're going to leverage `gpt-3.5-turbo` as our LLM today, as - again - we want this to largely be about the Retrieval process."
      ]
    },
    {
      "cell_type": "code",
      "execution_count": 15,
      "metadata": {
        "id": "c-1t9H60dJLg"
      },
      "outputs": [],
      "source": [
        "from langchain_openai import ChatOpenAI\n",
        "\n",
        "chat_model = ChatOpenAI()"
      ]
    },
    {
      "cell_type": "markdown",
      "metadata": {
        "id": "mg3QRGzA1M2x"
      },
      "source": [
        "### LCEL RAG Chain\n",
        "\n",
        "We're going to use LCEL to construct our chain.\n",
        "\n",
        "> NOTE: This chain will be exactly the same across the various examples with the exception of our Retriever!"
      ]
    },
    {
      "cell_type": "code",
      "execution_count": 16,
      "metadata": {
        "id": "0bvstS7mdOW3"
      },
      "outputs": [],
      "source": [
        "from langchain_core.runnables import RunnablePassthrough\n",
        "from operator import itemgetter\n",
        "from langchain_core.output_parsers import StrOutputParser\n",
        "\n",
        "naive_retrieval_chain = (\n",
        "    # INVOKE CHAIN WITH: {\"question\" : \"<<SOME USER QUESTION>>\"}\n",
        "    # \"question\" : populated by getting the value of the \"question\" key\n",
        "    # \"context\"  : populated by getting the value of the \"question\" key and chaining it into the base_retriever\n",
        "    {\"context\": itemgetter(\"question\") | naive_retriever, \"question\": itemgetter(\"question\")}\n",
        "    # \"context\"  : is assigned to a RunnablePassthrough object (will not be called or considered in the next step)\n",
        "    #              by getting the value of the \"context\" key from the previous step\n",
        "    | RunnablePassthrough.assign(context=itemgetter(\"context\"))\n",
        "    # \"response\" : the \"context\" and \"question\" values are used to format our prompt object and then piped\n",
        "    #              into the LLM and stored in a key called \"response\"\n",
        "    # \"context\"  : populated by getting the value of the \"context\" key from the previous step\n",
        "    | {\"response\": rag_prompt | chat_model, \"context\": itemgetter(\"context\")}\n",
        ")"
      ]
    },
    {
      "cell_type": "markdown",
      "metadata": {
        "id": "izKujhNb1ZG8"
      },
      "source": [
        "Let's see how this simple chain does on a few different prompts.\n",
        "\n",
        "> NOTE: You might think that we've cherry picked prompts that showcase the individual skill of each of the retrieval strategies - you'd be correct!"
      ]
    },
    {
      "cell_type": "code",
      "execution_count": 17,
      "metadata": {
        "colab": {
          "base_uri": "https://localhost:8080/",
          "height": 36
        },
        "id": "LI-5ueEddku9",
        "outputId": "d60efa11-e613-4d64-c8cb-933ffb3f54c2"
      },
      "outputs": [
        {
          "data": {
            "application/vnd.google.colaboratory.intrinsic+json": {
              "type": "string"
            },
            "text/plain": [
              "'Yes, people generally liked John Wick based on the positive reviews and high ratings it received.'"
            ]
          },
          "execution_count": 17,
          "metadata": {},
          "output_type": "execute_result"
        }
      ],
      "source": [
        "naive_retrieval_chain.invoke({\"question\" : \"Did people generally like John Wick?\"})[\"response\"].content"
      ]
    },
    {
      "cell_type": "code",
      "execution_count": 18,
      "metadata": {
        "colab": {
          "base_uri": "https://localhost:8080/",
          "height": 36
        },
        "id": "43zdcdUydtXh",
        "outputId": "61ac6598-621e-45b4-c6f3-979204cf74be"
      },
      "outputs": [
        {
          "data": {
            "application/vnd.google.colaboratory.intrinsic+json": {
              "type": "string"
            },
            "text/plain": [
              "\"Yes, there is a review with a rating of 10. Here is the URL to that review: '/review/rw4854296/?ref_=tt_urv'\""
            ]
          },
          "execution_count": 18,
          "metadata": {},
          "output_type": "execute_result"
        }
      ],
      "source": [
        "naive_retrieval_chain.invoke({\"question\" : \"Do any reviews have a rating of 10? If so - can I have the URLs to those reviews?\"})[\"response\"].content"
      ]
    },
    {
      "cell_type": "code",
      "execution_count": 19,
      "metadata": {
        "colab": {
          "base_uri": "https://localhost:8080/",
          "height": 70
        },
        "id": "lpG6rlvvvKFq",
        "outputId": "e8569972-7654-441e-d6c1-595eb0af2e15"
      },
      "outputs": [
        {
          "data": {
            "application/vnd.google.colaboratory.intrinsic+json": {
              "type": "string"
            },
            "text/plain": [
              "'In John Wick, an ex-hitman comes out of retirement to seek vengeance against the gangsters that killed his dog and took everything from him. As the story unfolds, John Wick unleashes a maelstrom of destruction against those who come after him, leading to intense shootouts and breathtaking fights. The movie is known for its violent and gripping story with plenty of nonstop action.'"
            ]
          },
          "execution_count": 19,
          "metadata": {},
          "output_type": "execute_result"
        }
      ],
      "source": [
        "naive_retrieval_chain.invoke({\"question\" : \"What happened in John Wick?\"})[\"response\"].content"
      ]
    },
    {
      "cell_type": "markdown",
      "metadata": {
        "id": "jsbfQmbr1leg"
      },
      "source": [
        "Overall, this is not bad! Let's see if we can make it better!"
      ]
    },
    {
      "cell_type": "markdown",
      "metadata": {
        "id": "Ft1vt8HPR16w"
      },
      "source": [
        "## Task 5: Best-Matching 25 (BM25) Retriever\n",
        "\n",
        "Taking a step back in time - [BM25](https://www.nowpublishers.com/article/Details/INR-019) is based on [Bag-Of-Words](https://en.wikipedia.org/wiki/Bag-of-words_model) which is a sparse representation of text.\n",
        "\n",
        "In essence, it's a way to compare how similar two pieces of text are based on the words they both contain.\n",
        "\n",
        "This retriever is very straightforward to set-up! Let's see it happen down below!\n"
      ]
    },
    {
      "cell_type": "code",
      "execution_count": 20,
      "metadata": {
        "id": "qdF4wuj5R-cG"
      },
      "outputs": [],
      "source": [
        "from langchain_community.retrievers import BM25Retriever\n",
        "\n",
        "bm25_retriever = BM25Retriever.from_documents(documents)"
      ]
    },
    {
      "cell_type": "markdown",
      "metadata": {
        "id": "KIjJlBQ8drKH"
      },
      "source": [
        "We'll construct the same chain - only changing the retriever."
      ]
    },
    {
      "cell_type": "code",
      "execution_count": 21,
      "metadata": {
        "id": "WR15EQG7SLuw"
      },
      "outputs": [],
      "source": [
        "bm25_retrieval_chain = (\n",
        "    {\"context\": itemgetter(\"question\") | bm25_retriever, \"question\": itemgetter(\"question\")}\n",
        "    | RunnablePassthrough.assign(context=itemgetter(\"context\"))\n",
        "    | {\"response\": rag_prompt | chat_model, \"context\": itemgetter(\"context\")}\n",
        ")"
      ]
    },
    {
      "cell_type": "markdown",
      "metadata": {
        "id": "0Gi-yXCDdvJk"
      },
      "source": [
        "Let's look at the responses!"
      ]
    },
    {
      "cell_type": "code",
      "execution_count": 22,
      "metadata": {
        "colab": {
          "base_uri": "https://localhost:8080/",
          "height": 53
        },
        "id": "oY9qzmm3SOrF",
        "outputId": "31df19fa-d85e-404d-9445-50a087474f36"
      },
      "outputs": [
        {
          "data": {
            "application/vnd.google.colaboratory.intrinsic+json": {
              "type": "string"
            },
            "text/plain": [
              "'While opinions on the John Wick series vary, some people enjoyed the action and style of the movies, while others found certain installments lacking in plot or substance. It ultimately depends on individual preferences.'"
            ]
          },
          "execution_count": 22,
          "metadata": {},
          "output_type": "execute_result"
        }
      ],
      "source": [
        "bm25_retrieval_chain.invoke({\"question\" : \"Did people generally like John Wick?\"})[\"response\"].content"
      ]
    },
    {
      "cell_type": "code",
      "execution_count": 23,
      "metadata": {
        "colab": {
          "base_uri": "https://localhost:8080/",
          "height": 36
        },
        "id": "igfinyneSQkh",
        "outputId": "203a0d6c-c0a6-41cc-c7b3-a3c6cdf2a75e"
      },
      "outputs": [
        {
          "data": {
            "application/vnd.google.colaboratory.intrinsic+json": {
              "type": "string"
            },
            "text/plain": [
              "\"I don't know.\""
            ]
          },
          "execution_count": 23,
          "metadata": {},
          "output_type": "execute_result"
        }
      ],
      "source": [
        "bm25_retrieval_chain.invoke({\"question\" : \"Do any reviews have a rating of 10? If so - can I have the URLs to those reviews?\"})[\"response\"].content"
      ]
    },
    {
      "cell_type": "code",
      "execution_count": 24,
      "metadata": {
        "colab": {
          "base_uri": "https://localhost:8080/",
          "height": 53
        },
        "id": "w0H7pV_USSMQ",
        "outputId": "1225b0cc-1b44-40db-824e-812927ebc8cc"
      },
      "outputs": [
        {
          "data": {
            "application/vnd.google.colaboratory.intrinsic+json": {
              "type": "string"
            },
            "text/plain": [
              "'In John Wick, the main character, played by Keanu Reeves, goes on a revenge mission after the death of his dog, which was given to him by his deceased wife. The action is beautifully choreographed and the setup is emotional. It is highly praised for its action sequences and overall entertainment value.'"
            ]
          },
          "execution_count": 24,
          "metadata": {},
          "output_type": "execute_result"
        }
      ],
      "source": [
        "bm25_retrieval_chain.invoke({\"question\" : \"What happened in John Wick?\"})[\"response\"].content"
      ]
    },
    {
      "cell_type": "markdown",
      "metadata": {
        "id": "zvg5xHaUdxCl"
      },
      "source": [
        "It's not clear that this is better or worse - but the `I don't know` isn't great!"
      ]
    },
    {
      "cell_type": "markdown",
      "metadata": {
        "id": "Q-dcbFn2vpZF"
      },
      "source": [
        "## Task 6: Contextual Compression (Using Reranking)\n",
        "\n",
        "Contextual Compression is a fairly straightforward idea: We want to \"compress\" our retrieved context into just the most useful bits.\n",
        "\n",
        "There are a few ways we can achieve this - but we're going to look at a specific example called reranking.\n",
        "\n",
        "The basic idea here is this:\n",
        "\n",
        "- We retrieve lots of documents that are very likely related to our query vector\n",
        "- We \"compress\" those documents into a smaller set of *more* related documents using a reranking algorithm.\n",
        "\n",
        "We'll be leveraging Cohere's Rerank model for our reranker today!\n",
        "\n",
        "All we need to do is the following:\n",
        "\n",
        "- Create a basic retriever\n",
        "- Create a compressor (reranker, in this case)\n",
        "\n",
        "That's it!\n",
        "\n",
        "Let's see it in the code below!"
      ]
    },
    {
      "cell_type": "code",
      "execution_count": 25,
      "metadata": {
        "id": "psHvO2K1v_ZQ"
      },
      "outputs": [],
      "source": [
        "from langchain.retrievers.contextual_compression import ContextualCompressionRetriever\n",
        "from langchain_cohere import CohereRerank\n",
        "\n",
        "compressor = CohereRerank(model=\"rerank-english-v3.0\")\n",
        "compression_retriever = ContextualCompressionRetriever(\n",
        "    base_compressor=compressor, base_retriever=naive_retriever\n",
        ")"
      ]
    },
    {
      "cell_type": "markdown",
      "metadata": {
        "id": "_TA9RB2x-j7P"
      },
      "source": [
        "Let's create our chain again, and see how this does!"
      ]
    },
    {
      "cell_type": "code",
      "execution_count": 26,
      "metadata": {
        "id": "1BXqmxvHwX6T"
      },
      "outputs": [],
      "source": [
        "contextual_compression_retrieval_chain = (\n",
        "    {\"context\": itemgetter(\"question\") | compression_retriever, \"question\": itemgetter(\"question\")}\n",
        "    | RunnablePassthrough.assign(context=itemgetter(\"context\"))\n",
        "    | {\"response\": rag_prompt | chat_model, \"context\": itemgetter(\"context\")}\n",
        ")"
      ]
    },
    {
      "cell_type": "code",
      "execution_count": 27,
      "metadata": {
        "colab": {
          "base_uri": "https://localhost:8080/",
          "height": 53
        },
        "id": "V3iGpokswcBb",
        "outputId": "905798dc-90d5-42dd-d0a6-11113e9e30b3"
      },
      "outputs": [
        {
          "data": {
            "application/vnd.google.colaboratory.intrinsic+json": {
              "type": "string"
            },
            "text/plain": [
              "\"Yes, people generally liked John Wick. The reviews highlighted the slickness of Keanu Reeves' performance, the brilliance of the action sequences, and the overall enjoyment of the film, making it a highly recommended movie for action fans.\""
            ]
          },
          "execution_count": 27,
          "metadata": {},
          "output_type": "execute_result"
        }
      ],
      "source": [
        "contextual_compression_retrieval_chain.invoke({\"question\" : \"Did people generally like John Wick?\"})[\"response\"].content"
      ]
    },
    {
      "cell_type": "code",
      "execution_count": 28,
      "metadata": {
        "colab": {
          "base_uri": "https://localhost:8080/",
          "height": 36
        },
        "id": "7u_k0i4OweUd",
        "outputId": "7b7a9a77-246a-4884-c9be-a9735d4392ef"
      },
      "outputs": [
        {
          "data": {
            "application/vnd.google.colaboratory.intrinsic+json": {
              "type": "string"
            },
            "text/plain": [
              "'Yes, there is a review with a rating of 10 for \"John Wick 3.\" Here is the URL for that review: \\'/review/rw4854296/?ref_=tt_urv\\''"
            ]
          },
          "execution_count": 28,
          "metadata": {},
          "output_type": "execute_result"
        }
      ],
      "source": [
        "contextual_compression_retrieval_chain.invoke({\"question\" : \"Do any reviews have a rating of 10? If so - can I have the URLs to those reviews?\"})[\"response\"].content"
      ]
    },
    {
      "cell_type": "code",
      "execution_count": 29,
      "metadata": {
        "colab": {
          "base_uri": "https://localhost:8080/",
          "height": 53
        },
        "id": "zn1EqaGqweXN",
        "outputId": "93c0d881-b32b-4a64-cb2e-5a2e0c3831c8"
      },
      "outputs": [
        {
          "data": {
            "application/vnd.google.colaboratory.intrinsic+json": {
              "type": "string"
            },
            "text/plain": [
              "\"In John Wick, after resolving issues with the Russian mafia, John Wick is visited by mobster Santino D'Antonio who asks for his help. When John refuses, Santino blows up his house. Eventually, John is tasked with killing Santino's sister in Rome, leading to a contract being put on him. John promises to kill Santino in return.\""
            ]
          },
          "execution_count": 29,
          "metadata": {},
          "output_type": "execute_result"
        }
      ],
      "source": [
        "contextual_compression_retrieval_chain.invoke({\"question\" : \"What happened in John Wick?\"})[\"response\"].content"
      ]
    },
    {
      "cell_type": "markdown",
      "metadata": {
        "id": "OEbT0g2S-mZ4"
      },
      "source": [
        "We'll need to rely on something like Ragas to help us get a better sense of how this is performing overall - but it \"feels\" better!"
      ]
    },
    {
      "cell_type": "markdown",
      "metadata": {
        "id": "qqbghrBEQNn5"
      },
      "source": [
        "## Task 7: Multi-Query Retriever\n",
        "\n",
        "Typically in RAG we have a single query - the one provided by the user.\n",
        "\n",
        "What if we had....more than one query!\n",
        "\n",
        "In essence, a Multi-Query Retriever works by:\n",
        "\n",
        "1. Taking the original user query and creating `n` number of new user queries using an LLM.\n",
        "2. Retrieving documents for each query.\n",
        "3. Using all unique retrieved documents as context\n",
        "\n",
        "So, how is it to set-up? Not bad! Let's see it down below!\n",
        "\n"
      ]
    },
    {
      "cell_type": "code",
      "execution_count": 30,
      "metadata": {
        "id": "pfM26ReXQjzU"
      },
      "outputs": [],
      "source": [
        "from langchain.retrievers.multi_query import MultiQueryRetriever\n",
        "\n",
        "multi_query_retriever = MultiQueryRetriever.from_llm(\n",
        "    retriever=naive_retriever, llm=chat_model\n",
        ")"
      ]
    },
    {
      "cell_type": "code",
      "execution_count": 31,
      "metadata": {
        "id": "1vRc129jQ5WW"
      },
      "outputs": [],
      "source": [
        "multi_query_retrieval_chain = (\n",
        "    {\"context\": itemgetter(\"question\") | multi_query_retriever, \"question\": itemgetter(\"question\")}\n",
        "    | RunnablePassthrough.assign(context=itemgetter(\"context\"))\n",
        "    | {\"response\": rag_prompt | chat_model, \"context\": itemgetter(\"context\")}\n",
        ")"
      ]
    },
    {
      "cell_type": "code",
      "execution_count": 32,
      "metadata": {
        "colab": {
          "base_uri": "https://localhost:8080/",
          "height": 36
        },
        "id": "CGgNuOb3Q3M9",
        "outputId": "0e0dd7fb-c561-4f31-8920-2fd0a6859836"
      },
      "outputs": [
        {
          "data": {
            "application/vnd.google.colaboratory.intrinsic+json": {
              "type": "string"
            },
            "text/plain": [
              "'Yes, people generally liked John Wick based on the positive reviews provided.'"
            ]
          },
          "execution_count": 32,
          "metadata": {},
          "output_type": "execute_result"
        }
      ],
      "source": [
        "multi_query_retrieval_chain.invoke({\"question\" : \"Did people generally like John Wick?\"})[\"response\"].content"
      ]
    },
    {
      "cell_type": "code",
      "execution_count": 33,
      "metadata": {
        "colab": {
          "base_uri": "https://localhost:8080/",
          "height": 53
        },
        "id": "aAlSthxrRDBC",
        "outputId": "b4dd6a74-2dba-46b4-d086-d7882a6178bf"
      },
      "outputs": [
        {
          "data": {
            "application/vnd.google.colaboratory.intrinsic+json": {
              "type": "string"
            },
            "text/plain": [
              "'Based on the context provided, there is a review for \"John Wick 3\" with a rating of 10. Here is the URL for that review: \\'/review/rw4854296/?ref_=tt_urv\\'. \\n\\nUnfortunately, there are no reviews for \"John Wick 4\" with a rating of 10 in the provided context.'"
            ]
          },
          "execution_count": 33,
          "metadata": {},
          "output_type": "execute_result"
        }
      ],
      "source": [
        "multi_query_retrieval_chain.invoke({\"question\" : \"Do any reviews have a rating of 10? If so - can I have the URLs to those reviews?\"})[\"response\"].content"
      ]
    },
    {
      "cell_type": "code",
      "execution_count": 34,
      "metadata": {
        "colab": {
          "base_uri": "https://localhost:8080/",
          "height": 53
        },
        "id": "Uv1mpCK8REs4",
        "outputId": "5eda402e-181c-44df-89e6-1de230a6ff27"
      },
      "outputs": [
        {
          "data": {
            "application/vnd.google.colaboratory.intrinsic+json": {
              "type": "string"
            },
            "text/plain": [
              "\"In John Wick, the story follows retired assassin John Wick who gets pulled back into the world of violence when someone kills his dog and steals his car, leading to a lot of carnage. Later on, John is called to pay off an old debt by helping take over the Assassin's Guild in various locations by killing many assassins.\""
            ]
          },
          "execution_count": 34,
          "metadata": {},
          "output_type": "execute_result"
        }
      ],
      "source": [
        "multi_query_retrieval_chain.invoke({\"question\" : \"What happened in John Wick?\"})[\"response\"].content"
      ]
    },
    {
      "cell_type": "markdown",
      "metadata": {
        "id": "EDEawBf_d_3G"
      },
      "source": [
        "## Task 8: Parent Document Retriever\n",
        "\n",
        "A \"small-to-big\" strategy - the Parent Document Retriever works based on a simple strategy:\n",
        "\n",
        "1. Each un-split \"document\" will be designated as a \"parent document\" (You could use larger chunks of document as well, but our data format allows us to consider the overall document as the parent chunk)\n",
        "2. Store those \"parent documents\" in a memory store (not a VectorStore)\n",
        "3. We will chunk each of those documents into smaller documents, and associate them with their respective parents, and store those in a VectorStore. We'll call those \"child chunks\".\n",
        "4. When we query our Retriever, we will do a similarity search comparing our query vector to the \"child chunks\".\n",
        "5. Instead of returning the \"child chunks\", we'll return their associated \"parent chunks\".\n",
        "\n",
        "Okay, maybe that was a few steps - but the basic idea is this:\n",
        "\n",
        "- Search for small documents\n",
        "- Return big documents\n",
        "\n",
        "The intuition is that we're likely to find the most relevant information by limiting the amount of semantic information that is encoded in each embedding vector - but we're likely to miss relevant surrounding context if we only use that information.\n",
        "\n",
        "Let's start by creating our \"parent documents\" and defining a `RecursiveCharacterTextSplitter`."
      ]
    },
    {
      "cell_type": "code",
      "execution_count": 35,
      "metadata": {
        "id": "qJ53JJuMd_ZH"
      },
      "outputs": [],
      "source": [
        "from langchain.retrievers import ParentDocumentRetriever\n",
        "from langchain.storage import InMemoryStore\n",
        "from langchain_text_splitters import RecursiveCharacterTextSplitter\n",
        "from qdrant_client import QdrantClient, models\n",
        "\n",
        "parent_docs = documents\n",
        "child_splitter = RecursiveCharacterTextSplitter(chunk_size=200)"
      ]
    },
    {
      "cell_type": "markdown",
      "metadata": {
        "id": "oOpXfVUH3gL3"
      },
      "source": [
        "We'll need to set up a new QDrant vectorstore - and we'll use another useful pattern to do so!\n",
        "\n",
        "> NOTE: We are manually defining our embedding dimension, you'll need to change this if you're using a different embedding model."
      ]
    },
    {
      "cell_type": "code",
      "execution_count": 37,
      "metadata": {
        "id": "rzFc-_9HlGQ-"
      },
      "outputs": [],
      "source": [
        "client = QdrantClient(location=\":memory:\")\n",
        "\n",
        "client.create_collection(\n",
        "    collection_name=\"full_documents\",\n",
        "    vectors_config=models.VectorParams(size=1536, distance=models.Distance.COSINE)\n",
        ")\n",
        "\n",
        "parent_document_vectorstore = Qdrant(\n",
        "    collection_name=\"full_documents\", embeddings=OpenAIEmbeddings(model=\"text-embedding-3-small\"), client=client\n",
        ")"
      ]
    },
    {
      "cell_type": "markdown",
      "metadata": {
        "id": "sf_g95FA3s6w"
      },
      "source": [
        "Now we can create our `InMemoryStore` that will hold our \"parent documents\" - and build our retriever!"
      ]
    },
    {
      "cell_type": "code",
      "execution_count": 38,
      "metadata": {
        "id": "BpWVjPf4fLUp"
      },
      "outputs": [],
      "source": [
        "store = InMemoryStore()\n",
        "\n",
        "parent_document_retriever = ParentDocumentRetriever(\n",
        "    vectorstore = parent_document_vectorstore,\n",
        "    docstore=store,\n",
        "    child_splitter=child_splitter,\n",
        ")"
      ]
    },
    {
      "cell_type": "markdown",
      "metadata": {
        "id": "KoYmSWfE32Zo"
      },
      "source": [
        "By default, this is empty as we haven't added any documents - let's add some now!"
      ]
    },
    {
      "cell_type": "code",
      "execution_count": 39,
      "metadata": {
        "id": "iQ2ZzfKigMZc"
      },
      "outputs": [],
      "source": [
        "parent_document_retriever.add_documents(parent_docs, ids=None)"
      ]
    },
    {
      "cell_type": "markdown",
      "metadata": {
        "id": "bI7Tip1335rE"
      },
      "source": [
        "We'll create the same chain we did before - but substitute our new `parent_document_retriever`."
      ]
    },
    {
      "cell_type": "code",
      "execution_count": 40,
      "metadata": {
        "id": "Qq_adt2KlSqp"
      },
      "outputs": [],
      "source": [
        "parent_document_retrieval_chain = (\n",
        "    {\"context\": itemgetter(\"question\") | parent_document_retriever, \"question\": itemgetter(\"question\")}\n",
        "    | RunnablePassthrough.assign(context=itemgetter(\"context\"))\n",
        "    | {\"response\": rag_prompt | chat_model, \"context\": itemgetter(\"context\")}\n",
        ")"
      ]
    },
    {
      "cell_type": "markdown",
      "metadata": {
        "id": "jNolUVQb4Apt"
      },
      "source": [
        "Let's give it a whirl!"
      ]
    },
    {
      "cell_type": "code",
      "execution_count": 41,
      "metadata": {
        "colab": {
          "base_uri": "https://localhost:8080/",
          "height": 53
        },
        "id": "TXB5i89Zly5W",
        "outputId": "b04f8330-edbc-4cb2-ad88-1a2490998af9"
      },
      "outputs": [
        {
          "data": {
            "application/vnd.google.colaboratory.intrinsic+json": {
              "type": "string"
            },
            "text/plain": [
              "'Based on the reviews provided, opinions about \"John Wick 4\" seem to be split. Some people really enjoyed the movie and thought it was the best in the series, while others did not like it at all. So, it is safe to say that the reception of \"John Wick 4\" among people varies.'"
            ]
          },
          "execution_count": 41,
          "metadata": {},
          "output_type": "execute_result"
        }
      ],
      "source": [
        "parent_document_retrieval_chain.invoke({\"question\" : \"Did people generally like John Wick?\"})[\"response\"].content"
      ]
    },
    {
      "cell_type": "code",
      "execution_count": 42,
      "metadata": {
        "colab": {
          "base_uri": "https://localhost:8080/",
          "height": 36
        },
        "id": "V5F1T-wNl3cg",
        "outputId": "c5b6cb81-4626-45fd-ecaf-be5c01737e98"
      },
      "outputs": [
        {
          "data": {
            "application/vnd.google.colaboratory.intrinsic+json": {
              "type": "string"
            },
            "text/plain": [
              "'Yes, there is a review that has a rating of 10. Here is the URL to that review: /review/rw4854296/?ref_=tt_urv'"
            ]
          },
          "execution_count": 42,
          "metadata": {},
          "output_type": "execute_result"
        }
      ],
      "source": [
        "parent_document_retrieval_chain.invoke({\"question\" : \"Do any reviews have a rating of 10? If so - can I have the URLs to those reviews?\"})[\"response\"].content"
      ]
    },
    {
      "cell_type": "code",
      "execution_count": 43,
      "metadata": {
        "colab": {
          "base_uri": "https://localhost:8080/",
          "height": 53
        },
        "id": "ZqARszGzvGcG",
        "outputId": "76f7ad84-b287-4548-82df-19286d45fa99"
      },
      "outputs": [
        {
          "data": {
            "application/vnd.google.colaboratory.intrinsic+json": {
              "type": "string"
            },
            "text/plain": [
              "\"In John Wick, a retired assassin named John Wick comes out of retirement when someone kills his dog. In the second movie, John is called to pay off an old debt by helping take over the Assassin's Guild by traveling to Italy, Canada, and Manhattan and killing numerous assassins.\""
            ]
          },
          "execution_count": 43,
          "metadata": {},
          "output_type": "execute_result"
        }
      ],
      "source": [
        "parent_document_retrieval_chain.invoke({\"question\" : \"What happened in John Wick?\"})[\"response\"].content"
      ]
    },
    {
      "cell_type": "markdown",
      "metadata": {
        "id": "B41cj42s4DPM"
      },
      "source": [
        "Overall, the performance *seems* largely the same. We can leverage a tool like [Ragas]() to more effectively answer the question about the performance."
      ]
    },
    {
      "cell_type": "markdown",
      "metadata": {
        "id": "VUrIBKl_TwS9"
      },
      "source": [
        "## Task 9: Ensemble Retriever\n",
        "\n",
        "In brief, an Ensemble Retriever simply takes 2, or more, retrievers and combines their retrieved documents based on a rank-fusion algorithm.\n",
        "\n",
        "In this case - we're using the [Reciprocal Rank Fusion](https://plg.uwaterloo.ca/~gvcormac/cormacksigir09-rrf.pdf) algorithm.\n",
        "\n",
        "Setting it up is as easy as providing a list of our desired retrievers - and the weights for each retriever."
      ]
    },
    {
      "cell_type": "code",
      "execution_count": 45,
      "metadata": {
        "id": "8j7jpZsKTxic"
      },
      "outputs": [],
      "source": [
        "from langchain.retrievers import EnsembleRetriever\n",
        "\n",
        "retriever_list = [bm25_retriever, naive_retriever, parent_document_retriever, compression_retriever, multi_query_retriever]\n",
        "equal_weighting = [1/len(retriever_list)] * len(retriever_list)\n",
        "\n",
        "ensemble_retriever = EnsembleRetriever(\n",
        "    retrievers=retriever_list, weights=equal_weighting\n",
        ")"
      ]
    },
    {
      "cell_type": "markdown",
      "metadata": {
        "id": "kpo9Psl5hhJ-"
      },
      "source": [
        "We'll pack *all* of these retrievers together in an ensemble."
      ]
    },
    {
      "cell_type": "code",
      "execution_count": 46,
      "metadata": {
        "id": "KZ__EZwpUKkd"
      },
      "outputs": [],
      "source": [
        "ensemble_retrieval_chain = (\n",
        "    {\"context\": itemgetter(\"question\") | ensemble_retriever, \"question\": itemgetter(\"question\")}\n",
        "    | RunnablePassthrough.assign(context=itemgetter(\"context\"))\n",
        "    | {\"response\": rag_prompt | chat_model, \"context\": itemgetter(\"context\")}\n",
        ")"
      ]
    },
    {
      "cell_type": "markdown",
      "metadata": {
        "id": "SSsvHpRMj24L"
      },
      "source": [
        "Let's look at our results!"
      ]
    },
    {
      "cell_type": "code",
      "execution_count": 47,
      "metadata": {
        "colab": {
          "base_uri": "https://localhost:8080/",
          "height": 36
        },
        "id": "0lMvqL88UQI-",
        "outputId": "e0bdb0a8-b7ae-466d-adfd-971dcd680277"
      },
      "outputs": [
        {
          "data": {
            "application/vnd.google.colaboratory.intrinsic+json": {
              "type": "string"
            },
            "text/plain": [
              "'Yes, people generally enjoyed John Wick based on the reviews provided.'"
            ]
          },
          "execution_count": 47,
          "metadata": {},
          "output_type": "execute_result"
        }
      ],
      "source": [
        "ensemble_retrieval_chain.invoke({\"question\" : \"Did people generally like John Wick?\"})[\"response\"].content"
      ]
    },
    {
      "cell_type": "code",
      "execution_count": 48,
      "metadata": {
        "colab": {
          "base_uri": "https://localhost:8080/",
          "height": 36
        },
        "id": "MNFWLYECURI1",
        "outputId": "ba5fcd3e-ba1b-4e85-d125-09e445211d63"
      },
      "outputs": [
        {
          "data": {
            "application/vnd.google.colaboratory.intrinsic+json": {
              "type": "string"
            },
            "text/plain": [
              "\"Yes, there is a review with a rating of 10. Here is the URL to that review: '/review/rw4854296/?ref_=tt_urv'\""
            ]
          },
          "execution_count": 48,
          "metadata": {},
          "output_type": "execute_result"
        }
      ],
      "source": [
        "ensemble_retrieval_chain.invoke({\"question\" : \"Do any reviews have a rating of 10? If so - can I have the URLs to those reviews?\"})[\"response\"].content"
      ]
    },
    {
      "cell_type": "code",
      "execution_count": 49,
      "metadata": {
        "colab": {
          "base_uri": "https://localhost:8080/",
          "height": 53
        },
        "id": "A7qbHfWgUR4c",
        "outputId": "b5db2e94-2e4f-4370-8c9f-4a1fd43f35a8"
      },
      "outputs": [
        {
          "data": {
            "application/vnd.google.colaboratory.intrinsic+json": {
              "type": "string"
            },
            "text/plain": [
              "'In \"John Wick,\" the main character, a retired hitman named John Wick, seeks revenge after gangsters kill his dog and steal his car. This sets off a chain of violent events as he goes after those responsible. His quest for vengeance leads to intense action sequences and numerous encounters with other assassins and criminals.'"
            ]
          },
          "execution_count": 49,
          "metadata": {},
          "output_type": "execute_result"
        }
      ],
      "source": [
        "ensemble_retrieval_chain.invoke({\"question\" : \"What happened in John Wick?\"})[\"response\"].content"
      ]
    },
    {
      "cell_type": "markdown",
      "metadata": {
        "id": "MopbkNJAXVaN"
      },
      "source": [
        "## Task 10: Semantic Chunking\n",
        "\n",
        "While this is not a retrieval method - it *is* an effective way of increasing retrieval performance on corpora that have clean semantic breaks in them.\n",
        "\n",
        "Essentially, Semantic Chunking is implemented by:\n",
        "\n",
        "1. Embedding all sentences in the corpus.\n",
        "2. Combining or splitting sequences of sentences based on their semantic similarity based on a number of [possible thresholding methods](https://python.langchain.com/docs/how_to/semantic-chunker/):\n",
        "  - `percentile`\n",
        "  - `standard_deviation`\n",
        "  - `interquartile`\n",
        "  - `gradient`\n",
        "3. Each sequence of related sentences is kept as a document!\n",
        "\n",
        "Let's see how to implement this!\n",
        "\n",
        "> NOTE: You do not need to run this cell if you're running this locally"
      ]
    },
    {
      "cell_type": "code",
      "execution_count": 50,
      "metadata": {
        "colab": {
          "base_uri": "https://localhost:8080/"
        },
        "id": "1dHeB-yGXneL",
        "outputId": "12ea7b6c-ebd9-40ff-aa0d-b4f07392a24b"
      },
      "outputs": [
        {
          "name": "stdout",
          "output_type": "stream",
          "text": [
            "\u001b[?25l   \u001b[90m━━━━━━━━━━━━━━━━━━━━━━━━━━━━━━━━━━━━━━━━\u001b[0m \u001b[32m0.0/209.2 kB\u001b[0m \u001b[31m?\u001b[0m eta \u001b[36m-:--:--\u001b[0m\r\u001b[2K   \u001b[91m━━━━━━━━━━━━━━━━━━━━━\u001b[0m\u001b[91m╸\u001b[0m\u001b[90m━━━━━━━━━━━━━━━━━━\u001b[0m \u001b[32m112.6/209.2 kB\u001b[0m \u001b[31m3.1 MB/s\u001b[0m eta \u001b[36m0:00:01\u001b[0m\r\u001b[2K   \u001b[90m━━━━━━━━━━━━━━━━━━━━━━━━━━━━━━━━━━━━━━━━\u001b[0m \u001b[32m209.2/209.2 kB\u001b[0m \u001b[31m3.3 MB/s\u001b[0m eta \u001b[36m0:00:00\u001b[0m\n",
            "\u001b[?25h"
          ]
        }
      ],
      "source": [
        "!pip install -qU langchain_experimental"
      ]
    },
    {
      "cell_type": "markdown",
      "metadata": {
        "id": "U9ciZbFEldv_"
      },
      "source": [
        "We'll use the `percentile` thresholding method for this example which will:\n",
        "\n",
        "Calculate all distances between sentences, and then break apart sequences of setences that exceed a given percentile among all distances."
      ]
    },
    {
      "cell_type": "code",
      "execution_count": 51,
      "metadata": {
        "id": "66EIEWiEYl5y"
      },
      "outputs": [],
      "source": [
        "from langchain_experimental.text_splitter import SemanticChunker\n",
        "\n",
        "semantic_chunker = SemanticChunker(\n",
        "    embeddings,\n",
        "    breakpoint_threshold_type=\"percentile\"\n",
        ")"
      ]
    },
    {
      "cell_type": "markdown",
      "metadata": {
        "id": "YqoKmz12mhRW"
      },
      "source": [
        "Now we can split our documents."
      ]
    },
    {
      "cell_type": "code",
      "execution_count": 52,
      "metadata": {
        "id": "ROcV7o68ZIq7"
      },
      "outputs": [],
      "source": [
        "semantic_documents = semantic_chunker.split_documents(documents)"
      ]
    },
    {
      "cell_type": "markdown",
      "metadata": {
        "id": "L8-LNC-Xmjex"
      },
      "source": [
        "Let's create a new vector store."
      ]
    },
    {
      "cell_type": "code",
      "execution_count": 53,
      "metadata": {
        "id": "h3sl9QjyZhIe"
      },
      "outputs": [],
      "source": [
        "semantic_vectorstore = Qdrant.from_documents(\n",
        "    semantic_documents,\n",
        "    embeddings,\n",
        "    location=\":memory:\",\n",
        "    collection_name=\"JohnWickSemantic\"\n",
        ")"
      ]
    },
    {
      "cell_type": "markdown",
      "metadata": {
        "id": "Eh_r_-LHmmKn"
      },
      "source": [
        "We'll use naive retrieval for this example."
      ]
    },
    {
      "cell_type": "code",
      "execution_count": 54,
      "metadata": {
        "id": "odVyDUHwZftc"
      },
      "outputs": [],
      "source": [
        "semantic_retriever = semantic_vectorstore.as_retriever(search_kwargs={\"k\" : 10})"
      ]
    },
    {
      "cell_type": "markdown",
      "metadata": {
        "id": "Mkeiv_ojmp6G"
      },
      "source": [
        "Finally we can create our classic chain!"
      ]
    },
    {
      "cell_type": "code",
      "execution_count": 55,
      "metadata": {
        "id": "xWE_0J0mZveG"
      },
      "outputs": [],
      "source": [
        "semantic_retrieval_chain = (\n",
        "    {\"context\": itemgetter(\"question\") | semantic_retriever, \"question\": itemgetter(\"question\")}\n",
        "    | RunnablePassthrough.assign(context=itemgetter(\"context\"))\n",
        "    | {\"response\": rag_prompt | chat_model, \"context\": itemgetter(\"context\")}\n",
        ")"
      ]
    },
    {
      "cell_type": "markdown",
      "metadata": {
        "id": "R5pfjLQ3ms9_"
      },
      "source": [
        "And view the results!"
      ]
    },
    {
      "cell_type": "code",
      "execution_count": 56,
      "metadata": {
        "colab": {
          "base_uri": "https://localhost:8080/",
          "height": 36
        },
        "id": "0lN2j-e4Z0SD",
        "outputId": "7d29aa7e-7769-4647-c2ea-c72c4896fb6e"
      },
      "outputs": [
        {
          "data": {
            "application/vnd.google.colaboratory.intrinsic+json": {
              "type": "string"
            },
            "text/plain": [
              "'Based on the reviews provided, most people seem to have enjoyed the John Wick movies.'"
            ]
          },
          "execution_count": 56,
          "metadata": {},
          "output_type": "execute_result"
        }
      ],
      "source": [
        "semantic_retrieval_chain.invoke({\"question\" : \"Did people generally like John Wick?\"})[\"response\"].content"
      ]
    },
    {
      "cell_type": "code",
      "execution_count": 57,
      "metadata": {
        "colab": {
          "base_uri": "https://localhost:8080/",
          "height": 36
        },
        "id": "xdqfBH1SZ3f9",
        "outputId": "cfb46d11-dc62-4bec-a389-f4144589eb3a"
      },
      "outputs": [
        {
          "data": {
            "application/vnd.google.colaboratory.intrinsic+json": {
              "type": "string"
            },
            "text/plain": [
              "\"Yes, there is one review with a rating of 10. Here is the URL to that review: '/review/rw4854296/?ref_=tt_urv'\""
            ]
          },
          "execution_count": 57,
          "metadata": {},
          "output_type": "execute_result"
        }
      ],
      "source": [
        "semantic_retrieval_chain.invoke({\"question\" : \"Do any reviews have a rating of 10? If so - can I have the URLs to those reviews?\"})[\"response\"].content"
      ]
    },
    {
      "cell_type": "code",
      "execution_count": 58,
      "metadata": {
        "colab": {
          "base_uri": "https://localhost:8080/",
          "height": 53
        },
        "id": "rAcAObZnZ4o6",
        "outputId": "d4328e24-0921-4fd7-9919-ad100745bf8d"
      },
      "outputs": [
        {
          "data": {
            "application/vnd.google.colaboratory.intrinsic+json": {
              "type": "string"
            },
            "text/plain": [
              "'In John Wick, the main character seeks revenge on the people who took something he loved from him, which was his dog. This sets off a chain of events where John Wick goes on a mission of vengeance against those who wronged him.'"
            ]
          },
          "execution_count": 58,
          "metadata": {},
          "output_type": "execute_result"
        }
      ],
      "source": [
        "semantic_retrieval_chain.invoke({\"question\" : \"What happened in John Wick?\"})[\"response\"].content"
      ]
    },
    {
      "cell_type": "markdown",
      "metadata": {
        "id": "xk2n3-pnVWDJ"
      },
      "source": [
        "# 🤝 Breakout Room Part #2"
      ]
    },
    {
      "cell_type": "markdown",
      "metadata": {
        "id": "2SkJLYwMVZkj"
      },
      "source": [
        "#### 🏗️ Activity #1\n",
        "\n",
        "Your task is to evaluate the various Retriever methods against eachother.\n",
        "\n",
        "You are expected to:\n",
        "\n",
        "1. Create a \"golden dataset\"\n",
        " - Use Synthetic Data Generation (powered by Ragas, or otherwise) to create this dataset\n",
        "2. Evaluate each retriever with *retriever specific* Ragas metrics\n",
        " - Semantic Chunking is not considered a retriever method and will not be required for marks, but you may find it useful to do a \"semantic chunking on\" vs. \"semantic chunking off\" comparision between them\n",
        "3. Compile these in a list and write a small paragraph about which is best for this particular data and why.\n",
        "\n",
        "Your analysis should factor in:\n",
        "  - Cost\n",
        "  - Latency\n",
        "  - Performance\n",
        "\n",
        "> NOTE: This is **NOT** required to be completed in class. Please spend time in your breakout rooms creating a plan before moving on to writing code."
      ]
    },
    {
      "cell_type": "markdown",
      "metadata": {
        "id": "TWAr16a5XMub"
      },
      "source": [
        "##### HINTS:\n",
        "\n",
        "- LangSmith provides detailed information about latency and cost."
      ]
    },
    {
      "cell_type": "code",
      "execution_count": 62,
      "metadata": {
        "id": "iMuTQYHeeKpL"
      },
      "outputs": [],
      "source": [
        "pip install -qU ragas==0.2.10\n"
      ]
    },
    {
      "cell_type": "code",
      "execution_count": 64,
      "metadata": {
        "colab": {
          "base_uri": "https://localhost:8080/"
        },
        "id": "HiuTDnm1eKag",
        "outputId": "2775db98-3fb7-4671-f71c-b9c556ab16c1"
      },
      "outputs": [
        {
          "name": "stdout",
          "output_type": "stream",
          "text": [
            "Collecting rapidfuzz\n",
            "  Downloading rapidfuzz-3.12.2-cp311-cp311-manylinux_2_17_x86_64.manylinux2014_x86_64.whl.metadata (12 kB)\n",
            "Downloading rapidfuzz-3.12.2-cp311-cp311-manylinux_2_17_x86_64.manylinux2014_x86_64.whl (3.1 MB)\n",
            "\u001b[2K   \u001b[90m━━━━━━━━━━━━━━━━━━━━━━━━━━━━━━━━━━━━━━━━\u001b[0m \u001b[32m3.1/3.1 MB\u001b[0m \u001b[31m24.2 MB/s\u001b[0m eta \u001b[36m0:00:00\u001b[0m\n",
            "\u001b[?25hInstalling collected packages: rapidfuzz\n",
            "Successfully installed rapidfuzz-3.12.2\n"
          ]
        }
      ],
      "source": [
        "pip install rapidfuzz"
      ]
    },
    {
      "cell_type": "code",
      "execution_count": 65,
      "metadata": {
        "colab": {
          "base_uri": "https://localhost:8080/",
          "height": 1000,
          "referenced_widgets": [
            "166090cc9be241ef8c0764af9e48a413",
            "fb66cff156f9434e8310d86c9544a7b1",
            "e262e4d28026492d8e90a3c1a55ab268",
            "1bfd1e99552b4172964a342884efeac4",
            "3d0f667156474747a0a9567e65f73196",
            "d5da4e95916345f681a0b3d6b1473f56",
            "f41a1915c7234f4f8880c442704eff15",
            "448f4e2070a84b8f8a978ed51ee6d539",
            "2e1c777c81854467b928e51ae3e5dbaf",
            "8eeb7ce8bee545fb991a724b613c7042",
            "83a7fe5f12ac4e23b098bb02e84bb772",
            "a0e573f12b2846739eed1e16861322fd",
            "d27a383334774f2b980f06d4347f4dcc",
            "176a0b1165da48979f3518611251f811",
            "c71baea7aa1547858a81116e45522a0c",
            "6e3cb04997254f4d846ce3a511453fe5",
            "13be06dc677348c6aef8dac60f9906da",
            "f0a5d35fda174143922a635bf78510bb",
            "dacaa511a9bd4336a846d766d1ad3cd6",
            "ceff72b7256a4dce857df4f5d60e5d51",
            "45e3952d13a04c7c9d0aa778e34074cd",
            "fb7fce9598344d949683e47d296263b3",
            "739324fab0c1478bb7e0d92b0c193b13",
            "3d539272c89d473681f2fea0dc2d3861",
            "fb6f2edf110846368ca9becf03ab8a70",
            "df35b2b77b584d0995bd9c2ed9ed8ab2",
            "75a1fc79b9934cba8a84a48b6798c1e1",
            "24968f4b5f6440e9813d81a71953fc99",
            "61378bc79c9546289c3f5988e558d269",
            "70d971615ce94787ba9c0c24ec5df53a",
            "6fbfa970d5504d87b147d5f7db777632",
            "8e16d6298fb94573adc252988c13cbd7",
            "82cd06e7845e4239a5ff53d79b03dbb6",
            "0f0d82367bf648e0a6a57571a27fe1be",
            "ce62d27bb1a94fe992b8cbda70ba41a1",
            "672bfd9687b94aaab0715753e3fde0fa",
            "b0d7d8140dcb4d92a5dbba7529bf0e4f",
            "c3b226c71f2e4d11b3ace68dbe64bce8",
            "033065d60d824918aceca261ceb1e43a",
            "346add48030f45888389da40a030fc32",
            "eeeee88eec514b019e0f2f1e6bc399c0",
            "4bbfdaf3a524461f9be7c9bfc6326889",
            "0de38dc519914ab99a976cdaae696299",
            "efc7549468314c3d8122951376048c94",
            "9743ba678b074072b20116b207cb786b",
            "20b54cb1fbe0492288c234279b18a58b",
            "d16d71cbfa6b4bdbbee035d05fea23ff",
            "0b81bf498a3544abbf208756b40f5817",
            "9c28726181654a52837a5c010ef395c5",
            "ddcaa7439fd5432982fa3bf0606070f4",
            "0f10a3d5f0f9457c85effebbe8b683a2",
            "6ceb82a417604a4bb728237b1813d19b",
            "d5764e7d1e8c48bfbfb39444965642b5",
            "43cd9999977a49e3bd0f8dd04a32b6c4",
            "149f5a9151f34c4582c832a12128da93",
            "d6ea310c87a34ee7b0b0a22c78b50ec3",
            "6565972771cc46d2a6b7d1dff927e79d",
            "91c9aa4e6041414b878ca982b782316e",
            "98dc9e7851bf4f7694d9bf7277570f91",
            "b9aa3a710baa4783a42a38abbaf261c1",
            "797461ce381c4345867cfa501a6b03ae",
            "3341058202af4a0c8e43d1f8a92e98cc",
            "cf2399978ee24dd1bb4f8e1ccbb5cc5d",
            "d91e24ca698f4401aa4e8cbb323923da",
            "fb9afc6f515d4431aecd1d680331693b",
            "b4e1c6b957b245f785eac92088390f6f",
            "fd3d9b4db72c4816992ff5c7b7e0b891",
            "abf0aaf990f04c2c961704ae5baa75df",
            "834db6d435d44d46bd8b55ec9c564262",
            "dc641a3dffa6456d84ffe1f5d6942c75",
            "75f30a174f1c4b9f82039d06c33fa104",
            "92c4b0d01c7c4542bbeb14880179083e",
            "8e60ecd10d414a0b91212d61e1ea1fd8",
            "65fcf3b2705846f4867d597c6020d998",
            "7f8d57eba155466b90d3fa152a038c40",
            "e3be905b538541e182fcf345bae9140a",
            "ce3f7198f14e4b63b3b92c0f2018df2c"
          ]
        },
        "id": "tgDICngKXLGK",
        "outputId": "8bde8df1-481e-410e-98ea-ba285dc8b3ba"
      },
      "outputs": [
        {
          "data": {
            "application/vnd.jupyter.widget-view+json": {
              "model_id": "166090cc9be241ef8c0764af9e48a413",
              "version_major": 2,
              "version_minor": 0
            },
            "text/plain": [
              "Applying SummaryExtractor:   0%|          | 0/44 [00:00<?, ?it/s]"
            ]
          },
          "metadata": {},
          "output_type": "display_data"
        },
        {
          "data": {
            "application/vnd.jupyter.widget-view+json": {
              "model_id": "a0e573f12b2846739eed1e16861322fd",
              "version_major": 2,
              "version_minor": 0
            },
            "text/plain": [
              "Applying CustomNodeFilter:   0%|          | 0/100 [00:00<?, ?it/s]"
            ]
          },
          "metadata": {},
          "output_type": "display_data"
        },
        {
          "name": "stderr",
          "output_type": "stream",
          "text": [
            "WARNING:ragas.testset.transforms.filters:Node 11c949b1-4d70-4614-91ec-c47dedfd0700 does not have a summary. Skipping filtering.\n",
            "WARNING:ragas.testset.transforms.filters:Node 756627ca-afd8-4206-ac5a-d05817a6cda0 does not have a summary. Skipping filtering.\n",
            "WARNING:ragas.testset.transforms.filters:Node 978b0f28-9f63-43d5-adde-c2c18faa1220 does not have a summary. Skipping filtering.\n",
            "WARNING:ragas.testset.transforms.filters:Node 366d46ba-d628-4abb-a1d9-2050636c9872 does not have a summary. Skipping filtering.\n",
            "WARNING:ragas.testset.transforms.filters:Node 66232499-e447-4d0c-a85e-4c25c4180322 does not have a summary. Skipping filtering.\n",
            "WARNING:ragas.testset.transforms.filters:Node c292caf4-cc4f-456d-8799-d75b876e4dec does not have a summary. Skipping filtering.\n",
            "WARNING:ragas.testset.transforms.filters:Node e1621ce4-70d3-4e9f-9385-167db161de46 does not have a summary. Skipping filtering.\n",
            "WARNING:ragas.testset.transforms.filters:Node 9953b528-aa9d-4178-928a-feba918af473 does not have a summary. Skipping filtering.\n",
            "WARNING:ragas.testset.transforms.filters:Node 21851381-d07e-4bfa-a549-51bad0d58613 does not have a summary. Skipping filtering.\n",
            "WARNING:ragas.testset.transforms.filters:Node c1eefef9-71b3-42db-a5f0-06da2733df4d does not have a summary. Skipping filtering.\n",
            "WARNING:ragas.testset.transforms.filters:Node 0de7bc52-3f8f-41a1-9771-e9ccb432306c does not have a summary. Skipping filtering.\n",
            "WARNING:ragas.testset.transforms.filters:Node 39319da2-64f3-4c24-bd68-cdbc3f22c003 does not have a summary. Skipping filtering.\n",
            "WARNING:ragas.testset.transforms.filters:Node b9d49c2c-71af-45d6-ac17-81783aa66af2 does not have a summary. Skipping filtering.\n",
            "WARNING:ragas.testset.transforms.filters:Node eadc5ce4-59a9-4072-9603-046d44b2a055 does not have a summary. Skipping filtering.\n",
            "WARNING:ragas.testset.transforms.filters:Node 6a895ca5-51a1-4005-8ef2-775536199fd7 does not have a summary. Skipping filtering.\n",
            "WARNING:ragas.testset.transforms.filters:Node 856c46d2-a34c-4a19-b8be-b0e6c815b029 does not have a summary. Skipping filtering.\n",
            "WARNING:ragas.testset.transforms.filters:Node 8662f297-bf09-4062-ac15-085769889f66 does not have a summary. Skipping filtering.\n",
            "WARNING:ragas.testset.transforms.filters:Node f8d08393-1d89-4cbf-960a-f8126d542731 does not have a summary. Skipping filtering.\n",
            "WARNING:ragas.testset.transforms.filters:Node 36ed021a-2be4-47b4-ae87-ebae966958ea does not have a summary. Skipping filtering.\n",
            "WARNING:ragas.testset.transforms.filters:Node 51458c97-392a-4407-abfb-017244b1be3c does not have a summary. Skipping filtering.\n",
            "WARNING:ragas.testset.transforms.filters:Node b6b507aa-9c4d-4561-9cb3-29070f59cc6e does not have a summary. Skipping filtering.\n",
            "WARNING:ragas.testset.transforms.filters:Node ad48aef6-9f31-4717-8fbd-2a1d8d209f70 does not have a summary. Skipping filtering.\n",
            "WARNING:ragas.testset.transforms.filters:Node e45c235e-9995-49ee-9c50-45a50b1bfe36 does not have a summary. Skipping filtering.\n",
            "WARNING:ragas.testset.transforms.filters:Node 03d07f4f-8bea-48f1-bebd-5167eaf57226 does not have a summary. Skipping filtering.\n",
            "WARNING:ragas.testset.transforms.filters:Node 083f48f2-ed40-414d-b3e4-deda7ce32940 does not have a summary. Skipping filtering.\n",
            "WARNING:ragas.testset.transforms.filters:Node aa356883-09dc-438a-b425-9917422b3bfc does not have a summary. Skipping filtering.\n",
            "WARNING:ragas.testset.transforms.filters:Node 92a89915-76fd-4b0b-8bd8-967612e7f451 does not have a summary. Skipping filtering.\n",
            "WARNING:ragas.testset.transforms.filters:Node 8c98249e-cbbc-4368-b567-e91213d071d9 does not have a summary. Skipping filtering.\n",
            "WARNING:ragas.testset.transforms.filters:Node fd23b4d5-35ea-48b0-a11b-1015fb243c60 does not have a summary. Skipping filtering.\n",
            "WARNING:ragas.testset.transforms.filters:Node 4fc8488e-39f5-4694-a8d6-d8737f263cda does not have a summary. Skipping filtering.\n",
            "WARNING:ragas.testset.transforms.filters:Node 87df8dc8-6aab-46e7-bf02-60f734ab55dc does not have a summary. Skipping filtering.\n",
            "WARNING:ragas.testset.transforms.filters:Node 8c0716cd-b6b5-4add-a9e0-0634c97c5363 does not have a summary. Skipping filtering.\n",
            "WARNING:ragas.testset.transforms.filters:Node b5200a35-c33a-4298-aefc-c54a6b083513 does not have a summary. Skipping filtering.\n",
            "WARNING:ragas.testset.transforms.filters:Node 5b27540e-4bd9-4e16-9fed-e1779f051066 does not have a summary. Skipping filtering.\n",
            "WARNING:ragas.testset.transforms.filters:Node 28b6bf15-e4a3-4d7b-994e-bc4a0b845dfc does not have a summary. Skipping filtering.\n",
            "WARNING:ragas.testset.transforms.filters:Node 920c4f6f-a0ba-4dcd-b721-a299a97e0fb5 does not have a summary. Skipping filtering.\n",
            "WARNING:ragas.testset.transforms.filters:Node ada6055f-711e-467f-88be-b8cad5e28a55 does not have a summary. Skipping filtering.\n",
            "WARNING:ragas.testset.transforms.filters:Node 0076acf5-3733-46c3-ba8b-0776edaa7c9d does not have a summary. Skipping filtering.\n",
            "WARNING:ragas.testset.transforms.filters:Node 8d88fbe7-30a7-4428-85c1-46785a5ee20e does not have a summary. Skipping filtering.\n",
            "WARNING:ragas.testset.transforms.filters:Node 524a62cc-cf14-406c-8ecf-2df5c3e10ba8 does not have a summary. Skipping filtering.\n",
            "WARNING:ragas.testset.transforms.filters:Node 52fac623-0a3a-47a9-b880-647c6a7d3f11 does not have a summary. Skipping filtering.\n",
            "WARNING:ragas.testset.transforms.filters:Node ac31d2f3-b5e0-430c-95df-fd95bbc99bae does not have a summary. Skipping filtering.\n",
            "WARNING:ragas.testset.transforms.filters:Node 5357decd-8986-446f-afe0-4991db16628c does not have a summary. Skipping filtering.\n",
            "WARNING:ragas.testset.transforms.filters:Node cf46582e-15bc-4c4d-9628-ec6f0de0b74e does not have a summary. Skipping filtering.\n",
            "WARNING:ragas.testset.transforms.filters:Node 79378e4e-68ea-478d-ae5f-04766fe41393 does not have a summary. Skipping filtering.\n",
            "WARNING:ragas.testset.transforms.filters:Node 842875c3-a53d-45ea-878e-50c46a6a5feb does not have a summary. Skipping filtering.\n",
            "WARNING:ragas.testset.transforms.filters:Node 4214892e-0d33-4b5f-bace-fd3ff332bf1f does not have a summary. Skipping filtering.\n",
            "WARNING:ragas.testset.transforms.filters:Node eafed978-832a-4b19-b172-12902fb619b8 does not have a summary. Skipping filtering.\n",
            "WARNING:ragas.testset.transforms.filters:Node 42886c35-6ba8-4dda-b984-960d7e3283c4 does not have a summary. Skipping filtering.\n",
            "WARNING:ragas.testset.transforms.filters:Node 40d73cca-316c-4571-b345-d941b81a5d02 does not have a summary. Skipping filtering.\n",
            "WARNING:ragas.testset.transforms.filters:Node 9e16c7a1-3075-4dde-a946-ff58f101dbf4 does not have a summary. Skipping filtering.\n",
            "WARNING:ragas.testset.transforms.filters:Node 4111d327-d669-4437-a013-9671eb08ae67 does not have a summary. Skipping filtering.\n",
            "WARNING:ragas.testset.transforms.filters:Node a15e9692-6085-4654-a554-c8c739a2db8c does not have a summary. Skipping filtering.\n",
            "WARNING:ragas.testset.transforms.filters:Node 8065bfd2-e096-4f5b-9cec-392e9f9613c7 does not have a summary. Skipping filtering.\n",
            "WARNING:ragas.testset.transforms.filters:Node ddaa0937-5349-448a-8e0c-9fcaab34d826 does not have a summary. Skipping filtering.\n",
            "WARNING:ragas.testset.transforms.filters:Node de7cd8e3-ef7c-490e-a305-bda6b15ee1f0 does not have a summary. Skipping filtering.\n"
          ]
        },
        {
          "data": {
            "application/vnd.jupyter.widget-view+json": {
              "model_id": "739324fab0c1478bb7e0d92b0c193b13",
              "version_major": 2,
              "version_minor": 0
            },
            "text/plain": [
              "Applying [EmbeddingExtractor, ThemesExtractor, NERExtractor]:   0%|          | 0/244 [00:00<?, ?it/s]"
            ]
          },
          "metadata": {},
          "output_type": "display_data"
        },
        {
          "data": {
            "application/vnd.jupyter.widget-view+json": {
              "model_id": "0f0d82367bf648e0a6a57571a27fe1be",
              "version_major": 2,
              "version_minor": 0
            },
            "text/plain": [
              "Applying OverlapScoreBuilder:   0%|          | 0/1 [00:00<?, ?it/s]"
            ]
          },
          "metadata": {},
          "output_type": "display_data"
        },
        {
          "data": {
            "application/vnd.jupyter.widget-view+json": {
              "model_id": "9743ba678b074072b20116b207cb786b",
              "version_major": 2,
              "version_minor": 0
            },
            "text/plain": [
              "Generating personas:   0%|          | 0/3 [00:00<?, ?it/s]"
            ]
          },
          "metadata": {},
          "output_type": "display_data"
        },
        {
          "data": {
            "application/vnd.jupyter.widget-view+json": {
              "model_id": "d6ea310c87a34ee7b0b0a22c78b50ec3",
              "version_major": 2,
              "version_minor": 0
            },
            "text/plain": [
              "Generating Scenarios:   0%|          | 0/2 [00:00<?, ?it/s]"
            ]
          },
          "metadata": {},
          "output_type": "display_data"
        },
        {
          "data": {
            "application/vnd.jupyter.widget-view+json": {
              "model_id": "fd3d9b4db72c4816992ff5c7b7e0b891",
              "version_major": 2,
              "version_minor": 0
            },
            "text/plain": [
              "Generating Samples:   0%|          | 0/10 [00:00<?, ?it/s]"
            ]
          },
          "metadata": {},
          "output_type": "display_data"
        }
      ],
      "source": [
        "### YOUR CODE HERE\n",
        "\n",
        "from ragas.testset import TestsetGenerator\n",
        "\n",
        "from ragas.llms import LangchainLLMWrapper\n",
        "from ragas.embeddings import LangchainEmbeddingsWrapper\n",
        "from langchain_openai import ChatOpenAI\n",
        "from langchain_openai import OpenAIEmbeddings\n",
        "generator_llm = LangchainLLMWrapper(ChatOpenAI(model=\"gpt-4o\"))\n",
        "generator_embeddings = LangchainEmbeddingsWrapper(OpenAIEmbeddings())\n",
        "\n",
        "generator = TestsetGenerator(llm=generator_llm, embedding_model=generator_embeddings)\n",
        "dataset = generator.generate_with_langchain_docs(documents, testset_size=10)\n",
        "\n",
        "\n",
        "\n",
        "\n",
        "\n"
      ]
    },
    {
      "cell_type": "code",
      "execution_count": 66,
      "metadata": {
        "colab": {
          "base_uri": "https://localhost:8080/",
          "height": 432
        },
        "id": "z4sLgb7rhIyh",
        "outputId": "f099f126-30a9-4de9-91d3-6ef3cb8660e6"
      },
      "outputs": [
        {
          "data": {
            "application/vnd.google.colaboratory.intrinsic+json": {
              "summary": "{\n  \"name\": \"dataset\",\n  \"rows\": 10,\n  \"fields\": [\n    {\n      \"column\": \"user_input\",\n      \"properties\": {\n        \"dtype\": \"string\",\n        \"num_unique_values\": 10,\n        \"samples\": [\n          \"In what ways does the first John Wick film exemplify the qualities of a near-perfect action movie, and how does it compare to its sequels in terms of plot and execution?\",\n          \"What prompted the critic to finally watch 'John Wick'?\",\n          \"Why John Wick 3 best action movie and how it compare to JOHN WICK?\"\n        ],\n        \"semantic_type\": \"\",\n        \"description\": \"\"\n      }\n    },\n    {\n      \"column\": \"reference_contexts\",\n      \"properties\": {\n        \"dtype\": \"object\",\n        \"semantic_type\": \"\",\n        \"description\": \"\"\n      }\n    },\n    {\n      \"column\": \"reference\",\n      \"properties\": {\n        \"dtype\": \"string\",\n        \"num_unique_values\": 10,\n        \"samples\": [\n          \"The first John Wick film is praised as a near-perfect action movie due to its relentless, pulse-pounding thriller nature, characterized by a simplistic yet emotionally intense plot line. It is noted for its lean, pared-down filmmaking that emphasizes intensity and momentum, drawing comparisons to classic international action films like POINT BLANK and THE RAID. In contrast, the sequels, particularly John Wick 3 and 4, are criticized for lacking imagination and creativity, with the plot and execution perceived as deteriorating over time. While John Wick 1 is highly regarded, the subsequent films are seen as failing to maintain the same level of quality, with John Wick 2 being considered just okay and the later sequels viewed as lacking artistic merit.\",\n          \"The critic decided to check out 'John Wick' after the fourth installment scored immensely at the cinemas and the previous three films were apparently loved by everyone else in the world.\",\n          \"John Wick 3 is considered the best action movie in recent years because it avoids the common pitfalls of shaky-cam and fast edits, instead offering clear and extraordinary stunts that are a joy to watch. In comparison, JOHN WICK is praised for being a relentless, pulse-pounding thriller with a simplistic yet emotionally intense plot, similar to classic action films like TAKEN and THE RAID.\"\n        ],\n        \"semantic_type\": \"\",\n        \"description\": \"\"\n      }\n    },\n    {\n      \"column\": \"synthesizer_name\",\n      \"properties\": {\n        \"dtype\": \"category\",\n        \"num_unique_values\": 2,\n        \"samples\": [\n          \"multi_hop_specific_query_synthesizer\",\n          \"single_hop_specifc_query_synthesizer\"\n        ],\n        \"semantic_type\": \"\",\n        \"description\": \"\"\n      }\n    }\n  ]\n}",
              "type": "dataframe"
            },
            "text/html": [
              "\n",
              "  <div id=\"df-937f2cb5-608f-4963-9397-48e2035acefc\" class=\"colab-df-container\">\n",
              "    <div>\n",
              "<style scoped>\n",
              "    .dataframe tbody tr th:only-of-type {\n",
              "        vertical-align: middle;\n",
              "    }\n",
              "\n",
              "    .dataframe tbody tr th {\n",
              "        vertical-align: top;\n",
              "    }\n",
              "\n",
              "    .dataframe thead th {\n",
              "        text-align: right;\n",
              "    }\n",
              "</style>\n",
              "<table border=\"1\" class=\"dataframe\">\n",
              "  <thead>\n",
              "    <tr style=\"text-align: right;\">\n",
              "      <th></th>\n",
              "      <th>user_input</th>\n",
              "      <th>reference_contexts</th>\n",
              "      <th>reference</th>\n",
              "      <th>synthesizer_name</th>\n",
              "    </tr>\n",
              "  </thead>\n",
              "  <tbody>\n",
              "    <tr>\n",
              "      <th>0</th>\n",
              "      <td>How does the film 'John Wick' maintain origina...</td>\n",
              "      <td>[: 0\\nReview: The best way I can describe John...</td>\n",
              "      <td>The film 'John Wick' maintains originality and...</td>\n",
              "      <td>single_hop_specifc_query_synthesizer</td>\n",
              "    </tr>\n",
              "    <tr>\n",
              "      <th>1</th>\n",
              "      <td>What prompted the critic to finally watch 'Joh...</td>\n",
              "      <td>[: 2\\nReview: With the fourth installment scor...</td>\n",
              "      <td>The critic decided to check out 'John Wick' af...</td>\n",
              "      <td>single_hop_specifc_query_synthesizer</td>\n",
              "    </tr>\n",
              "    <tr>\n",
              "      <th>2</th>\n",
              "      <td>What makes the action sequences in John Wick s...</td>\n",
              "      <td>[: 3\\nReview: John wick has a very simple reve...</td>\n",
              "      <td>The action sequences in John Wick stand out du...</td>\n",
              "      <td>single_hop_specifc_query_synthesizer</td>\n",
              "    </tr>\n",
              "    <tr>\n",
              "      <th>3</th>\n",
              "      <td>Wut makes Jonh Wick such an exciting action fi...</td>\n",
              "      <td>[: 4\\nReview: Though he no longer has a taste ...</td>\n",
              "      <td>John Wick is exciting for action film enthusia...</td>\n",
              "      <td>single_hop_specifc_query_synthesizer</td>\n",
              "    </tr>\n",
              "    <tr>\n",
              "      <th>4</th>\n",
              "      <td>How does the portrayal of Russian characters c...</td>\n",
              "      <td>[: 5\\nReview: Ultra-violent first entry with l...</td>\n",
              "      <td>In the original John Wick (2014), the narrativ...</td>\n",
              "      <td>single_hop_specifc_query_synthesizer</td>\n",
              "    </tr>\n",
              "    <tr>\n",
              "      <th>5</th>\n",
              "      <td>Why John Wick 3 best action movie and how it c...</td>\n",
              "      <td>[&lt;1-hop&gt;\\n\\n: 16\\nReview: John Wick 3 is witho...</td>\n",
              "      <td>John Wick 3 is considered the best action movi...</td>\n",
              "      <td>multi_hop_specific_query_synthesizer</td>\n",
              "    </tr>\n",
              "    <tr>\n",
              "      <th>6</th>\n",
              "      <td>How do the reviews of John Wick 3 and John Wic...</td>\n",
              "      <td>[&lt;1-hop&gt;\\n\\n: 16\\nReview: John Wick 3 is witho...</td>\n",
              "      <td>The review of John Wick 3 praises it as the be...</td>\n",
              "      <td>multi_hop_specific_query_synthesizer</td>\n",
              "    </tr>\n",
              "    <tr>\n",
              "      <th>7</th>\n",
              "      <td>What are the contrasting opinions on the John ...</td>\n",
              "      <td>[&lt;1-hop&gt;\\n\\n: 11\\nReview: JOHN WICK is a rare ...</td>\n",
              "      <td>The John Wick series is generally praised for ...</td>\n",
              "      <td>multi_hop_specific_query_synthesizer</td>\n",
              "    </tr>\n",
              "    <tr>\n",
              "      <th>8</th>\n",
              "      <td>In what ways does the first John Wick film exe...</td>\n",
              "      <td>[&lt;1-hop&gt;\\n\\n: 11\\nReview: JOHN WICK is a rare ...</td>\n",
              "      <td>The first John Wick film is praised as a near-...</td>\n",
              "      <td>multi_hop_specific_query_synthesizer</td>\n",
              "    </tr>\n",
              "    <tr>\n",
              "      <th>9</th>\n",
              "      <td>In what ways does 'John Wick: Chapter 3 - Para...</td>\n",
              "      <td>[&lt;1-hop&gt;\\n\\n: 21\\nReview: ..THE FILM-MAKERS, {...</td>\n",
              "      <td>'John Wick: Chapter 3 - Parabellum' explores t...</td>\n",
              "      <td>multi_hop_specific_query_synthesizer</td>\n",
              "    </tr>\n",
              "  </tbody>\n",
              "</table>\n",
              "</div>\n",
              "    <div class=\"colab-df-buttons\">\n",
              "\n",
              "  <div class=\"colab-df-container\">\n",
              "    <button class=\"colab-df-convert\" onclick=\"convertToInteractive('df-937f2cb5-608f-4963-9397-48e2035acefc')\"\n",
              "            title=\"Convert this dataframe to an interactive table.\"\n",
              "            style=\"display:none;\">\n",
              "\n",
              "  <svg xmlns=\"http://www.w3.org/2000/svg\" height=\"24px\" viewBox=\"0 -960 960 960\">\n",
              "    <path d=\"M120-120v-720h720v720H120Zm60-500h600v-160H180v160Zm220 220h160v-160H400v160Zm0 220h160v-160H400v160ZM180-400h160v-160H180v160Zm440 0h160v-160H620v160ZM180-180h160v-160H180v160Zm440 0h160v-160H620v160Z\"/>\n",
              "  </svg>\n",
              "    </button>\n",
              "\n",
              "  <style>\n",
              "    .colab-df-container {\n",
              "      display:flex;\n",
              "      gap: 12px;\n",
              "    }\n",
              "\n",
              "    .colab-df-convert {\n",
              "      background-color: #E8F0FE;\n",
              "      border: none;\n",
              "      border-radius: 50%;\n",
              "      cursor: pointer;\n",
              "      display: none;\n",
              "      fill: #1967D2;\n",
              "      height: 32px;\n",
              "      padding: 0 0 0 0;\n",
              "      width: 32px;\n",
              "    }\n",
              "\n",
              "    .colab-df-convert:hover {\n",
              "      background-color: #E2EBFA;\n",
              "      box-shadow: 0px 1px 2px rgba(60, 64, 67, 0.3), 0px 1px 3px 1px rgba(60, 64, 67, 0.15);\n",
              "      fill: #174EA6;\n",
              "    }\n",
              "\n",
              "    .colab-df-buttons div {\n",
              "      margin-bottom: 4px;\n",
              "    }\n",
              "\n",
              "    [theme=dark] .colab-df-convert {\n",
              "      background-color: #3B4455;\n",
              "      fill: #D2E3FC;\n",
              "    }\n",
              "\n",
              "    [theme=dark] .colab-df-convert:hover {\n",
              "      background-color: #434B5C;\n",
              "      box-shadow: 0px 1px 3px 1px rgba(0, 0, 0, 0.15);\n",
              "      filter: drop-shadow(0px 1px 2px rgba(0, 0, 0, 0.3));\n",
              "      fill: #FFFFFF;\n",
              "    }\n",
              "  </style>\n",
              "\n",
              "    <script>\n",
              "      const buttonEl =\n",
              "        document.querySelector('#df-937f2cb5-608f-4963-9397-48e2035acefc button.colab-df-convert');\n",
              "      buttonEl.style.display =\n",
              "        google.colab.kernel.accessAllowed ? 'block' : 'none';\n",
              "\n",
              "      async function convertToInteractive(key) {\n",
              "        const element = document.querySelector('#df-937f2cb5-608f-4963-9397-48e2035acefc');\n",
              "        const dataTable =\n",
              "          await google.colab.kernel.invokeFunction('convertToInteractive',\n",
              "                                                    [key], {});\n",
              "        if (!dataTable) return;\n",
              "\n",
              "        const docLinkHtml = 'Like what you see? Visit the ' +\n",
              "          '<a target=\"_blank\" href=https://colab.research.google.com/notebooks/data_table.ipynb>data table notebook</a>'\n",
              "          + ' to learn more about interactive tables.';\n",
              "        element.innerHTML = '';\n",
              "        dataTable['output_type'] = 'display_data';\n",
              "        await google.colab.output.renderOutput(dataTable, element);\n",
              "        const docLink = document.createElement('div');\n",
              "        docLink.innerHTML = docLinkHtml;\n",
              "        element.appendChild(docLink);\n",
              "      }\n",
              "    </script>\n",
              "  </div>\n",
              "\n",
              "\n",
              "<div id=\"df-201d8a78-7985-4818-b436-6eef35e77ffb\">\n",
              "  <button class=\"colab-df-quickchart\" onclick=\"quickchart('df-201d8a78-7985-4818-b436-6eef35e77ffb')\"\n",
              "            title=\"Suggest charts\"\n",
              "            style=\"display:none;\">\n",
              "\n",
              "<svg xmlns=\"http://www.w3.org/2000/svg\" height=\"24px\"viewBox=\"0 0 24 24\"\n",
              "     width=\"24px\">\n",
              "    <g>\n",
              "        <path d=\"M19 3H5c-1.1 0-2 .9-2 2v14c0 1.1.9 2 2 2h14c1.1 0 2-.9 2-2V5c0-1.1-.9-2-2-2zM9 17H7v-7h2v7zm4 0h-2V7h2v10zm4 0h-2v-4h2v4z\"/>\n",
              "    </g>\n",
              "</svg>\n",
              "  </button>\n",
              "\n",
              "<style>\n",
              "  .colab-df-quickchart {\n",
              "      --bg-color: #E8F0FE;\n",
              "      --fill-color: #1967D2;\n",
              "      --hover-bg-color: #E2EBFA;\n",
              "      --hover-fill-color: #174EA6;\n",
              "      --disabled-fill-color: #AAA;\n",
              "      --disabled-bg-color: #DDD;\n",
              "  }\n",
              "\n",
              "  [theme=dark] .colab-df-quickchart {\n",
              "      --bg-color: #3B4455;\n",
              "      --fill-color: #D2E3FC;\n",
              "      --hover-bg-color: #434B5C;\n",
              "      --hover-fill-color: #FFFFFF;\n",
              "      --disabled-bg-color: #3B4455;\n",
              "      --disabled-fill-color: #666;\n",
              "  }\n",
              "\n",
              "  .colab-df-quickchart {\n",
              "    background-color: var(--bg-color);\n",
              "    border: none;\n",
              "    border-radius: 50%;\n",
              "    cursor: pointer;\n",
              "    display: none;\n",
              "    fill: var(--fill-color);\n",
              "    height: 32px;\n",
              "    padding: 0;\n",
              "    width: 32px;\n",
              "  }\n",
              "\n",
              "  .colab-df-quickchart:hover {\n",
              "    background-color: var(--hover-bg-color);\n",
              "    box-shadow: 0 1px 2px rgba(60, 64, 67, 0.3), 0 1px 3px 1px rgba(60, 64, 67, 0.15);\n",
              "    fill: var(--button-hover-fill-color);\n",
              "  }\n",
              "\n",
              "  .colab-df-quickchart-complete:disabled,\n",
              "  .colab-df-quickchart-complete:disabled:hover {\n",
              "    background-color: var(--disabled-bg-color);\n",
              "    fill: var(--disabled-fill-color);\n",
              "    box-shadow: none;\n",
              "  }\n",
              "\n",
              "  .colab-df-spinner {\n",
              "    border: 2px solid var(--fill-color);\n",
              "    border-color: transparent;\n",
              "    border-bottom-color: var(--fill-color);\n",
              "    animation:\n",
              "      spin 1s steps(1) infinite;\n",
              "  }\n",
              "\n",
              "  @keyframes spin {\n",
              "    0% {\n",
              "      border-color: transparent;\n",
              "      border-bottom-color: var(--fill-color);\n",
              "      border-left-color: var(--fill-color);\n",
              "    }\n",
              "    20% {\n",
              "      border-color: transparent;\n",
              "      border-left-color: var(--fill-color);\n",
              "      border-top-color: var(--fill-color);\n",
              "    }\n",
              "    30% {\n",
              "      border-color: transparent;\n",
              "      border-left-color: var(--fill-color);\n",
              "      border-top-color: var(--fill-color);\n",
              "      border-right-color: var(--fill-color);\n",
              "    }\n",
              "    40% {\n",
              "      border-color: transparent;\n",
              "      border-right-color: var(--fill-color);\n",
              "      border-top-color: var(--fill-color);\n",
              "    }\n",
              "    60% {\n",
              "      border-color: transparent;\n",
              "      border-right-color: var(--fill-color);\n",
              "    }\n",
              "    80% {\n",
              "      border-color: transparent;\n",
              "      border-right-color: var(--fill-color);\n",
              "      border-bottom-color: var(--fill-color);\n",
              "    }\n",
              "    90% {\n",
              "      border-color: transparent;\n",
              "      border-bottom-color: var(--fill-color);\n",
              "    }\n",
              "  }\n",
              "</style>\n",
              "\n",
              "  <script>\n",
              "    async function quickchart(key) {\n",
              "      const quickchartButtonEl =\n",
              "        document.querySelector('#' + key + ' button');\n",
              "      quickchartButtonEl.disabled = true;  // To prevent multiple clicks.\n",
              "      quickchartButtonEl.classList.add('colab-df-spinner');\n",
              "      try {\n",
              "        const charts = await google.colab.kernel.invokeFunction(\n",
              "            'suggestCharts', [key], {});\n",
              "      } catch (error) {\n",
              "        console.error('Error during call to suggestCharts:', error);\n",
              "      }\n",
              "      quickchartButtonEl.classList.remove('colab-df-spinner');\n",
              "      quickchartButtonEl.classList.add('colab-df-quickchart-complete');\n",
              "    }\n",
              "    (() => {\n",
              "      let quickchartButtonEl =\n",
              "        document.querySelector('#df-201d8a78-7985-4818-b436-6eef35e77ffb button');\n",
              "      quickchartButtonEl.style.display =\n",
              "        google.colab.kernel.accessAllowed ? 'block' : 'none';\n",
              "    })();\n",
              "  </script>\n",
              "</div>\n",
              "\n",
              "    </div>\n",
              "  </div>\n"
            ],
            "text/plain": [
              "                                          user_input  \\\n",
              "0  How does the film 'John Wick' maintain origina...   \n",
              "1  What prompted the critic to finally watch 'Joh...   \n",
              "2  What makes the action sequences in John Wick s...   \n",
              "3  Wut makes Jonh Wick such an exciting action fi...   \n",
              "4  How does the portrayal of Russian characters c...   \n",
              "5  Why John Wick 3 best action movie and how it c...   \n",
              "6  How do the reviews of John Wick 3 and John Wic...   \n",
              "7  What are the contrasting opinions on the John ...   \n",
              "8  In what ways does the first John Wick film exe...   \n",
              "9  In what ways does 'John Wick: Chapter 3 - Para...   \n",
              "\n",
              "                                  reference_contexts  \\\n",
              "0  [: 0\\nReview: The best way I can describe John...   \n",
              "1  [: 2\\nReview: With the fourth installment scor...   \n",
              "2  [: 3\\nReview: John wick has a very simple reve...   \n",
              "3  [: 4\\nReview: Though he no longer has a taste ...   \n",
              "4  [: 5\\nReview: Ultra-violent first entry with l...   \n",
              "5  [<1-hop>\\n\\n: 16\\nReview: John Wick 3 is witho...   \n",
              "6  [<1-hop>\\n\\n: 16\\nReview: John Wick 3 is witho...   \n",
              "7  [<1-hop>\\n\\n: 11\\nReview: JOHN WICK is a rare ...   \n",
              "8  [<1-hop>\\n\\n: 11\\nReview: JOHN WICK is a rare ...   \n",
              "9  [<1-hop>\\n\\n: 21\\nReview: ..THE FILM-MAKERS, {...   \n",
              "\n",
              "                                           reference  \\\n",
              "0  The film 'John Wick' maintains originality and...   \n",
              "1  The critic decided to check out 'John Wick' af...   \n",
              "2  The action sequences in John Wick stand out du...   \n",
              "3  John Wick is exciting for action film enthusia...   \n",
              "4  In the original John Wick (2014), the narrativ...   \n",
              "5  John Wick 3 is considered the best action movi...   \n",
              "6  The review of John Wick 3 praises it as the be...   \n",
              "7  The John Wick series is generally praised for ...   \n",
              "8  The first John Wick film is praised as a near-...   \n",
              "9  'John Wick: Chapter 3 - Parabellum' explores t...   \n",
              "\n",
              "                       synthesizer_name  \n",
              "0  single_hop_specifc_query_synthesizer  \n",
              "1  single_hop_specifc_query_synthesizer  \n",
              "2  single_hop_specifc_query_synthesizer  \n",
              "3  single_hop_specifc_query_synthesizer  \n",
              "4  single_hop_specifc_query_synthesizer  \n",
              "5  multi_hop_specific_query_synthesizer  \n",
              "6  multi_hop_specific_query_synthesizer  \n",
              "7  multi_hop_specific_query_synthesizer  \n",
              "8  multi_hop_specific_query_synthesizer  \n",
              "9  multi_hop_specific_query_synthesizer  "
            ]
          },
          "execution_count": 66,
          "metadata": {},
          "output_type": "execute_result"
        }
      ],
      "source": [
        "dataset.to_pandas()\n"
      ]
    },
    {
      "cell_type": "markdown",
      "metadata": {
        "id": "o8hNtaHahVX7"
      },
      "source": [
        "If you've provided your Ragas API key - you can use this web interface to look at the created data!\n",
        "\n"
      ]
    },
    {
      "cell_type": "code",
      "execution_count": 70,
      "metadata": {
        "colab": {
          "base_uri": "https://localhost:8080/",
          "height": 53
        },
        "id": "h68QjdDphIkl",
        "outputId": "e74c213c-4109-421c-d0c5-78fa7d3fbb8a"
      },
      "outputs": [
        {
          "name": "stdout",
          "output_type": "stream",
          "text": [
            "Testset uploaded! View at https://app.ragas.io/dashboard/alignment/testset/aaca2042-614b-4fb5-aa04-29c93324c6d7\n"
          ]
        },
        {
          "data": {
            "application/vnd.google.colaboratory.intrinsic+json": {
              "type": "string"
            },
            "text/plain": [
              "'https://app.ragas.io/dashboard/alignment/testset/aaca2042-614b-4fb5-aa04-29c93324c6d7'"
            ]
          },
          "execution_count": 70,
          "metadata": {},
          "output_type": "execute_result"
        }
      ],
      "source": [
        "dataset.upload()\n"
      ]
    },
    {
      "cell_type": "markdown",
      "metadata": {
        "id": "xBxpZTr-iOt3"
      },
      "source": [
        "Define retrieval chain to evaluate"
      ]
    },
    {
      "cell_type": "code",
      "execution_count": 71,
      "metadata": {
        "id": "5QTtCyv-hIQa"
      },
      "outputs": [],
      "source": [
        "retrieval_chain = {\n",
        "    \"Naive\": naive_retrieval_chain,\n",
        "    \"BM25\": bm25_retrieval_chain,\n",
        "    \"Multi-Query\": multi_query_retrieval_chain,\n",
        "    \"Parent-Document\": parent_document_retrieval_chain,\n",
        "    \"Contextual Compression\": contextual_compression_retrieval_chain,\n",
        "    \"Ensemble\": ensemble_retrieval_chain,\n",
        "    \"Semantic\": semantic_retrieval_chain\n",
        "}"
      ]
    },
    {
      "cell_type": "markdown",
      "metadata": {
        "id": "EK3a8j5VjPgr"
      },
      "source": []
    },
    {
      "cell_type": "markdown",
      "metadata": {
        "id": "S4ID3x7ZiklL"
      },
      "source": [
        "**Run evaluations**"
      ]
    },
    {
      "cell_type": "markdown",
      "metadata": {
        "id": "aOKJmngnjQL6"
      },
      "source": [
        "We'll need to select a judge model - in this case we're using the same model that was used to generate our Synthetic Data.\n",
        "\n"
      ]
    },
    {
      "cell_type": "code",
      "execution_count": 102,
      "metadata": {
        "colab": {
          "base_uri": "https://localhost:8080/",
          "height": 1000,
          "referenced_widgets": [
            "7e5d5efcadf84fc9825199962ae24862",
            "4244fc0981fe435c8831e280b19e49a4",
            "addc5441e60e4cfda7f0df1f11d7ac43",
            "1bfb10d52db14ebaa9eaaf7ed2ed5e38",
            "933c7b7ce53943758dba01e190c8cf04",
            "f910986211a3496f8af5e08482df091d",
            "2f3bd02fa6d64d77bb0b4a7057eba307",
            "dad728a66f144decbeb0ae74c230b09e",
            "5b86fd1498444781a8774b9e8df63e42",
            "af120b80650241f89f462bd44486ff2d",
            "172bb3afd813479eb80dd71ef9a378da",
            "afdcf5f8fdad42d79a6d5df85882528e",
            "11fb7789a8f54f7a9ca8d395217b9575",
            "cc6517b047cb41fdace2d5a9ddaaa460",
            "57e06e49eb484bc1aeb93bffa6bc923b",
            "176a05f9446b436aaa0a5b6fb904297a",
            "072daae5a4184fcd856b0e3483a03ab1",
            "3f2796326e424964ac3286b18f5470ff",
            "d6e51d58e1214c628d0e2673fdf5a724",
            "93c2e60bf80442469c691c6d9c29def2",
            "1472ffffef9341dcb644cf16226133ee",
            "2df08e778d454ab18527a60f2ed885d6",
            "80ca0fa3ea9843758034fb7617c7e202",
            "d8bd51a58ac549959d9e31f53f5007c6",
            "cfb64df98c25404a8074f2a81ae1a27c",
            "d2a2a1b1d8824e98b2356230a897f90b",
            "197f14ff830f414d951aa038e24f11f9",
            "5a95c397bbab4892a8235a1fa04765c7",
            "24752537135f4f2e800841be78d1fbd4",
            "337c9f83ec48403581cde7879b2c193b",
            "8c1c13ae9ec2438ca9deeecd3a8c4d17",
            "b9a8f6efe7d04ea0bf60ef175f52f3f6",
            "6b09d93e18ac4c0ba3202231fef17bea",
            "2065353bcb734183816ec17327e31d15",
            "bc1e72c3892d4d4e89613ef83dec4a14",
            "d8b282d79e3d407d92864762d32dfbb7",
            "d676ba00651e45a88094710daa64e6d6",
            "a4836651219549fa94298f430069a8c3",
            "fe97d95e6cea4777bce99b8ab0c15100",
            "5eaf8a9a8ad6408e8a9b2c0f84a41050",
            "a087845c1bff47b9af010c6510899be9",
            "4f1cc0671f4148889a166df242b98a72",
            "e2cb8a0c5d2844f0857214c5efbfc0c7",
            "e8b343457c7646c586b8b720eb19d35c",
            "c5373cfada0b4a4abb471da5d9912e66",
            "216978dc0e7449e4828f4c3551ca1b33",
            "98699b5e222b48d69d339b2b30b90764",
            "1bc27cdb6a444b18aac4449c27d16a8e",
            "a103f1f6e16d4d4aa78c9874f14978ee",
            "6a9fee6231c34501b372eb24e5f2572e",
            "345db4a5aab94375992f9e204844322c",
            "4a6b692b9e99465fac569fbf410f0884",
            "07c2e20c2012410790d85f15e28bdb0d",
            "246beb4f090f41a583bba5dd15bc7bed",
            "47c4e4c0d27046a5ab5c741d358fef0e",
            "65f9d599466b4140b7e4e128306dddfc",
            "828bdd01d4784414871a57e898ba8564",
            "d6cedf85eb0f4a628c6c0a82fc19f107",
            "c70a36ddfabb4db890c7c96bffe5e331",
            "a0f0b3fc543a45faae2dba368ea942f0",
            "3b7214f257044ec593c577fcaeade221",
            "dcccc2face274142a4bdca32208cb096",
            "d9b7c13d55cb4d0bb116c3596c3224ca",
            "38d769c629744972bb38ef695e693ec6",
            "71b90f61a9a74432a8369cff0fa70a6d",
            "d228768fc75e467a93486921dff00c9c",
            "fc241b8198214e2f9a8d09a2f627896e",
            "b2c881215536480a870b66e7837e9878",
            "70f6a23d472347d9a36e3b04606f9cae",
            "ba076fb297d449adadf22c1519fcfe91",
            "d122dc527a804e5a9bcb57baa82c93c7",
            "50761f1863c140aab5e8d79b2d65589d",
            "8c8de98d7ee84470a46631b8e5f0fcfd",
            "a1cb96fb39344b139bae23f1429cb0f1",
            "4478ef95413f4955be106b2b7e40bf80",
            "1b7a88c6bcab465d9816693d1c1ead28",
            "2a1b1fcbb1a2433081def0d2d80de547"
          ]
        },
        "collapsed": true,
        "id": "1cUPAHO4isKY",
        "outputId": "34a58112-8b22-4fe9-e15e-83ecc69feebf"
      },
      "outputs": [
        {
          "name": "stdout",
          "output_type": "stream",
          "text": [
            "Evaluating Naive\n"
          ]
        },
        {
          "data": {
            "application/vnd.jupyter.widget-view+json": {
              "model_id": "7e5d5efcadf84fc9825199962ae24862",
              "version_major": 2,
              "version_minor": 0
            },
            "text/plain": [
              "Evaluating:   0%|          | 0/60 [00:00<?, ?it/s]"
            ]
          },
          "metadata": {},
          "output_type": "display_data"
        },
        {
          "name": "stderr",
          "output_type": "stream",
          "text": [
            "ERROR:ragas.executor:Exception raised in Job[5]: TimeoutError()\n",
            "ERROR:ragas.executor:Exception raised in Job[41]: TimeoutError()\n",
            "ERROR:ragas.executor:Exception raised in Job[53]: TimeoutError()\n"
          ]
        },
        {
          "name": "stdout",
          "output_type": "stream",
          "text": [
            "Finished evaluating Naive\n",
            "Evaluating BM25\n"
          ]
        },
        {
          "data": {
            "application/vnd.jupyter.widget-view+json": {
              "model_id": "afdcf5f8fdad42d79a6d5df85882528e",
              "version_major": 2,
              "version_minor": 0
            },
            "text/plain": [
              "Evaluating:   0%|          | 0/60 [00:00<?, ?it/s]"
            ]
          },
          "metadata": {},
          "output_type": "display_data"
        },
        {
          "name": "stderr",
          "output_type": "stream",
          "text": [
            "ERROR:ragas.executor:Exception raised in Job[32]: TypeError(ufunc 'invert' not supported for the input types, and the inputs could not be safely coerced to any supported types according to the casting rule ''safe'')\n"
          ]
        },
        {
          "name": "stdout",
          "output_type": "stream",
          "text": [
            "Finished evaluating BM25\n",
            "Evaluating Multi-Query\n"
          ]
        },
        {
          "data": {
            "application/vnd.jupyter.widget-view+json": {
              "model_id": "80ca0fa3ea9843758034fb7617c7e202",
              "version_major": 2,
              "version_minor": 0
            },
            "text/plain": [
              "Evaluating:   0%|          | 0/60 [00:00<?, ?it/s]"
            ]
          },
          "metadata": {},
          "output_type": "display_data"
        },
        {
          "name": "stderr",
          "output_type": "stream",
          "text": [
            "ERROR:ragas.executor:Exception raised in Job[5]: TimeoutError()\n",
            "ERROR:ragas.executor:Exception raised in Job[23]: TimeoutError()\n",
            "ERROR:ragas.executor:Exception raised in Job[29]: TimeoutError()\n",
            "ERROR:ragas.executor:Exception raised in Job[35]: TimeoutError()\n",
            "ERROR:ragas.executor:Exception raised in Job[41]: TimeoutError()\n",
            "ERROR:ragas.executor:Exception raised in Job[47]: TimeoutError()\n",
            "ERROR:ragas.executor:Exception raised in Job[53]: TimeoutError()\n",
            "ERROR:ragas.executor:Exception raised in Job[59]: TimeoutError()\n"
          ]
        },
        {
          "name": "stdout",
          "output_type": "stream",
          "text": [
            "Finished evaluating Multi-Query\n",
            "Evaluating Parent-Document\n"
          ]
        },
        {
          "data": {
            "application/vnd.jupyter.widget-view+json": {
              "model_id": "2065353bcb734183816ec17327e31d15",
              "version_major": 2,
              "version_minor": 0
            },
            "text/plain": [
              "Evaluating:   0%|          | 0/60 [00:00<?, ?it/s]"
            ]
          },
          "metadata": {},
          "output_type": "display_data"
        },
        {
          "name": "stdout",
          "output_type": "stream",
          "text": [
            "Finished evaluating Parent-Document\n",
            "Evaluating Contextual Compression\n"
          ]
        },
        {
          "data": {
            "application/vnd.jupyter.widget-view+json": {
              "model_id": "c5373cfada0b4a4abb471da5d9912e66",
              "version_major": 2,
              "version_minor": 0
            },
            "text/plain": [
              "Evaluating:   0%|          | 0/60 [00:00<?, ?it/s]"
            ]
          },
          "metadata": {},
          "output_type": "display_data"
        },
        {
          "name": "stdout",
          "output_type": "stream",
          "text": [
            "Finished evaluating Contextual Compression\n",
            "Evaluating Ensemble\n"
          ]
        },
        {
          "data": {
            "application/vnd.jupyter.widget-view+json": {
              "model_id": "65f9d599466b4140b7e4e128306dddfc",
              "version_major": 2,
              "version_minor": 0
            },
            "text/plain": [
              "Evaluating:   0%|          | 0/60 [00:00<?, ?it/s]"
            ]
          },
          "metadata": {},
          "output_type": "display_data"
        },
        {
          "name": "stderr",
          "output_type": "stream",
          "text": [
            "ERROR:ragas.executor:Exception raised in Job[5]: TimeoutError()\n",
            "ERROR:ragas.executor:Exception raised in Job[17]: TimeoutError()\n",
            "ERROR:ragas.executor:Exception raised in Job[23]: TimeoutError()\n",
            "ERROR:ragas.executor:Exception raised in Job[29]: TimeoutError()\n",
            "ERROR:ragas.executor:Exception raised in Job[35]: TimeoutError()\n",
            "ERROR:ragas.executor:Exception raised in Job[41]: TimeoutError()\n",
            "ERROR:ragas.executor:Exception raised in Job[47]: TimeoutError()\n",
            "ERROR:ragas.executor:Exception raised in Job[53]: TimeoutError()\n"
          ]
        },
        {
          "name": "stdout",
          "output_type": "stream",
          "text": [
            "Finished evaluating Ensemble\n",
            "Evaluating Semantic\n"
          ]
        },
        {
          "data": {
            "application/vnd.jupyter.widget-view+json": {
              "model_id": "fc241b8198214e2f9a8d09a2f627896e",
              "version_major": 2,
              "version_minor": 0
            },
            "text/plain": [
              "Evaluating:   0%|          | 0/60 [00:00<?, ?it/s]"
            ]
          },
          "metadata": {},
          "output_type": "display_data"
        },
        {
          "name": "stderr",
          "output_type": "stream",
          "text": [
            "ERROR:ragas.executor:Exception raised in Job[41]: TimeoutError()\n",
            "ERROR:ragas.executor:Exception raised in Job[53]: TimeoutError()\n"
          ]
        },
        {
          "name": "stdout",
          "output_type": "stream",
          "text": [
            "Finished evaluating Semantic\n"
          ]
        },
        {
          "data": {
            "application/vnd.google.colaboratory.intrinsic+json": {
              "repr_error": "Out of range float values are not JSON compliant: nan",
              "type": "dataframe",
              "variable_name": "retrieval_results_df"
            },
            "text/html": [
              "\n",
              "  <div id=\"df-c7b02b01-c493-4977-a322-995c3a44feee\" class=\"colab-df-container\">\n",
              "    <div>\n",
              "<style scoped>\n",
              "    .dataframe tbody tr th:only-of-type {\n",
              "        vertical-align: middle;\n",
              "    }\n",
              "\n",
              "    .dataframe tbody tr th {\n",
              "        vertical-align: top;\n",
              "    }\n",
              "\n",
              "    .dataframe thead th {\n",
              "        text-align: right;\n",
              "    }\n",
              "</style>\n",
              "<table border=\"1\" class=\"dataframe\">\n",
              "  <thead>\n",
              "    <tr style=\"text-align: right;\">\n",
              "      <th></th>\n",
              "      <th>scores</th>\n",
              "      <th>dataset</th>\n",
              "      <th>binary_columns</th>\n",
              "      <th>cost_cb</th>\n",
              "      <th>traces</th>\n",
              "      <th>ragas_traces</th>\n",
              "      <th>run_id</th>\n",
              "    </tr>\n",
              "  </thead>\n",
              "  <tbody>\n",
              "    <tr>\n",
              "      <th>Naive</th>\n",
              "      <td>[{'context_recall': 1.0, 'faithfulness': 0.875...</td>\n",
              "      <td>{'samples': [user_input=\"How does the film 'Jo...</td>\n",
              "      <td>[]</td>\n",
              "      <td>&lt;ragas.cost.CostCallbackHandler object at 0x79...</td>\n",
              "      <td>[{'scores': {'context_recall': 1.0, 'faithfuln...</td>\n",
              "      <td>{'b374e216-8c15-43ce-a984-d97c8e65dd0d': run_i...</td>\n",
              "      <td>None</td>\n",
              "    </tr>\n",
              "    <tr>\n",
              "      <th>BM25</th>\n",
              "      <td>[{'context_recall': 0.6666666666666666, 'faith...</td>\n",
              "      <td>{'samples': [user_input=\"How does the film 'Jo...</td>\n",
              "      <td>[]</td>\n",
              "      <td>&lt;ragas.cost.CostCallbackHandler object at 0x79...</td>\n",
              "      <td>[{'scores': {'context_recall': 0.6666666666666...</td>\n",
              "      <td>{'743935f0-4bc3-4166-ab84-a8d0899e1b57': run_i...</td>\n",
              "      <td>None</td>\n",
              "    </tr>\n",
              "    <tr>\n",
              "      <th>Multi-Query</th>\n",
              "      <td>[{'context_recall': 1.0, 'faithfulness': 0.8, ...</td>\n",
              "      <td>{'samples': [user_input=\"How does the film 'Jo...</td>\n",
              "      <td>[]</td>\n",
              "      <td>&lt;ragas.cost.CostCallbackHandler object at 0x79...</td>\n",
              "      <td>[{'scores': {'context_recall': 1.0, 'faithfuln...</td>\n",
              "      <td>{'89079530-9ca6-4809-8c02-f06e286436b7': run_i...</td>\n",
              "      <td>None</td>\n",
              "    </tr>\n",
              "    <tr>\n",
              "      <th>Parent-Document</th>\n",
              "      <td>[{'context_recall': 0.3333333333333333, 'faith...</td>\n",
              "      <td>{'samples': [user_input=\"How does the film 'Jo...</td>\n",
              "      <td>[]</td>\n",
              "      <td>&lt;ragas.cost.CostCallbackHandler object at 0x79...</td>\n",
              "      <td>[{'scores': {'context_recall': 0.3333333333333...</td>\n",
              "      <td>{'2af4c2f1-9223-4661-a0a7-268fe7152171': run_i...</td>\n",
              "      <td>None</td>\n",
              "    </tr>\n",
              "    <tr>\n",
              "      <th>Contextual Compression</th>\n",
              "      <td>[{'context_recall': 0.6666666666666666, 'faith...</td>\n",
              "      <td>{'samples': [user_input=\"How does the film 'Jo...</td>\n",
              "      <td>[]</td>\n",
              "      <td>&lt;ragas.cost.CostCallbackHandler object at 0x79...</td>\n",
              "      <td>[{'scores': {'context_recall': 0.6666666666666...</td>\n",
              "      <td>{'ca7760d7-8f3e-4929-9228-7225e840b24b': run_i...</td>\n",
              "      <td>None</td>\n",
              "    </tr>\n",
              "    <tr>\n",
              "      <th>Ensemble</th>\n",
              "      <td>[{'context_recall': 1.0, 'faithfulness': 1.0, ...</td>\n",
              "      <td>{'samples': [user_input=\"How does the film 'Jo...</td>\n",
              "      <td>[]</td>\n",
              "      <td>&lt;ragas.cost.CostCallbackHandler object at 0x79...</td>\n",
              "      <td>[{'scores': {'context_recall': 1.0, 'faithfuln...</td>\n",
              "      <td>{'62c61bea-b993-4691-a77c-18fe33f825e0': run_i...</td>\n",
              "      <td>None</td>\n",
              "    </tr>\n",
              "    <tr>\n",
              "      <th>Semantic</th>\n",
              "      <td>[{'context_recall': 1.0, 'faithfulness': 0.8, ...</td>\n",
              "      <td>{'samples': [user_input=\"How does the film 'Jo...</td>\n",
              "      <td>[]</td>\n",
              "      <td>&lt;ragas.cost.CostCallbackHandler object at 0x79...</td>\n",
              "      <td>[{'scores': {'context_recall': 1.0, 'faithfuln...</td>\n",
              "      <td>{'8a310e29-7ef7-4c05-ad8d-7135d70cc0ee': run_i...</td>\n",
              "      <td>None</td>\n",
              "    </tr>\n",
              "  </tbody>\n",
              "</table>\n",
              "</div>\n",
              "    <div class=\"colab-df-buttons\">\n",
              "\n",
              "  <div class=\"colab-df-container\">\n",
              "    <button class=\"colab-df-convert\" onclick=\"convertToInteractive('df-c7b02b01-c493-4977-a322-995c3a44feee')\"\n",
              "            title=\"Convert this dataframe to an interactive table.\"\n",
              "            style=\"display:none;\">\n",
              "\n",
              "  <svg xmlns=\"http://www.w3.org/2000/svg\" height=\"24px\" viewBox=\"0 -960 960 960\">\n",
              "    <path d=\"M120-120v-720h720v720H120Zm60-500h600v-160H180v160Zm220 220h160v-160H400v160Zm0 220h160v-160H400v160ZM180-400h160v-160H180v160Zm440 0h160v-160H620v160ZM180-180h160v-160H180v160Zm440 0h160v-160H620v160Z\"/>\n",
              "  </svg>\n",
              "    </button>\n",
              "\n",
              "  <style>\n",
              "    .colab-df-container {\n",
              "      display:flex;\n",
              "      gap: 12px;\n",
              "    }\n",
              "\n",
              "    .colab-df-convert {\n",
              "      background-color: #E8F0FE;\n",
              "      border: none;\n",
              "      border-radius: 50%;\n",
              "      cursor: pointer;\n",
              "      display: none;\n",
              "      fill: #1967D2;\n",
              "      height: 32px;\n",
              "      padding: 0 0 0 0;\n",
              "      width: 32px;\n",
              "    }\n",
              "\n",
              "    .colab-df-convert:hover {\n",
              "      background-color: #E2EBFA;\n",
              "      box-shadow: 0px 1px 2px rgba(60, 64, 67, 0.3), 0px 1px 3px 1px rgba(60, 64, 67, 0.15);\n",
              "      fill: #174EA6;\n",
              "    }\n",
              "\n",
              "    .colab-df-buttons div {\n",
              "      margin-bottom: 4px;\n",
              "    }\n",
              "\n",
              "    [theme=dark] .colab-df-convert {\n",
              "      background-color: #3B4455;\n",
              "      fill: #D2E3FC;\n",
              "    }\n",
              "\n",
              "    [theme=dark] .colab-df-convert:hover {\n",
              "      background-color: #434B5C;\n",
              "      box-shadow: 0px 1px 3px 1px rgba(0, 0, 0, 0.15);\n",
              "      filter: drop-shadow(0px 1px 2px rgba(0, 0, 0, 0.3));\n",
              "      fill: #FFFFFF;\n",
              "    }\n",
              "  </style>\n",
              "\n",
              "    <script>\n",
              "      const buttonEl =\n",
              "        document.querySelector('#df-c7b02b01-c493-4977-a322-995c3a44feee button.colab-df-convert');\n",
              "      buttonEl.style.display =\n",
              "        google.colab.kernel.accessAllowed ? 'block' : 'none';\n",
              "\n",
              "      async function convertToInteractive(key) {\n",
              "        const element = document.querySelector('#df-c7b02b01-c493-4977-a322-995c3a44feee');\n",
              "        const dataTable =\n",
              "          await google.colab.kernel.invokeFunction('convertToInteractive',\n",
              "                                                    [key], {});\n",
              "        if (!dataTable) return;\n",
              "\n",
              "        const docLinkHtml = 'Like what you see? Visit the ' +\n",
              "          '<a target=\"_blank\" href=https://colab.research.google.com/notebooks/data_table.ipynb>data table notebook</a>'\n",
              "          + ' to learn more about interactive tables.';\n",
              "        element.innerHTML = '';\n",
              "        dataTable['output_type'] = 'display_data';\n",
              "        await google.colab.output.renderOutput(dataTable, element);\n",
              "        const docLink = document.createElement('div');\n",
              "        docLink.innerHTML = docLinkHtml;\n",
              "        element.appendChild(docLink);\n",
              "      }\n",
              "    </script>\n",
              "  </div>\n",
              "\n",
              "\n",
              "<div id=\"df-74b351f7-f3ba-4a67-b7d7-99d184aae1bc\">\n",
              "  <button class=\"colab-df-quickchart\" onclick=\"quickchart('df-74b351f7-f3ba-4a67-b7d7-99d184aae1bc')\"\n",
              "            title=\"Suggest charts\"\n",
              "            style=\"display:none;\">\n",
              "\n",
              "<svg xmlns=\"http://www.w3.org/2000/svg\" height=\"24px\"viewBox=\"0 0 24 24\"\n",
              "     width=\"24px\">\n",
              "    <g>\n",
              "        <path d=\"M19 3H5c-1.1 0-2 .9-2 2v14c0 1.1.9 2 2 2h14c1.1 0 2-.9 2-2V5c0-1.1-.9-2-2-2zM9 17H7v-7h2v7zm4 0h-2V7h2v10zm4 0h-2v-4h2v4z\"/>\n",
              "    </g>\n",
              "</svg>\n",
              "  </button>\n",
              "\n",
              "<style>\n",
              "  .colab-df-quickchart {\n",
              "      --bg-color: #E8F0FE;\n",
              "      --fill-color: #1967D2;\n",
              "      --hover-bg-color: #E2EBFA;\n",
              "      --hover-fill-color: #174EA6;\n",
              "      --disabled-fill-color: #AAA;\n",
              "      --disabled-bg-color: #DDD;\n",
              "  }\n",
              "\n",
              "  [theme=dark] .colab-df-quickchart {\n",
              "      --bg-color: #3B4455;\n",
              "      --fill-color: #D2E3FC;\n",
              "      --hover-bg-color: #434B5C;\n",
              "      --hover-fill-color: #FFFFFF;\n",
              "      --disabled-bg-color: #3B4455;\n",
              "      --disabled-fill-color: #666;\n",
              "  }\n",
              "\n",
              "  .colab-df-quickchart {\n",
              "    background-color: var(--bg-color);\n",
              "    border: none;\n",
              "    border-radius: 50%;\n",
              "    cursor: pointer;\n",
              "    display: none;\n",
              "    fill: var(--fill-color);\n",
              "    height: 32px;\n",
              "    padding: 0;\n",
              "    width: 32px;\n",
              "  }\n",
              "\n",
              "  .colab-df-quickchart:hover {\n",
              "    background-color: var(--hover-bg-color);\n",
              "    box-shadow: 0 1px 2px rgba(60, 64, 67, 0.3), 0 1px 3px 1px rgba(60, 64, 67, 0.15);\n",
              "    fill: var(--button-hover-fill-color);\n",
              "  }\n",
              "\n",
              "  .colab-df-quickchart-complete:disabled,\n",
              "  .colab-df-quickchart-complete:disabled:hover {\n",
              "    background-color: var(--disabled-bg-color);\n",
              "    fill: var(--disabled-fill-color);\n",
              "    box-shadow: none;\n",
              "  }\n",
              "\n",
              "  .colab-df-spinner {\n",
              "    border: 2px solid var(--fill-color);\n",
              "    border-color: transparent;\n",
              "    border-bottom-color: var(--fill-color);\n",
              "    animation:\n",
              "      spin 1s steps(1) infinite;\n",
              "  }\n",
              "\n",
              "  @keyframes spin {\n",
              "    0% {\n",
              "      border-color: transparent;\n",
              "      border-bottom-color: var(--fill-color);\n",
              "      border-left-color: var(--fill-color);\n",
              "    }\n",
              "    20% {\n",
              "      border-color: transparent;\n",
              "      border-left-color: var(--fill-color);\n",
              "      border-top-color: var(--fill-color);\n",
              "    }\n",
              "    30% {\n",
              "      border-color: transparent;\n",
              "      border-left-color: var(--fill-color);\n",
              "      border-top-color: var(--fill-color);\n",
              "      border-right-color: var(--fill-color);\n",
              "    }\n",
              "    40% {\n",
              "      border-color: transparent;\n",
              "      border-right-color: var(--fill-color);\n",
              "      border-top-color: var(--fill-color);\n",
              "    }\n",
              "    60% {\n",
              "      border-color: transparent;\n",
              "      border-right-color: var(--fill-color);\n",
              "    }\n",
              "    80% {\n",
              "      border-color: transparent;\n",
              "      border-right-color: var(--fill-color);\n",
              "      border-bottom-color: var(--fill-color);\n",
              "    }\n",
              "    90% {\n",
              "      border-color: transparent;\n",
              "      border-bottom-color: var(--fill-color);\n",
              "    }\n",
              "  }\n",
              "</style>\n",
              "\n",
              "  <script>\n",
              "    async function quickchart(key) {\n",
              "      const quickchartButtonEl =\n",
              "        document.querySelector('#' + key + ' button');\n",
              "      quickchartButtonEl.disabled = true;  // To prevent multiple clicks.\n",
              "      quickchartButtonEl.classList.add('colab-df-spinner');\n",
              "      try {\n",
              "        const charts = await google.colab.kernel.invokeFunction(\n",
              "            'suggestCharts', [key], {});\n",
              "      } catch (error) {\n",
              "        console.error('Error during call to suggestCharts:', error);\n",
              "      }\n",
              "      quickchartButtonEl.classList.remove('colab-df-spinner');\n",
              "      quickchartButtonEl.classList.add('colab-df-quickchart-complete');\n",
              "    }\n",
              "    (() => {\n",
              "      let quickchartButtonEl =\n",
              "        document.querySelector('#df-74b351f7-f3ba-4a67-b7d7-99d184aae1bc button');\n",
              "      quickchartButtonEl.style.display =\n",
              "        google.colab.kernel.accessAllowed ? 'block' : 'none';\n",
              "    })();\n",
              "  </script>\n",
              "</div>\n",
              "\n",
              "  <div id=\"id_4ec3bdb9-d636-4b42-a34d-2adcfb9c3406\">\n",
              "    <style>\n",
              "      .colab-df-generate {\n",
              "        background-color: #E8F0FE;\n",
              "        border: none;\n",
              "        border-radius: 50%;\n",
              "        cursor: pointer;\n",
              "        display: none;\n",
              "        fill: #1967D2;\n",
              "        height: 32px;\n",
              "        padding: 0 0 0 0;\n",
              "        width: 32px;\n",
              "      }\n",
              "\n",
              "      .colab-df-generate:hover {\n",
              "        background-color: #E2EBFA;\n",
              "        box-shadow: 0px 1px 2px rgba(60, 64, 67, 0.3), 0px 1px 3px 1px rgba(60, 64, 67, 0.15);\n",
              "        fill: #174EA6;\n",
              "      }\n",
              "\n",
              "      [theme=dark] .colab-df-generate {\n",
              "        background-color: #3B4455;\n",
              "        fill: #D2E3FC;\n",
              "      }\n",
              "\n",
              "      [theme=dark] .colab-df-generate:hover {\n",
              "        background-color: #434B5C;\n",
              "        box-shadow: 0px 1px 3px 1px rgba(0, 0, 0, 0.15);\n",
              "        filter: drop-shadow(0px 1px 2px rgba(0, 0, 0, 0.3));\n",
              "        fill: #FFFFFF;\n",
              "      }\n",
              "    </style>\n",
              "    <button class=\"colab-df-generate\" onclick=\"generateWithVariable('retrieval_results_df')\"\n",
              "            title=\"Generate code using this dataframe.\"\n",
              "            style=\"display:none;\">\n",
              "\n",
              "  <svg xmlns=\"http://www.w3.org/2000/svg\" height=\"24px\"viewBox=\"0 0 24 24\"\n",
              "       width=\"24px\">\n",
              "    <path d=\"M7,19H8.4L18.45,9,17,7.55,7,17.6ZM5,21V16.75L18.45,3.32a2,2,0,0,1,2.83,0l1.4,1.43a1.91,1.91,0,0,1,.58,1.4,1.91,1.91,0,0,1-.58,1.4L9.25,21ZM18.45,9,17,7.55Zm-12,3A5.31,5.31,0,0,0,4.9,8.1,5.31,5.31,0,0,0,1,6.5,5.31,5.31,0,0,0,4.9,4.9,5.31,5.31,0,0,0,6.5,1,5.31,5.31,0,0,0,8.1,4.9,5.31,5.31,0,0,0,12,6.5,5.46,5.46,0,0,0,6.5,12Z\"/>\n",
              "  </svg>\n",
              "    </button>\n",
              "    <script>\n",
              "      (() => {\n",
              "      const buttonEl =\n",
              "        document.querySelector('#id_4ec3bdb9-d636-4b42-a34d-2adcfb9c3406 button.colab-df-generate');\n",
              "      buttonEl.style.display =\n",
              "        google.colab.kernel.accessAllowed ? 'block' : 'none';\n",
              "\n",
              "      buttonEl.onclick = () => {\n",
              "        google.colab.notebook.generateWithVariable('retrieval_results_df');\n",
              "      }\n",
              "      })();\n",
              "    </script>\n",
              "  </div>\n",
              "\n",
              "    </div>\n",
              "  </div>\n"
            ],
            "text/plain": [
              "                                                                   scores  \\\n",
              "Naive                   [{'context_recall': 1.0, 'faithfulness': 0.875...   \n",
              "BM25                    [{'context_recall': 0.6666666666666666, 'faith...   \n",
              "Multi-Query             [{'context_recall': 1.0, 'faithfulness': 0.8, ...   \n",
              "Parent-Document         [{'context_recall': 0.3333333333333333, 'faith...   \n",
              "Contextual Compression  [{'context_recall': 0.6666666666666666, 'faith...   \n",
              "Ensemble                [{'context_recall': 1.0, 'faithfulness': 1.0, ...   \n",
              "Semantic                [{'context_recall': 1.0, 'faithfulness': 0.8, ...   \n",
              "\n",
              "                                                                  dataset  \\\n",
              "Naive                   {'samples': [user_input=\"How does the film 'Jo...   \n",
              "BM25                    {'samples': [user_input=\"How does the film 'Jo...   \n",
              "Multi-Query             {'samples': [user_input=\"How does the film 'Jo...   \n",
              "Parent-Document         {'samples': [user_input=\"How does the film 'Jo...   \n",
              "Contextual Compression  {'samples': [user_input=\"How does the film 'Jo...   \n",
              "Ensemble                {'samples': [user_input=\"How does the film 'Jo...   \n",
              "Semantic                {'samples': [user_input=\"How does the film 'Jo...   \n",
              "\n",
              "                       binary_columns  \\\n",
              "Naive                              []   \n",
              "BM25                               []   \n",
              "Multi-Query                        []   \n",
              "Parent-Document                    []   \n",
              "Contextual Compression             []   \n",
              "Ensemble                           []   \n",
              "Semantic                           []   \n",
              "\n",
              "                                                                  cost_cb  \\\n",
              "Naive                   <ragas.cost.CostCallbackHandler object at 0x79...   \n",
              "BM25                    <ragas.cost.CostCallbackHandler object at 0x79...   \n",
              "Multi-Query             <ragas.cost.CostCallbackHandler object at 0x79...   \n",
              "Parent-Document         <ragas.cost.CostCallbackHandler object at 0x79...   \n",
              "Contextual Compression  <ragas.cost.CostCallbackHandler object at 0x79...   \n",
              "Ensemble                <ragas.cost.CostCallbackHandler object at 0x79...   \n",
              "Semantic                <ragas.cost.CostCallbackHandler object at 0x79...   \n",
              "\n",
              "                                                                   traces  \\\n",
              "Naive                   [{'scores': {'context_recall': 1.0, 'faithfuln...   \n",
              "BM25                    [{'scores': {'context_recall': 0.6666666666666...   \n",
              "Multi-Query             [{'scores': {'context_recall': 1.0, 'faithfuln...   \n",
              "Parent-Document         [{'scores': {'context_recall': 0.3333333333333...   \n",
              "Contextual Compression  [{'scores': {'context_recall': 0.6666666666666...   \n",
              "Ensemble                [{'scores': {'context_recall': 1.0, 'faithfuln...   \n",
              "Semantic                [{'scores': {'context_recall': 1.0, 'faithfuln...   \n",
              "\n",
              "                                                             ragas_traces  \\\n",
              "Naive                   {'b374e216-8c15-43ce-a984-d97c8e65dd0d': run_i...   \n",
              "BM25                    {'743935f0-4bc3-4166-ab84-a8d0899e1b57': run_i...   \n",
              "Multi-Query             {'89079530-9ca6-4809-8c02-f06e286436b7': run_i...   \n",
              "Parent-Document         {'2af4c2f1-9223-4661-a0a7-268fe7152171': run_i...   \n",
              "Contextual Compression  {'ca7760d7-8f3e-4929-9228-7225e840b24b': run_i...   \n",
              "Ensemble                {'62c61bea-b993-4691-a77c-18fe33f825e0': run_i...   \n",
              "Semantic                {'8a310e29-7ef7-4c05-ad8d-7135d70cc0ee': run_i...   \n",
              "\n",
              "                       run_id  \n",
              "Naive                    None  \n",
              "BM25                     None  \n",
              "Multi-Query              None  \n",
              "Parent-Document          None  \n",
              "Contextual Compression   None  \n",
              "Ensemble                 None  \n",
              "Semantic                 None  "
            ]
          },
          "execution_count": 102,
          "metadata": {},
          "output_type": "execute_result"
        }
      ],
      "source": [
        "from ragas import evaluate\n",
        "from ragas.llms import LangchainLLMWrapper\n",
        "from ragas import EvaluationDataset, evaluate, RunConfig\n",
        "from ragas.metrics import (\n",
        "    LLMContextRecall, Faithfulness, FactualCorrectness, ResponseRelevancy, ContextEntityRecall, NoiseSensitivity\n",
        ")\n",
        "import pandas as pd\n",
        "from langchain_core.messages import AIMessage\n",
        "from ragas.cost import get_token_usage_for_openai\n",
        "\n",
        "\n",
        "# Evaluation model\n",
        "evaluator_llm = LangchainLLMWrapper(ChatOpenAI(model=\"gpt-4o\"))\n",
        "\n",
        "#Custom run config\n",
        "custom_run_config = RunConfig(timeout=360)\n",
        "\n",
        "# Retrieval results\n",
        "retrieval_results = {}\n",
        "tokens = {}\n",
        "\n",
        "# Evaluate each retrieval chain\n",
        "for name, chain in retrieval_chain.items():\n",
        "  print(f\"Evaluating {name}\")\n",
        "\n",
        "  for test_row in dataset:\n",
        "    response = chain.invoke({\"question\" : test_row.eval_sample.user_input})\n",
        "    test_row.eval_sample.response = (\n",
        "            response[\"response\"].content if isinstance(response[\"response\"], AIMessage) else str(response[\"response\"])\n",
        "        )\n",
        "    test_row.eval_sample.retrieved_contexts = [context.page_content for context in response[\"context\"]]\n",
        "\n",
        "  # Convert dataset to EvaluationDataset format\n",
        "  evaluation_dataset = EvaluationDataset.from_pandas(dataset.to_pandas())\n",
        "\n",
        "  # Run evaluation\n",
        "  result = evaluate(\n",
        "      dataset=evaluation_dataset,\n",
        "      metrics=[\n",
        "          LLMContextRecall(),\n",
        "          Faithfulness(),\n",
        "          FactualCorrectness(),\n",
        "          ResponseRelevancy(),\n",
        "          ContextEntityRecall(),\n",
        "          NoiseSensitivity()\n",
        "      ],\n",
        "      llm=evaluator_llm,\n",
        "      run_config=custom_run_config,\n",
        "      token_usage_parser=get_token_usage_for_openai\n",
        "  )\n",
        "\n",
        "  retrieval_results[name] = result\n",
        "  tokens[name] = result.total_tokens()\n",
        "  print(f\"Finished evaluating {name}\")\n",
        "\n",
        "# convert retrieval_results to dataframe\n",
        "retrieval_results_df = pd.DataFrame.from_dict(retrieval_results, orient='index')\n",
        "retrieval_results_df.to_csv(\"retrieval_results.csv\")\n",
        "\n",
        "# Display retrieval_results_df\n",
        "retrieval_results_df\n",
        "\n",
        "\n"
      ]
    },
    {
      "cell_type": "code",
      "execution_count": 75,
      "metadata": {
        "id": "JJIh-wtMzHgz"
      },
      "outputs": [],
      "source": [
        "\n",
        "# convert retrieval_results to dataframe\n",
        "retrieval_results_df = pd.DataFrame.from_dict(retrieval_results, orient='index')\n",
        "retrieval_results_df.to_csv(\"retrieval_results.csv\")\n",
        "\n"
      ]
    },
    {
      "cell_type": "code",
      "execution_count": 76,
      "metadata": {
        "colab": {
          "base_uri": "https://localhost:8080/",
          "height": 260
        },
        "id": "GlJI3-tFyrmn",
        "outputId": "b8fa6a13-f098-4e00-a420-985db3546d62"
      },
      "outputs": [
        {
          "data": {
            "text/plain": [
              "{'Naive': {'context_recall': 0.8167, 'faithfulness': 0.8018, 'factual_correctness': 0.4650, 'answer_relevancy': 0.8758, 'context_entity_recall': 0.3652, 'noise_sensitivity_relevant': 0.3709},\n",
              " 'BM25': {'context_recall': 0.3583, 'faithfulness': 0.7113, 'factual_correctness': 0.3250, 'answer_relevancy': 0.7703, 'context_entity_recall': 0.3712, 'noise_sensitivity_relevant': 0.2766},\n",
              " 'Multi-Query': {'context_recall': 0.8000, 'faithfulness': 0.8332, 'factual_correctness': 0.4820, 'answer_relevancy': 0.9694, 'context_entity_recall': 0.4129, 'noise_sensitivity_relevant': 0.0000},\n",
              " 'Parent-Document': {'context_recall': 0.4833, 'faithfulness': 0.6562, 'factual_correctness': 0.3880, 'answer_relevancy': 0.8720, 'context_entity_recall': 0.4137, 'noise_sensitivity_relevant': 0.2754},\n",
              " 'Contextual Compression': {'context_recall': 0.5667, 'faithfulness': 0.8862, 'factual_correctness': 0.3920, 'answer_relevancy': 0.9655, 'context_entity_recall': 0.4069, 'noise_sensitivity_relevant': 0.3859},\n",
              " 'Ensemble': {'context_recall': 0.8833, 'faithfulness': 0.8291, 'factual_correctness': 0.4240, 'answer_relevancy': 0.9643, 'context_entity_recall': 0.4593, 'noise_sensitivity_relevant': 0.3304},\n",
              " 'Semantic': {'context_recall': 0.5917, 'faithfulness': 0.8428, 'factual_correctness': 0.3440, 'answer_relevancy': 0.7783, 'context_entity_recall': 0.3819, 'noise_sensitivity_relevant': 0.4616}}"
            ]
          },
          "metadata": {},
          "output_type": "display_data"
        }
      ],
      "source": [
        "display(retrieval_results)"
      ]
    },
    {
      "cell_type": "code",
      "execution_count": 103,
      "metadata": {
        "colab": {
          "base_uri": "https://localhost:8080/",
          "height": 138
        },
        "id": "r5hWxxCJV8bv",
        "outputId": "67619ae2-f17f-48ac-8bb3-4d83b785c4cf"
      },
      "outputs": [
        {
          "data": {
            "text/plain": [
              "{'Naive': TokenUsage(input_tokens=426909, output_tokens=134248, model=''),\n",
              " 'BM25': TokenUsage(input_tokens=266729, output_tokens=63950, model=''),\n",
              " 'Multi-Query': TokenUsage(input_tokens=475721, output_tokens=139381, model=''),\n",
              " 'Parent-Document': TokenUsage(input_tokens=242279, output_tokens=59624, model=''),\n",
              " 'Contextual Compression': TokenUsage(input_tokens=271958, output_tokens=71710, model=''),\n",
              " 'Ensemble': TokenUsage(input_tokens=570158, output_tokens=193120, model=''),\n",
              " 'Semantic': TokenUsage(input_tokens=442836, output_tokens=153331, model='')}"
            ]
          },
          "metadata": {},
          "output_type": "display_data"
        }
      ],
      "source": [
        "display(tokens)"
      ]
    },
    {
      "cell_type": "markdown",
      "metadata": {
        "id": "XJAwe5uqy7AE"
      },
      "source": [
        "![RAGAS_evaluation_retrievers.png](data:image/png;base64,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)"
      ]
    },
    {
      "cell_type": "markdown",
      "metadata": {
        "id": "OzY6wOCBvwEq"
      },
      "source": [
        "Context Recall:\n",
        "The Ensemble retriever performed best followed by Naive for the context recall. This can be because an Ensemble Retriever simply takes 2, or more, retrievers and combines their retrieved documents based on a rank-fusion algorithm. So the number of relevant documents sucessfully retrieved in case on Ensemble Retriever is higher in number.\n",
        "\n",
        "Faithfulness:\n",
        "Contextual compression performed best followed by Semantic retriever. This can be because contextual compression retrieves lots of documents that are likely related to our query vector. These documents are then compressed into a small set of more related documents using reranking algorithm. Due to this the response is more factually consistent with the retrieved context.\n",
        "\n",
        "Factual correctness:\n",
        "Multi query retriever performed best followed by naive though both the scores could hav ebeen mouch higher.\n",
        "\n",
        "Answer relevancy:\n",
        "Multi query, contextual compression and ensembe performed best. The evaluation metric, Answer Relevancy, focuses on assessing how pertinent the generated answer is to the given prompt.\n",
        "\n",
        "Context Entity Recall:\n",
        "Ensemble has highest value among all retrievers but all the values for context entity recall are low.\n",
        "\n",
        "Noise sensitivity relevant: Low value is considered good and indicates better performance. Noise sensitivity for Multi Query retriever is 0.\n",
        "\n",
        "\n",
        "Conclusion:\n",
        "Ensember and naive performed good.\n",
        "\n"
      ]
    },
    {
      "cell_type": "markdown",
      "metadata": {
        "id": "tESZ4Gkct0b0"
      },
      "source": [
        "You can compute the cost for each run by passing in the cost per token to Result.total_cost() function.\n",
        "\n",
        "In this case GPT-4o costs $5 for 1M input tokens and $15 for 1M output tokens.\n",
        "\n",
        "result.total_cost(cost_per_input_token=5 / 1e6, cost_per_output_token=15 / 1e6)\n",
        "\n",
        "So, using the above formula, here are the costs for each retriever:\n",
        "\n",
        "Naive: $4.15\n",
        "\n",
        "BM25: $2.29\n",
        "\n",
        "Multi-Query: $4.47\n",
        "\n",
        "Parent-Document: $2.11\n",
        "\n",
        "Contextual Compression: $2.44\n",
        "\n",
        "Ensemble: $5.75\n",
        "\n",
        "Semantic: $4.51\n",
        "\n",
        "The biggest cost is in case of Ensemble retriever and is loest in case of Parent-Document retriever."
      ]
    },
    {
      "cell_type": "markdown",
      "metadata": {
        "id": "_BQbEJeUyq5j"
      },
      "source": []
    }
  ],
  "metadata": {
    "colab": {
      "provenance": []
    },
    "kernelspec": {
      "display_name": ".venv",
      "language": "python",
      "name": "python3"
    },
    "language_info": {
      "codemirror_mode": {
        "name": "ipython",
        "version": 3
      },
      "file_extension": ".py",
      "mimetype": "text/x-python",
      "name": "python",
      "nbconvert_exporter": "python",
      "pygments_lexer": "ipython3",
      "version": "3.13.1"
    },
    "widgets": {
      "application/vnd.jupyter.widget-state+json": {
        "033065d60d824918aceca261ceb1e43a": {
          "model_module": "@jupyter-widgets/base",
          "model_module_version": "1.2.0",
          "model_name": "LayoutModel",
          "state": {
            "_model_module": "@jupyter-widgets/base",
            "_model_module_version": "1.2.0",
            "_model_name": "LayoutModel",
            "_view_count": null,
            "_view_module": "@jupyter-widgets/base",
            "_view_module_version": "1.2.0",
            "_view_name": "LayoutView",
            "align_content": null,
            "align_items": null,
            "align_self": null,
            "border": null,
            "bottom": null,
            "display": null,
            "flex": null,
            "flex_flow": null,
            "grid_area": null,
            "grid_auto_columns": null,
            "grid_auto_flow": null,
            "grid_auto_rows": null,
            "grid_column": null,
            "grid_gap": null,
            "grid_row": null,
            "grid_template_areas": null,
            "grid_template_columns": null,
            "grid_template_rows": null,
            "height": null,
            "justify_content": null,
            "justify_items": null,
            "left": null,
            "margin": null,
            "max_height": null,
            "max_width": null,
            "min_height": null,
            "min_width": null,
            "object_fit": null,
            "object_position": null,
            "order": null,
            "overflow": null,
            "overflow_x": null,
            "overflow_y": null,
            "padding": null,
            "right": null,
            "top": null,
            "visibility": null,
            "width": null
          }
        },
        "072daae5a4184fcd856b0e3483a03ab1": {
          "model_module": "@jupyter-widgets/base",
          "model_module_version": "1.2.0",
          "model_name": "LayoutModel",
          "state": {
            "_model_module": "@jupyter-widgets/base",
            "_model_module_version": "1.2.0",
            "_model_name": "LayoutModel",
            "_view_count": null,
            "_view_module": "@jupyter-widgets/base",
            "_view_module_version": "1.2.0",
            "_view_name": "LayoutView",
            "align_content": null,
            "align_items": null,
            "align_self": null,
            "border": null,
            "bottom": null,
            "display": null,
            "flex": null,
            "flex_flow": null,
            "grid_area": null,
            "grid_auto_columns": null,
            "grid_auto_flow": null,
            "grid_auto_rows": null,
            "grid_column": null,
            "grid_gap": null,
            "grid_row": null,
            "grid_template_areas": null,
            "grid_template_columns": null,
            "grid_template_rows": null,
            "height": null,
            "justify_content": null,
            "justify_items": null,
            "left": null,
            "margin": null,
            "max_height": null,
            "max_width": null,
            "min_height": null,
            "min_width": null,
            "object_fit": null,
            "object_position": null,
            "order": null,
            "overflow": null,
            "overflow_x": null,
            "overflow_y": null,
            "padding": null,
            "right": null,
            "top": null,
            "visibility": null,
            "width": null
          }
        },
        "07c2e20c2012410790d85f15e28bdb0d": {
          "model_module": "@jupyter-widgets/controls",
          "model_module_version": "1.5.0",
          "model_name": "ProgressStyleModel",
          "state": {
            "_model_module": "@jupyter-widgets/controls",
            "_model_module_version": "1.5.0",
            "_model_name": "ProgressStyleModel",
            "_view_count": null,
            "_view_module": "@jupyter-widgets/base",
            "_view_module_version": "1.2.0",
            "_view_name": "StyleView",
            "bar_color": null,
            "description_width": ""
          }
        },
        "0b81bf498a3544abbf208756b40f5817": {
          "model_module": "@jupyter-widgets/controls",
          "model_module_version": "1.5.0",
          "model_name": "HTMLModel",
          "state": {
            "_dom_classes": [],
            "_model_module": "@jupyter-widgets/controls",
            "_model_module_version": "1.5.0",
            "_model_name": "HTMLModel",
            "_view_count": null,
            "_view_module": "@jupyter-widgets/controls",
            "_view_module_version": "1.5.0",
            "_view_name": "HTMLView",
            "description": "",
            "description_tooltip": null,
            "layout": "IPY_MODEL_43cd9999977a49e3bd0f8dd04a32b6c4",
            "placeholder": "​",
            "style": "IPY_MODEL_149f5a9151f34c4582c832a12128da93",
            "value": " 3/3 [00:01&lt;00:00,  2.72it/s]"
          }
        },
        "0de38dc519914ab99a976cdaae696299": {
          "model_module": "@jupyter-widgets/base",
          "model_module_version": "1.2.0",
          "model_name": "LayoutModel",
          "state": {
            "_model_module": "@jupyter-widgets/base",
            "_model_module_version": "1.2.0",
            "_model_name": "LayoutModel",
            "_view_count": null,
            "_view_module": "@jupyter-widgets/base",
            "_view_module_version": "1.2.0",
            "_view_name": "LayoutView",
            "align_content": null,
            "align_items": null,
            "align_self": null,
            "border": null,
            "bottom": null,
            "display": null,
            "flex": null,
            "flex_flow": null,
            "grid_area": null,
            "grid_auto_columns": null,
            "grid_auto_flow": null,
            "grid_auto_rows": null,
            "grid_column": null,
            "grid_gap": null,
            "grid_row": null,
            "grid_template_areas": null,
            "grid_template_columns": null,
            "grid_template_rows": null,
            "height": null,
            "justify_content": null,
            "justify_items": null,
            "left": null,
            "margin": null,
            "max_height": null,
            "max_width": null,
            "min_height": null,
            "min_width": null,
            "object_fit": null,
            "object_position": null,
            "order": null,
            "overflow": null,
            "overflow_x": null,
            "overflow_y": null,
            "padding": null,
            "right": null,
            "top": null,
            "visibility": null,
            "width": null
          }
        },
        "0f0d82367bf648e0a6a57571a27fe1be": {
          "model_module": "@jupyter-widgets/controls",
          "model_module_version": "1.5.0",
          "model_name": "HBoxModel",
          "state": {
            "_dom_classes": [],
            "_model_module": "@jupyter-widgets/controls",
            "_model_module_version": "1.5.0",
            "_model_name": "HBoxModel",
            "_view_count": null,
            "_view_module": "@jupyter-widgets/controls",
            "_view_module_version": "1.5.0",
            "_view_name": "HBoxView",
            "box_style": "",
            "children": [
              "IPY_MODEL_ce62d27bb1a94fe992b8cbda70ba41a1",
              "IPY_MODEL_672bfd9687b94aaab0715753e3fde0fa",
              "IPY_MODEL_b0d7d8140dcb4d92a5dbba7529bf0e4f"
            ],
            "layout": "IPY_MODEL_c3b226c71f2e4d11b3ace68dbe64bce8"
          }
        },
        "0f10a3d5f0f9457c85effebbe8b683a2": {
          "model_module": "@jupyter-widgets/controls",
          "model_module_version": "1.5.0",
          "model_name": "DescriptionStyleModel",
          "state": {
            "_model_module": "@jupyter-widgets/controls",
            "_model_module_version": "1.5.0",
            "_model_name": "DescriptionStyleModel",
            "_view_count": null,
            "_view_module": "@jupyter-widgets/base",
            "_view_module_version": "1.2.0",
            "_view_name": "StyleView",
            "description_width": ""
          }
        },
        "11fb7789a8f54f7a9ca8d395217b9575": {
          "model_module": "@jupyter-widgets/controls",
          "model_module_version": "1.5.0",
          "model_name": "HTMLModel",
          "state": {
            "_dom_classes": [],
            "_model_module": "@jupyter-widgets/controls",
            "_model_module_version": "1.5.0",
            "_model_name": "HTMLModel",
            "_view_count": null,
            "_view_module": "@jupyter-widgets/controls",
            "_view_module_version": "1.5.0",
            "_view_name": "HTMLView",
            "description": "",
            "description_tooltip": null,
            "layout": "IPY_MODEL_072daae5a4184fcd856b0e3483a03ab1",
            "placeholder": "​",
            "style": "IPY_MODEL_3f2796326e424964ac3286b18f5470ff",
            "value": "Evaluating: 100%"
          }
        },
        "13be06dc677348c6aef8dac60f9906da": {
          "model_module": "@jupyter-widgets/base",
          "model_module_version": "1.2.0",
          "model_name": "LayoutModel",
          "state": {
            "_model_module": "@jupyter-widgets/base",
            "_model_module_version": "1.2.0",
            "_model_name": "LayoutModel",
            "_view_count": null,
            "_view_module": "@jupyter-widgets/base",
            "_view_module_version": "1.2.0",
            "_view_name": "LayoutView",
            "align_content": null,
            "align_items": null,
            "align_self": null,
            "border": null,
            "bottom": null,
            "display": null,
            "flex": null,
            "flex_flow": null,
            "grid_area": null,
            "grid_auto_columns": null,
            "grid_auto_flow": null,
            "grid_auto_rows": null,
            "grid_column": null,
            "grid_gap": null,
            "grid_row": null,
            "grid_template_areas": null,
            "grid_template_columns": null,
            "grid_template_rows": null,
            "height": null,
            "justify_content": null,
            "justify_items": null,
            "left": null,
            "margin": null,
            "max_height": null,
            "max_width": null,
            "min_height": null,
            "min_width": null,
            "object_fit": null,
            "object_position": null,
            "order": null,
            "overflow": null,
            "overflow_x": null,
            "overflow_y": null,
            "padding": null,
            "right": null,
            "top": null,
            "visibility": null,
            "width": null
          }
        },
        "1472ffffef9341dcb644cf16226133ee": {
          "model_module": "@jupyter-widgets/base",
          "model_module_version": "1.2.0",
          "model_name": "LayoutModel",
          "state": {
            "_model_module": "@jupyter-widgets/base",
            "_model_module_version": "1.2.0",
            "_model_name": "LayoutModel",
            "_view_count": null,
            "_view_module": "@jupyter-widgets/base",
            "_view_module_version": "1.2.0",
            "_view_name": "LayoutView",
            "align_content": null,
            "align_items": null,
            "align_self": null,
            "border": null,
            "bottom": null,
            "display": null,
            "flex": null,
            "flex_flow": null,
            "grid_area": null,
            "grid_auto_columns": null,
            "grid_auto_flow": null,
            "grid_auto_rows": null,
            "grid_column": null,
            "grid_gap": null,
            "grid_row": null,
            "grid_template_areas": null,
            "grid_template_columns": null,
            "grid_template_rows": null,
            "height": null,
            "justify_content": null,
            "justify_items": null,
            "left": null,
            "margin": null,
            "max_height": null,
            "max_width": null,
            "min_height": null,
            "min_width": null,
            "object_fit": null,
            "object_position": null,
            "order": null,
            "overflow": null,
            "overflow_x": null,
            "overflow_y": null,
            "padding": null,
            "right": null,
            "top": null,
            "visibility": null,
            "width": null
          }
        },
        "149f5a9151f34c4582c832a12128da93": {
          "model_module": "@jupyter-widgets/controls",
          "model_module_version": "1.5.0",
          "model_name": "DescriptionStyleModel",
          "state": {
            "_model_module": "@jupyter-widgets/controls",
            "_model_module_version": "1.5.0",
            "_model_name": "DescriptionStyleModel",
            "_view_count": null,
            "_view_module": "@jupyter-widgets/base",
            "_view_module_version": "1.2.0",
            "_view_name": "StyleView",
            "description_width": ""
          }
        },
        "166090cc9be241ef8c0764af9e48a413": {
          "model_module": "@jupyter-widgets/controls",
          "model_module_version": "1.5.0",
          "model_name": "HBoxModel",
          "state": {
            "_dom_classes": [],
            "_model_module": "@jupyter-widgets/controls",
            "_model_module_version": "1.5.0",
            "_model_name": "HBoxModel",
            "_view_count": null,
            "_view_module": "@jupyter-widgets/controls",
            "_view_module_version": "1.5.0",
            "_view_name": "HBoxView",
            "box_style": "",
            "children": [
              "IPY_MODEL_fb66cff156f9434e8310d86c9544a7b1",
              "IPY_MODEL_e262e4d28026492d8e90a3c1a55ab268",
              "IPY_MODEL_1bfd1e99552b4172964a342884efeac4"
            ],
            "layout": "IPY_MODEL_3d0f667156474747a0a9567e65f73196"
          }
        },
        "172bb3afd813479eb80dd71ef9a378da": {
          "model_module": "@jupyter-widgets/controls",
          "model_module_version": "1.5.0",
          "model_name": "DescriptionStyleModel",
          "state": {
            "_model_module": "@jupyter-widgets/controls",
            "_model_module_version": "1.5.0",
            "_model_name": "DescriptionStyleModel",
            "_view_count": null,
            "_view_module": "@jupyter-widgets/base",
            "_view_module_version": "1.2.0",
            "_view_name": "StyleView",
            "description_width": ""
          }
        },
        "176a05f9446b436aaa0a5b6fb904297a": {
          "model_module": "@jupyter-widgets/base",
          "model_module_version": "1.2.0",
          "model_name": "LayoutModel",
          "state": {
            "_model_module": "@jupyter-widgets/base",
            "_model_module_version": "1.2.0",
            "_model_name": "LayoutModel",
            "_view_count": null,
            "_view_module": "@jupyter-widgets/base",
            "_view_module_version": "1.2.0",
            "_view_name": "LayoutView",
            "align_content": null,
            "align_items": null,
            "align_self": null,
            "border": null,
            "bottom": null,
            "display": null,
            "flex": null,
            "flex_flow": null,
            "grid_area": null,
            "grid_auto_columns": null,
            "grid_auto_flow": null,
            "grid_auto_rows": null,
            "grid_column": null,
            "grid_gap": null,
            "grid_row": null,
            "grid_template_areas": null,
            "grid_template_columns": null,
            "grid_template_rows": null,
            "height": null,
            "justify_content": null,
            "justify_items": null,
            "left": null,
            "margin": null,
            "max_height": null,
            "max_width": null,
            "min_height": null,
            "min_width": null,
            "object_fit": null,
            "object_position": null,
            "order": null,
            "overflow": null,
            "overflow_x": null,
            "overflow_y": null,
            "padding": null,
            "right": null,
            "top": null,
            "visibility": null,
            "width": null
          }
        },
        "176a0b1165da48979f3518611251f811": {
          "model_module": "@jupyter-widgets/controls",
          "model_module_version": "1.5.0",
          "model_name": "FloatProgressModel",
          "state": {
            "_dom_classes": [],
            "_model_module": "@jupyter-widgets/controls",
            "_model_module_version": "1.5.0",
            "_model_name": "FloatProgressModel",
            "_view_count": null,
            "_view_module": "@jupyter-widgets/controls",
            "_view_module_version": "1.5.0",
            "_view_name": "ProgressView",
            "bar_style": "",
            "description": "",
            "description_tooltip": null,
            "layout": "IPY_MODEL_dacaa511a9bd4336a846d766d1ad3cd6",
            "max": 100,
            "min": 0,
            "orientation": "horizontal",
            "style": "IPY_MODEL_ceff72b7256a4dce857df4f5d60e5d51",
            "value": 100
          }
        },
        "197f14ff830f414d951aa038e24f11f9": {
          "model_module": "@jupyter-widgets/base",
          "model_module_version": "1.2.0",
          "model_name": "LayoutModel",
          "state": {
            "_model_module": "@jupyter-widgets/base",
            "_model_module_version": "1.2.0",
            "_model_name": "LayoutModel",
            "_view_count": null,
            "_view_module": "@jupyter-widgets/base",
            "_view_module_version": "1.2.0",
            "_view_name": "LayoutView",
            "align_content": null,
            "align_items": null,
            "align_self": null,
            "border": null,
            "bottom": null,
            "display": null,
            "flex": null,
            "flex_flow": null,
            "grid_area": null,
            "grid_auto_columns": null,
            "grid_auto_flow": null,
            "grid_auto_rows": null,
            "grid_column": null,
            "grid_gap": null,
            "grid_row": null,
            "grid_template_areas": null,
            "grid_template_columns": null,
            "grid_template_rows": null,
            "height": null,
            "justify_content": null,
            "justify_items": null,
            "left": null,
            "margin": null,
            "max_height": null,
            "max_width": null,
            "min_height": null,
            "min_width": null,
            "object_fit": null,
            "object_position": null,
            "order": null,
            "overflow": null,
            "overflow_x": null,
            "overflow_y": null,
            "padding": null,
            "right": null,
            "top": null,
            "visibility": null,
            "width": null
          }
        },
        "1b7a88c6bcab465d9816693d1c1ead28": {
          "model_module": "@jupyter-widgets/base",
          "model_module_version": "1.2.0",
          "model_name": "LayoutModel",
          "state": {
            "_model_module": "@jupyter-widgets/base",
            "_model_module_version": "1.2.0",
            "_model_name": "LayoutModel",
            "_view_count": null,
            "_view_module": "@jupyter-widgets/base",
            "_view_module_version": "1.2.0",
            "_view_name": "LayoutView",
            "align_content": null,
            "align_items": null,
            "align_self": null,
            "border": null,
            "bottom": null,
            "display": null,
            "flex": null,
            "flex_flow": null,
            "grid_area": null,
            "grid_auto_columns": null,
            "grid_auto_flow": null,
            "grid_auto_rows": null,
            "grid_column": null,
            "grid_gap": null,
            "grid_row": null,
            "grid_template_areas": null,
            "grid_template_columns": null,
            "grid_template_rows": null,
            "height": null,
            "justify_content": null,
            "justify_items": null,
            "left": null,
            "margin": null,
            "max_height": null,
            "max_width": null,
            "min_height": null,
            "min_width": null,
            "object_fit": null,
            "object_position": null,
            "order": null,
            "overflow": null,
            "overflow_x": null,
            "overflow_y": null,
            "padding": null,
            "right": null,
            "top": null,
            "visibility": null,
            "width": null
          }
        },
        "1bc27cdb6a444b18aac4449c27d16a8e": {
          "model_module": "@jupyter-widgets/controls",
          "model_module_version": "1.5.0",
          "model_name": "HTMLModel",
          "state": {
            "_dom_classes": [],
            "_model_module": "@jupyter-widgets/controls",
            "_model_module_version": "1.5.0",
            "_model_name": "HTMLModel",
            "_view_count": null,
            "_view_module": "@jupyter-widgets/controls",
            "_view_module_version": "1.5.0",
            "_view_name": "HTMLView",
            "description": "",
            "description_tooltip": null,
            "layout": "IPY_MODEL_246beb4f090f41a583bba5dd15bc7bed",
            "placeholder": "​",
            "style": "IPY_MODEL_47c4e4c0d27046a5ab5c741d358fef0e",
            "value": " 60/60 [03:37&lt;00:00, 19.60s/it]"
          }
        },
        "1bfb10d52db14ebaa9eaaf7ed2ed5e38": {
          "model_module": "@jupyter-widgets/controls",
          "model_module_version": "1.5.0",
          "model_name": "HTMLModel",
          "state": {
            "_dom_classes": [],
            "_model_module": "@jupyter-widgets/controls",
            "_model_module_version": "1.5.0",
            "_model_name": "HTMLModel",
            "_view_count": null,
            "_view_module": "@jupyter-widgets/controls",
            "_view_module_version": "1.5.0",
            "_view_name": "HTMLView",
            "description": "",
            "description_tooltip": null,
            "layout": "IPY_MODEL_af120b80650241f89f462bd44486ff2d",
            "placeholder": "​",
            "style": "IPY_MODEL_172bb3afd813479eb80dd71ef9a378da",
            "value": " 60/60 [06:58&lt;00:00, 15.96s/it]"
          }
        },
        "1bfd1e99552b4172964a342884efeac4": {
          "model_module": "@jupyter-widgets/controls",
          "model_module_version": "1.5.0",
          "model_name": "HTMLModel",
          "state": {
            "_dom_classes": [],
            "_model_module": "@jupyter-widgets/controls",
            "_model_module_version": "1.5.0",
            "_model_name": "HTMLModel",
            "_view_count": null,
            "_view_module": "@jupyter-widgets/controls",
            "_view_module_version": "1.5.0",
            "_view_name": "HTMLView",
            "description": "",
            "description_tooltip": null,
            "layout": "IPY_MODEL_8eeb7ce8bee545fb991a724b613c7042",
            "placeholder": "​",
            "style": "IPY_MODEL_83a7fe5f12ac4e23b098bb02e84bb772",
            "value": " 44/44 [00:10&lt;00:00,  6.38it/s]"
          }
        },
        "2065353bcb734183816ec17327e31d15": {
          "model_module": "@jupyter-widgets/controls",
          "model_module_version": "1.5.0",
          "model_name": "HBoxModel",
          "state": {
            "_dom_classes": [],
            "_model_module": "@jupyter-widgets/controls",
            "_model_module_version": "1.5.0",
            "_model_name": "HBoxModel",
            "_view_count": null,
            "_view_module": "@jupyter-widgets/controls",
            "_view_module_version": "1.5.0",
            "_view_name": "HBoxView",
            "box_style": "",
            "children": [
              "IPY_MODEL_bc1e72c3892d4d4e89613ef83dec4a14",
              "IPY_MODEL_d8b282d79e3d407d92864762d32dfbb7",
              "IPY_MODEL_d676ba00651e45a88094710daa64e6d6"
            ],
            "layout": "IPY_MODEL_a4836651219549fa94298f430069a8c3"
          }
        },
        "20b54cb1fbe0492288c234279b18a58b": {
          "model_module": "@jupyter-widgets/controls",
          "model_module_version": "1.5.0",
          "model_name": "HTMLModel",
          "state": {
            "_dom_classes": [],
            "_model_module": "@jupyter-widgets/controls",
            "_model_module_version": "1.5.0",
            "_model_name": "HTMLModel",
            "_view_count": null,
            "_view_module": "@jupyter-widgets/controls",
            "_view_module_version": "1.5.0",
            "_view_name": "HTMLView",
            "description": "",
            "description_tooltip": null,
            "layout": "IPY_MODEL_ddcaa7439fd5432982fa3bf0606070f4",
            "placeholder": "​",
            "style": "IPY_MODEL_0f10a3d5f0f9457c85effebbe8b683a2",
            "value": "Generating personas: 100%"
          }
        },
        "216978dc0e7449e4828f4c3551ca1b33": {
          "model_module": "@jupyter-widgets/controls",
          "model_module_version": "1.5.0",
          "model_name": "HTMLModel",
          "state": {
            "_dom_classes": [],
            "_model_module": "@jupyter-widgets/controls",
            "_model_module_version": "1.5.0",
            "_model_name": "HTMLModel",
            "_view_count": null,
            "_view_module": "@jupyter-widgets/controls",
            "_view_module_version": "1.5.0",
            "_view_name": "HTMLView",
            "description": "",
            "description_tooltip": null,
            "layout": "IPY_MODEL_6a9fee6231c34501b372eb24e5f2572e",
            "placeholder": "​",
            "style": "IPY_MODEL_345db4a5aab94375992f9e204844322c",
            "value": "Evaluating: 100%"
          }
        },
        "246beb4f090f41a583bba5dd15bc7bed": {
          "model_module": "@jupyter-widgets/base",
          "model_module_version": "1.2.0",
          "model_name": "LayoutModel",
          "state": {
            "_model_module": "@jupyter-widgets/base",
            "_model_module_version": "1.2.0",
            "_model_name": "LayoutModel",
            "_view_count": null,
            "_view_module": "@jupyter-widgets/base",
            "_view_module_version": "1.2.0",
            "_view_name": "LayoutView",
            "align_content": null,
            "align_items": null,
            "align_self": null,
            "border": null,
            "bottom": null,
            "display": null,
            "flex": null,
            "flex_flow": null,
            "grid_area": null,
            "grid_auto_columns": null,
            "grid_auto_flow": null,
            "grid_auto_rows": null,
            "grid_column": null,
            "grid_gap": null,
            "grid_row": null,
            "grid_template_areas": null,
            "grid_template_columns": null,
            "grid_template_rows": null,
            "height": null,
            "justify_content": null,
            "justify_items": null,
            "left": null,
            "margin": null,
            "max_height": null,
            "max_width": null,
            "min_height": null,
            "min_width": null,
            "object_fit": null,
            "object_position": null,
            "order": null,
            "overflow": null,
            "overflow_x": null,
            "overflow_y": null,
            "padding": null,
            "right": null,
            "top": null,
            "visibility": null,
            "width": null
          }
        },
        "24752537135f4f2e800841be78d1fbd4": {
          "model_module": "@jupyter-widgets/controls",
          "model_module_version": "1.5.0",
          "model_name": "DescriptionStyleModel",
          "state": {
            "_model_module": "@jupyter-widgets/controls",
            "_model_module_version": "1.5.0",
            "_model_name": "DescriptionStyleModel",
            "_view_count": null,
            "_view_module": "@jupyter-widgets/base",
            "_view_module_version": "1.2.0",
            "_view_name": "StyleView",
            "description_width": ""
          }
        },
        "24968f4b5f6440e9813d81a71953fc99": {
          "model_module": "@jupyter-widgets/base",
          "model_module_version": "1.2.0",
          "model_name": "LayoutModel",
          "state": {
            "_model_module": "@jupyter-widgets/base",
            "_model_module_version": "1.2.0",
            "_model_name": "LayoutModel",
            "_view_count": null,
            "_view_module": "@jupyter-widgets/base",
            "_view_module_version": "1.2.0",
            "_view_name": "LayoutView",
            "align_content": null,
            "align_items": null,
            "align_self": null,
            "border": null,
            "bottom": null,
            "display": null,
            "flex": null,
            "flex_flow": null,
            "grid_area": null,
            "grid_auto_columns": null,
            "grid_auto_flow": null,
            "grid_auto_rows": null,
            "grid_column": null,
            "grid_gap": null,
            "grid_row": null,
            "grid_template_areas": null,
            "grid_template_columns": null,
            "grid_template_rows": null,
            "height": null,
            "justify_content": null,
            "justify_items": null,
            "left": null,
            "margin": null,
            "max_height": null,
            "max_width": null,
            "min_height": null,
            "min_width": null,
            "object_fit": null,
            "object_position": null,
            "order": null,
            "overflow": null,
            "overflow_x": null,
            "overflow_y": null,
            "padding": null,
            "right": null,
            "top": null,
            "visibility": null,
            "width": null
          }
        },
        "2a1b1fcbb1a2433081def0d2d80de547": {
          "model_module": "@jupyter-widgets/controls",
          "model_module_version": "1.5.0",
          "model_name": "DescriptionStyleModel",
          "state": {
            "_model_module": "@jupyter-widgets/controls",
            "_model_module_version": "1.5.0",
            "_model_name": "DescriptionStyleModel",
            "_view_count": null,
            "_view_module": "@jupyter-widgets/base",
            "_view_module_version": "1.2.0",
            "_view_name": "StyleView",
            "description_width": ""
          }
        },
        "2df08e778d454ab18527a60f2ed885d6": {
          "model_module": "@jupyter-widgets/controls",
          "model_module_version": "1.5.0",
          "model_name": "DescriptionStyleModel",
          "state": {
            "_model_module": "@jupyter-widgets/controls",
            "_model_module_version": "1.5.0",
            "_model_name": "DescriptionStyleModel",
            "_view_count": null,
            "_view_module": "@jupyter-widgets/base",
            "_view_module_version": "1.2.0",
            "_view_name": "StyleView",
            "description_width": ""
          }
        },
        "2e1c777c81854467b928e51ae3e5dbaf": {
          "model_module": "@jupyter-widgets/controls",
          "model_module_version": "1.5.0",
          "model_name": "ProgressStyleModel",
          "state": {
            "_model_module": "@jupyter-widgets/controls",
            "_model_module_version": "1.5.0",
            "_model_name": "ProgressStyleModel",
            "_view_count": null,
            "_view_module": "@jupyter-widgets/base",
            "_view_module_version": "1.2.0",
            "_view_name": "StyleView",
            "bar_color": null,
            "description_width": ""
          }
        },
        "2f3bd02fa6d64d77bb0b4a7057eba307": {
          "model_module": "@jupyter-widgets/controls",
          "model_module_version": "1.5.0",
          "model_name": "DescriptionStyleModel",
          "state": {
            "_model_module": "@jupyter-widgets/controls",
            "_model_module_version": "1.5.0",
            "_model_name": "DescriptionStyleModel",
            "_view_count": null,
            "_view_module": "@jupyter-widgets/base",
            "_view_module_version": "1.2.0",
            "_view_name": "StyleView",
            "description_width": ""
          }
        },
        "3341058202af4a0c8e43d1f8a92e98cc": {
          "model_module": "@jupyter-widgets/controls",
          "model_module_version": "1.5.0",
          "model_name": "DescriptionStyleModel",
          "state": {
            "_model_module": "@jupyter-widgets/controls",
            "_model_module_version": "1.5.0",
            "_model_name": "DescriptionStyleModel",
            "_view_count": null,
            "_view_module": "@jupyter-widgets/base",
            "_view_module_version": "1.2.0",
            "_view_name": "StyleView",
            "description_width": ""
          }
        },
        "337c9f83ec48403581cde7879b2c193b": {
          "model_module": "@jupyter-widgets/base",
          "model_module_version": "1.2.0",
          "model_name": "LayoutModel",
          "state": {
            "_model_module": "@jupyter-widgets/base",
            "_model_module_version": "1.2.0",
            "_model_name": "LayoutModel",
            "_view_count": null,
            "_view_module": "@jupyter-widgets/base",
            "_view_module_version": "1.2.0",
            "_view_name": "LayoutView",
            "align_content": null,
            "align_items": null,
            "align_self": null,
            "border": null,
            "bottom": null,
            "display": null,
            "flex": null,
            "flex_flow": null,
            "grid_area": null,
            "grid_auto_columns": null,
            "grid_auto_flow": null,
            "grid_auto_rows": null,
            "grid_column": null,
            "grid_gap": null,
            "grid_row": null,
            "grid_template_areas": null,
            "grid_template_columns": null,
            "grid_template_rows": null,
            "height": null,
            "justify_content": null,
            "justify_items": null,
            "left": null,
            "margin": null,
            "max_height": null,
            "max_width": null,
            "min_height": null,
            "min_width": null,
            "object_fit": null,
            "object_position": null,
            "order": null,
            "overflow": null,
            "overflow_x": null,
            "overflow_y": null,
            "padding": null,
            "right": null,
            "top": null,
            "visibility": null,
            "width": null
          }
        },
        "345db4a5aab94375992f9e204844322c": {
          "model_module": "@jupyter-widgets/controls",
          "model_module_version": "1.5.0",
          "model_name": "DescriptionStyleModel",
          "state": {
            "_model_module": "@jupyter-widgets/controls",
            "_model_module_version": "1.5.0",
            "_model_name": "DescriptionStyleModel",
            "_view_count": null,
            "_view_module": "@jupyter-widgets/base",
            "_view_module_version": "1.2.0",
            "_view_name": "StyleView",
            "description_width": ""
          }
        },
        "346add48030f45888389da40a030fc32": {
          "model_module": "@jupyter-widgets/controls",
          "model_module_version": "1.5.0",
          "model_name": "DescriptionStyleModel",
          "state": {
            "_model_module": "@jupyter-widgets/controls",
            "_model_module_version": "1.5.0",
            "_model_name": "DescriptionStyleModel",
            "_view_count": null,
            "_view_module": "@jupyter-widgets/base",
            "_view_module_version": "1.2.0",
            "_view_name": "StyleView",
            "description_width": ""
          }
        },
        "38d769c629744972bb38ef695e693ec6": {
          "model_module": "@jupyter-widgets/controls",
          "model_module_version": "1.5.0",
          "model_name": "ProgressStyleModel",
          "state": {
            "_model_module": "@jupyter-widgets/controls",
            "_model_module_version": "1.5.0",
            "_model_name": "ProgressStyleModel",
            "_view_count": null,
            "_view_module": "@jupyter-widgets/base",
            "_view_module_version": "1.2.0",
            "_view_name": "StyleView",
            "bar_color": null,
            "description_width": ""
          }
        },
        "3b7214f257044ec593c577fcaeade221": {
          "model_module": "@jupyter-widgets/base",
          "model_module_version": "1.2.0",
          "model_name": "LayoutModel",
          "state": {
            "_model_module": "@jupyter-widgets/base",
            "_model_module_version": "1.2.0",
            "_model_name": "LayoutModel",
            "_view_count": null,
            "_view_module": "@jupyter-widgets/base",
            "_view_module_version": "1.2.0",
            "_view_name": "LayoutView",
            "align_content": null,
            "align_items": null,
            "align_self": null,
            "border": null,
            "bottom": null,
            "display": null,
            "flex": null,
            "flex_flow": null,
            "grid_area": null,
            "grid_auto_columns": null,
            "grid_auto_flow": null,
            "grid_auto_rows": null,
            "grid_column": null,
            "grid_gap": null,
            "grid_row": null,
            "grid_template_areas": null,
            "grid_template_columns": null,
            "grid_template_rows": null,
            "height": null,
            "justify_content": null,
            "justify_items": null,
            "left": null,
            "margin": null,
            "max_height": null,
            "max_width": null,
            "min_height": null,
            "min_width": null,
            "object_fit": null,
            "object_position": null,
            "order": null,
            "overflow": null,
            "overflow_x": null,
            "overflow_y": null,
            "padding": null,
            "right": null,
            "top": null,
            "visibility": null,
            "width": null
          }
        },
        "3d0f667156474747a0a9567e65f73196": {
          "model_module": "@jupyter-widgets/base",
          "model_module_version": "1.2.0",
          "model_name": "LayoutModel",
          "state": {
            "_model_module": "@jupyter-widgets/base",
            "_model_module_version": "1.2.0",
            "_model_name": "LayoutModel",
            "_view_count": null,
            "_view_module": "@jupyter-widgets/base",
            "_view_module_version": "1.2.0",
            "_view_name": "LayoutView",
            "align_content": null,
            "align_items": null,
            "align_self": null,
            "border": null,
            "bottom": null,
            "display": null,
            "flex": null,
            "flex_flow": null,
            "grid_area": null,
            "grid_auto_columns": null,
            "grid_auto_flow": null,
            "grid_auto_rows": null,
            "grid_column": null,
            "grid_gap": null,
            "grid_row": null,
            "grid_template_areas": null,
            "grid_template_columns": null,
            "grid_template_rows": null,
            "height": null,
            "justify_content": null,
            "justify_items": null,
            "left": null,
            "margin": null,
            "max_height": null,
            "max_width": null,
            "min_height": null,
            "min_width": null,
            "object_fit": null,
            "object_position": null,
            "order": null,
            "overflow": null,
            "overflow_x": null,
            "overflow_y": null,
            "padding": null,
            "right": null,
            "top": null,
            "visibility": "hidden",
            "width": null
          }
        },
        "3d539272c89d473681f2fea0dc2d3861": {
          "model_module": "@jupyter-widgets/controls",
          "model_module_version": "1.5.0",
          "model_name": "HTMLModel",
          "state": {
            "_dom_classes": [],
            "_model_module": "@jupyter-widgets/controls",
            "_model_module_version": "1.5.0",
            "_model_name": "HTMLModel",
            "_view_count": null,
            "_view_module": "@jupyter-widgets/controls",
            "_view_module_version": "1.5.0",
            "_view_name": "HTMLView",
            "description": "",
            "description_tooltip": null,
            "layout": "IPY_MODEL_24968f4b5f6440e9813d81a71953fc99",
            "placeholder": "​",
            "style": "IPY_MODEL_61378bc79c9546289c3f5988e558d269",
            "value": "Applying [EmbeddingExtractor, ThemesExtractor, NERExtractor]: 100%"
          }
        },
        "3f2796326e424964ac3286b18f5470ff": {
          "model_module": "@jupyter-widgets/controls",
          "model_module_version": "1.5.0",
          "model_name": "DescriptionStyleModel",
          "state": {
            "_model_module": "@jupyter-widgets/controls",
            "_model_module_version": "1.5.0",
            "_model_name": "DescriptionStyleModel",
            "_view_count": null,
            "_view_module": "@jupyter-widgets/base",
            "_view_module_version": "1.2.0",
            "_view_name": "StyleView",
            "description_width": ""
          }
        },
        "4244fc0981fe435c8831e280b19e49a4": {
          "model_module": "@jupyter-widgets/controls",
          "model_module_version": "1.5.0",
          "model_name": "HTMLModel",
          "state": {
            "_dom_classes": [],
            "_model_module": "@jupyter-widgets/controls",
            "_model_module_version": "1.5.0",
            "_model_name": "HTMLModel",
            "_view_count": null,
            "_view_module": "@jupyter-widgets/controls",
            "_view_module_version": "1.5.0",
            "_view_name": "HTMLView",
            "description": "",
            "description_tooltip": null,
            "layout": "IPY_MODEL_f910986211a3496f8af5e08482df091d",
            "placeholder": "​",
            "style": "IPY_MODEL_2f3bd02fa6d64d77bb0b4a7057eba307",
            "value": "Evaluating: 100%"
          }
        },
        "43cd9999977a49e3bd0f8dd04a32b6c4": {
          "model_module": "@jupyter-widgets/base",
          "model_module_version": "1.2.0",
          "model_name": "LayoutModel",
          "state": {
            "_model_module": "@jupyter-widgets/base",
            "_model_module_version": "1.2.0",
            "_model_name": "LayoutModel",
            "_view_count": null,
            "_view_module": "@jupyter-widgets/base",
            "_view_module_version": "1.2.0",
            "_view_name": "LayoutView",
            "align_content": null,
            "align_items": null,
            "align_self": null,
            "border": null,
            "bottom": null,
            "display": null,
            "flex": null,
            "flex_flow": null,
            "grid_area": null,
            "grid_auto_columns": null,
            "grid_auto_flow": null,
            "grid_auto_rows": null,
            "grid_column": null,
            "grid_gap": null,
            "grid_row": null,
            "grid_template_areas": null,
            "grid_template_columns": null,
            "grid_template_rows": null,
            "height": null,
            "justify_content": null,
            "justify_items": null,
            "left": null,
            "margin": null,
            "max_height": null,
            "max_width": null,
            "min_height": null,
            "min_width": null,
            "object_fit": null,
            "object_position": null,
            "order": null,
            "overflow": null,
            "overflow_x": null,
            "overflow_y": null,
            "padding": null,
            "right": null,
            "top": null,
            "visibility": null,
            "width": null
          }
        },
        "4478ef95413f4955be106b2b7e40bf80": {
          "model_module": "@jupyter-widgets/controls",
          "model_module_version": "1.5.0",
          "model_name": "ProgressStyleModel",
          "state": {
            "_model_module": "@jupyter-widgets/controls",
            "_model_module_version": "1.5.0",
            "_model_name": "ProgressStyleModel",
            "_view_count": null,
            "_view_module": "@jupyter-widgets/base",
            "_view_module_version": "1.2.0",
            "_view_name": "StyleView",
            "bar_color": null,
            "description_width": ""
          }
        },
        "448f4e2070a84b8f8a978ed51ee6d539": {
          "model_module": "@jupyter-widgets/base",
          "model_module_version": "1.2.0",
          "model_name": "LayoutModel",
          "state": {
            "_model_module": "@jupyter-widgets/base",
            "_model_module_version": "1.2.0",
            "_model_name": "LayoutModel",
            "_view_count": null,
            "_view_module": "@jupyter-widgets/base",
            "_view_module_version": "1.2.0",
            "_view_name": "LayoutView",
            "align_content": null,
            "align_items": null,
            "align_self": null,
            "border": null,
            "bottom": null,
            "display": null,
            "flex": null,
            "flex_flow": null,
            "grid_area": null,
            "grid_auto_columns": null,
            "grid_auto_flow": null,
            "grid_auto_rows": null,
            "grid_column": null,
            "grid_gap": null,
            "grid_row": null,
            "grid_template_areas": null,
            "grid_template_columns": null,
            "grid_template_rows": null,
            "height": null,
            "justify_content": null,
            "justify_items": null,
            "left": null,
            "margin": null,
            "max_height": null,
            "max_width": null,
            "min_height": null,
            "min_width": null,
            "object_fit": null,
            "object_position": null,
            "order": null,
            "overflow": null,
            "overflow_x": null,
            "overflow_y": null,
            "padding": null,
            "right": null,
            "top": null,
            "visibility": null,
            "width": null
          }
        },
        "45e3952d13a04c7c9d0aa778e34074cd": {
          "model_module": "@jupyter-widgets/base",
          "model_module_version": "1.2.0",
          "model_name": "LayoutModel",
          "state": {
            "_model_module": "@jupyter-widgets/base",
            "_model_module_version": "1.2.0",
            "_model_name": "LayoutModel",
            "_view_count": null,
            "_view_module": "@jupyter-widgets/base",
            "_view_module_version": "1.2.0",
            "_view_name": "LayoutView",
            "align_content": null,
            "align_items": null,
            "align_self": null,
            "border": null,
            "bottom": null,
            "display": null,
            "flex": null,
            "flex_flow": null,
            "grid_area": null,
            "grid_auto_columns": null,
            "grid_auto_flow": null,
            "grid_auto_rows": null,
            "grid_column": null,
            "grid_gap": null,
            "grid_row": null,
            "grid_template_areas": null,
            "grid_template_columns": null,
            "grid_template_rows": null,
            "height": null,
            "justify_content": null,
            "justify_items": null,
            "left": null,
            "margin": null,
            "max_height": null,
            "max_width": null,
            "min_height": null,
            "min_width": null,
            "object_fit": null,
            "object_position": null,
            "order": null,
            "overflow": null,
            "overflow_x": null,
            "overflow_y": null,
            "padding": null,
            "right": null,
            "top": null,
            "visibility": null,
            "width": null
          }
        },
        "47c4e4c0d27046a5ab5c741d358fef0e": {
          "model_module": "@jupyter-widgets/controls",
          "model_module_version": "1.5.0",
          "model_name": "DescriptionStyleModel",
          "state": {
            "_model_module": "@jupyter-widgets/controls",
            "_model_module_version": "1.5.0",
            "_model_name": "DescriptionStyleModel",
            "_view_count": null,
            "_view_module": "@jupyter-widgets/base",
            "_view_module_version": "1.2.0",
            "_view_name": "StyleView",
            "description_width": ""
          }
        },
        "4a6b692b9e99465fac569fbf410f0884": {
          "model_module": "@jupyter-widgets/base",
          "model_module_version": "1.2.0",
          "model_name": "LayoutModel",
          "state": {
            "_model_module": "@jupyter-widgets/base",
            "_model_module_version": "1.2.0",
            "_model_name": "LayoutModel",
            "_view_count": null,
            "_view_module": "@jupyter-widgets/base",
            "_view_module_version": "1.2.0",
            "_view_name": "LayoutView",
            "align_content": null,
            "align_items": null,
            "align_self": null,
            "border": null,
            "bottom": null,
            "display": null,
            "flex": null,
            "flex_flow": null,
            "grid_area": null,
            "grid_auto_columns": null,
            "grid_auto_flow": null,
            "grid_auto_rows": null,
            "grid_column": null,
            "grid_gap": null,
            "grid_row": null,
            "grid_template_areas": null,
            "grid_template_columns": null,
            "grid_template_rows": null,
            "height": null,
            "justify_content": null,
            "justify_items": null,
            "left": null,
            "margin": null,
            "max_height": null,
            "max_width": null,
            "min_height": null,
            "min_width": null,
            "object_fit": null,
            "object_position": null,
            "order": null,
            "overflow": null,
            "overflow_x": null,
            "overflow_y": null,
            "padding": null,
            "right": null,
            "top": null,
            "visibility": null,
            "width": null
          }
        },
        "4bbfdaf3a524461f9be7c9bfc6326889": {
          "model_module": "@jupyter-widgets/controls",
          "model_module_version": "1.5.0",
          "model_name": "ProgressStyleModel",
          "state": {
            "_model_module": "@jupyter-widgets/controls",
            "_model_module_version": "1.5.0",
            "_model_name": "ProgressStyleModel",
            "_view_count": null,
            "_view_module": "@jupyter-widgets/base",
            "_view_module_version": "1.2.0",
            "_view_name": "StyleView",
            "bar_color": null,
            "description_width": ""
          }
        },
        "4f1cc0671f4148889a166df242b98a72": {
          "model_module": "@jupyter-widgets/controls",
          "model_module_version": "1.5.0",
          "model_name": "ProgressStyleModel",
          "state": {
            "_model_module": "@jupyter-widgets/controls",
            "_model_module_version": "1.5.0",
            "_model_name": "ProgressStyleModel",
            "_view_count": null,
            "_view_module": "@jupyter-widgets/base",
            "_view_module_version": "1.2.0",
            "_view_name": "StyleView",
            "bar_color": null,
            "description_width": ""
          }
        },
        "50761f1863c140aab5e8d79b2d65589d": {
          "model_module": "@jupyter-widgets/base",
          "model_module_version": "1.2.0",
          "model_name": "LayoutModel",
          "state": {
            "_model_module": "@jupyter-widgets/base",
            "_model_module_version": "1.2.0",
            "_model_name": "LayoutModel",
            "_view_count": null,
            "_view_module": "@jupyter-widgets/base",
            "_view_module_version": "1.2.0",
            "_view_name": "LayoutView",
            "align_content": null,
            "align_items": null,
            "align_self": null,
            "border": null,
            "bottom": null,
            "display": null,
            "flex": null,
            "flex_flow": null,
            "grid_area": null,
            "grid_auto_columns": null,
            "grid_auto_flow": null,
            "grid_auto_rows": null,
            "grid_column": null,
            "grid_gap": null,
            "grid_row": null,
            "grid_template_areas": null,
            "grid_template_columns": null,
            "grid_template_rows": null,
            "height": null,
            "justify_content": null,
            "justify_items": null,
            "left": null,
            "margin": null,
            "max_height": null,
            "max_width": null,
            "min_height": null,
            "min_width": null,
            "object_fit": null,
            "object_position": null,
            "order": null,
            "overflow": null,
            "overflow_x": null,
            "overflow_y": null,
            "padding": null,
            "right": null,
            "top": null,
            "visibility": null,
            "width": null
          }
        },
        "57e06e49eb484bc1aeb93bffa6bc923b": {
          "model_module": "@jupyter-widgets/controls",
          "model_module_version": "1.5.0",
          "model_name": "HTMLModel",
          "state": {
            "_dom_classes": [],
            "_model_module": "@jupyter-widgets/controls",
            "_model_module_version": "1.5.0",
            "_model_name": "HTMLModel",
            "_view_count": null,
            "_view_module": "@jupyter-widgets/controls",
            "_view_module_version": "1.5.0",
            "_view_name": "HTMLView",
            "description": "",
            "description_tooltip": null,
            "layout": "IPY_MODEL_1472ffffef9341dcb644cf16226133ee",
            "placeholder": "​",
            "style": "IPY_MODEL_2df08e778d454ab18527a60f2ed885d6",
            "value": " 60/60 [04:17&lt;00:00, 33.76s/it]"
          }
        },
        "5a95c397bbab4892a8235a1fa04765c7": {
          "model_module": "@jupyter-widgets/base",
          "model_module_version": "1.2.0",
          "model_name": "LayoutModel",
          "state": {
            "_model_module": "@jupyter-widgets/base",
            "_model_module_version": "1.2.0",
            "_model_name": "LayoutModel",
            "_view_count": null,
            "_view_module": "@jupyter-widgets/base",
            "_view_module_version": "1.2.0",
            "_view_name": "LayoutView",
            "align_content": null,
            "align_items": null,
            "align_self": null,
            "border": null,
            "bottom": null,
            "display": null,
            "flex": null,
            "flex_flow": null,
            "grid_area": null,
            "grid_auto_columns": null,
            "grid_auto_flow": null,
            "grid_auto_rows": null,
            "grid_column": null,
            "grid_gap": null,
            "grid_row": null,
            "grid_template_areas": null,
            "grid_template_columns": null,
            "grid_template_rows": null,
            "height": null,
            "justify_content": null,
            "justify_items": null,
            "left": null,
            "margin": null,
            "max_height": null,
            "max_width": null,
            "min_height": null,
            "min_width": null,
            "object_fit": null,
            "object_position": null,
            "order": null,
            "overflow": null,
            "overflow_x": null,
            "overflow_y": null,
            "padding": null,
            "right": null,
            "top": null,
            "visibility": null,
            "width": null
          }
        },
        "5b86fd1498444781a8774b9e8df63e42": {
          "model_module": "@jupyter-widgets/controls",
          "model_module_version": "1.5.0",
          "model_name": "ProgressStyleModel",
          "state": {
            "_model_module": "@jupyter-widgets/controls",
            "_model_module_version": "1.5.0",
            "_model_name": "ProgressStyleModel",
            "_view_count": null,
            "_view_module": "@jupyter-widgets/base",
            "_view_module_version": "1.2.0",
            "_view_name": "StyleView",
            "bar_color": null,
            "description_width": ""
          }
        },
        "5eaf8a9a8ad6408e8a9b2c0f84a41050": {
          "model_module": "@jupyter-widgets/controls",
          "model_module_version": "1.5.0",
          "model_name": "DescriptionStyleModel",
          "state": {
            "_model_module": "@jupyter-widgets/controls",
            "_model_module_version": "1.5.0",
            "_model_name": "DescriptionStyleModel",
            "_view_count": null,
            "_view_module": "@jupyter-widgets/base",
            "_view_module_version": "1.2.0",
            "_view_name": "StyleView",
            "description_width": ""
          }
        },
        "61378bc79c9546289c3f5988e558d269": {
          "model_module": "@jupyter-widgets/controls",
          "model_module_version": "1.5.0",
          "model_name": "DescriptionStyleModel",
          "state": {
            "_model_module": "@jupyter-widgets/controls",
            "_model_module_version": "1.5.0",
            "_model_name": "DescriptionStyleModel",
            "_view_count": null,
            "_view_module": "@jupyter-widgets/base",
            "_view_module_version": "1.2.0",
            "_view_name": "StyleView",
            "description_width": ""
          }
        },
        "6565972771cc46d2a6b7d1dff927e79d": {
          "model_module": "@jupyter-widgets/controls",
          "model_module_version": "1.5.0",
          "model_name": "HTMLModel",
          "state": {
            "_dom_classes": [],
            "_model_module": "@jupyter-widgets/controls",
            "_model_module_version": "1.5.0",
            "_model_name": "HTMLModel",
            "_view_count": null,
            "_view_module": "@jupyter-widgets/controls",
            "_view_module_version": "1.5.0",
            "_view_name": "HTMLView",
            "description": "",
            "description_tooltip": null,
            "layout": "IPY_MODEL_797461ce381c4345867cfa501a6b03ae",
            "placeholder": "​",
            "style": "IPY_MODEL_3341058202af4a0c8e43d1f8a92e98cc",
            "value": "Generating Scenarios: 100%"
          }
        },
        "65f9d599466b4140b7e4e128306dddfc": {
          "model_module": "@jupyter-widgets/controls",
          "model_module_version": "1.5.0",
          "model_name": "HBoxModel",
          "state": {
            "_dom_classes": [],
            "_model_module": "@jupyter-widgets/controls",
            "_model_module_version": "1.5.0",
            "_model_name": "HBoxModel",
            "_view_count": null,
            "_view_module": "@jupyter-widgets/controls",
            "_view_module_version": "1.5.0",
            "_view_name": "HBoxView",
            "box_style": "",
            "children": [
              "IPY_MODEL_828bdd01d4784414871a57e898ba8564",
              "IPY_MODEL_d6cedf85eb0f4a628c6c0a82fc19f107",
              "IPY_MODEL_c70a36ddfabb4db890c7c96bffe5e331"
            ],
            "layout": "IPY_MODEL_a0f0b3fc543a45faae2dba368ea942f0"
          }
        },
        "65fcf3b2705846f4867d597c6020d998": {
          "model_module": "@jupyter-widgets/base",
          "model_module_version": "1.2.0",
          "model_name": "LayoutModel",
          "state": {
            "_model_module": "@jupyter-widgets/base",
            "_model_module_version": "1.2.0",
            "_model_name": "LayoutModel",
            "_view_count": null,
            "_view_module": "@jupyter-widgets/base",
            "_view_module_version": "1.2.0",
            "_view_name": "LayoutView",
            "align_content": null,
            "align_items": null,
            "align_self": null,
            "border": null,
            "bottom": null,
            "display": null,
            "flex": null,
            "flex_flow": null,
            "grid_area": null,
            "grid_auto_columns": null,
            "grid_auto_flow": null,
            "grid_auto_rows": null,
            "grid_column": null,
            "grid_gap": null,
            "grid_row": null,
            "grid_template_areas": null,
            "grid_template_columns": null,
            "grid_template_rows": null,
            "height": null,
            "justify_content": null,
            "justify_items": null,
            "left": null,
            "margin": null,
            "max_height": null,
            "max_width": null,
            "min_height": null,
            "min_width": null,
            "object_fit": null,
            "object_position": null,
            "order": null,
            "overflow": null,
            "overflow_x": null,
            "overflow_y": null,
            "padding": null,
            "right": null,
            "top": null,
            "visibility": null,
            "width": null
          }
        },
        "672bfd9687b94aaab0715753e3fde0fa": {
          "model_module": "@jupyter-widgets/controls",
          "model_module_version": "1.5.0",
          "model_name": "FloatProgressModel",
          "state": {
            "_dom_classes": [],
            "_model_module": "@jupyter-widgets/controls",
            "_model_module_version": "1.5.0",
            "_model_name": "FloatProgressModel",
            "_view_count": null,
            "_view_module": "@jupyter-widgets/controls",
            "_view_module_version": "1.5.0",
            "_view_name": "ProgressView",
            "bar_style": "",
            "description": "",
            "description_tooltip": null,
            "layout": "IPY_MODEL_eeeee88eec514b019e0f2f1e6bc399c0",
            "max": 1,
            "min": 0,
            "orientation": "horizontal",
            "style": "IPY_MODEL_4bbfdaf3a524461f9be7c9bfc6326889",
            "value": 1
          }
        },
        "6a9fee6231c34501b372eb24e5f2572e": {
          "model_module": "@jupyter-widgets/base",
          "model_module_version": "1.2.0",
          "model_name": "LayoutModel",
          "state": {
            "_model_module": "@jupyter-widgets/base",
            "_model_module_version": "1.2.0",
            "_model_name": "LayoutModel",
            "_view_count": null,
            "_view_module": "@jupyter-widgets/base",
            "_view_module_version": "1.2.0",
            "_view_name": "LayoutView",
            "align_content": null,
            "align_items": null,
            "align_self": null,
            "border": null,
            "bottom": null,
            "display": null,
            "flex": null,
            "flex_flow": null,
            "grid_area": null,
            "grid_auto_columns": null,
            "grid_auto_flow": null,
            "grid_auto_rows": null,
            "grid_column": null,
            "grid_gap": null,
            "grid_row": null,
            "grid_template_areas": null,
            "grid_template_columns": null,
            "grid_template_rows": null,
            "height": null,
            "justify_content": null,
            "justify_items": null,
            "left": null,
            "margin": null,
            "max_height": null,
            "max_width": null,
            "min_height": null,
            "min_width": null,
            "object_fit": null,
            "object_position": null,
            "order": null,
            "overflow": null,
            "overflow_x": null,
            "overflow_y": null,
            "padding": null,
            "right": null,
            "top": null,
            "visibility": null,
            "width": null
          }
        },
        "6b09d93e18ac4c0ba3202231fef17bea": {
          "model_module": "@jupyter-widgets/controls",
          "model_module_version": "1.5.0",
          "model_name": "DescriptionStyleModel",
          "state": {
            "_model_module": "@jupyter-widgets/controls",
            "_model_module_version": "1.5.0",
            "_model_name": "DescriptionStyleModel",
            "_view_count": null,
            "_view_module": "@jupyter-widgets/base",
            "_view_module_version": "1.2.0",
            "_view_name": "StyleView",
            "description_width": ""
          }
        },
        "6ceb82a417604a4bb728237b1813d19b": {
          "model_module": "@jupyter-widgets/base",
          "model_module_version": "1.2.0",
          "model_name": "LayoutModel",
          "state": {
            "_model_module": "@jupyter-widgets/base",
            "_model_module_version": "1.2.0",
            "_model_name": "LayoutModel",
            "_view_count": null,
            "_view_module": "@jupyter-widgets/base",
            "_view_module_version": "1.2.0",
            "_view_name": "LayoutView",
            "align_content": null,
            "align_items": null,
            "align_self": null,
            "border": null,
            "bottom": null,
            "display": null,
            "flex": null,
            "flex_flow": null,
            "grid_area": null,
            "grid_auto_columns": null,
            "grid_auto_flow": null,
            "grid_auto_rows": null,
            "grid_column": null,
            "grid_gap": null,
            "grid_row": null,
            "grid_template_areas": null,
            "grid_template_columns": null,
            "grid_template_rows": null,
            "height": null,
            "justify_content": null,
            "justify_items": null,
            "left": null,
            "margin": null,
            "max_height": null,
            "max_width": null,
            "min_height": null,
            "min_width": null,
            "object_fit": null,
            "object_position": null,
            "order": null,
            "overflow": null,
            "overflow_x": null,
            "overflow_y": null,
            "padding": null,
            "right": null,
            "top": null,
            "visibility": null,
            "width": null
          }
        },
        "6e3cb04997254f4d846ce3a511453fe5": {
          "model_module": "@jupyter-widgets/base",
          "model_module_version": "1.2.0",
          "model_name": "LayoutModel",
          "state": {
            "_model_module": "@jupyter-widgets/base",
            "_model_module_version": "1.2.0",
            "_model_name": "LayoutModel",
            "_view_count": null,
            "_view_module": "@jupyter-widgets/base",
            "_view_module_version": "1.2.0",
            "_view_name": "LayoutView",
            "align_content": null,
            "align_items": null,
            "align_self": null,
            "border": null,
            "bottom": null,
            "display": null,
            "flex": null,
            "flex_flow": null,
            "grid_area": null,
            "grid_auto_columns": null,
            "grid_auto_flow": null,
            "grid_auto_rows": null,
            "grid_column": null,
            "grid_gap": null,
            "grid_row": null,
            "grid_template_areas": null,
            "grid_template_columns": null,
            "grid_template_rows": null,
            "height": null,
            "justify_content": null,
            "justify_items": null,
            "left": null,
            "margin": null,
            "max_height": null,
            "max_width": null,
            "min_height": null,
            "min_width": null,
            "object_fit": null,
            "object_position": null,
            "order": null,
            "overflow": null,
            "overflow_x": null,
            "overflow_y": null,
            "padding": null,
            "right": null,
            "top": null,
            "visibility": "hidden",
            "width": null
          }
        },
        "6fbfa970d5504d87b147d5f7db777632": {
          "model_module": "@jupyter-widgets/controls",
          "model_module_version": "1.5.0",
          "model_name": "ProgressStyleModel",
          "state": {
            "_model_module": "@jupyter-widgets/controls",
            "_model_module_version": "1.5.0",
            "_model_name": "ProgressStyleModel",
            "_view_count": null,
            "_view_module": "@jupyter-widgets/base",
            "_view_module_version": "1.2.0",
            "_view_name": "StyleView",
            "bar_color": null,
            "description_width": ""
          }
        },
        "70d971615ce94787ba9c0c24ec5df53a": {
          "model_module": "@jupyter-widgets/base",
          "model_module_version": "1.2.0",
          "model_name": "LayoutModel",
          "state": {
            "_model_module": "@jupyter-widgets/base",
            "_model_module_version": "1.2.0",
            "_model_name": "LayoutModel",
            "_view_count": null,
            "_view_module": "@jupyter-widgets/base",
            "_view_module_version": "1.2.0",
            "_view_name": "LayoutView",
            "align_content": null,
            "align_items": null,
            "align_self": null,
            "border": null,
            "bottom": null,
            "display": null,
            "flex": null,
            "flex_flow": null,
            "grid_area": null,
            "grid_auto_columns": null,
            "grid_auto_flow": null,
            "grid_auto_rows": null,
            "grid_column": null,
            "grid_gap": null,
            "grid_row": null,
            "grid_template_areas": null,
            "grid_template_columns": null,
            "grid_template_rows": null,
            "height": null,
            "justify_content": null,
            "justify_items": null,
            "left": null,
            "margin": null,
            "max_height": null,
            "max_width": null,
            "min_height": null,
            "min_width": null,
            "object_fit": null,
            "object_position": null,
            "order": null,
            "overflow": null,
            "overflow_x": null,
            "overflow_y": null,
            "padding": null,
            "right": null,
            "top": null,
            "visibility": null,
            "width": null
          }
        },
        "70f6a23d472347d9a36e3b04606f9cae": {
          "model_module": "@jupyter-widgets/controls",
          "model_module_version": "1.5.0",
          "model_name": "FloatProgressModel",
          "state": {
            "_dom_classes": [],
            "_model_module": "@jupyter-widgets/controls",
            "_model_module_version": "1.5.0",
            "_model_name": "FloatProgressModel",
            "_view_count": null,
            "_view_module": "@jupyter-widgets/controls",
            "_view_module_version": "1.5.0",
            "_view_name": "ProgressView",
            "bar_style": "success",
            "description": "",
            "description_tooltip": null,
            "layout": "IPY_MODEL_a1cb96fb39344b139bae23f1429cb0f1",
            "max": 60,
            "min": 0,
            "orientation": "horizontal",
            "style": "IPY_MODEL_4478ef95413f4955be106b2b7e40bf80",
            "value": 60
          }
        },
        "71b90f61a9a74432a8369cff0fa70a6d": {
          "model_module": "@jupyter-widgets/base",
          "model_module_version": "1.2.0",
          "model_name": "LayoutModel",
          "state": {
            "_model_module": "@jupyter-widgets/base",
            "_model_module_version": "1.2.0",
            "_model_name": "LayoutModel",
            "_view_count": null,
            "_view_module": "@jupyter-widgets/base",
            "_view_module_version": "1.2.0",
            "_view_name": "LayoutView",
            "align_content": null,
            "align_items": null,
            "align_self": null,
            "border": null,
            "bottom": null,
            "display": null,
            "flex": null,
            "flex_flow": null,
            "grid_area": null,
            "grid_auto_columns": null,
            "grid_auto_flow": null,
            "grid_auto_rows": null,
            "grid_column": null,
            "grid_gap": null,
            "grid_row": null,
            "grid_template_areas": null,
            "grid_template_columns": null,
            "grid_template_rows": null,
            "height": null,
            "justify_content": null,
            "justify_items": null,
            "left": null,
            "margin": null,
            "max_height": null,
            "max_width": null,
            "min_height": null,
            "min_width": null,
            "object_fit": null,
            "object_position": null,
            "order": null,
            "overflow": null,
            "overflow_x": null,
            "overflow_y": null,
            "padding": null,
            "right": null,
            "top": null,
            "visibility": null,
            "width": null
          }
        },
        "739324fab0c1478bb7e0d92b0c193b13": {
          "model_module": "@jupyter-widgets/controls",
          "model_module_version": "1.5.0",
          "model_name": "HBoxModel",
          "state": {
            "_dom_classes": [],
            "_model_module": "@jupyter-widgets/controls",
            "_model_module_version": "1.5.0",
            "_model_name": "HBoxModel",
            "_view_count": null,
            "_view_module": "@jupyter-widgets/controls",
            "_view_module_version": "1.5.0",
            "_view_name": "HBoxView",
            "box_style": "",
            "children": [
              "IPY_MODEL_3d539272c89d473681f2fea0dc2d3861",
              "IPY_MODEL_fb6f2edf110846368ca9becf03ab8a70",
              "IPY_MODEL_df35b2b77b584d0995bd9c2ed9ed8ab2"
            ],
            "layout": "IPY_MODEL_75a1fc79b9934cba8a84a48b6798c1e1"
          }
        },
        "75a1fc79b9934cba8a84a48b6798c1e1": {
          "model_module": "@jupyter-widgets/base",
          "model_module_version": "1.2.0",
          "model_name": "LayoutModel",
          "state": {
            "_model_module": "@jupyter-widgets/base",
            "_model_module_version": "1.2.0",
            "_model_name": "LayoutModel",
            "_view_count": null,
            "_view_module": "@jupyter-widgets/base",
            "_view_module_version": "1.2.0",
            "_view_name": "LayoutView",
            "align_content": null,
            "align_items": null,
            "align_self": null,
            "border": null,
            "bottom": null,
            "display": null,
            "flex": null,
            "flex_flow": null,
            "grid_area": null,
            "grid_auto_columns": null,
            "grid_auto_flow": null,
            "grid_auto_rows": null,
            "grid_column": null,
            "grid_gap": null,
            "grid_row": null,
            "grid_template_areas": null,
            "grid_template_columns": null,
            "grid_template_rows": null,
            "height": null,
            "justify_content": null,
            "justify_items": null,
            "left": null,
            "margin": null,
            "max_height": null,
            "max_width": null,
            "min_height": null,
            "min_width": null,
            "object_fit": null,
            "object_position": null,
            "order": null,
            "overflow": null,
            "overflow_x": null,
            "overflow_y": null,
            "padding": null,
            "right": null,
            "top": null,
            "visibility": "hidden",
            "width": null
          }
        },
        "75f30a174f1c4b9f82039d06c33fa104": {
          "model_module": "@jupyter-widgets/base",
          "model_module_version": "1.2.0",
          "model_name": "LayoutModel",
          "state": {
            "_model_module": "@jupyter-widgets/base",
            "_model_module_version": "1.2.0",
            "_model_name": "LayoutModel",
            "_view_count": null,
            "_view_module": "@jupyter-widgets/base",
            "_view_module_version": "1.2.0",
            "_view_name": "LayoutView",
            "align_content": null,
            "align_items": null,
            "align_self": null,
            "border": null,
            "bottom": null,
            "display": null,
            "flex": null,
            "flex_flow": null,
            "grid_area": null,
            "grid_auto_columns": null,
            "grid_auto_flow": null,
            "grid_auto_rows": null,
            "grid_column": null,
            "grid_gap": null,
            "grid_row": null,
            "grid_template_areas": null,
            "grid_template_columns": null,
            "grid_template_rows": null,
            "height": null,
            "justify_content": null,
            "justify_items": null,
            "left": null,
            "margin": null,
            "max_height": null,
            "max_width": null,
            "min_height": null,
            "min_width": null,
            "object_fit": null,
            "object_position": null,
            "order": null,
            "overflow": null,
            "overflow_x": null,
            "overflow_y": null,
            "padding": null,
            "right": null,
            "top": null,
            "visibility": null,
            "width": null
          }
        },
        "797461ce381c4345867cfa501a6b03ae": {
          "model_module": "@jupyter-widgets/base",
          "model_module_version": "1.2.0",
          "model_name": "LayoutModel",
          "state": {
            "_model_module": "@jupyter-widgets/base",
            "_model_module_version": "1.2.0",
            "_model_name": "LayoutModel",
            "_view_count": null,
            "_view_module": "@jupyter-widgets/base",
            "_view_module_version": "1.2.0",
            "_view_name": "LayoutView",
            "align_content": null,
            "align_items": null,
            "align_self": null,
            "border": null,
            "bottom": null,
            "display": null,
            "flex": null,
            "flex_flow": null,
            "grid_area": null,
            "grid_auto_columns": null,
            "grid_auto_flow": null,
            "grid_auto_rows": null,
            "grid_column": null,
            "grid_gap": null,
            "grid_row": null,
            "grid_template_areas": null,
            "grid_template_columns": null,
            "grid_template_rows": null,
            "height": null,
            "justify_content": null,
            "justify_items": null,
            "left": null,
            "margin": null,
            "max_height": null,
            "max_width": null,
            "min_height": null,
            "min_width": null,
            "object_fit": null,
            "object_position": null,
            "order": null,
            "overflow": null,
            "overflow_x": null,
            "overflow_y": null,
            "padding": null,
            "right": null,
            "top": null,
            "visibility": null,
            "width": null
          }
        },
        "7e5d5efcadf84fc9825199962ae24862": {
          "model_module": "@jupyter-widgets/controls",
          "model_module_version": "1.5.0",
          "model_name": "HBoxModel",
          "state": {
            "_dom_classes": [],
            "_model_module": "@jupyter-widgets/controls",
            "_model_module_version": "1.5.0",
            "_model_name": "HBoxModel",
            "_view_count": null,
            "_view_module": "@jupyter-widgets/controls",
            "_view_module_version": "1.5.0",
            "_view_name": "HBoxView",
            "box_style": "",
            "children": [
              "IPY_MODEL_4244fc0981fe435c8831e280b19e49a4",
              "IPY_MODEL_addc5441e60e4cfda7f0df1f11d7ac43",
              "IPY_MODEL_1bfb10d52db14ebaa9eaaf7ed2ed5e38"
            ],
            "layout": "IPY_MODEL_933c7b7ce53943758dba01e190c8cf04"
          }
        },
        "7f8d57eba155466b90d3fa152a038c40": {
          "model_module": "@jupyter-widgets/controls",
          "model_module_version": "1.5.0",
          "model_name": "ProgressStyleModel",
          "state": {
            "_model_module": "@jupyter-widgets/controls",
            "_model_module_version": "1.5.0",
            "_model_name": "ProgressStyleModel",
            "_view_count": null,
            "_view_module": "@jupyter-widgets/base",
            "_view_module_version": "1.2.0",
            "_view_name": "StyleView",
            "bar_color": null,
            "description_width": ""
          }
        },
        "80ca0fa3ea9843758034fb7617c7e202": {
          "model_module": "@jupyter-widgets/controls",
          "model_module_version": "1.5.0",
          "model_name": "HBoxModel",
          "state": {
            "_dom_classes": [],
            "_model_module": "@jupyter-widgets/controls",
            "_model_module_version": "1.5.0",
            "_model_name": "HBoxModel",
            "_view_count": null,
            "_view_module": "@jupyter-widgets/controls",
            "_view_module_version": "1.5.0",
            "_view_name": "HBoxView",
            "box_style": "",
            "children": [
              "IPY_MODEL_d8bd51a58ac549959d9e31f53f5007c6",
              "IPY_MODEL_cfb64df98c25404a8074f2a81ae1a27c",
              "IPY_MODEL_d2a2a1b1d8824e98b2356230a897f90b"
            ],
            "layout": "IPY_MODEL_197f14ff830f414d951aa038e24f11f9"
          }
        },
        "828bdd01d4784414871a57e898ba8564": {
          "model_module": "@jupyter-widgets/controls",
          "model_module_version": "1.5.0",
          "model_name": "HTMLModel",
          "state": {
            "_dom_classes": [],
            "_model_module": "@jupyter-widgets/controls",
            "_model_module_version": "1.5.0",
            "_model_name": "HTMLModel",
            "_view_count": null,
            "_view_module": "@jupyter-widgets/controls",
            "_view_module_version": "1.5.0",
            "_view_name": "HTMLView",
            "description": "",
            "description_tooltip": null,
            "layout": "IPY_MODEL_3b7214f257044ec593c577fcaeade221",
            "placeholder": "​",
            "style": "IPY_MODEL_dcccc2face274142a4bdca32208cb096",
            "value": "Evaluating: 100%"
          }
        },
        "82cd06e7845e4239a5ff53d79b03dbb6": {
          "model_module": "@jupyter-widgets/controls",
          "model_module_version": "1.5.0",
          "model_name": "DescriptionStyleModel",
          "state": {
            "_model_module": "@jupyter-widgets/controls",
            "_model_module_version": "1.5.0",
            "_model_name": "DescriptionStyleModel",
            "_view_count": null,
            "_view_module": "@jupyter-widgets/base",
            "_view_module_version": "1.2.0",
            "_view_name": "StyleView",
            "description_width": ""
          }
        },
        "834db6d435d44d46bd8b55ec9c564262": {
          "model_module": "@jupyter-widgets/controls",
          "model_module_version": "1.5.0",
          "model_name": "FloatProgressModel",
          "state": {
            "_dom_classes": [],
            "_model_module": "@jupyter-widgets/controls",
            "_model_module_version": "1.5.0",
            "_model_name": "FloatProgressModel",
            "_view_count": null,
            "_view_module": "@jupyter-widgets/controls",
            "_view_module_version": "1.5.0",
            "_view_name": "ProgressView",
            "bar_style": "success",
            "description": "",
            "description_tooltip": null,
            "layout": "IPY_MODEL_65fcf3b2705846f4867d597c6020d998",
            "max": 10,
            "min": 0,
            "orientation": "horizontal",
            "style": "IPY_MODEL_7f8d57eba155466b90d3fa152a038c40",
            "value": 10
          }
        },
        "83a7fe5f12ac4e23b098bb02e84bb772": {
          "model_module": "@jupyter-widgets/controls",
          "model_module_version": "1.5.0",
          "model_name": "DescriptionStyleModel",
          "state": {
            "_model_module": "@jupyter-widgets/controls",
            "_model_module_version": "1.5.0",
            "_model_name": "DescriptionStyleModel",
            "_view_count": null,
            "_view_module": "@jupyter-widgets/base",
            "_view_module_version": "1.2.0",
            "_view_name": "StyleView",
            "description_width": ""
          }
        },
        "8c1c13ae9ec2438ca9deeecd3a8c4d17": {
          "model_module": "@jupyter-widgets/controls",
          "model_module_version": "1.5.0",
          "model_name": "ProgressStyleModel",
          "state": {
            "_model_module": "@jupyter-widgets/controls",
            "_model_module_version": "1.5.0",
            "_model_name": "ProgressStyleModel",
            "_view_count": null,
            "_view_module": "@jupyter-widgets/base",
            "_view_module_version": "1.2.0",
            "_view_name": "StyleView",
            "bar_color": null,
            "description_width": ""
          }
        },
        "8c8de98d7ee84470a46631b8e5f0fcfd": {
          "model_module": "@jupyter-widgets/controls",
          "model_module_version": "1.5.0",
          "model_name": "DescriptionStyleModel",
          "state": {
            "_model_module": "@jupyter-widgets/controls",
            "_model_module_version": "1.5.0",
            "_model_name": "DescriptionStyleModel",
            "_view_count": null,
            "_view_module": "@jupyter-widgets/base",
            "_view_module_version": "1.2.0",
            "_view_name": "StyleView",
            "description_width": ""
          }
        },
        "8e16d6298fb94573adc252988c13cbd7": {
          "model_module": "@jupyter-widgets/base",
          "model_module_version": "1.2.0",
          "model_name": "LayoutModel",
          "state": {
            "_model_module": "@jupyter-widgets/base",
            "_model_module_version": "1.2.0",
            "_model_name": "LayoutModel",
            "_view_count": null,
            "_view_module": "@jupyter-widgets/base",
            "_view_module_version": "1.2.0",
            "_view_name": "LayoutView",
            "align_content": null,
            "align_items": null,
            "align_self": null,
            "border": null,
            "bottom": null,
            "display": null,
            "flex": null,
            "flex_flow": null,
            "grid_area": null,
            "grid_auto_columns": null,
            "grid_auto_flow": null,
            "grid_auto_rows": null,
            "grid_column": null,
            "grid_gap": null,
            "grid_row": null,
            "grid_template_areas": null,
            "grid_template_columns": null,
            "grid_template_rows": null,
            "height": null,
            "justify_content": null,
            "justify_items": null,
            "left": null,
            "margin": null,
            "max_height": null,
            "max_width": null,
            "min_height": null,
            "min_width": null,
            "object_fit": null,
            "object_position": null,
            "order": null,
            "overflow": null,
            "overflow_x": null,
            "overflow_y": null,
            "padding": null,
            "right": null,
            "top": null,
            "visibility": null,
            "width": null
          }
        },
        "8e60ecd10d414a0b91212d61e1ea1fd8": {
          "model_module": "@jupyter-widgets/controls",
          "model_module_version": "1.5.0",
          "model_name": "DescriptionStyleModel",
          "state": {
            "_model_module": "@jupyter-widgets/controls",
            "_model_module_version": "1.5.0",
            "_model_name": "DescriptionStyleModel",
            "_view_count": null,
            "_view_module": "@jupyter-widgets/base",
            "_view_module_version": "1.2.0",
            "_view_name": "StyleView",
            "description_width": ""
          }
        },
        "8eeb7ce8bee545fb991a724b613c7042": {
          "model_module": "@jupyter-widgets/base",
          "model_module_version": "1.2.0",
          "model_name": "LayoutModel",
          "state": {
            "_model_module": "@jupyter-widgets/base",
            "_model_module_version": "1.2.0",
            "_model_name": "LayoutModel",
            "_view_count": null,
            "_view_module": "@jupyter-widgets/base",
            "_view_module_version": "1.2.0",
            "_view_name": "LayoutView",
            "align_content": null,
            "align_items": null,
            "align_self": null,
            "border": null,
            "bottom": null,
            "display": null,
            "flex": null,
            "flex_flow": null,
            "grid_area": null,
            "grid_auto_columns": null,
            "grid_auto_flow": null,
            "grid_auto_rows": null,
            "grid_column": null,
            "grid_gap": null,
            "grid_row": null,
            "grid_template_areas": null,
            "grid_template_columns": null,
            "grid_template_rows": null,
            "height": null,
            "justify_content": null,
            "justify_items": null,
            "left": null,
            "margin": null,
            "max_height": null,
            "max_width": null,
            "min_height": null,
            "min_width": null,
            "object_fit": null,
            "object_position": null,
            "order": null,
            "overflow": null,
            "overflow_x": null,
            "overflow_y": null,
            "padding": null,
            "right": null,
            "top": null,
            "visibility": null,
            "width": null
          }
        },
        "91c9aa4e6041414b878ca982b782316e": {
          "model_module": "@jupyter-widgets/controls",
          "model_module_version": "1.5.0",
          "model_name": "FloatProgressModel",
          "state": {
            "_dom_classes": [],
            "_model_module": "@jupyter-widgets/controls",
            "_model_module_version": "1.5.0",
            "_model_name": "FloatProgressModel",
            "_view_count": null,
            "_view_module": "@jupyter-widgets/controls",
            "_view_module_version": "1.5.0",
            "_view_name": "ProgressView",
            "bar_style": "success",
            "description": "",
            "description_tooltip": null,
            "layout": "IPY_MODEL_cf2399978ee24dd1bb4f8e1ccbb5cc5d",
            "max": 2,
            "min": 0,
            "orientation": "horizontal",
            "style": "IPY_MODEL_d91e24ca698f4401aa4e8cbb323923da",
            "value": 2
          }
        },
        "92c4b0d01c7c4542bbeb14880179083e": {
          "model_module": "@jupyter-widgets/base",
          "model_module_version": "1.2.0",
          "model_name": "LayoutModel",
          "state": {
            "_model_module": "@jupyter-widgets/base",
            "_model_module_version": "1.2.0",
            "_model_name": "LayoutModel",
            "_view_count": null,
            "_view_module": "@jupyter-widgets/base",
            "_view_module_version": "1.2.0",
            "_view_name": "LayoutView",
            "align_content": null,
            "align_items": null,
            "align_self": null,
            "border": null,
            "bottom": null,
            "display": null,
            "flex": null,
            "flex_flow": null,
            "grid_area": null,
            "grid_auto_columns": null,
            "grid_auto_flow": null,
            "grid_auto_rows": null,
            "grid_column": null,
            "grid_gap": null,
            "grid_row": null,
            "grid_template_areas": null,
            "grid_template_columns": null,
            "grid_template_rows": null,
            "height": null,
            "justify_content": null,
            "justify_items": null,
            "left": null,
            "margin": null,
            "max_height": null,
            "max_width": null,
            "min_height": null,
            "min_width": null,
            "object_fit": null,
            "object_position": null,
            "order": null,
            "overflow": null,
            "overflow_x": null,
            "overflow_y": null,
            "padding": null,
            "right": null,
            "top": null,
            "visibility": null,
            "width": null
          }
        },
        "933c7b7ce53943758dba01e190c8cf04": {
          "model_module": "@jupyter-widgets/base",
          "model_module_version": "1.2.0",
          "model_name": "LayoutModel",
          "state": {
            "_model_module": "@jupyter-widgets/base",
            "_model_module_version": "1.2.0",
            "_model_name": "LayoutModel",
            "_view_count": null,
            "_view_module": "@jupyter-widgets/base",
            "_view_module_version": "1.2.0",
            "_view_name": "LayoutView",
            "align_content": null,
            "align_items": null,
            "align_self": null,
            "border": null,
            "bottom": null,
            "display": null,
            "flex": null,
            "flex_flow": null,
            "grid_area": null,
            "grid_auto_columns": null,
            "grid_auto_flow": null,
            "grid_auto_rows": null,
            "grid_column": null,
            "grid_gap": null,
            "grid_row": null,
            "grid_template_areas": null,
            "grid_template_columns": null,
            "grid_template_rows": null,
            "height": null,
            "justify_content": null,
            "justify_items": null,
            "left": null,
            "margin": null,
            "max_height": null,
            "max_width": null,
            "min_height": null,
            "min_width": null,
            "object_fit": null,
            "object_position": null,
            "order": null,
            "overflow": null,
            "overflow_x": null,
            "overflow_y": null,
            "padding": null,
            "right": null,
            "top": null,
            "visibility": null,
            "width": null
          }
        },
        "93c2e60bf80442469c691c6d9c29def2": {
          "model_module": "@jupyter-widgets/controls",
          "model_module_version": "1.5.0",
          "model_name": "ProgressStyleModel",
          "state": {
            "_model_module": "@jupyter-widgets/controls",
            "_model_module_version": "1.5.0",
            "_model_name": "ProgressStyleModel",
            "_view_count": null,
            "_view_module": "@jupyter-widgets/base",
            "_view_module_version": "1.2.0",
            "_view_name": "StyleView",
            "bar_color": null,
            "description_width": ""
          }
        },
        "9743ba678b074072b20116b207cb786b": {
          "model_module": "@jupyter-widgets/controls",
          "model_module_version": "1.5.0",
          "model_name": "HBoxModel",
          "state": {
            "_dom_classes": [],
            "_model_module": "@jupyter-widgets/controls",
            "_model_module_version": "1.5.0",
            "_model_name": "HBoxModel",
            "_view_count": null,
            "_view_module": "@jupyter-widgets/controls",
            "_view_module_version": "1.5.0",
            "_view_name": "HBoxView",
            "box_style": "",
            "children": [
              "IPY_MODEL_20b54cb1fbe0492288c234279b18a58b",
              "IPY_MODEL_d16d71cbfa6b4bdbbee035d05fea23ff",
              "IPY_MODEL_0b81bf498a3544abbf208756b40f5817"
            ],
            "layout": "IPY_MODEL_9c28726181654a52837a5c010ef395c5"
          }
        },
        "98699b5e222b48d69d339b2b30b90764": {
          "model_module": "@jupyter-widgets/controls",
          "model_module_version": "1.5.0",
          "model_name": "FloatProgressModel",
          "state": {
            "_dom_classes": [],
            "_model_module": "@jupyter-widgets/controls",
            "_model_module_version": "1.5.0",
            "_model_name": "FloatProgressModel",
            "_view_count": null,
            "_view_module": "@jupyter-widgets/controls",
            "_view_module_version": "1.5.0",
            "_view_name": "ProgressView",
            "bar_style": "success",
            "description": "",
            "description_tooltip": null,
            "layout": "IPY_MODEL_4a6b692b9e99465fac569fbf410f0884",
            "max": 60,
            "min": 0,
            "orientation": "horizontal",
            "style": "IPY_MODEL_07c2e20c2012410790d85f15e28bdb0d",
            "value": 60
          }
        },
        "98dc9e7851bf4f7694d9bf7277570f91": {
          "model_module": "@jupyter-widgets/controls",
          "model_module_version": "1.5.0",
          "model_name": "HTMLModel",
          "state": {
            "_dom_classes": [],
            "_model_module": "@jupyter-widgets/controls",
            "_model_module_version": "1.5.0",
            "_model_name": "HTMLModel",
            "_view_count": null,
            "_view_module": "@jupyter-widgets/controls",
            "_view_module_version": "1.5.0",
            "_view_name": "HTMLView",
            "description": "",
            "description_tooltip": null,
            "layout": "IPY_MODEL_fb9afc6f515d4431aecd1d680331693b",
            "placeholder": "​",
            "style": "IPY_MODEL_b4e1c6b957b245f785eac92088390f6f",
            "value": " 2/2 [00:11&lt;00:00,  4.88s/it]"
          }
        },
        "9c28726181654a52837a5c010ef395c5": {
          "model_module": "@jupyter-widgets/base",
          "model_module_version": "1.2.0",
          "model_name": "LayoutModel",
          "state": {
            "_model_module": "@jupyter-widgets/base",
            "_model_module_version": "1.2.0",
            "_model_name": "LayoutModel",
            "_view_count": null,
            "_view_module": "@jupyter-widgets/base",
            "_view_module_version": "1.2.0",
            "_view_name": "LayoutView",
            "align_content": null,
            "align_items": null,
            "align_self": null,
            "border": null,
            "bottom": null,
            "display": null,
            "flex": null,
            "flex_flow": null,
            "grid_area": null,
            "grid_auto_columns": null,
            "grid_auto_flow": null,
            "grid_auto_rows": null,
            "grid_column": null,
            "grid_gap": null,
            "grid_row": null,
            "grid_template_areas": null,
            "grid_template_columns": null,
            "grid_template_rows": null,
            "height": null,
            "justify_content": null,
            "justify_items": null,
            "left": null,
            "margin": null,
            "max_height": null,
            "max_width": null,
            "min_height": null,
            "min_width": null,
            "object_fit": null,
            "object_position": null,
            "order": null,
            "overflow": null,
            "overflow_x": null,
            "overflow_y": null,
            "padding": null,
            "right": null,
            "top": null,
            "visibility": null,
            "width": null
          }
        },
        "a087845c1bff47b9af010c6510899be9": {
          "model_module": "@jupyter-widgets/base",
          "model_module_version": "1.2.0",
          "model_name": "LayoutModel",
          "state": {
            "_model_module": "@jupyter-widgets/base",
            "_model_module_version": "1.2.0",
            "_model_name": "LayoutModel",
            "_view_count": null,
            "_view_module": "@jupyter-widgets/base",
            "_view_module_version": "1.2.0",
            "_view_name": "LayoutView",
            "align_content": null,
            "align_items": null,
            "align_self": null,
            "border": null,
            "bottom": null,
            "display": null,
            "flex": null,
            "flex_flow": null,
            "grid_area": null,
            "grid_auto_columns": null,
            "grid_auto_flow": null,
            "grid_auto_rows": null,
            "grid_column": null,
            "grid_gap": null,
            "grid_row": null,
            "grid_template_areas": null,
            "grid_template_columns": null,
            "grid_template_rows": null,
            "height": null,
            "justify_content": null,
            "justify_items": null,
            "left": null,
            "margin": null,
            "max_height": null,
            "max_width": null,
            "min_height": null,
            "min_width": null,
            "object_fit": null,
            "object_position": null,
            "order": null,
            "overflow": null,
            "overflow_x": null,
            "overflow_y": null,
            "padding": null,
            "right": null,
            "top": null,
            "visibility": null,
            "width": null
          }
        },
        "a0e573f12b2846739eed1e16861322fd": {
          "model_module": "@jupyter-widgets/controls",
          "model_module_version": "1.5.0",
          "model_name": "HBoxModel",
          "state": {
            "_dom_classes": [],
            "_model_module": "@jupyter-widgets/controls",
            "_model_module_version": "1.5.0",
            "_model_name": "HBoxModel",
            "_view_count": null,
            "_view_module": "@jupyter-widgets/controls",
            "_view_module_version": "1.5.0",
            "_view_name": "HBoxView",
            "box_style": "",
            "children": [
              "IPY_MODEL_d27a383334774f2b980f06d4347f4dcc",
              "IPY_MODEL_176a0b1165da48979f3518611251f811",
              "IPY_MODEL_c71baea7aa1547858a81116e45522a0c"
            ],
            "layout": "IPY_MODEL_6e3cb04997254f4d846ce3a511453fe5"
          }
        },
        "a0f0b3fc543a45faae2dba368ea942f0": {
          "model_module": "@jupyter-widgets/base",
          "model_module_version": "1.2.0",
          "model_name": "LayoutModel",
          "state": {
            "_model_module": "@jupyter-widgets/base",
            "_model_module_version": "1.2.0",
            "_model_name": "LayoutModel",
            "_view_count": null,
            "_view_module": "@jupyter-widgets/base",
            "_view_module_version": "1.2.0",
            "_view_name": "LayoutView",
            "align_content": null,
            "align_items": null,
            "align_self": null,
            "border": null,
            "bottom": null,
            "display": null,
            "flex": null,
            "flex_flow": null,
            "grid_area": null,
            "grid_auto_columns": null,
            "grid_auto_flow": null,
            "grid_auto_rows": null,
            "grid_column": null,
            "grid_gap": null,
            "grid_row": null,
            "grid_template_areas": null,
            "grid_template_columns": null,
            "grid_template_rows": null,
            "height": null,
            "justify_content": null,
            "justify_items": null,
            "left": null,
            "margin": null,
            "max_height": null,
            "max_width": null,
            "min_height": null,
            "min_width": null,
            "object_fit": null,
            "object_position": null,
            "order": null,
            "overflow": null,
            "overflow_x": null,
            "overflow_y": null,
            "padding": null,
            "right": null,
            "top": null,
            "visibility": null,
            "width": null
          }
        },
        "a103f1f6e16d4d4aa78c9874f14978ee": {
          "model_module": "@jupyter-widgets/base",
          "model_module_version": "1.2.0",
          "model_name": "LayoutModel",
          "state": {
            "_model_module": "@jupyter-widgets/base",
            "_model_module_version": "1.2.0",
            "_model_name": "LayoutModel",
            "_view_count": null,
            "_view_module": "@jupyter-widgets/base",
            "_view_module_version": "1.2.0",
            "_view_name": "LayoutView",
            "align_content": null,
            "align_items": null,
            "align_self": null,
            "border": null,
            "bottom": null,
            "display": null,
            "flex": null,
            "flex_flow": null,
            "grid_area": null,
            "grid_auto_columns": null,
            "grid_auto_flow": null,
            "grid_auto_rows": null,
            "grid_column": null,
            "grid_gap": null,
            "grid_row": null,
            "grid_template_areas": null,
            "grid_template_columns": null,
            "grid_template_rows": null,
            "height": null,
            "justify_content": null,
            "justify_items": null,
            "left": null,
            "margin": null,
            "max_height": null,
            "max_width": null,
            "min_height": null,
            "min_width": null,
            "object_fit": null,
            "object_position": null,
            "order": null,
            "overflow": null,
            "overflow_x": null,
            "overflow_y": null,
            "padding": null,
            "right": null,
            "top": null,
            "visibility": null,
            "width": null
          }
        },
        "a1cb96fb39344b139bae23f1429cb0f1": {
          "model_module": "@jupyter-widgets/base",
          "model_module_version": "1.2.0",
          "model_name": "LayoutModel",
          "state": {
            "_model_module": "@jupyter-widgets/base",
            "_model_module_version": "1.2.0",
            "_model_name": "LayoutModel",
            "_view_count": null,
            "_view_module": "@jupyter-widgets/base",
            "_view_module_version": "1.2.0",
            "_view_name": "LayoutView",
            "align_content": null,
            "align_items": null,
            "align_self": null,
            "border": null,
            "bottom": null,
            "display": null,
            "flex": null,
            "flex_flow": null,
            "grid_area": null,
            "grid_auto_columns": null,
            "grid_auto_flow": null,
            "grid_auto_rows": null,
            "grid_column": null,
            "grid_gap": null,
            "grid_row": null,
            "grid_template_areas": null,
            "grid_template_columns": null,
            "grid_template_rows": null,
            "height": null,
            "justify_content": null,
            "justify_items": null,
            "left": null,
            "margin": null,
            "max_height": null,
            "max_width": null,
            "min_height": null,
            "min_width": null,
            "object_fit": null,
            "object_position": null,
            "order": null,
            "overflow": null,
            "overflow_x": null,
            "overflow_y": null,
            "padding": null,
            "right": null,
            "top": null,
            "visibility": null,
            "width": null
          }
        },
        "a4836651219549fa94298f430069a8c3": {
          "model_module": "@jupyter-widgets/base",
          "model_module_version": "1.2.0",
          "model_name": "LayoutModel",
          "state": {
            "_model_module": "@jupyter-widgets/base",
            "_model_module_version": "1.2.0",
            "_model_name": "LayoutModel",
            "_view_count": null,
            "_view_module": "@jupyter-widgets/base",
            "_view_module_version": "1.2.0",
            "_view_name": "LayoutView",
            "align_content": null,
            "align_items": null,
            "align_self": null,
            "border": null,
            "bottom": null,
            "display": null,
            "flex": null,
            "flex_flow": null,
            "grid_area": null,
            "grid_auto_columns": null,
            "grid_auto_flow": null,
            "grid_auto_rows": null,
            "grid_column": null,
            "grid_gap": null,
            "grid_row": null,
            "grid_template_areas": null,
            "grid_template_columns": null,
            "grid_template_rows": null,
            "height": null,
            "justify_content": null,
            "justify_items": null,
            "left": null,
            "margin": null,
            "max_height": null,
            "max_width": null,
            "min_height": null,
            "min_width": null,
            "object_fit": null,
            "object_position": null,
            "order": null,
            "overflow": null,
            "overflow_x": null,
            "overflow_y": null,
            "padding": null,
            "right": null,
            "top": null,
            "visibility": null,
            "width": null
          }
        },
        "abf0aaf990f04c2c961704ae5baa75df": {
          "model_module": "@jupyter-widgets/controls",
          "model_module_version": "1.5.0",
          "model_name": "HTMLModel",
          "state": {
            "_dom_classes": [],
            "_model_module": "@jupyter-widgets/controls",
            "_model_module_version": "1.5.0",
            "_model_name": "HTMLModel",
            "_view_count": null,
            "_view_module": "@jupyter-widgets/controls",
            "_view_module_version": "1.5.0",
            "_view_name": "HTMLView",
            "description": "",
            "description_tooltip": null,
            "layout": "IPY_MODEL_92c4b0d01c7c4542bbeb14880179083e",
            "placeholder": "​",
            "style": "IPY_MODEL_8e60ecd10d414a0b91212d61e1ea1fd8",
            "value": "Generating Samples: 100%"
          }
        },
        "addc5441e60e4cfda7f0df1f11d7ac43": {
          "model_module": "@jupyter-widgets/controls",
          "model_module_version": "1.5.0",
          "model_name": "FloatProgressModel",
          "state": {
            "_dom_classes": [],
            "_model_module": "@jupyter-widgets/controls",
            "_model_module_version": "1.5.0",
            "_model_name": "FloatProgressModel",
            "_view_count": null,
            "_view_module": "@jupyter-widgets/controls",
            "_view_module_version": "1.5.0",
            "_view_name": "ProgressView",
            "bar_style": "success",
            "description": "",
            "description_tooltip": null,
            "layout": "IPY_MODEL_dad728a66f144decbeb0ae74c230b09e",
            "max": 60,
            "min": 0,
            "orientation": "horizontal",
            "style": "IPY_MODEL_5b86fd1498444781a8774b9e8df63e42",
            "value": 60
          }
        },
        "af120b80650241f89f462bd44486ff2d": {
          "model_module": "@jupyter-widgets/base",
          "model_module_version": "1.2.0",
          "model_name": "LayoutModel",
          "state": {
            "_model_module": "@jupyter-widgets/base",
            "_model_module_version": "1.2.0",
            "_model_name": "LayoutModel",
            "_view_count": null,
            "_view_module": "@jupyter-widgets/base",
            "_view_module_version": "1.2.0",
            "_view_name": "LayoutView",
            "align_content": null,
            "align_items": null,
            "align_self": null,
            "border": null,
            "bottom": null,
            "display": null,
            "flex": null,
            "flex_flow": null,
            "grid_area": null,
            "grid_auto_columns": null,
            "grid_auto_flow": null,
            "grid_auto_rows": null,
            "grid_column": null,
            "grid_gap": null,
            "grid_row": null,
            "grid_template_areas": null,
            "grid_template_columns": null,
            "grid_template_rows": null,
            "height": null,
            "justify_content": null,
            "justify_items": null,
            "left": null,
            "margin": null,
            "max_height": null,
            "max_width": null,
            "min_height": null,
            "min_width": null,
            "object_fit": null,
            "object_position": null,
            "order": null,
            "overflow": null,
            "overflow_x": null,
            "overflow_y": null,
            "padding": null,
            "right": null,
            "top": null,
            "visibility": null,
            "width": null
          }
        },
        "afdcf5f8fdad42d79a6d5df85882528e": {
          "model_module": "@jupyter-widgets/controls",
          "model_module_version": "1.5.0",
          "model_name": "HBoxModel",
          "state": {
            "_dom_classes": [],
            "_model_module": "@jupyter-widgets/controls",
            "_model_module_version": "1.5.0",
            "_model_name": "HBoxModel",
            "_view_count": null,
            "_view_module": "@jupyter-widgets/controls",
            "_view_module_version": "1.5.0",
            "_view_name": "HBoxView",
            "box_style": "",
            "children": [
              "IPY_MODEL_11fb7789a8f54f7a9ca8d395217b9575",
              "IPY_MODEL_cc6517b047cb41fdace2d5a9ddaaa460",
              "IPY_MODEL_57e06e49eb484bc1aeb93bffa6bc923b"
            ],
            "layout": "IPY_MODEL_176a05f9446b436aaa0a5b6fb904297a"
          }
        },
        "b0d7d8140dcb4d92a5dbba7529bf0e4f": {
          "model_module": "@jupyter-widgets/controls",
          "model_module_version": "1.5.0",
          "model_name": "HTMLModel",
          "state": {
            "_dom_classes": [],
            "_model_module": "@jupyter-widgets/controls",
            "_model_module_version": "1.5.0",
            "_model_name": "HTMLModel",
            "_view_count": null,
            "_view_module": "@jupyter-widgets/controls",
            "_view_module_version": "1.5.0",
            "_view_name": "HTMLView",
            "description": "",
            "description_tooltip": null,
            "layout": "IPY_MODEL_0de38dc519914ab99a976cdaae696299",
            "placeholder": "​",
            "style": "IPY_MODEL_efc7549468314c3d8122951376048c94",
            "value": " 1/1 [00:00&lt;00:00,  8.31it/s]"
          }
        },
        "b2c881215536480a870b66e7837e9878": {
          "model_module": "@jupyter-widgets/controls",
          "model_module_version": "1.5.0",
          "model_name": "HTMLModel",
          "state": {
            "_dom_classes": [],
            "_model_module": "@jupyter-widgets/controls",
            "_model_module_version": "1.5.0",
            "_model_name": "HTMLModel",
            "_view_count": null,
            "_view_module": "@jupyter-widgets/controls",
            "_view_module_version": "1.5.0",
            "_view_name": "HTMLView",
            "description": "",
            "description_tooltip": null,
            "layout": "IPY_MODEL_50761f1863c140aab5e8d79b2d65589d",
            "placeholder": "​",
            "style": "IPY_MODEL_8c8de98d7ee84470a46631b8e5f0fcfd",
            "value": "Evaluating: 100%"
          }
        },
        "b4e1c6b957b245f785eac92088390f6f": {
          "model_module": "@jupyter-widgets/controls",
          "model_module_version": "1.5.0",
          "model_name": "DescriptionStyleModel",
          "state": {
            "_model_module": "@jupyter-widgets/controls",
            "_model_module_version": "1.5.0",
            "_model_name": "DescriptionStyleModel",
            "_view_count": null,
            "_view_module": "@jupyter-widgets/base",
            "_view_module_version": "1.2.0",
            "_view_name": "StyleView",
            "description_width": ""
          }
        },
        "b9a8f6efe7d04ea0bf60ef175f52f3f6": {
          "model_module": "@jupyter-widgets/base",
          "model_module_version": "1.2.0",
          "model_name": "LayoutModel",
          "state": {
            "_model_module": "@jupyter-widgets/base",
            "_model_module_version": "1.2.0",
            "_model_name": "LayoutModel",
            "_view_count": null,
            "_view_module": "@jupyter-widgets/base",
            "_view_module_version": "1.2.0",
            "_view_name": "LayoutView",
            "align_content": null,
            "align_items": null,
            "align_self": null,
            "border": null,
            "bottom": null,
            "display": null,
            "flex": null,
            "flex_flow": null,
            "grid_area": null,
            "grid_auto_columns": null,
            "grid_auto_flow": null,
            "grid_auto_rows": null,
            "grid_column": null,
            "grid_gap": null,
            "grid_row": null,
            "grid_template_areas": null,
            "grid_template_columns": null,
            "grid_template_rows": null,
            "height": null,
            "justify_content": null,
            "justify_items": null,
            "left": null,
            "margin": null,
            "max_height": null,
            "max_width": null,
            "min_height": null,
            "min_width": null,
            "object_fit": null,
            "object_position": null,
            "order": null,
            "overflow": null,
            "overflow_x": null,
            "overflow_y": null,
            "padding": null,
            "right": null,
            "top": null,
            "visibility": null,
            "width": null
          }
        },
        "b9aa3a710baa4783a42a38abbaf261c1": {
          "model_module": "@jupyter-widgets/base",
          "model_module_version": "1.2.0",
          "model_name": "LayoutModel",
          "state": {
            "_model_module": "@jupyter-widgets/base",
            "_model_module_version": "1.2.0",
            "_model_name": "LayoutModel",
            "_view_count": null,
            "_view_module": "@jupyter-widgets/base",
            "_view_module_version": "1.2.0",
            "_view_name": "LayoutView",
            "align_content": null,
            "align_items": null,
            "align_self": null,
            "border": null,
            "bottom": null,
            "display": null,
            "flex": null,
            "flex_flow": null,
            "grid_area": null,
            "grid_auto_columns": null,
            "grid_auto_flow": null,
            "grid_auto_rows": null,
            "grid_column": null,
            "grid_gap": null,
            "grid_row": null,
            "grid_template_areas": null,
            "grid_template_columns": null,
            "grid_template_rows": null,
            "height": null,
            "justify_content": null,
            "justify_items": null,
            "left": null,
            "margin": null,
            "max_height": null,
            "max_width": null,
            "min_height": null,
            "min_width": null,
            "object_fit": null,
            "object_position": null,
            "order": null,
            "overflow": null,
            "overflow_x": null,
            "overflow_y": null,
            "padding": null,
            "right": null,
            "top": null,
            "visibility": null,
            "width": null
          }
        },
        "ba076fb297d449adadf22c1519fcfe91": {
          "model_module": "@jupyter-widgets/controls",
          "model_module_version": "1.5.0",
          "model_name": "HTMLModel",
          "state": {
            "_dom_classes": [],
            "_model_module": "@jupyter-widgets/controls",
            "_model_module_version": "1.5.0",
            "_model_name": "HTMLModel",
            "_view_count": null,
            "_view_module": "@jupyter-widgets/controls",
            "_view_module_version": "1.5.0",
            "_view_name": "HTMLView",
            "description": "",
            "description_tooltip": null,
            "layout": "IPY_MODEL_1b7a88c6bcab465d9816693d1c1ead28",
            "placeholder": "​",
            "style": "IPY_MODEL_2a1b1fcbb1a2433081def0d2d80de547",
            "value": " 60/60 [06:49&lt;00:00, 28.10s/it]"
          }
        },
        "bc1e72c3892d4d4e89613ef83dec4a14": {
          "model_module": "@jupyter-widgets/controls",
          "model_module_version": "1.5.0",
          "model_name": "HTMLModel",
          "state": {
            "_dom_classes": [],
            "_model_module": "@jupyter-widgets/controls",
            "_model_module_version": "1.5.0",
            "_model_name": "HTMLModel",
            "_view_count": null,
            "_view_module": "@jupyter-widgets/controls",
            "_view_module_version": "1.5.0",
            "_view_name": "HTMLView",
            "description": "",
            "description_tooltip": null,
            "layout": "IPY_MODEL_fe97d95e6cea4777bce99b8ab0c15100",
            "placeholder": "​",
            "style": "IPY_MODEL_5eaf8a9a8ad6408e8a9b2c0f84a41050",
            "value": "Evaluating: 100%"
          }
        },
        "c3b226c71f2e4d11b3ace68dbe64bce8": {
          "model_module": "@jupyter-widgets/base",
          "model_module_version": "1.2.0",
          "model_name": "LayoutModel",
          "state": {
            "_model_module": "@jupyter-widgets/base",
            "_model_module_version": "1.2.0",
            "_model_name": "LayoutModel",
            "_view_count": null,
            "_view_module": "@jupyter-widgets/base",
            "_view_module_version": "1.2.0",
            "_view_name": "LayoutView",
            "align_content": null,
            "align_items": null,
            "align_self": null,
            "border": null,
            "bottom": null,
            "display": null,
            "flex": null,
            "flex_flow": null,
            "grid_area": null,
            "grid_auto_columns": null,
            "grid_auto_flow": null,
            "grid_auto_rows": null,
            "grid_column": null,
            "grid_gap": null,
            "grid_row": null,
            "grid_template_areas": null,
            "grid_template_columns": null,
            "grid_template_rows": null,
            "height": null,
            "justify_content": null,
            "justify_items": null,
            "left": null,
            "margin": null,
            "max_height": null,
            "max_width": null,
            "min_height": null,
            "min_width": null,
            "object_fit": null,
            "object_position": null,
            "order": null,
            "overflow": null,
            "overflow_x": null,
            "overflow_y": null,
            "padding": null,
            "right": null,
            "top": null,
            "visibility": "hidden",
            "width": null
          }
        },
        "c5373cfada0b4a4abb471da5d9912e66": {
          "model_module": "@jupyter-widgets/controls",
          "model_module_version": "1.5.0",
          "model_name": "HBoxModel",
          "state": {
            "_dom_classes": [],
            "_model_module": "@jupyter-widgets/controls",
            "_model_module_version": "1.5.0",
            "_model_name": "HBoxModel",
            "_view_count": null,
            "_view_module": "@jupyter-widgets/controls",
            "_view_module_version": "1.5.0",
            "_view_name": "HBoxView",
            "box_style": "",
            "children": [
              "IPY_MODEL_216978dc0e7449e4828f4c3551ca1b33",
              "IPY_MODEL_98699b5e222b48d69d339b2b30b90764",
              "IPY_MODEL_1bc27cdb6a444b18aac4449c27d16a8e"
            ],
            "layout": "IPY_MODEL_a103f1f6e16d4d4aa78c9874f14978ee"
          }
        },
        "c70a36ddfabb4db890c7c96bffe5e331": {
          "model_module": "@jupyter-widgets/controls",
          "model_module_version": "1.5.0",
          "model_name": "HTMLModel",
          "state": {
            "_dom_classes": [],
            "_model_module": "@jupyter-widgets/controls",
            "_model_module_version": "1.5.0",
            "_model_name": "HTMLModel",
            "_view_count": null,
            "_view_module": "@jupyter-widgets/controls",
            "_view_module_version": "1.5.0",
            "_view_name": "HTMLView",
            "description": "",
            "description_tooltip": null,
            "layout": "IPY_MODEL_71b90f61a9a74432a8369cff0fa70a6d",
            "placeholder": "​",
            "style": "IPY_MODEL_d228768fc75e467a93486921dff00c9c",
            "value": " 60/60 [06:53&lt;00:00,  9.81s/it]"
          }
        },
        "c71baea7aa1547858a81116e45522a0c": {
          "model_module": "@jupyter-widgets/controls",
          "model_module_version": "1.5.0",
          "model_name": "HTMLModel",
          "state": {
            "_dom_classes": [],
            "_model_module": "@jupyter-widgets/controls",
            "_model_module_version": "1.5.0",
            "_model_name": "HTMLModel",
            "_view_count": null,
            "_view_module": "@jupyter-widgets/controls",
            "_view_module_version": "1.5.0",
            "_view_name": "HTMLView",
            "description": "",
            "description_tooltip": null,
            "layout": "IPY_MODEL_45e3952d13a04c7c9d0aa778e34074cd",
            "placeholder": "​",
            "style": "IPY_MODEL_fb7fce9598344d949683e47d296263b3",
            "value": " 99/100 [00:02&lt;00:00, 30.89it/s]"
          }
        },
        "cc6517b047cb41fdace2d5a9ddaaa460": {
          "model_module": "@jupyter-widgets/controls",
          "model_module_version": "1.5.0",
          "model_name": "FloatProgressModel",
          "state": {
            "_dom_classes": [],
            "_model_module": "@jupyter-widgets/controls",
            "_model_module_version": "1.5.0",
            "_model_name": "FloatProgressModel",
            "_view_count": null,
            "_view_module": "@jupyter-widgets/controls",
            "_view_module_version": "1.5.0",
            "_view_name": "ProgressView",
            "bar_style": "success",
            "description": "",
            "description_tooltip": null,
            "layout": "IPY_MODEL_d6e51d58e1214c628d0e2673fdf5a724",
            "max": 60,
            "min": 0,
            "orientation": "horizontal",
            "style": "IPY_MODEL_93c2e60bf80442469c691c6d9c29def2",
            "value": 60
          }
        },
        "ce3f7198f14e4b63b3b92c0f2018df2c": {
          "model_module": "@jupyter-widgets/controls",
          "model_module_version": "1.5.0",
          "model_name": "DescriptionStyleModel",
          "state": {
            "_model_module": "@jupyter-widgets/controls",
            "_model_module_version": "1.5.0",
            "_model_name": "DescriptionStyleModel",
            "_view_count": null,
            "_view_module": "@jupyter-widgets/base",
            "_view_module_version": "1.2.0",
            "_view_name": "StyleView",
            "description_width": ""
          }
        },
        "ce62d27bb1a94fe992b8cbda70ba41a1": {
          "model_module": "@jupyter-widgets/controls",
          "model_module_version": "1.5.0",
          "model_name": "HTMLModel",
          "state": {
            "_dom_classes": [],
            "_model_module": "@jupyter-widgets/controls",
            "_model_module_version": "1.5.0",
            "_model_name": "HTMLModel",
            "_view_count": null,
            "_view_module": "@jupyter-widgets/controls",
            "_view_module_version": "1.5.0",
            "_view_name": "HTMLView",
            "description": "",
            "description_tooltip": null,
            "layout": "IPY_MODEL_033065d60d824918aceca261ceb1e43a",
            "placeholder": "​",
            "style": "IPY_MODEL_346add48030f45888389da40a030fc32",
            "value": "Applying OverlapScoreBuilder: 100%"
          }
        },
        "ceff72b7256a4dce857df4f5d60e5d51": {
          "model_module": "@jupyter-widgets/controls",
          "model_module_version": "1.5.0",
          "model_name": "ProgressStyleModel",
          "state": {
            "_model_module": "@jupyter-widgets/controls",
            "_model_module_version": "1.5.0",
            "_model_name": "ProgressStyleModel",
            "_view_count": null,
            "_view_module": "@jupyter-widgets/base",
            "_view_module_version": "1.2.0",
            "_view_name": "StyleView",
            "bar_color": null,
            "description_width": ""
          }
        },
        "cf2399978ee24dd1bb4f8e1ccbb5cc5d": {
          "model_module": "@jupyter-widgets/base",
          "model_module_version": "1.2.0",
          "model_name": "LayoutModel",
          "state": {
            "_model_module": "@jupyter-widgets/base",
            "_model_module_version": "1.2.0",
            "_model_name": "LayoutModel",
            "_view_count": null,
            "_view_module": "@jupyter-widgets/base",
            "_view_module_version": "1.2.0",
            "_view_name": "LayoutView",
            "align_content": null,
            "align_items": null,
            "align_self": null,
            "border": null,
            "bottom": null,
            "display": null,
            "flex": null,
            "flex_flow": null,
            "grid_area": null,
            "grid_auto_columns": null,
            "grid_auto_flow": null,
            "grid_auto_rows": null,
            "grid_column": null,
            "grid_gap": null,
            "grid_row": null,
            "grid_template_areas": null,
            "grid_template_columns": null,
            "grid_template_rows": null,
            "height": null,
            "justify_content": null,
            "justify_items": null,
            "left": null,
            "margin": null,
            "max_height": null,
            "max_width": null,
            "min_height": null,
            "min_width": null,
            "object_fit": null,
            "object_position": null,
            "order": null,
            "overflow": null,
            "overflow_x": null,
            "overflow_y": null,
            "padding": null,
            "right": null,
            "top": null,
            "visibility": null,
            "width": null
          }
        },
        "cfb64df98c25404a8074f2a81ae1a27c": {
          "model_module": "@jupyter-widgets/controls",
          "model_module_version": "1.5.0",
          "model_name": "FloatProgressModel",
          "state": {
            "_dom_classes": [],
            "_model_module": "@jupyter-widgets/controls",
            "_model_module_version": "1.5.0",
            "_model_name": "FloatProgressModel",
            "_view_count": null,
            "_view_module": "@jupyter-widgets/controls",
            "_view_module_version": "1.5.0",
            "_view_name": "ProgressView",
            "bar_style": "success",
            "description": "",
            "description_tooltip": null,
            "layout": "IPY_MODEL_337c9f83ec48403581cde7879b2c193b",
            "max": 60,
            "min": 0,
            "orientation": "horizontal",
            "style": "IPY_MODEL_8c1c13ae9ec2438ca9deeecd3a8c4d17",
            "value": 60
          }
        },
        "d122dc527a804e5a9bcb57baa82c93c7": {
          "model_module": "@jupyter-widgets/base",
          "model_module_version": "1.2.0",
          "model_name": "LayoutModel",
          "state": {
            "_model_module": "@jupyter-widgets/base",
            "_model_module_version": "1.2.0",
            "_model_name": "LayoutModel",
            "_view_count": null,
            "_view_module": "@jupyter-widgets/base",
            "_view_module_version": "1.2.0",
            "_view_name": "LayoutView",
            "align_content": null,
            "align_items": null,
            "align_self": null,
            "border": null,
            "bottom": null,
            "display": null,
            "flex": null,
            "flex_flow": null,
            "grid_area": null,
            "grid_auto_columns": null,
            "grid_auto_flow": null,
            "grid_auto_rows": null,
            "grid_column": null,
            "grid_gap": null,
            "grid_row": null,
            "grid_template_areas": null,
            "grid_template_columns": null,
            "grid_template_rows": null,
            "height": null,
            "justify_content": null,
            "justify_items": null,
            "left": null,
            "margin": null,
            "max_height": null,
            "max_width": null,
            "min_height": null,
            "min_width": null,
            "object_fit": null,
            "object_position": null,
            "order": null,
            "overflow": null,
            "overflow_x": null,
            "overflow_y": null,
            "padding": null,
            "right": null,
            "top": null,
            "visibility": null,
            "width": null
          }
        },
        "d16d71cbfa6b4bdbbee035d05fea23ff": {
          "model_module": "@jupyter-widgets/controls",
          "model_module_version": "1.5.0",
          "model_name": "FloatProgressModel",
          "state": {
            "_dom_classes": [],
            "_model_module": "@jupyter-widgets/controls",
            "_model_module_version": "1.5.0",
            "_model_name": "FloatProgressModel",
            "_view_count": null,
            "_view_module": "@jupyter-widgets/controls",
            "_view_module_version": "1.5.0",
            "_view_name": "ProgressView",
            "bar_style": "success",
            "description": "",
            "description_tooltip": null,
            "layout": "IPY_MODEL_6ceb82a417604a4bb728237b1813d19b",
            "max": 3,
            "min": 0,
            "orientation": "horizontal",
            "style": "IPY_MODEL_d5764e7d1e8c48bfbfb39444965642b5",
            "value": 3
          }
        },
        "d228768fc75e467a93486921dff00c9c": {
          "model_module": "@jupyter-widgets/controls",
          "model_module_version": "1.5.0",
          "model_name": "DescriptionStyleModel",
          "state": {
            "_model_module": "@jupyter-widgets/controls",
            "_model_module_version": "1.5.0",
            "_model_name": "DescriptionStyleModel",
            "_view_count": null,
            "_view_module": "@jupyter-widgets/base",
            "_view_module_version": "1.2.0",
            "_view_name": "StyleView",
            "description_width": ""
          }
        },
        "d27a383334774f2b980f06d4347f4dcc": {
          "model_module": "@jupyter-widgets/controls",
          "model_module_version": "1.5.0",
          "model_name": "HTMLModel",
          "state": {
            "_dom_classes": [],
            "_model_module": "@jupyter-widgets/controls",
            "_model_module_version": "1.5.0",
            "_model_name": "HTMLModel",
            "_view_count": null,
            "_view_module": "@jupyter-widgets/controls",
            "_view_module_version": "1.5.0",
            "_view_name": "HTMLView",
            "description": "",
            "description_tooltip": null,
            "layout": "IPY_MODEL_13be06dc677348c6aef8dac60f9906da",
            "placeholder": "​",
            "style": "IPY_MODEL_f0a5d35fda174143922a635bf78510bb",
            "value": "Applying CustomNodeFilter:  99%"
          }
        },
        "d2a2a1b1d8824e98b2356230a897f90b": {
          "model_module": "@jupyter-widgets/controls",
          "model_module_version": "1.5.0",
          "model_name": "HTMLModel",
          "state": {
            "_dom_classes": [],
            "_model_module": "@jupyter-widgets/controls",
            "_model_module_version": "1.5.0",
            "_model_name": "HTMLModel",
            "_view_count": null,
            "_view_module": "@jupyter-widgets/controls",
            "_view_module_version": "1.5.0",
            "_view_name": "HTMLView",
            "description": "",
            "description_tooltip": null,
            "layout": "IPY_MODEL_b9a8f6efe7d04ea0bf60ef175f52f3f6",
            "placeholder": "​",
            "style": "IPY_MODEL_6b09d93e18ac4c0ba3202231fef17bea",
            "value": " 60/60 [07:03&lt;00:00, 14.85s/it]"
          }
        },
        "d5764e7d1e8c48bfbfb39444965642b5": {
          "model_module": "@jupyter-widgets/controls",
          "model_module_version": "1.5.0",
          "model_name": "ProgressStyleModel",
          "state": {
            "_model_module": "@jupyter-widgets/controls",
            "_model_module_version": "1.5.0",
            "_model_name": "ProgressStyleModel",
            "_view_count": null,
            "_view_module": "@jupyter-widgets/base",
            "_view_module_version": "1.2.0",
            "_view_name": "StyleView",
            "bar_color": null,
            "description_width": ""
          }
        },
        "d5da4e95916345f681a0b3d6b1473f56": {
          "model_module": "@jupyter-widgets/base",
          "model_module_version": "1.2.0",
          "model_name": "LayoutModel",
          "state": {
            "_model_module": "@jupyter-widgets/base",
            "_model_module_version": "1.2.0",
            "_model_name": "LayoutModel",
            "_view_count": null,
            "_view_module": "@jupyter-widgets/base",
            "_view_module_version": "1.2.0",
            "_view_name": "LayoutView",
            "align_content": null,
            "align_items": null,
            "align_self": null,
            "border": null,
            "bottom": null,
            "display": null,
            "flex": null,
            "flex_flow": null,
            "grid_area": null,
            "grid_auto_columns": null,
            "grid_auto_flow": null,
            "grid_auto_rows": null,
            "grid_column": null,
            "grid_gap": null,
            "grid_row": null,
            "grid_template_areas": null,
            "grid_template_columns": null,
            "grid_template_rows": null,
            "height": null,
            "justify_content": null,
            "justify_items": null,
            "left": null,
            "margin": null,
            "max_height": null,
            "max_width": null,
            "min_height": null,
            "min_width": null,
            "object_fit": null,
            "object_position": null,
            "order": null,
            "overflow": null,
            "overflow_x": null,
            "overflow_y": null,
            "padding": null,
            "right": null,
            "top": null,
            "visibility": null,
            "width": null
          }
        },
        "d676ba00651e45a88094710daa64e6d6": {
          "model_module": "@jupyter-widgets/controls",
          "model_module_version": "1.5.0",
          "model_name": "HTMLModel",
          "state": {
            "_dom_classes": [],
            "_model_module": "@jupyter-widgets/controls",
            "_model_module_version": "1.5.0",
            "_model_name": "HTMLModel",
            "_view_count": null,
            "_view_module": "@jupyter-widgets/controls",
            "_view_module_version": "1.5.0",
            "_view_name": "HTMLView",
            "description": "",
            "description_tooltip": null,
            "layout": "IPY_MODEL_e2cb8a0c5d2844f0857214c5efbfc0c7",
            "placeholder": "​",
            "style": "IPY_MODEL_e8b343457c7646c586b8b720eb19d35c",
            "value": " 60/60 [03:15&lt;00:00, 18.46s/it]"
          }
        },
        "d6cedf85eb0f4a628c6c0a82fc19f107": {
          "model_module": "@jupyter-widgets/controls",
          "model_module_version": "1.5.0",
          "model_name": "FloatProgressModel",
          "state": {
            "_dom_classes": [],
            "_model_module": "@jupyter-widgets/controls",
            "_model_module_version": "1.5.0",
            "_model_name": "FloatProgressModel",
            "_view_count": null,
            "_view_module": "@jupyter-widgets/controls",
            "_view_module_version": "1.5.0",
            "_view_name": "ProgressView",
            "bar_style": "success",
            "description": "",
            "description_tooltip": null,
            "layout": "IPY_MODEL_d9b7c13d55cb4d0bb116c3596c3224ca",
            "max": 60,
            "min": 0,
            "orientation": "horizontal",
            "style": "IPY_MODEL_38d769c629744972bb38ef695e693ec6",
            "value": 60
          }
        },
        "d6e51d58e1214c628d0e2673fdf5a724": {
          "model_module": "@jupyter-widgets/base",
          "model_module_version": "1.2.0",
          "model_name": "LayoutModel",
          "state": {
            "_model_module": "@jupyter-widgets/base",
            "_model_module_version": "1.2.0",
            "_model_name": "LayoutModel",
            "_view_count": null,
            "_view_module": "@jupyter-widgets/base",
            "_view_module_version": "1.2.0",
            "_view_name": "LayoutView",
            "align_content": null,
            "align_items": null,
            "align_self": null,
            "border": null,
            "bottom": null,
            "display": null,
            "flex": null,
            "flex_flow": null,
            "grid_area": null,
            "grid_auto_columns": null,
            "grid_auto_flow": null,
            "grid_auto_rows": null,
            "grid_column": null,
            "grid_gap": null,
            "grid_row": null,
            "grid_template_areas": null,
            "grid_template_columns": null,
            "grid_template_rows": null,
            "height": null,
            "justify_content": null,
            "justify_items": null,
            "left": null,
            "margin": null,
            "max_height": null,
            "max_width": null,
            "min_height": null,
            "min_width": null,
            "object_fit": null,
            "object_position": null,
            "order": null,
            "overflow": null,
            "overflow_x": null,
            "overflow_y": null,
            "padding": null,
            "right": null,
            "top": null,
            "visibility": null,
            "width": null
          }
        },
        "d6ea310c87a34ee7b0b0a22c78b50ec3": {
          "model_module": "@jupyter-widgets/controls",
          "model_module_version": "1.5.0",
          "model_name": "HBoxModel",
          "state": {
            "_dom_classes": [],
            "_model_module": "@jupyter-widgets/controls",
            "_model_module_version": "1.5.0",
            "_model_name": "HBoxModel",
            "_view_count": null,
            "_view_module": "@jupyter-widgets/controls",
            "_view_module_version": "1.5.0",
            "_view_name": "HBoxView",
            "box_style": "",
            "children": [
              "IPY_MODEL_6565972771cc46d2a6b7d1dff927e79d",
              "IPY_MODEL_91c9aa4e6041414b878ca982b782316e",
              "IPY_MODEL_98dc9e7851bf4f7694d9bf7277570f91"
            ],
            "layout": "IPY_MODEL_b9aa3a710baa4783a42a38abbaf261c1"
          }
        },
        "d8b282d79e3d407d92864762d32dfbb7": {
          "model_module": "@jupyter-widgets/controls",
          "model_module_version": "1.5.0",
          "model_name": "FloatProgressModel",
          "state": {
            "_dom_classes": [],
            "_model_module": "@jupyter-widgets/controls",
            "_model_module_version": "1.5.0",
            "_model_name": "FloatProgressModel",
            "_view_count": null,
            "_view_module": "@jupyter-widgets/controls",
            "_view_module_version": "1.5.0",
            "_view_name": "ProgressView",
            "bar_style": "success",
            "description": "",
            "description_tooltip": null,
            "layout": "IPY_MODEL_a087845c1bff47b9af010c6510899be9",
            "max": 60,
            "min": 0,
            "orientation": "horizontal",
            "style": "IPY_MODEL_4f1cc0671f4148889a166df242b98a72",
            "value": 60
          }
        },
        "d8bd51a58ac549959d9e31f53f5007c6": {
          "model_module": "@jupyter-widgets/controls",
          "model_module_version": "1.5.0",
          "model_name": "HTMLModel",
          "state": {
            "_dom_classes": [],
            "_model_module": "@jupyter-widgets/controls",
            "_model_module_version": "1.5.0",
            "_model_name": "HTMLModel",
            "_view_count": null,
            "_view_module": "@jupyter-widgets/controls",
            "_view_module_version": "1.5.0",
            "_view_name": "HTMLView",
            "description": "",
            "description_tooltip": null,
            "layout": "IPY_MODEL_5a95c397bbab4892a8235a1fa04765c7",
            "placeholder": "​",
            "style": "IPY_MODEL_24752537135f4f2e800841be78d1fbd4",
            "value": "Evaluating: 100%"
          }
        },
        "d91e24ca698f4401aa4e8cbb323923da": {
          "model_module": "@jupyter-widgets/controls",
          "model_module_version": "1.5.0",
          "model_name": "ProgressStyleModel",
          "state": {
            "_model_module": "@jupyter-widgets/controls",
            "_model_module_version": "1.5.0",
            "_model_name": "ProgressStyleModel",
            "_view_count": null,
            "_view_module": "@jupyter-widgets/base",
            "_view_module_version": "1.2.0",
            "_view_name": "StyleView",
            "bar_color": null,
            "description_width": ""
          }
        },
        "d9b7c13d55cb4d0bb116c3596c3224ca": {
          "model_module": "@jupyter-widgets/base",
          "model_module_version": "1.2.0",
          "model_name": "LayoutModel",
          "state": {
            "_model_module": "@jupyter-widgets/base",
            "_model_module_version": "1.2.0",
            "_model_name": "LayoutModel",
            "_view_count": null,
            "_view_module": "@jupyter-widgets/base",
            "_view_module_version": "1.2.0",
            "_view_name": "LayoutView",
            "align_content": null,
            "align_items": null,
            "align_self": null,
            "border": null,
            "bottom": null,
            "display": null,
            "flex": null,
            "flex_flow": null,
            "grid_area": null,
            "grid_auto_columns": null,
            "grid_auto_flow": null,
            "grid_auto_rows": null,
            "grid_column": null,
            "grid_gap": null,
            "grid_row": null,
            "grid_template_areas": null,
            "grid_template_columns": null,
            "grid_template_rows": null,
            "height": null,
            "justify_content": null,
            "justify_items": null,
            "left": null,
            "margin": null,
            "max_height": null,
            "max_width": null,
            "min_height": null,
            "min_width": null,
            "object_fit": null,
            "object_position": null,
            "order": null,
            "overflow": null,
            "overflow_x": null,
            "overflow_y": null,
            "padding": null,
            "right": null,
            "top": null,
            "visibility": null,
            "width": null
          }
        },
        "dacaa511a9bd4336a846d766d1ad3cd6": {
          "model_module": "@jupyter-widgets/base",
          "model_module_version": "1.2.0",
          "model_name": "LayoutModel",
          "state": {
            "_model_module": "@jupyter-widgets/base",
            "_model_module_version": "1.2.0",
            "_model_name": "LayoutModel",
            "_view_count": null,
            "_view_module": "@jupyter-widgets/base",
            "_view_module_version": "1.2.0",
            "_view_name": "LayoutView",
            "align_content": null,
            "align_items": null,
            "align_self": null,
            "border": null,
            "bottom": null,
            "display": null,
            "flex": null,
            "flex_flow": null,
            "grid_area": null,
            "grid_auto_columns": null,
            "grid_auto_flow": null,
            "grid_auto_rows": null,
            "grid_column": null,
            "grid_gap": null,
            "grid_row": null,
            "grid_template_areas": null,
            "grid_template_columns": null,
            "grid_template_rows": null,
            "height": null,
            "justify_content": null,
            "justify_items": null,
            "left": null,
            "margin": null,
            "max_height": null,
            "max_width": null,
            "min_height": null,
            "min_width": null,
            "object_fit": null,
            "object_position": null,
            "order": null,
            "overflow": null,
            "overflow_x": null,
            "overflow_y": null,
            "padding": null,
            "right": null,
            "top": null,
            "visibility": null,
            "width": null
          }
        },
        "dad728a66f144decbeb0ae74c230b09e": {
          "model_module": "@jupyter-widgets/base",
          "model_module_version": "1.2.0",
          "model_name": "LayoutModel",
          "state": {
            "_model_module": "@jupyter-widgets/base",
            "_model_module_version": "1.2.0",
            "_model_name": "LayoutModel",
            "_view_count": null,
            "_view_module": "@jupyter-widgets/base",
            "_view_module_version": "1.2.0",
            "_view_name": "LayoutView",
            "align_content": null,
            "align_items": null,
            "align_self": null,
            "border": null,
            "bottom": null,
            "display": null,
            "flex": null,
            "flex_flow": null,
            "grid_area": null,
            "grid_auto_columns": null,
            "grid_auto_flow": null,
            "grid_auto_rows": null,
            "grid_column": null,
            "grid_gap": null,
            "grid_row": null,
            "grid_template_areas": null,
            "grid_template_columns": null,
            "grid_template_rows": null,
            "height": null,
            "justify_content": null,
            "justify_items": null,
            "left": null,
            "margin": null,
            "max_height": null,
            "max_width": null,
            "min_height": null,
            "min_width": null,
            "object_fit": null,
            "object_position": null,
            "order": null,
            "overflow": null,
            "overflow_x": null,
            "overflow_y": null,
            "padding": null,
            "right": null,
            "top": null,
            "visibility": null,
            "width": null
          }
        },
        "dc641a3dffa6456d84ffe1f5d6942c75": {
          "model_module": "@jupyter-widgets/controls",
          "model_module_version": "1.5.0",
          "model_name": "HTMLModel",
          "state": {
            "_dom_classes": [],
            "_model_module": "@jupyter-widgets/controls",
            "_model_module_version": "1.5.0",
            "_model_name": "HTMLModel",
            "_view_count": null,
            "_view_module": "@jupyter-widgets/controls",
            "_view_module_version": "1.5.0",
            "_view_name": "HTMLView",
            "description": "",
            "description_tooltip": null,
            "layout": "IPY_MODEL_e3be905b538541e182fcf345bae9140a",
            "placeholder": "​",
            "style": "IPY_MODEL_ce3f7198f14e4b63b3b92c0f2018df2c",
            "value": " 10/10 [00:06&lt;00:00,  1.52it/s]"
          }
        },
        "dcccc2face274142a4bdca32208cb096": {
          "model_module": "@jupyter-widgets/controls",
          "model_module_version": "1.5.0",
          "model_name": "DescriptionStyleModel",
          "state": {
            "_model_module": "@jupyter-widgets/controls",
            "_model_module_version": "1.5.0",
            "_model_name": "DescriptionStyleModel",
            "_view_count": null,
            "_view_module": "@jupyter-widgets/base",
            "_view_module_version": "1.2.0",
            "_view_name": "StyleView",
            "description_width": ""
          }
        },
        "ddcaa7439fd5432982fa3bf0606070f4": {
          "model_module": "@jupyter-widgets/base",
          "model_module_version": "1.2.0",
          "model_name": "LayoutModel",
          "state": {
            "_model_module": "@jupyter-widgets/base",
            "_model_module_version": "1.2.0",
            "_model_name": "LayoutModel",
            "_view_count": null,
            "_view_module": "@jupyter-widgets/base",
            "_view_module_version": "1.2.0",
            "_view_name": "LayoutView",
            "align_content": null,
            "align_items": null,
            "align_self": null,
            "border": null,
            "bottom": null,
            "display": null,
            "flex": null,
            "flex_flow": null,
            "grid_area": null,
            "grid_auto_columns": null,
            "grid_auto_flow": null,
            "grid_auto_rows": null,
            "grid_column": null,
            "grid_gap": null,
            "grid_row": null,
            "grid_template_areas": null,
            "grid_template_columns": null,
            "grid_template_rows": null,
            "height": null,
            "justify_content": null,
            "justify_items": null,
            "left": null,
            "margin": null,
            "max_height": null,
            "max_width": null,
            "min_height": null,
            "min_width": null,
            "object_fit": null,
            "object_position": null,
            "order": null,
            "overflow": null,
            "overflow_x": null,
            "overflow_y": null,
            "padding": null,
            "right": null,
            "top": null,
            "visibility": null,
            "width": null
          }
        },
        "df35b2b77b584d0995bd9c2ed9ed8ab2": {
          "model_module": "@jupyter-widgets/controls",
          "model_module_version": "1.5.0",
          "model_name": "HTMLModel",
          "state": {
            "_dom_classes": [],
            "_model_module": "@jupyter-widgets/controls",
            "_model_module_version": "1.5.0",
            "_model_name": "HTMLModel",
            "_view_count": null,
            "_view_module": "@jupyter-widgets/controls",
            "_view_module_version": "1.5.0",
            "_view_name": "HTMLView",
            "description": "",
            "description_tooltip": null,
            "layout": "IPY_MODEL_8e16d6298fb94573adc252988c13cbd7",
            "placeholder": "​",
            "style": "IPY_MODEL_82cd06e7845e4239a5ff53d79b03dbb6",
            "value": " 244/244 [00:31&lt;00:00,  7.72it/s]"
          }
        },
        "e262e4d28026492d8e90a3c1a55ab268": {
          "model_module": "@jupyter-widgets/controls",
          "model_module_version": "1.5.0",
          "model_name": "FloatProgressModel",
          "state": {
            "_dom_classes": [],
            "_model_module": "@jupyter-widgets/controls",
            "_model_module_version": "1.5.0",
            "_model_name": "FloatProgressModel",
            "_view_count": null,
            "_view_module": "@jupyter-widgets/controls",
            "_view_module_version": "1.5.0",
            "_view_name": "ProgressView",
            "bar_style": "",
            "description": "",
            "description_tooltip": null,
            "layout": "IPY_MODEL_448f4e2070a84b8f8a978ed51ee6d539",
            "max": 44,
            "min": 0,
            "orientation": "horizontal",
            "style": "IPY_MODEL_2e1c777c81854467b928e51ae3e5dbaf",
            "value": 44
          }
        },
        "e2cb8a0c5d2844f0857214c5efbfc0c7": {
          "model_module": "@jupyter-widgets/base",
          "model_module_version": "1.2.0",
          "model_name": "LayoutModel",
          "state": {
            "_model_module": "@jupyter-widgets/base",
            "_model_module_version": "1.2.0",
            "_model_name": "LayoutModel",
            "_view_count": null,
            "_view_module": "@jupyter-widgets/base",
            "_view_module_version": "1.2.0",
            "_view_name": "LayoutView",
            "align_content": null,
            "align_items": null,
            "align_self": null,
            "border": null,
            "bottom": null,
            "display": null,
            "flex": null,
            "flex_flow": null,
            "grid_area": null,
            "grid_auto_columns": null,
            "grid_auto_flow": null,
            "grid_auto_rows": null,
            "grid_column": null,
            "grid_gap": null,
            "grid_row": null,
            "grid_template_areas": null,
            "grid_template_columns": null,
            "grid_template_rows": null,
            "height": null,
            "justify_content": null,
            "justify_items": null,
            "left": null,
            "margin": null,
            "max_height": null,
            "max_width": null,
            "min_height": null,
            "min_width": null,
            "object_fit": null,
            "object_position": null,
            "order": null,
            "overflow": null,
            "overflow_x": null,
            "overflow_y": null,
            "padding": null,
            "right": null,
            "top": null,
            "visibility": null,
            "width": null
          }
        },
        "e3be905b538541e182fcf345bae9140a": {
          "model_module": "@jupyter-widgets/base",
          "model_module_version": "1.2.0",
          "model_name": "LayoutModel",
          "state": {
            "_model_module": "@jupyter-widgets/base",
            "_model_module_version": "1.2.0",
            "_model_name": "LayoutModel",
            "_view_count": null,
            "_view_module": "@jupyter-widgets/base",
            "_view_module_version": "1.2.0",
            "_view_name": "LayoutView",
            "align_content": null,
            "align_items": null,
            "align_self": null,
            "border": null,
            "bottom": null,
            "display": null,
            "flex": null,
            "flex_flow": null,
            "grid_area": null,
            "grid_auto_columns": null,
            "grid_auto_flow": null,
            "grid_auto_rows": null,
            "grid_column": null,
            "grid_gap": null,
            "grid_row": null,
            "grid_template_areas": null,
            "grid_template_columns": null,
            "grid_template_rows": null,
            "height": null,
            "justify_content": null,
            "justify_items": null,
            "left": null,
            "margin": null,
            "max_height": null,
            "max_width": null,
            "min_height": null,
            "min_width": null,
            "object_fit": null,
            "object_position": null,
            "order": null,
            "overflow": null,
            "overflow_x": null,
            "overflow_y": null,
            "padding": null,
            "right": null,
            "top": null,
            "visibility": null,
            "width": null
          }
        },
        "e8b343457c7646c586b8b720eb19d35c": {
          "model_module": "@jupyter-widgets/controls",
          "model_module_version": "1.5.0",
          "model_name": "DescriptionStyleModel",
          "state": {
            "_model_module": "@jupyter-widgets/controls",
            "_model_module_version": "1.5.0",
            "_model_name": "DescriptionStyleModel",
            "_view_count": null,
            "_view_module": "@jupyter-widgets/base",
            "_view_module_version": "1.2.0",
            "_view_name": "StyleView",
            "description_width": ""
          }
        },
        "eeeee88eec514b019e0f2f1e6bc399c0": {
          "model_module": "@jupyter-widgets/base",
          "model_module_version": "1.2.0",
          "model_name": "LayoutModel",
          "state": {
            "_model_module": "@jupyter-widgets/base",
            "_model_module_version": "1.2.0",
            "_model_name": "LayoutModel",
            "_view_count": null,
            "_view_module": "@jupyter-widgets/base",
            "_view_module_version": "1.2.0",
            "_view_name": "LayoutView",
            "align_content": null,
            "align_items": null,
            "align_self": null,
            "border": null,
            "bottom": null,
            "display": null,
            "flex": null,
            "flex_flow": null,
            "grid_area": null,
            "grid_auto_columns": null,
            "grid_auto_flow": null,
            "grid_auto_rows": null,
            "grid_column": null,
            "grid_gap": null,
            "grid_row": null,
            "grid_template_areas": null,
            "grid_template_columns": null,
            "grid_template_rows": null,
            "height": null,
            "justify_content": null,
            "justify_items": null,
            "left": null,
            "margin": null,
            "max_height": null,
            "max_width": null,
            "min_height": null,
            "min_width": null,
            "object_fit": null,
            "object_position": null,
            "order": null,
            "overflow": null,
            "overflow_x": null,
            "overflow_y": null,
            "padding": null,
            "right": null,
            "top": null,
            "visibility": null,
            "width": null
          }
        },
        "efc7549468314c3d8122951376048c94": {
          "model_module": "@jupyter-widgets/controls",
          "model_module_version": "1.5.0",
          "model_name": "DescriptionStyleModel",
          "state": {
            "_model_module": "@jupyter-widgets/controls",
            "_model_module_version": "1.5.0",
            "_model_name": "DescriptionStyleModel",
            "_view_count": null,
            "_view_module": "@jupyter-widgets/base",
            "_view_module_version": "1.2.0",
            "_view_name": "StyleView",
            "description_width": ""
          }
        },
        "f0a5d35fda174143922a635bf78510bb": {
          "model_module": "@jupyter-widgets/controls",
          "model_module_version": "1.5.0",
          "model_name": "DescriptionStyleModel",
          "state": {
            "_model_module": "@jupyter-widgets/controls",
            "_model_module_version": "1.5.0",
            "_model_name": "DescriptionStyleModel",
            "_view_count": null,
            "_view_module": "@jupyter-widgets/base",
            "_view_module_version": "1.2.0",
            "_view_name": "StyleView",
            "description_width": ""
          }
        },
        "f41a1915c7234f4f8880c442704eff15": {
          "model_module": "@jupyter-widgets/controls",
          "model_module_version": "1.5.0",
          "model_name": "DescriptionStyleModel",
          "state": {
            "_model_module": "@jupyter-widgets/controls",
            "_model_module_version": "1.5.0",
            "_model_name": "DescriptionStyleModel",
            "_view_count": null,
            "_view_module": "@jupyter-widgets/base",
            "_view_module_version": "1.2.0",
            "_view_name": "StyleView",
            "description_width": ""
          }
        },
        "f910986211a3496f8af5e08482df091d": {
          "model_module": "@jupyter-widgets/base",
          "model_module_version": "1.2.0",
          "model_name": "LayoutModel",
          "state": {
            "_model_module": "@jupyter-widgets/base",
            "_model_module_version": "1.2.0",
            "_model_name": "LayoutModel",
            "_view_count": null,
            "_view_module": "@jupyter-widgets/base",
            "_view_module_version": "1.2.0",
            "_view_name": "LayoutView",
            "align_content": null,
            "align_items": null,
            "align_self": null,
            "border": null,
            "bottom": null,
            "display": null,
            "flex": null,
            "flex_flow": null,
            "grid_area": null,
            "grid_auto_columns": null,
            "grid_auto_flow": null,
            "grid_auto_rows": null,
            "grid_column": null,
            "grid_gap": null,
            "grid_row": null,
            "grid_template_areas": null,
            "grid_template_columns": null,
            "grid_template_rows": null,
            "height": null,
            "justify_content": null,
            "justify_items": null,
            "left": null,
            "margin": null,
            "max_height": null,
            "max_width": null,
            "min_height": null,
            "min_width": null,
            "object_fit": null,
            "object_position": null,
            "order": null,
            "overflow": null,
            "overflow_x": null,
            "overflow_y": null,
            "padding": null,
            "right": null,
            "top": null,
            "visibility": null,
            "width": null
          }
        },
        "fb66cff156f9434e8310d86c9544a7b1": {
          "model_module": "@jupyter-widgets/controls",
          "model_module_version": "1.5.0",
          "model_name": "HTMLModel",
          "state": {
            "_dom_classes": [],
            "_model_module": "@jupyter-widgets/controls",
            "_model_module_version": "1.5.0",
            "_model_name": "HTMLModel",
            "_view_count": null,
            "_view_module": "@jupyter-widgets/controls",
            "_view_module_version": "1.5.0",
            "_view_name": "HTMLView",
            "description": "",
            "description_tooltip": null,
            "layout": "IPY_MODEL_d5da4e95916345f681a0b3d6b1473f56",
            "placeholder": "​",
            "style": "IPY_MODEL_f41a1915c7234f4f8880c442704eff15",
            "value": "Applying SummaryExtractor: 100%"
          }
        },
        "fb6f2edf110846368ca9becf03ab8a70": {
          "model_module": "@jupyter-widgets/controls",
          "model_module_version": "1.5.0",
          "model_name": "FloatProgressModel",
          "state": {
            "_dom_classes": [],
            "_model_module": "@jupyter-widgets/controls",
            "_model_module_version": "1.5.0",
            "_model_name": "FloatProgressModel",
            "_view_count": null,
            "_view_module": "@jupyter-widgets/controls",
            "_view_module_version": "1.5.0",
            "_view_name": "ProgressView",
            "bar_style": "",
            "description": "",
            "description_tooltip": null,
            "layout": "IPY_MODEL_70d971615ce94787ba9c0c24ec5df53a",
            "max": 244,
            "min": 0,
            "orientation": "horizontal",
            "style": "IPY_MODEL_6fbfa970d5504d87b147d5f7db777632",
            "value": 244
          }
        },
        "fb7fce9598344d949683e47d296263b3": {
          "model_module": "@jupyter-widgets/controls",
          "model_module_version": "1.5.0",
          "model_name": "DescriptionStyleModel",
          "state": {
            "_model_module": "@jupyter-widgets/controls",
            "_model_module_version": "1.5.0",
            "_model_name": "DescriptionStyleModel",
            "_view_count": null,
            "_view_module": "@jupyter-widgets/base",
            "_view_module_version": "1.2.0",
            "_view_name": "StyleView",
            "description_width": ""
          }
        },
        "fb9afc6f515d4431aecd1d680331693b": {
          "model_module": "@jupyter-widgets/base",
          "model_module_version": "1.2.0",
          "model_name": "LayoutModel",
          "state": {
            "_model_module": "@jupyter-widgets/base",
            "_model_module_version": "1.2.0",
            "_model_name": "LayoutModel",
            "_view_count": null,
            "_view_module": "@jupyter-widgets/base",
            "_view_module_version": "1.2.0",
            "_view_name": "LayoutView",
            "align_content": null,
            "align_items": null,
            "align_self": null,
            "border": null,
            "bottom": null,
            "display": null,
            "flex": null,
            "flex_flow": null,
            "grid_area": null,
            "grid_auto_columns": null,
            "grid_auto_flow": null,
            "grid_auto_rows": null,
            "grid_column": null,
            "grid_gap": null,
            "grid_row": null,
            "grid_template_areas": null,
            "grid_template_columns": null,
            "grid_template_rows": null,
            "height": null,
            "justify_content": null,
            "justify_items": null,
            "left": null,
            "margin": null,
            "max_height": null,
            "max_width": null,
            "min_height": null,
            "min_width": null,
            "object_fit": null,
            "object_position": null,
            "order": null,
            "overflow": null,
            "overflow_x": null,
            "overflow_y": null,
            "padding": null,
            "right": null,
            "top": null,
            "visibility": null,
            "width": null
          }
        },
        "fc241b8198214e2f9a8d09a2f627896e": {
          "model_module": "@jupyter-widgets/controls",
          "model_module_version": "1.5.0",
          "model_name": "HBoxModel",
          "state": {
            "_dom_classes": [],
            "_model_module": "@jupyter-widgets/controls",
            "_model_module_version": "1.5.0",
            "_model_name": "HBoxModel",
            "_view_count": null,
            "_view_module": "@jupyter-widgets/controls",
            "_view_module_version": "1.5.0",
            "_view_name": "HBoxView",
            "box_style": "",
            "children": [
              "IPY_MODEL_b2c881215536480a870b66e7837e9878",
              "IPY_MODEL_70f6a23d472347d9a36e3b04606f9cae",
              "IPY_MODEL_ba076fb297d449adadf22c1519fcfe91"
            ],
            "layout": "IPY_MODEL_d122dc527a804e5a9bcb57baa82c93c7"
          }
        },
        "fd3d9b4db72c4816992ff5c7b7e0b891": {
          "model_module": "@jupyter-widgets/controls",
          "model_module_version": "1.5.0",
          "model_name": "HBoxModel",
          "state": {
            "_dom_classes": [],
            "_model_module": "@jupyter-widgets/controls",
            "_model_module_version": "1.5.0",
            "_model_name": "HBoxModel",
            "_view_count": null,
            "_view_module": "@jupyter-widgets/controls",
            "_view_module_version": "1.5.0",
            "_view_name": "HBoxView",
            "box_style": "",
            "children": [
              "IPY_MODEL_abf0aaf990f04c2c961704ae5baa75df",
              "IPY_MODEL_834db6d435d44d46bd8b55ec9c564262",
              "IPY_MODEL_dc641a3dffa6456d84ffe1f5d6942c75"
            ],
            "layout": "IPY_MODEL_75f30a174f1c4b9f82039d06c33fa104"
          }
        },
        "fe97d95e6cea4777bce99b8ab0c15100": {
          "model_module": "@jupyter-widgets/base",
          "model_module_version": "1.2.0",
          "model_name": "LayoutModel",
          "state": {
            "_model_module": "@jupyter-widgets/base",
            "_model_module_version": "1.2.0",
            "_model_name": "LayoutModel",
            "_view_count": null,
            "_view_module": "@jupyter-widgets/base",
            "_view_module_version": "1.2.0",
            "_view_name": "LayoutView",
            "align_content": null,
            "align_items": null,
            "align_self": null,
            "border": null,
            "bottom": null,
            "display": null,
            "flex": null,
            "flex_flow": null,
            "grid_area": null,
            "grid_auto_columns": null,
            "grid_auto_flow": null,
            "grid_auto_rows": null,
            "grid_column": null,
            "grid_gap": null,
            "grid_row": null,
            "grid_template_areas": null,
            "grid_template_columns": null,
            "grid_template_rows": null,
            "height": null,
            "justify_content": null,
            "justify_items": null,
            "left": null,
            "margin": null,
            "max_height": null,
            "max_width": null,
            "min_height": null,
            "min_width": null,
            "object_fit": null,
            "object_position": null,
            "order": null,
            "overflow": null,
            "overflow_x": null,
            "overflow_y": null,
            "padding": null,
            "right": null,
            "top": null,
            "visibility": null,
            "width": null
          }
        }
      }
    }
  },
  "nbformat": 4,
  "nbformat_minor": 0
}
